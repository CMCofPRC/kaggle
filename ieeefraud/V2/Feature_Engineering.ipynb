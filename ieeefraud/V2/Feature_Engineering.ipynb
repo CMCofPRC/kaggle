{
 "cells": [
  {
   "cell_type": "code",
   "execution_count": 11,
   "id": "74c304f2",
   "metadata": {},
   "outputs": [],
   "source": [
    "import os\n",
    "import gc\n",
    "import warnings\n",
    "\n",
    "import pandas as pd\n",
    "import numpy as np\n",
    "import matplotlib.pyplot as plt\n",
    "import seaborn as sns\n",
    "import missingno as msno\n",
    "import scipy.stats  as ss\n",
    "\n",
    "from statsmodels.api import ProbPlot\n",
    "\n",
    "\n",
    "warnings.filterwarnings(action = 'ignore')\n",
    "pd.set_option('display.max_rows', None)"
   ]
  },
  {
   "cell_type": "code",
   "execution_count": 12,
   "id": "3ea3ac89",
   "metadata": {},
   "outputs": [],
   "source": [
    "train_df = pd.read_csv(\"./Cleaned_train.csv\")\n",
    "test_df = pd.read_csv(\"./Cleaned_test.csv\")"
   ]
  },
  {
   "cell_type": "code",
   "execution_count": 13,
   "id": "2c2c484c",
   "metadata": {},
   "outputs": [],
   "source": [
    "# 类别、离散特征\n",
    "cate_col_list = ['ProductCD','P_emaildomain','R_emaildomain','DeviceType','DeviceInfo','addr1','addr2']\n",
    "\n",
    "#循环加入特征\n",
    "for i in range(1,7):\n",
    "    cate_col_list.append('card' + str(i))\n",
    "for i in range(1 ,10):\n",
    "    cate_col_list.append('M' + str(i))\n",
    "for i in range(12 ,39):\n",
    "    cate_col_list.append('id_' + str(i // 10) + str(i % 10))\n",
    "#连续型特征\n",
    "num_col_list = [x for x in train_df.columns if x not in cate_col_list]\n",
    "num_col_list.remove('isFraud')"
   ]
  },
  {
   "cell_type": "code",
   "execution_count": 14,
   "id": "1e05467c",
   "metadata": {
    "scrolled": true
   },
   "outputs": [],
   "source": [
    "object_cate_list = [x for x in cate_col_list if train_df[x].dtype == 'object']"
   ]
  },
  {
   "cell_type": "markdown",
   "id": "efaec6bf",
   "metadata": {},
   "source": [
    "# Feature Engineering"
   ]
  },
  {
   "cell_type": "markdown",
   "id": "0ce74ae3",
   "metadata": {},
   "source": [
    "- 目的并不是要做这个项目到极致，因为采用的是集成学习这种复杂模型，暂时不必采用分箱处理\n",
    "- 采用树模型，暂时也不必做数据缩放处理"
   ]
  },
  {
   "cell_type": "markdown",
   "id": "aadcae79",
   "metadata": {},
   "source": [
    "## Feature Encoding"
   ]
  },
  {
   "cell_type": "markdown",
   "id": "c71b5eb4",
   "metadata": {},
   "source": [
    "对object数据类型的类别特征做mean encoding"
   ]
  },
  {
   "cell_type": "code",
   "execution_count": 17,
   "id": "a08906a4",
   "metadata": {},
   "outputs": [],
   "source": [
    "%run Featrue_Engineering_utils.ipynb"
   ]
  },
  {
   "cell_type": "code",
   "execution_count": 18,
   "id": "62762099",
   "metadata": {},
   "outputs": [],
   "source": [
    "meanencoder = MeanEncoder(categorical_features= object_cate_list)"
   ]
  },
  {
   "cell_type": "code",
   "execution_count": 19,
   "id": "ecf4c805",
   "metadata": {},
   "outputs": [],
   "source": [
    "temp_df = meanencoder.fit_transform(train_df[object_cate_list], train_df['isFraud'])\n",
    "train_df = pd.concat([train_df,temp_df],axis = 1)\n",
    "train_df.drop(labels = object_cate_list,axis = 1,inplace = True )"
   ]
  },
  {
   "cell_type": "code",
   "execution_count": 20,
   "id": "1603ce81",
   "metadata": {
    "scrolled": true
   },
   "outputs": [],
   "source": [
    "temp_df = meanencoder.transform(test_df[object_cate_list])\n",
    "test_df = pd.concat([test_df,temp_df],axis = 1)\n",
    "test_df.drop(labels = object_cate_list,axis = 1,inplace = True )"
   ]
  },
  {
   "cell_type": "code",
   "execution_count": null,
   "id": "4cac039b",
   "metadata": {},
   "outputs": [],
   "source": []
  },
  {
   "cell_type": "code",
   "execution_count": 21,
   "id": "0a6cc8cb",
   "metadata": {},
   "outputs": [
    {
     "data": {
      "text/plain": [
       "13712"
      ]
     },
     "execution_count": 21,
     "metadata": {},
     "output_type": "execute_result"
    }
   ],
   "source": [
    "del temp_df\n",
    "gc.collect()"
   ]
  },
  {
   "cell_type": "code",
   "execution_count": 22,
   "id": "c7d59760",
   "metadata": {},
   "outputs": [],
   "source": [
    "train_df.to_csv(\"./Pared_train.csv\",index = False)\n",
    "test_df.to_csv(\"./Pared_test.csv\",index = False)"
   ]
  },
  {
   "cell_type": "code",
   "execution_count": null,
   "id": "a8da34b7",
   "metadata": {},
   "outputs": [],
   "source": []
  },
  {
   "cell_type": "code",
   "execution_count": null,
   "id": "f80db452",
   "metadata": {},
   "outputs": [],
   "source": []
  },
  {
   "cell_type": "code",
   "execution_count": null,
   "id": "c9c35ad4",
   "metadata": {},
   "outputs": [],
   "source": []
  },
  {
   "cell_type": "code",
   "execution_count": null,
   "id": "42b620b1",
   "metadata": {},
   "outputs": [],
   "source": []
  }
 ],
 "metadata": {
  "kernelspec": {
   "display_name": "Python 3 (ipykernel)",
   "language": "python",
   "name": "python3"
  },
  "language_info": {
   "codemirror_mode": {
    "name": "ipython",
    "version": 3
   },
   "file_extension": ".py",
   "mimetype": "text/x-python",
   "name": "python",
   "nbconvert_exporter": "python",
   "pygments_lexer": "ipython3",
   "version": "3.9.13"
  }
 },
 "nbformat": 4,
 "nbformat_minor": 5
}
