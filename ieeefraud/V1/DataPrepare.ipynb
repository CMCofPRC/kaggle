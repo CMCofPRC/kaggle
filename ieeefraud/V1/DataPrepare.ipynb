{
 "cells": [
  {
   "cell_type": "code",
   "execution_count": 1,
   "id": "969ccbda",
   "metadata": {},
   "outputs": [],
   "source": [
    "import os\n",
    "import gc \n",
    "import warnings\n",
    "\n",
    "import pandas as pd\n",
    "import numpy as np\n",
    "import matplotlib.pyplot as plt\n",
    "import seaborn as sns\n",
    "\n",
    "warnings.filterwarnings(action = 'ignore')"
   ]
  },
  {
   "cell_type": "code",
   "execution_count": null,
   "id": "83e11b83",
   "metadata": {},
   "outputs": [],
   "source": []
  },
  {
   "cell_type": "code",
   "execution_count": null,
   "id": "555289f9",
   "metadata": {},
   "outputs": [],
   "source": [
    "def Reduce_Memory_Usage(data = None):\n",
    "    \"\"\"\n",
    "    根据数据集中特征的取值进行调整减少内存占用\n",
    "    \n",
    "    \"\"\"\n",
    "    \n",
    "    dtypes = ['int8', 'int16', 'int32', 'int64', 'float16', 'float32', 'float64']\n",
    "    origin_mem_usage = data.memory_usage().sum()\n",
    "    for col in data.columns:\n",
    "        if data[col].dtype in dtypes:\n",
    "            #获取该特征列的最大最小值\n",
    "#             max_value = data[col].max()\n",
    "#             min_value = data[col].min()\n",
    "            max_value = np.max(data[col])\n",
    "            min_value = np.min(data[col])\n",
    "            \n",
    "            if str(data[col].dtype)[:3] == 'int':\n",
    "                if max_value <= np.iinfo(np.int8).max and min_value >= np.iinfo(np.int8).min:\n",
    "                    data[col] = data[col].astype('int8')\n",
    "                \n",
    "                elif max_value <= np.iinfo(np.int16).max and min_value >= np.iinfo(np.int16).min:\n",
    "                    data[col] = data[col].astype('int16')\n",
    "                \n",
    "                elif max_value <= np.iinfo(np.int32).max and min_value >= np.iinfo(np.int32).min:\n",
    "                    data[col] = data[col].astype('int32')\n",
    "                \n",
    "                elif max_value <= np.iinfo(np.int64).max and min_value >= np.iinfo(np.int64).min:\n",
    "                    data[col] = data[col].astype('int64')\n",
    "            else:\n",
    "                if max_value <= np.finfo(np.float16).max and min_value >= np.finfo(np.float16).min:\n",
    "                    data[col] = data[col].astype('float16')\n",
    "                    \n",
    "                elif max_value <= np.finfo(np.float32).max and min_value >= np.finfo(np.float32).min:\n",
    "                    data[col] = data[col].astype('float32')\n",
    "                \n",
    "                elif max_value <= np.finfo(np.float64).max and min_value >= np.finfo(np.float64).min:\n",
    "                    data[col] = data[col].astype('float64')\n",
    "\n",
    "    reduced_memory_usage = data.memory_usage().sum()\n",
    "    reduced_sum = (origin_mem_usage - reduced_memory_usage) \n",
    "    print(\"origin memory usage: {}\".format(origin_mem_usage / 1024**2))\n",
    "    print(\"reduced memory usage: {}\".format(reduced_memory_usage/1024**2))\n",
    "    print(\"memory reduce ({:.1f}%)\".format(reduced_sum * 100/origin_mem_usage))\n",
    "    gc.collect()"
   ]
  },
  {
   "cell_type": "code",
   "execution_count": null,
   "id": "0c3b85d4",
   "metadata": {},
   "outputs": [],
   "source": []
  },
  {
   "cell_type": "code",
   "execution_count": null,
   "id": "bc377492",
   "metadata": {},
   "outputs": [],
   "source": []
  },
  {
   "cell_type": "code",
   "execution_count": null,
   "id": "3ae4e9d9",
   "metadata": {},
   "outputs": [],
   "source": []
  },
  {
   "cell_type": "code",
   "execution_count": null,
   "id": "80fb8828",
   "metadata": {},
   "outputs": [],
   "source": []
  },
  {
   "cell_type": "code",
   "execution_count": null,
   "id": "47a73043",
   "metadata": {},
   "outputs": [],
   "source": []
  },
  {
   "cell_type": "code",
   "execution_count": null,
   "id": "a8dd3153",
   "metadata": {},
   "outputs": [],
   "source": []
  },
  {
   "cell_type": "code",
   "execution_count": null,
   "id": "838de478",
   "metadata": {},
   "outputs": [],
   "source": []
  }
 ],
 "metadata": {
  "kernelspec": {
   "display_name": "Python 3 (ipykernel)",
   "language": "python",
   "name": "python3"
  },
  "language_info": {
   "codemirror_mode": {
    "name": "ipython",
    "version": 3
   },
   "file_extension": ".py",
   "mimetype": "text/x-python",
   "name": "python",
   "nbconvert_exporter": "python",
   "pygments_lexer": "ipython3",
   "version": "3.7.13"
  }
 },
 "nbformat": 4,
 "nbformat_minor": 5
}
