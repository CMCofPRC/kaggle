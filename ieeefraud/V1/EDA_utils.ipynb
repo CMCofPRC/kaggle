{
 "cells": [
  {
   "cell_type": "code",
   "execution_count": null,
   "id": "7511b3ad",
   "metadata": {},
   "outputs": [],
   "source": [
    "import os\n",
    "import gc \n",
    "import warnings\n",
    "\n",
    "import pandas as pd\n",
    "import numpy as np\n",
    "import matplotlib.pyplot as plt\n",
    "import seaborn as sns\n",
    "\n",
    "warnings.filterwarnings(action = 'ignore')"
   ]
  },
  {
   "cell_type": "code",
   "execution_count": null,
   "id": "22e99594",
   "metadata": {},
   "outputs": [],
   "source": [
    "def Value_Count_Description(data = None, col = None):\n",
    "    \"\"\"\n",
    "    刻画特征列的统计值\n",
    "    \"\"\"\n",
    "\n",
    "\n",
    "    description = data[col].describe()\n",
    "    Q1 = description['25%']\n",
    "    Q3 = description['75%']\n",
    "    IQR = Q3 - Q1\n",
    "    \n",
    "    over_high = [x for x in data[col].values if x > 1.5 * IQR + Q3]\n",
    "    \n",
    "    below_low = [x for x in data[col].values if x < Q1 - 1.5 * IQR]\n",
    "    \n",
    "    \n",
    "    print(\"\\n1.IQR method:\")\n",
    "    print(\"the num over Q3+1.5IQR is:{}\".format(len(over_high)))\n",
    "    \n",
    "    print(\"the num below Q1-1.5IQR is:{}\".format(len(below_low)))\n",
    "    \n",
    "    \n",
    "    mean = description['mean']\n",
    "    std = description['std']\n",
    "    \n",
    "    over_3std = [x for x in data[col].values if x > mean + 3 * std]\n",
    "    \n",
    "    below_3std = [x for x in data[col].values if x < mean - 3 * std]\n",
    "    \n",
    "    print(\"\\n2.mean_std method:\")\n",
    "    print(\"the num over mean3std is:{}\".format(len(over_3std)))\n",
    "    print(\"the num below mean3std is:{}\".format(len(below_3std)))\n",
    "    \n",
    "    std = description['std']\n",
    "    median = description['50%']\n",
    "    over_3std = [x for x in data[col].values if x > median + 3 * std]\n",
    "    \n",
    "    below_3std = [x for x in data[col].values if x < median - 3 * std]\n",
    "  \n",
    "    print(\"\\n3.median_std method:\")\n",
    "    print(\"the num over median3std is:{}\".format(len(over_3std)))\n",
    "    print(\"the num below median3std is:{}\".format(len(below_3std)))\n",
    "    \n",
    "    \n",
    "    print(\"\\n4.value counts of {}\".format(col))\n",
    "    print(data[col].value_counts(dropna = False, normalize = True))\n",
    "    \n",
    "    \n",
    "    print(\"\\n5.description of {}\".format(col))\n",
    "    print(data[col].describe())\n",
    "    print(\"--------------------------------------------------------------------------------------------------------\")\n"
   ]
  },
  {
   "cell_type": "code",
   "execution_count": null,
   "id": "9d22c883",
   "metadata": {},
   "outputs": [],
   "source": [
    "def Plot_Cate_Feature(data = None,col = None):\n",
    "    \"\"\"\n",
    "    画出类别型特征的图\n",
    "    \"\"\"\n",
    "    fig,ax = plt.subplots(1,2 ,figsize = (18,8))\n",
    "    sns.countplot(data = data, x = col, ax = ax[0])\n",
    "    ax[0].set_title(label = 'Counts of {}'.format(col))\n",
    "    ax[0].tick_params(axis = 'x', rotation = 45)\n",
    "    if str(data[col].dtype)[:3] == 'int' or str(data[col].dtype)[:5] == 'float':\n",
    "        sns.boxplot(data = data, y = col, ax = ax[1])\n",
    "        ax[1].set_title(label = 'Box plot of {}'.format(col))\n",
    "    \n",
    "    plt.show()\n",
    "    plt.close()\n"
   ]
  },
  {
   "cell_type": "code",
   "execution_count": null,
   "id": "3c14a9bb",
   "metadata": {},
   "outputs": [],
   "source": [
    "def Plot_Num_Feature(data = None,col = None):\n",
    "    \"\"\"\n",
    "    画出数值型特征的图\n",
    "    \"\"\"\n",
    "    fig,ax = plt.subplots(1,2,figsize = (15,8))\n",
    "    sns.histplot(data = data, x = col, ax = ax[0])\n",
    "    ax[0].set_title(label = 'distribution of {}'.format(col))\n",
    "    \n",
    "    sns.boxplot(data = data, y = col, ax = ax[1])\n",
    "    ax[1].set_title(label = 'Box plot of {}'.format(col))\n",
    "    \n",
    "    plt.show()\n",
    "    plt.close()"
   ]
  }
 ],
 "metadata": {
  "kernelspec": {
   "display_name": "Python 3 (ipykernel)",
   "language": "python",
   "name": "python3"
  },
  "language_info": {
   "codemirror_mode": {
    "name": "ipython",
    "version": 3
   },
   "file_extension": ".py",
   "mimetype": "text/x-python",
   "name": "python",
   "nbconvert_exporter": "python",
   "pygments_lexer": "ipython3",
   "version": "3.7.13"
  }
 },
 "nbformat": 4,
 "nbformat_minor": 5
}
