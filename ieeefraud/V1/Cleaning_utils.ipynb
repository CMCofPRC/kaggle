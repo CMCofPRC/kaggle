{
 "cells": [
  {
   "cell_type": "code",
   "execution_count": 6,
   "id": "c7078d31",
   "metadata": {},
   "outputs": [],
   "source": [
    "import os\n",
    "import gc\n",
    "import warnings\n",
    "\n",
    "import pandas as pd\n",
    "import numpy as np\n",
    "import matplotlib.pyplot as plt\n",
    "import seaborn as sns\n",
    "from sklearn.experimental import enable_iterative_imputer \n",
    "from sklearn.impute import IterativeImputer\n",
    "warnings.filterwarnings(action = 'ignore')"
   ]
  },
  {
   "cell_type": "code",
   "execution_count": null,
   "id": "18f2f616",
   "metadata": {},
   "outputs": [],
   "source": []
  },
  {
   "cell_type": "code",
   "execution_count": null,
   "id": "b39bf443",
   "metadata": {},
   "outputs": [],
   "source": [
    "def Missing_Data_Plot(data = None,col = None):\n",
    "    \"\"\"\n",
    "    Plot the missing data of dataset or column\n",
    "    \"\"\"\n",
    "        "
   ]
  },
  {
   "cell_type": "code",
   "execution_count": 13,
   "id": "2308e7b0",
   "metadata": {},
   "outputs": [
    {
     "data": {
      "text/html": [
       "<div>\n",
       "<style scoped>\n",
       "    .dataframe tbody tr th:only-of-type {\n",
       "        vertical-align: middle;\n",
       "    }\n",
       "\n",
       "    .dataframe tbody tr th {\n",
       "        vertical-align: top;\n",
       "    }\n",
       "\n",
       "    .dataframe thead th {\n",
       "        text-align: right;\n",
       "    }\n",
       "</style>\n",
       "<table border=\"1\" class=\"dataframe\">\n",
       "  <thead>\n",
       "    <tr style=\"text-align: right;\">\n",
       "      <th></th>\n",
       "      <th>age</th>\n",
       "      <th>exp</th>\n",
       "      <th>salary</th>\n",
       "    </tr>\n",
       "  </thead>\n",
       "  <tbody>\n",
       "    <tr>\n",
       "      <th>0</th>\n",
       "      <td>25.0</td>\n",
       "      <td>NaN</td>\n",
       "      <td>50.0</td>\n",
       "    </tr>\n",
       "    <tr>\n",
       "      <th>1</th>\n",
       "      <td>27.0</td>\n",
       "      <td>3.0</td>\n",
       "      <td>NaN</td>\n",
       "    </tr>\n",
       "    <tr>\n",
       "      <th>2</th>\n",
       "      <td>29.0</td>\n",
       "      <td>5.0</td>\n",
       "      <td>110.0</td>\n",
       "    </tr>\n",
       "    <tr>\n",
       "      <th>3</th>\n",
       "      <td>31.0</td>\n",
       "      <td>7.0</td>\n",
       "      <td>140.0</td>\n",
       "    </tr>\n",
       "    <tr>\n",
       "      <th>4</th>\n",
       "      <td>33.0</td>\n",
       "      <td>9.0</td>\n",
       "      <td>170.0</td>\n",
       "    </tr>\n",
       "    <tr>\n",
       "      <th>5</th>\n",
       "      <td>NaN</td>\n",
       "      <td>11.0</td>\n",
       "      <td>200.0</td>\n",
       "    </tr>\n",
       "    <tr>\n",
       "      <th>6</th>\n",
       "      <td>37.0</td>\n",
       "      <td>13.0</td>\n",
       "      <td>230.0</td>\n",
       "    </tr>\n",
       "    <tr>\n",
       "      <th>7</th>\n",
       "      <td>39.0</td>\n",
       "      <td>16.0</td>\n",
       "      <td>260.0</td>\n",
       "    </tr>\n",
       "    <tr>\n",
       "      <th>8</th>\n",
       "      <td>41.0</td>\n",
       "      <td>NaN</td>\n",
       "      <td>NaN</td>\n",
       "    </tr>\n",
       "    <tr>\n",
       "      <th>9</th>\n",
       "      <td>NaN</td>\n",
       "      <td>19.0</td>\n",
       "      <td>320.0</td>\n",
       "    </tr>\n",
       "    <tr>\n",
       "      <th>10</th>\n",
       "      <td>45.0</td>\n",
       "      <td>21.0</td>\n",
       "      <td>350.0</td>\n",
       "    </tr>\n",
       "  </tbody>\n",
       "</table>\n",
       "</div>"
      ],
      "text/plain": [
       "     age   exp  salary\n",
       "0   25.0   NaN    50.0\n",
       "1   27.0   3.0     NaN\n",
       "2   29.0   5.0   110.0\n",
       "3   31.0   7.0   140.0\n",
       "4   33.0   9.0   170.0\n",
       "5    NaN  11.0   200.0\n",
       "6   37.0  13.0   230.0\n",
       "7   39.0  16.0   260.0\n",
       "8   41.0   NaN     NaN\n",
       "9    NaN  19.0   320.0\n",
       "10  45.0  21.0   350.0"
      ]
     },
     "execution_count": 13,
     "metadata": {},
     "output_type": "execute_result"
    }
   ],
   "source": [
    "df = pd.DataFrame(\n",
    "{\n",
    "    'age':[25,27,29,31,33,np.nan,37,39,41,np.nan,45],\n",
    "    'exp':[np.nan,3,5,7,9,11,13,16,np.nan,19,21],\n",
    "    'salary':[50,np.nan,110,140,170,200,230,260,np.nan,320,350]\n",
    "})\n",
    "df"
   ]
  },
  {
   "cell_type": "code",
   "execution_count": 10,
   "id": "2a209146",
   "metadata": {},
   "outputs": [],
   "source": [
    "from sklearn.linear_model import LinearRegression\n",
    "from sklearn.ensemble import R"
   ]
  },
  {
   "cell_type": "code",
   "execution_count": 11,
   "id": "3ef8aedb",
   "metadata": {},
   "outputs": [],
   "source": [
    "imp = IterativeImputer(estimator=LinearRegression(),verbose=2, max_iter=30,tol=1e-10,imputation_order='random')"
   ]
  },
  {
   "cell_type": "code",
   "execution_count": 12,
   "id": "772f4c1f",
   "metadata": {},
   "outputs": [
    {
     "name": "stdout",
     "output_type": "stream",
     "text": [
      "[IterativeImputer] Completing matrix with shape (11, 3)\n",
      "[IterativeImputer] Ending imputation round 1/30, elapsed time 0.13\n",
      "[IterativeImputer] Change: 123.17517004266139, scaled tolerance: 3.5e-08 \n",
      "[IterativeImputer] Ending imputation round 2/30, elapsed time 0.13\n",
      "[IterativeImputer] Change: 0.9821140935853236, scaled tolerance: 3.5e-08 \n",
      "[IterativeImputer] Ending imputation round 3/30, elapsed time 0.13\n",
      "[IterativeImputer] Change: 2.7219369254347434, scaled tolerance: 3.5e-08 \n",
      "[IterativeImputer] Ending imputation round 4/30, elapsed time 0.14\n",
      "[IterativeImputer] Change: 1.1232046644463196, scaled tolerance: 3.5e-08 \n",
      "[IterativeImputer] Ending imputation round 5/30, elapsed time 0.14\n",
      "[IterativeImputer] Change: 0.8699000245378556, scaled tolerance: 3.5e-08 \n",
      "[IterativeImputer] Ending imputation round 6/30, elapsed time 0.14\n",
      "[IterativeImputer] Change: 0.791158283438449, scaled tolerance: 3.5e-08 \n",
      "[IterativeImputer] Ending imputation round 7/30, elapsed time 0.14\n",
      "[IterativeImputer] Change: 0.06655759029558794, scaled tolerance: 3.5e-08 \n",
      "[IterativeImputer] Ending imputation round 8/30, elapsed time 0.14\n",
      "[IterativeImputer] Change: 0.03294459267328875, scaled tolerance: 3.5e-08 \n",
      "[IterativeImputer] Ending imputation round 9/30, elapsed time 0.15\n",
      "[IterativeImputer] Change: 0.8775705299340189, scaled tolerance: 3.5e-08 \n",
      "[IterativeImputer] Ending imputation round 10/30, elapsed time 0.15\n",
      "[IterativeImputer] Change: 0.7571293143230378, scaled tolerance: 3.5e-08 \n",
      "[IterativeImputer] Ending imputation round 11/30, elapsed time 0.15\n",
      "[IterativeImputer] Change: 3.929059175789007e-06, scaled tolerance: 3.5e-08 \n",
      "[IterativeImputer] Ending imputation round 12/30, elapsed time 0.15\n",
      "[IterativeImputer] Change: 0.07355288500230017, scaled tolerance: 3.5e-08 \n",
      "[IterativeImputer] Ending imputation round 13/30, elapsed time 0.15\n",
      "[IterativeImputer] Change: 0.834970058882277, scaled tolerance: 3.5e-08 \n",
      "[IterativeImputer] Ending imputation round 14/30, elapsed time 0.15\n",
      "[IterativeImputer] Change: 0.7645011001332023, scaled tolerance: 3.5e-08 \n",
      "[IterativeImputer] Ending imputation round 15/30, elapsed time 0.16\n",
      "[IterativeImputer] Change: 0.07195092396943892, scaled tolerance: 3.5e-08 \n",
      "[IterativeImputer] Ending imputation round 16/30, elapsed time 0.16\n",
      "[IterativeImputer] Change: 0.8363265991210938, scaled tolerance: 3.5e-08 \n",
      "[IterativeImputer] Ending imputation round 17/30, elapsed time 0.16\n",
      "[IterativeImputer] Change: 0.07773208833054923, scaled tolerance: 3.5e-08 \n",
      "[IterativeImputer] Ending imputation round 18/30, elapsed time 0.16\n",
      "[IterativeImputer] Change: 4.6981085688457824e-11, scaled tolerance: 3.5e-08 \n",
      "[IterativeImputer] Early stopping criterion reached.\n"
     ]
    },
    {
     "data": {
      "text/plain": [
       "array([[ 25.        ,   0.95599365,  50.        ],\n",
       "       [ 27.        ,   3.        ,  80.        ],\n",
       "       [ 29.        ,   5.        , 110.        ],\n",
       "       [ 31.        ,   7.        , 140.        ],\n",
       "       [ 33.        ,   9.        , 170.        ],\n",
       "       [ 35.        ,  11.        , 200.        ],\n",
       "       [ 37.        ,  13.        , 230.        ],\n",
       "       [ 39.        ,  16.        , 260.        ],\n",
       "       [ 41.        ,  17.17034912, 290.        ],\n",
       "       [ 43.        ,  19.        , 320.        ],\n",
       "       [ 45.        ,  21.        , 350.        ]])"
      ]
     },
     "execution_count": 12,
     "metadata": {},
     "output_type": "execute_result"
    }
   ],
   "source": [
    "imp.fit_transform(df)"
   ]
  },
  {
   "cell_type": "code",
   "execution_count": 15,
   "id": "801db2eb",
   "metadata": {},
   "outputs": [
    {
     "data": {
      "text/plain": [
       "array([[25.        ],\n",
       "       [27.        ],\n",
       "       [29.        ],\n",
       "       [31.        ],\n",
       "       [33.        ],\n",
       "       [34.11111111],\n",
       "       [37.        ],\n",
       "       [39.        ],\n",
       "       [41.        ],\n",
       "       [34.11111111],\n",
       "       [45.        ]])"
      ]
     },
     "execution_count": 15,
     "metadata": {},
     "output_type": "execute_result"
    }
   ],
   "source": [
    "imp.fit_transform(df[['age']])"
   ]
  },
  {
   "cell_type": "code",
   "execution_count": null,
   "id": "ed43ce73",
   "metadata": {},
   "outputs": [],
   "source": []
  },
  {
   "cell_type": "code",
   "execution_count": null,
   "id": "4d5e55e0",
   "metadata": {},
   "outputs": [],
   "source": []
  },
  {
   "cell_type": "code",
   "execution_count": null,
   "id": "2977d4d8",
   "metadata": {},
   "outputs": [],
   "source": []
  },
  {
   "cell_type": "code",
   "execution_count": null,
   "id": "1026e93c",
   "metadata": {},
   "outputs": [],
   "source": []
  },
  {
   "cell_type": "code",
   "execution_count": null,
   "id": "b7da0195",
   "metadata": {},
   "outputs": [],
   "source": []
  },
  {
   "cell_type": "code",
   "execution_count": null,
   "id": "acec0476",
   "metadata": {},
   "outputs": [],
   "source": []
  },
  {
   "cell_type": "code",
   "execution_count": null,
   "id": "2a9c4fc3",
   "metadata": {},
   "outputs": [],
   "source": []
  }
 ],
 "metadata": {
  "kernelspec": {
   "display_name": "Python 3 (ipykernel)",
   "language": "python",
   "name": "python3"
  },
  "language_info": {
   "codemirror_mode": {
    "name": "ipython",
    "version": 3
   },
   "file_extension": ".py",
   "mimetype": "text/x-python",
   "name": "python",
   "nbconvert_exporter": "python",
   "pygments_lexer": "ipython3",
   "version": "3.7.15"
  }
 },
 "nbformat": 4,
 "nbformat_minor": 5
}
