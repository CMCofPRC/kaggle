{
 "cells": [
  {
   "cell_type": "code",
   "execution_count": 4,
   "id": "c7078d31",
   "metadata": {},
   "outputs": [],
   "source": [
    "import os\n",
    "import gc\n",
    "import warnings\n",
    "\n",
    "import pandas as pd\n",
    "import numpy as np\n",
    "import matplotlib.pyplot as plt\n",
    "import seaborn as sns\n",
    "import missingno as msno\n",
    "from sklearn.experimental import enable_iterative_imputer \n",
    "from sklearn.impute import IterativeImputer\n",
    "from sklearn.linear_model import LinearRegression, LogisticRegression\n",
    "from sklearn.impute import SimpleImputer\n",
    "import scipy.stats as ss\n",
    "\n",
    "\n",
    "warnings.filterwarnings(action = 'ignore')"
   ]
  },
  {
   "cell_type": "code",
   "execution_count": null,
   "id": "18f2f616",
   "metadata": {},
   "outputs": [],
   "source": []
  },
  {
   "cell_type": "code",
   "execution_count": 4,
   "id": "b39bf443",
   "metadata": {},
   "outputs": [],
   "source": [
    "def Missing_Impute_MICE(data = None):\n",
    "    \"\"\"\n",
    "    impute the nan values of dataset with MICE \n",
    "    \"\"\"\n",
    "    imputer = IterativeImputer(estimator = LinearRegression(), max_iter=30, imputation_order = 'random')\n",
    "    imputer.fit(data)\n",
    "    data = imputer.transform(data)"
   ]
  },
  {
   "cell_type": "code",
   "execution_count": 1,
   "id": "4d5e55e0",
   "metadata": {},
   "outputs": [],
   "source": [
    "def Missing_Detect_Diff_Distribution(data = None, col_A = None, col_B = None, col_C = None, method = 'count'):\n",
    "    \"\"\"\n",
    "    visualize the distribution of missing subset and not missing subset to find the difference\n",
    "    \"\"\"\n",
    "    missing_subset = data[data[col_A].isnull() == True]\n",
    "    notmissing_subset = data[data[col_A].isnull() == False]\n",
    "    \n",
    "    if method == 'count':\n",
    "        #col列缺失的数据子集\n",
    "        fig,ax = plt.subplots(1,2,figsize = (15,8))\n",
    "        sns.countplot(data = missing_subset,x = col_B,ax =ax[0])\n",
    "        ax[0].set_title(label = 'missing data set of {}'.format(col_A))\n",
    "\n",
    "        #col列非缺失值的数据子集\n",
    "        sns.countplot(data = notmissing_subset,x = col_B,ax =ax[1])\n",
    "        ax[1].set_title(label = 'not missing data set of {}'.format(col_A))\n",
    "\n",
    "        for idx in range(2):\n",
    "            bars = ax[idx].patches\n",
    "            half = int(len(bars)/2)\n",
    "            left_bars = bars[:half]\n",
    "            right_bars = bars[half:]\n",
    "\n",
    "            for left, right in zip(left_bars, right_bars):\n",
    "                height_l = left.get_height()\n",
    "                height_r = right.get_height()\n",
    "                total = height_l + height_r\n",
    "\n",
    "                ax[idx].text(left.get_x() + left.get_width() / 2., left.get_height(),'{0:.0%}'.format(height_l/total), ha=\"center\")\n",
    "                ax[idx].text(right.get_x() + right.get_width() / 2., right.get_height(),'{0:.0%}'.format(height_r/total), ha=\"center\")\n",
    "    elif method == 'scatter':\n",
    "        fig, ax = plt.subplots(1,2,figsize = (15,8))\n",
    "        #非缺失子集\n",
    "        sns.scatterplot(data = missing_subset, x = col_B, y= col_C, ax = ax[0])\n",
    "        ax[0].set_title(label = \"missing subset of {}\".format(col_A))\n",
    "        #缺失子集\n",
    "        sns.scatterplot(data = notmissing_subset, x = col_B, y = col_C, ax = ax[1])\n",
    "        ax[1].set_title(label = 'not missing subset of {}'.format(col_A))\n",
    "        \n",
    "    plt.show()\n",
    "    plt.close()\n",
    "    del missing_subset, notmissing_subset\n",
    "    gc.collect()"
   ]
  },
  {
   "cell_type": "code",
   "execution_count": null,
   "id": "2977d4d8",
   "metadata": {},
   "outputs": [],
   "source": [
    "def Missing_Imputer(data = None, col = None, method = \"mean\", fill_value = None):\n",
    "    \"\"\"\n",
    "    impute the missing value of data[col] with these methods of mean median mode and so on\n",
    "    \"\"\"\n",
    "    if method == 'constant':\n",
    "        imputer = SimpleImputer(strategy = method,fill_value=value)    \n",
    "    else:\n",
    "        imputer = SimpleImputer(strategy= method)\n",
    "    return imputer.fit_transform(data[[col]])"
   ]
  },
  {
   "cell_type": "code",
   "execution_count": null,
   "id": "1026e93c",
   "metadata": {},
   "outputs": [],
   "source": [
    "def Missing_Compute_Corr(data = None, col_A = None, col_B = None):\n",
    "    \"\"\"\n",
    "    compute the correlation of col_A and col_B\n",
    "    \"\"\"\n",
    "    notmissingsubset = data[~data[col_A].isnull()]\n",
    "    notmissingsubset = notmissingsubset[~notmissingsubset[col_B].isnull()]\n",
    "    \n",
    "    pearsonr_corr = ss.pearsonr(notmissingsubset[col_A], notmissingsubset[col_B])\n",
    "    print(\"the pearsonr corr between {} and {} is: {}\".format(col_A,col_B,pearsonr_corr))\n",
    "    \n",
    "    spearmanr_corr =  ss.spearmanr(notmissingsubset[col_A], notmissingsubset[col_B])\n",
    "    print(\"the spearmanr corr between {} and {} is: {}\".format(col_A, col_B,spearmanr_corr))\n",
    "    print('\\n')"
   ]
  },
  {
   "cell_type": "code",
   "execution_count": null,
   "id": "b7da0195",
   "metadata": {},
   "outputs": [],
   "source": []
  },
  {
   "cell_type": "code",
   "execution_count": null,
   "id": "acec0476",
   "metadata": {},
   "outputs": [],
   "source": []
  },
  {
   "cell_type": "code",
   "execution_count": null,
   "id": "2a9c4fc3",
   "metadata": {},
   "outputs": [],
   "source": []
  }
 ],
 "metadata": {
  "kernelspec": {
   "display_name": "Python 3 (ipykernel)",
   "language": "python",
   "name": "python3"
  },
  "language_info": {
   "codemirror_mode": {
    "name": "ipython",
    "version": 3
   },
   "file_extension": ".py",
   "mimetype": "text/x-python",
   "name": "python",
   "nbconvert_exporter": "python",
   "pygments_lexer": "ipython3",
   "version": "3.7.15"
  }
 },
 "nbformat": 4,
 "nbformat_minor": 5
}
