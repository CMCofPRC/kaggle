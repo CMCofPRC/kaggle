{
 "cells": [
  {
   "cell_type": "code",
   "execution_count": 2,
   "id": "e8fe5576",
   "metadata": {},
   "outputs": [],
   "source": [
    "import os\n",
    "import gc\n",
    "import time\n",
    "\n",
    "import pandas as pd\n",
    "import numpy as np\n",
    "import matplotlib.pyplot as plt\n",
    "import seaborn as sns\n",
    "from matplotlib.pyplot import MultipleLocator\n",
    "\n",
    "\n",
    "from sklearn.preprocessing import LabelEncoder,MinMaxScaler,StandardScaler\n",
    "from sklearn.preprocessing import KBinsDiscretizer,Binarizer\n",
    "from sklearn.impute import SimpleImputer\n",
    "\n"
   ]
  },
  {
   "cell_type": "code",
   "execution_count": 194,
   "id": "9dfbdcf7",
   "metadata": {},
   "outputs": [],
   "source": [
    "train_df = pd.read_csv(\"../train.csv\")\n",
    "test_df = pd.read_csv(\"../testA.csv\")"
   ]
  },
  {
   "cell_type": "code",
   "execution_count": 195,
   "id": "ac9e0d48",
   "metadata": {},
   "outputs": [],
   "source": [
    "#定类特征\n",
    "category_feature_list = ['verificationStatus','issueDate','purpose','postCode','regionCode',\n",
    "                 'initialListStatus','applicationType','earliesCreditLine','title','policyCode']\n",
    "#定序特征\n",
    "order_feature_list = ['term','grade','subGrade','employmentLength','homeOwnership']\n",
    "\n",
    "#定量特征\n",
    "numerical_feature_list = ['id', 'loanAmnt', 'interestRate', 'installment', 'employmentTitle',\n",
    " 'annualIncome', 'isDefault', 'dti', 'delinquency_2years', 'ficoRangeLow', 'ficoRangeHigh',\n",
    " 'openAcc', 'pubRec', 'pubRecBankruptcies', 'revolBal', 'revolUtil', 'totalAcc', 'n0',\n",
    " 'n1', 'n2', 'n3', 'n4', 'n5', 'n6', 'n7', 'n8', 'n9', 'n10', 'n11', 'n12', 'n13', 'n14']"
   ]
  },
  {
   "cell_type": "markdown",
   "id": "ab78bcc6",
   "metadata": {},
   "source": [
    "# 0. object特征处理和缺失值处理"
   ]
  },
  {
   "cell_type": "code",
   "execution_count": 196,
   "id": "fd706f5e",
   "metadata": {},
   "outputs": [
    {
     "name": "stdout",
     "output_type": "stream",
     "text": [
      "<class 'pandas.core.frame.DataFrame'>\n",
      "RangeIndex: 800000 entries, 0 to 799999\n",
      "Data columns (total 47 columns):\n",
      " #   Column              Non-Null Count   Dtype  \n",
      "---  ------              --------------   -----  \n",
      " 0   id                  800000 non-null  int64  \n",
      " 1   loanAmnt            800000 non-null  float64\n",
      " 2   term                800000 non-null  int64  \n",
      " 3   interestRate        800000 non-null  float64\n",
      " 4   installment         800000 non-null  float64\n",
      " 5   grade               800000 non-null  object \n",
      " 6   subGrade            800000 non-null  object \n",
      " 7   employmentTitle     799999 non-null  float64\n",
      " 8   employmentLength    753201 non-null  object \n",
      " 9   homeOwnership       800000 non-null  int64  \n",
      " 10  annualIncome        800000 non-null  float64\n",
      " 11  verificationStatus  800000 non-null  int64  \n",
      " 12  issueDate           800000 non-null  object \n",
      " 13  isDefault           800000 non-null  int64  \n",
      " 14  purpose             800000 non-null  int64  \n",
      " 15  postCode            799999 non-null  float64\n",
      " 16  regionCode          800000 non-null  int64  \n",
      " 17  dti                 799761 non-null  float64\n",
      " 18  delinquency_2years  800000 non-null  float64\n",
      " 19  ficoRangeLow        800000 non-null  float64\n",
      " 20  ficoRangeHigh       800000 non-null  float64\n",
      " 21  openAcc             800000 non-null  float64\n",
      " 22  pubRec              800000 non-null  float64\n",
      " 23  pubRecBankruptcies  799595 non-null  float64\n",
      " 24  revolBal            800000 non-null  float64\n",
      " 25  revolUtil           799469 non-null  float64\n",
      " 26  totalAcc            800000 non-null  float64\n",
      " 27  initialListStatus   800000 non-null  int64  \n",
      " 28  applicationType     800000 non-null  int64  \n",
      " 29  earliesCreditLine   800000 non-null  object \n",
      " 30  title               799999 non-null  float64\n",
      " 31  policyCode          800000 non-null  float64\n",
      " 32  n0                  759730 non-null  float64\n",
      " 33  n1                  759730 non-null  float64\n",
      " 34  n2                  759730 non-null  float64\n",
      " 35  n3                  759730 non-null  float64\n",
      " 36  n4                  766761 non-null  float64\n",
      " 37  n5                  759730 non-null  float64\n",
      " 38  n6                  759730 non-null  float64\n",
      " 39  n7                  759730 non-null  float64\n",
      " 40  n8                  759729 non-null  float64\n",
      " 41  n9                  759730 non-null  float64\n",
      " 42  n10                 766761 non-null  float64\n",
      " 43  n11                 730248 non-null  float64\n",
      " 44  n12                 759730 non-null  float64\n",
      " 45  n13                 759730 non-null  float64\n",
      " 46  n14                 759730 non-null  float64\n",
      "dtypes: float64(33), int64(9), object(5)\n",
      "memory usage: 286.9+ MB\n"
     ]
    }
   ],
   "source": [
    "train_df.info()"
   ]
  },
  {
   "cell_type": "markdown",
   "id": "3ee5379c",
   "metadata": {},
   "source": [
    "## 0.1 grade  处理object特征grade,将其进行标签编码"
   ]
  },
  {
   "cell_type": "code",
   "execution_count": 197,
   "id": "0c682bbc",
   "metadata": {},
   "outputs": [],
   "source": [
    "grade_enc = LabelEncoder()\n",
    "train_df['grade'] = grade_enc.fit_transform(train_df['grade'])\n",
    "test_df['grade'] = grade_enc.transform(test_df['grade'])"
   ]
  },
  {
   "cell_type": "code",
   "execution_count": 198,
   "id": "511a447b",
   "metadata": {},
   "outputs": [
    {
     "data": {
      "text/plain": [
       "0"
      ]
     },
     "execution_count": 198,
     "metadata": {},
     "output_type": "execute_result"
    }
   ],
   "source": [
    "test_df['grade'].isnull().sum()"
   ]
  },
  {
   "cell_type": "markdown",
   "id": "d3a4f388",
   "metadata": {},
   "source": [
    "## 0.2 subGrade 处理object特征subGrade"
   ]
  },
  {
   "cell_type": "code",
   "execution_count": 199,
   "id": "b5acccfa",
   "metadata": {},
   "outputs": [],
   "source": [
    "grade_enc = LabelEncoder()\n",
    "train_df['subGrade'] = grade_enc.fit_transform(train_df['subGrade'])\n",
    "test_df['subGrade'] = grade_enc.transform(test_df['subGrade'])"
   ]
  },
  {
   "cell_type": "markdown",
   "id": "dc6bc91c",
   "metadata": {},
   "source": [
    "## 0.3 employmentLength 处理object employmentLength"
   ]
  },
  {
   "cell_type": "code",
   "execution_count": 200,
   "id": "b1bcb0b1",
   "metadata": {},
   "outputs": [],
   "source": [
    "imputer = SimpleImputer(strategy='most_frequent')\n",
    "train_df['employmentLength'] = imputer.fit_transform(train_df[['employmentLength']])\n",
    "test_df['employmentLength'] = imputer.transform(test_df[['employmentLength']])"
   ]
  },
  {
   "cell_type": "code",
   "execution_count": 201,
   "id": "e16f4e30",
   "metadata": {},
   "outputs": [],
   "source": [
    "employmentLength_enc = LabelEncoder()\n",
    "train_df['employmentLength'] = employmentLength_enc.fit_transform(train_df['employmentLength'])\n",
    "test_df['employmentLength'] = employmentLength_enc.transform(test_df['employmentLength'])"
   ]
  },
  {
   "cell_type": "markdown",
   "id": "926d175d",
   "metadata": {},
   "source": [
    "## 0.4 issueDate 处理日期特征 issueDate"
   ]
  },
  {
   "cell_type": "code",
   "execution_count": 202,
   "id": "b249d766",
   "metadata": {},
   "outputs": [],
   "source": [
    "train_df['issueDate_year'] = pd.DatetimeIndex(train_df['issueDate']).year\n",
    "test_df['issueDate_year'] = pd.DatetimeIndex(test_df['issueDate']).year"
   ]
  },
  {
   "cell_type": "code",
   "execution_count": 203,
   "id": "a9e13023",
   "metadata": {},
   "outputs": [],
   "source": [
    "train_df['issueDate_month'] = pd.DatetimeIndex(train_df['issueDate']).month\n",
    "test_df['issueDate_month'] = pd.DatetimeIndex(test_df['issueDate']).month"
   ]
  },
  {
   "cell_type": "markdown",
   "id": "22c6a2b0",
   "metadata": {},
   "source": [
    "## 0.5 earliesCreditLine 处理日期特征earliesCreditLine"
   ]
  },
  {
   "cell_type": "code",
   "execution_count": 204,
   "id": "7172da15",
   "metadata": {},
   "outputs": [],
   "source": [
    "train_df['earliesCreditLine_year'] = pd.DatetimeIndex(train_df['earliesCreditLine']).year\n",
    "train_df['earliesCreditLine_month'] = pd.DatetimeIndex(train_df['earliesCreditLine']).month"
   ]
  },
  {
   "cell_type": "code",
   "execution_count": 205,
   "id": "2b4a1623",
   "metadata": {},
   "outputs": [],
   "source": [
    "test_df['earliesCreditLine_year'] = pd.DatetimeIndex(test_df['earliesCreditLine']).year\n",
    "test_df['earliesCreditLine_month'] = pd.DatetimeIndex(test_df['earliesCreditLine']).month"
   ]
  },
  {
   "cell_type": "code",
   "execution_count": 206,
   "id": "70bdc728",
   "metadata": {},
   "outputs": [],
   "source": [
    "def PlotNumFeautre(col):\n",
    "    fig,ax = plt.subplots(figsize = (15, 6))\n",
    "    sns.histplot(data = train_df, x = col,hue = 'isDefault', ax = ax)\n",
    "    print(\"max:{}, min:{}\".format(max(train_df[col]), min(train_df[col])))"
   ]
  },
  {
   "cell_type": "code",
   "execution_count": null,
   "id": "8d537f05",
   "metadata": {},
   "outputs": [],
   "source": []
  },
  {
   "cell_type": "markdown",
   "id": "a5af16e6",
   "metadata": {},
   "source": [
    "# 1. numerical feature binning"
   ]
  },
  {
   "cell_type": "markdown",
   "id": "5720fadf",
   "metadata": {},
   "source": [
    "## 1.1 loanAmnt ——bining"
   ]
  },
  {
   "cell_type": "code",
   "execution_count": 207,
   "id": "4aecc3fa",
   "metadata": {},
   "outputs": [
    {
     "name": "stdout",
     "output_type": "stream",
     "text": [
      "max:40000.0, min:500.0\n"
     ]
    },
    {
     "data": {
      "image/png": "[encoded data removed]",
      "text/plain": [
       "<Figure size 1080x432 with 1 Axes>"
      ]
     },
     "metadata": {
      "needs_background": "light"
     },
     "output_type": "display_data"
    }
   ],
   "source": [
    "PlotNumFeautre('loanAmnt')"
   ]
  },
  {
   "cell_type": "code",
   "execution_count": 208,
   "id": "27615235",
   "metadata": {},
   "outputs": [],
   "source": [
    "#根据图示可以将 loanAmnt做8个分箱处理\n",
    "loanAmnt_bin_enc = KBinsDiscretizer(n_bins=8,encode='ordinal',strategy='uniform')"
   ]
  },
  {
   "cell_type": "code",
   "execution_count": 209,
   "id": "3ed1abb4",
   "metadata": {},
   "outputs": [],
   "source": [
    "train_df['loanAmnt'] = loanAmnt_bin_enc.fit_transform(train_df[['loanAmnt']])\n",
    "test_df['loanAmnt'] = loanAmnt_bin_enc.transform(test_df[['loanAmnt']])"
   ]
  },
  {
   "cell_type": "markdown",
   "id": "ff0c1e75",
   "metadata": {},
   "source": [
    "## 1.2 interestRate——binning"
   ]
  },
  {
   "cell_type": "code",
   "execution_count": 210,
   "id": "53809fd2",
   "metadata": {},
   "outputs": [
    {
     "name": "stdout",
     "output_type": "stream",
     "text": [
      "max:30.99, min:5.31\n"
     ]
    },
    {
     "data": {
      "image/png": "[encoded data removed]",
      "text/plain": [
       "<Figure size 1080x432 with 1 Axes>"
      ]
     },
     "metadata": {
      "needs_background": "light"
     },
     "output_type": "display_data"
    }
   ],
   "source": [
    "PlotNumFeautre('interestRate')"
   ]
  },
  {
   "cell_type": "code",
   "execution_count": 211,
   "id": "21e6c707",
   "metadata": {},
   "outputs": [],
   "source": [
    "interestRate_bin_enc = KBinsDiscretizer(n_bins=5, encode='ordinal', strategy='uniform')\n",
    "train_df['interestRate'] = interestRate_bin_enc.fit_transform(train_df[['interestRate']])\n",
    "test_df['interestRate'] = interestRate_bin_enc.transform(test_df[['interestRate']])"
   ]
  },
  {
   "cell_type": "markdown",
   "id": "6ed6c9e6",
   "metadata": {},
   "source": [
    "## 1.2 installment——binning"
   ]
  },
  {
   "cell_type": "code",
   "execution_count": 212,
   "id": "adc8cb10",
   "metadata": {},
   "outputs": [
    {
     "name": "stdout",
     "output_type": "stream",
     "text": [
      "max:1715.42, min:15.69\n"
     ]
    },
    {
     "data": {
      "image/png": "[encoded data removed]",
      "text/plain": [
       "<Figure size 1080x432 with 1 Axes>"
      ]
     },
     "metadata": {
      "needs_background": "light"
     },
     "output_type": "display_data"
    }
   ],
   "source": [
    "PlotNumFeautre('installment')"
   ]
  },
  {
   "cell_type": "code",
   "execution_count": 213,
   "id": "a6501304",
   "metadata": {},
   "outputs": [],
   "source": [
    "installment_bin_enc = KBinsDiscretizer(n_bins=6, encode= 'ordinal', strategy='uniform')\n",
    "train_df['installment'] = installment_bin_enc.fit_transform(train_df[['installment']])\n",
    "test_df['installment'] = installment_bin_enc.transform(test_df[['installment']])"
   ]
  },
  {
   "cell_type": "markdown",
   "id": "9f49cadc",
   "metadata": {},
   "source": [
    "## 1.3 employmentTitle——binning"
   ]
  },
  {
   "cell_type": "code",
   "execution_count": 214,
   "id": "ae3edd67",
   "metadata": {},
   "outputs": [
    {
     "name": "stdout",
     "output_type": "stream",
     "text": [
      "max:378351.0, min:0.0\n"
     ]
    },
    {
     "data": {
      "image/png": "[encoded data removed]",
      "text/plain": [
       "<Figure size 1080x432 with 1 Axes>"
      ]
     },
     "metadata": {
      "needs_background": "light"
     },
     "output_type": "display_data"
    }
   ],
   "source": [
    "PlotNumFeautre('employmentTitle')"
   ]
  },
  {
   "cell_type": "code",
   "execution_count": 215,
   "id": "1ec457f0",
   "metadata": {},
   "outputs": [],
   "source": [
    "employmentTitle_imputer = SimpleImputer()\n",
    "train_df['employmentTitle'] = employmentTitle_imputer.fit_transform(train_df[['employmentTitle']])\n",
    "test_df['employmentTitle'] = employmentTitle_imputer.transform(test_df[['employmentTitle']])\n",
    "\n",
    "employmentTitle_bin_enc = KBinsDiscretizer(n_bins=2, encode='ordinal', strategy='uniform')\n",
    "train_df['employmentTitle'] = employmentTitle_bin_enc.fit_transform(train_df[['employmentTitle']])\n",
    "test_df['employmentTitle'] = employmentTitle_bin_enc.fit_transform(test_df[['employmentTitle']])"
   ]
  },
  {
   "cell_type": "markdown",
   "id": "c6458622",
   "metadata": {},
   "source": [
    "## 1.4 annualIncome------binning"
   ]
  },
  {
   "cell_type": "code",
   "execution_count": 216,
   "id": "dd4414f2",
   "metadata": {},
   "outputs": [
    {
     "data": {
      "image/png": "[encoded data removed]",
      "text/plain": [
       "<Figure size 1080x576 with 1 Axes>"
      ]
     },
     "metadata": {
      "needs_background": "light"
     },
     "output_type": "display_data"
    }
   ],
   "source": [
    "fig, ax = plt.subplots(figsize = (15, 8))\n",
    "sns.histplot(data = train_df, x = 'annualIncome',ax = ax)\n",
    "ax.set_xscale('log')"
   ]
  },
  {
   "cell_type": "code",
   "execution_count": 217,
   "id": "a229ded9",
   "metadata": {},
   "outputs": [
    {
     "data": {
      "text/plain": [
       "54829.0         1\n",
       "57304.0         1\n",
       "325879.0        1\n",
       "97532.0         1\n",
       "36130.0         1\n",
       "            ...  \n",
       "40000.0     21057\n",
       "70000.0     22076\n",
       "65000.0     23126\n",
       "50000.0     27062\n",
       "60000.0     30682\n",
       "Name: annualIncome, Length: 44926, dtype: int64"
      ]
     },
     "execution_count": 217,
     "metadata": {},
     "output_type": "execute_result"
    }
   ],
   "source": [
    "train_df['annualIncome'].value_counts().sort_values()"
   ]
  },
  {
   "cell_type": "code",
   "execution_count": 218,
   "id": "a55c9dd6",
   "metadata": {},
   "outputs": [],
   "source": [
    "'''由于annualIncome特征的取值跨度较大，设定范围进行编码转化'''\n",
    "def annualIncomeTransform(value):\n",
    "    if value < 10000:\n",
    "        return 0\n",
    "    elif value < 200000:\n",
    "        return 1\n",
    "    else:\n",
    "        return 2\n",
    "train_df['annualIncome'] = train_df['annualIncome'].apply(annualIncomeTransform)\n",
    "test_df['annualIncome'] = test_df['annualIncome'].apply(annualIncomeTransform)"
   ]
  },
  {
   "cell_type": "markdown",
   "id": "d135c803",
   "metadata": {},
   "source": [
    "## 1.5 dti—binning"
   ]
  },
  {
   "cell_type": "code",
   "execution_count": 219,
   "id": "6e0d33c6",
   "metadata": {},
   "outputs": [
    {
     "data": {
      "text/plain": [
       "-1.00        2\n",
       " 0.00      516\n",
       " 0.01        6\n",
       " 0.02       10\n",
       " 0.03       10\n",
       "          ... \n",
       " 797.10      1\n",
       " 818.10      1\n",
       " 831.97      1\n",
       " 991.57      1\n",
       " 999.00     24\n",
       "Name: dti, Length: 6321, dtype: int64"
      ]
     },
     "execution_count": 219,
     "metadata": {},
     "output_type": "execute_result"
    }
   ],
   "source": [
    "train_df['dti'].value_counts().sort_index()"
   ]
  },
  {
   "cell_type": "code",
   "execution_count": 220,
   "id": "2702588f",
   "metadata": {},
   "outputs": [
    {
     "data": {
      "image/png": "[encoded data removed]",
      "text/plain": [
       "<Figure size 1080x576 with 1 Axes>"
      ]
     },
     "metadata": {
      "needs_background": "light"
     },
     "output_type": "display_data"
    }
   ],
   "source": [
    "fig, ax = plt.subplots(figsize = (15, 8))\n",
    "sns.histplot(data = train_df,x = 'dti', hue = 'isDefault', ax = ax)\n",
    "ax.set_xscale('log')"
   ]
  },
  {
   "cell_type": "code",
   "execution_count": 221,
   "id": "e6117071",
   "metadata": {},
   "outputs": [],
   "source": [
    "def dtiTransform(value):\n",
    "    if value < 0.3:\n",
    "        return 0\n",
    "    elif value < 13:\n",
    "        return 1\n",
    "    else:\n",
    "        return 2\n",
    "train_df['dti'] = train_df['dti'].apply(dtiTransform)\n",
    "test_df['dti'] = test_df['dti'].apply(dtiTransform)"
   ]
  },
  {
   "cell_type": "markdown",
   "id": "6dde65a3",
   "metadata": {},
   "source": [
    "## 1.6 delinquency_2years—binning"
   ]
  },
  {
   "cell_type": "code",
   "execution_count": 222,
   "id": "2f122ae5",
   "metadata": {
    "scrolled": true
   },
   "outputs": [
    {
     "data": {
      "text/plain": [
       "0.0     645715\n",
       "1.0     102586\n",
       "2.0      29944\n",
       "3.0      10919\n",
       "4.0       4808\n",
       "5.0       2504\n",
       "6.0       1399\n",
       "7.0        770\n",
       "8.0        443\n",
       "9.0        293\n",
       "10.0       192\n",
       "11.0       144\n",
       "12.0        86\n",
       "14.0        53\n",
       "13.0        50\n",
       "15.0        23\n",
       "16.0        20\n",
       "18.0        13\n",
       "19.0        10\n",
       "20.0         7\n",
       "17.0         6\n",
       "22.0         3\n",
       "21.0         3\n",
       "29.0         2\n",
       "26.0         2\n",
       "25.0         1\n",
       "27.0         1\n",
       "39.0         1\n",
       "30.0         1\n",
       "24.0         1\n",
       "Name: delinquency_2years, dtype: int64"
      ]
     },
     "execution_count": 222,
     "metadata": {},
     "output_type": "execute_result"
    }
   ],
   "source": [
    "train_df['delinquency_2years'].value_counts()"
   ]
  },
  {
   "cell_type": "code",
   "execution_count": 223,
   "id": "8baafe63",
   "metadata": {},
   "outputs": [
    {
     "name": "stdout",
     "output_type": "stream",
     "text": [
      "max:39.0, min:0.0\n"
     ]
    },
    {
     "data": {
      "image/png": "[encoded data removed]",
      "text/plain": [
       "<Figure size 1080x432 with 1 Axes>"
      ]
     },
     "metadata": {
      "needs_background": "light"
     },
     "output_type": "display_data"
    }
   ],
   "source": [
    "PlotNumFeautre('delinquency_2years')"
   ]
  },
  {
   "cell_type": "code",
   "execution_count": 224,
   "id": "5e042bae",
   "metadata": {},
   "outputs": [],
   "source": [
    "def delinquency_2yearsTransform(value):\n",
    "    if value > 6:\n",
    "        return 7\n",
    "    else:\n",
    "        return value\n",
    "train_df['delinquency_2years'] = train_df['delinquency_2years'].apply(\n",
    "    delinquency_2yearsTransform)\n",
    "test_df['delinquency_2years'] = test_df['delinquency_2years'].apply(\n",
    "    delinquency_2yearsTransform)"
   ]
  },
  {
   "cell_type": "markdown",
   "id": "274c98c7",
   "metadata": {},
   "source": [
    "## 1.7 ficoRangeLow——binning"
   ]
  },
  {
   "cell_type": "code",
   "execution_count": 225,
   "id": "2bab92cb",
   "metadata": {
    "scrolled": false
   },
   "outputs": [
    {
     "data": {
      "text/plain": [
       "660.0    71974\n",
       "670.0    69815\n",
       "665.0    69619\n",
       "675.0    61993\n",
       "680.0    61294\n",
       "685.0    53668\n",
       "690.0    52046\n",
       "695.0    47065\n",
       "700.0    43292\n",
       "705.0    39030\n",
       "710.0    34296\n",
       "715.0    30154\n",
       "720.0    26036\n",
       "725.0    20766\n",
       "730.0    18186\n",
       "735.0    14377\n",
       "740.0    12585\n",
       "745.0    10336\n",
       "750.0     9419\n",
       "755.0     8191\n",
       "760.0     6716\n",
       "765.0     6163\n",
       "770.0     5311\n",
       "775.0     4882\n",
       "780.0     4286\n",
       "785.0     3476\n",
       "790.0     3284\n",
       "795.0     2637\n",
       "800.0     2261\n",
       "805.0     1942\n",
       "810.0     1408\n",
       "815.0     1111\n",
       "820.0      827\n",
       "825.0      636\n",
       "830.0      412\n",
       "835.0      249\n",
       "840.0      140\n",
       "845.0      116\n",
       "630.0        1\n",
       "Name: ficoRangeLow, dtype: int64"
      ]
     },
     "execution_count": 225,
     "metadata": {},
     "output_type": "execute_result"
    }
   ],
   "source": [
    "train_df['ficoRangeLow'].value_counts()"
   ]
  },
  {
   "cell_type": "code",
   "execution_count": 226,
   "id": "c24e8dea",
   "metadata": {},
   "outputs": [
    {
     "name": "stdout",
     "output_type": "stream",
     "text": [
      "max:845.0, min:630.0\n"
     ]
    },
    {
     "data": {
      "image/png": "[encoded data removed]",
      "text/plain": [
       "<Figure size 1080x432 with 1 Axes>"
      ]
     },
     "metadata": {
      "needs_background": "light"
     },
     "output_type": "display_data"
    }
   ],
   "source": [
    "PlotNumFeautre('ficoRangeLow')"
   ]
  },
  {
   "cell_type": "code",
   "execution_count": 227,
   "id": "f1277793",
   "metadata": {},
   "outputs": [],
   "source": [
    "train_df['ficoRangeLow'] = train_df['ficoRangeLow'].apply(lambda x: 660 if x < 660 else x)\n",
    "test_df['ficoRangeLow'] = test_df['ficoRangeLow'].apply(lambda x: 660 if x < 660 else x)"
   ]
  },
  {
   "cell_type": "markdown",
   "id": "6663b569",
   "metadata": {},
   "source": [
    "## 1.8 ficoRangeHigh —binning"
   ]
  },
  {
   "cell_type": "code",
   "execution_count": 228,
   "id": "9f35ff41",
   "metadata": {},
   "outputs": [
    {
     "data": {
      "text/plain": [
       "664.0    71974\n",
       "674.0    69815\n",
       "669.0    69619\n",
       "679.0    61993\n",
       "684.0    61294\n",
       "689.0    53668\n",
       "694.0    52046\n",
       "699.0    47065\n",
       "704.0    43292\n",
       "709.0    39030\n",
       "714.0    34296\n",
       "719.0    30154\n",
       "724.0    26036\n",
       "729.0    20766\n",
       "734.0    18186\n",
       "739.0    14377\n",
       "744.0    12585\n",
       "749.0    10336\n",
       "754.0     9419\n",
       "759.0     8191\n",
       "764.0     6716\n",
       "769.0     6163\n",
       "774.0     5311\n",
       "779.0     4882\n",
       "784.0     4286\n",
       "789.0     3476\n",
       "794.0     3284\n",
       "799.0     2637\n",
       "804.0     2261\n",
       "809.0     1942\n",
       "814.0     1408\n",
       "819.0     1111\n",
       "824.0      827\n",
       "829.0      636\n",
       "834.0      412\n",
       "839.0      249\n",
       "844.0      140\n",
       "850.0      116\n",
       "634.0        1\n",
       "Name: ficoRangeHigh, dtype: int64"
      ]
     },
     "execution_count": 228,
     "metadata": {},
     "output_type": "execute_result"
    }
   ],
   "source": [
    "train_df['ficoRangeHigh'].value_counts()"
   ]
  },
  {
   "cell_type": "code",
   "execution_count": 229,
   "id": "0d9f1fe0",
   "metadata": {},
   "outputs": [
    {
     "name": "stdout",
     "output_type": "stream",
     "text": [
      "max:850.0, min:634.0\n"
     ]
    },
    {
     "data": {
      "image/png": "[encoded data removed]",
      "text/plain": [
       "<Figure size 1080x432 with 1 Axes>"
      ]
     },
     "metadata": {
      "needs_background": "light"
     },
     "output_type": "display_data"
    }
   ],
   "source": [
    "PlotNumFeautre('ficoRangeHigh')"
   ]
  },
  {
   "cell_type": "code",
   "execution_count": 230,
   "id": "3214434f",
   "metadata": {},
   "outputs": [],
   "source": [
    "train_df['ficoRangeHigh'] = train_df['ficoRangeHigh'].apply(lambda x: 664 if x < 664 else x)\n",
    "test_df['ficoRangeHigh'] = test_df['ficoRangeHigh'].apply(lambda x: 664 if x < 664 else x)"
   ]
  },
  {
   "cell_type": "markdown",
   "id": "f5b86bd0",
   "metadata": {},
   "source": [
    "## 1.9 openAcc——binning"
   ]
  },
  {
   "cell_type": "code",
   "execution_count": 231,
   "id": "33aa926e",
   "metadata": {},
   "outputs": [
    {
     "data": {
      "text/plain": [
       "9.0     70865\n",
       "10.0    69171\n",
       "8.0     68201\n",
       "11.0    64069\n",
       "7.0     61355\n",
       "        ...  \n",
       "82.0        1\n",
       "81.0        1\n",
       "86.0        1\n",
       "74.0        1\n",
       "67.0        1\n",
       "Name: openAcc, Length: 75, dtype: int64"
      ]
     },
     "execution_count": 231,
     "metadata": {},
     "output_type": "execute_result"
    }
   ],
   "source": [
    "train_df['openAcc'].value_counts()"
   ]
  },
  {
   "cell_type": "code",
   "execution_count": 232,
   "id": "0d019f11",
   "metadata": {},
   "outputs": [
    {
     "name": "stdout",
     "output_type": "stream",
     "text": [
      "max:86.0, min:0.0\n"
     ]
    },
    {
     "data": {
      "image/png": "[encoded data removed]",
      "text/plain": [
       "<Figure size 1080x432 with 1 Axes>"
      ]
     },
     "metadata": {
      "needs_background": "light"
     },
     "output_type": "display_data"
    }
   ],
   "source": [
    "PlotNumFeautre('openAcc')"
   ]
  },
  {
   "cell_type": "markdown",
   "id": "ccdea449",
   "metadata": {},
   "source": [
    "## 1.10 pubRec—binning"
   ]
  },
  {
   "cell_type": "code",
   "execution_count": 233,
   "id": "121d1a26",
   "metadata": {
    "scrolled": true
   },
   "outputs": [
    {
     "data": {
      "text/plain": [
       "0.0     664765\n",
       "1.0     113186\n",
       "2.0      14520\n",
       "3.0       4432\n",
       "4.0       1535\n",
       "5.0        757\n",
       "6.0        367\n",
       "7.0        165\n",
       "8.0        105\n",
       "9.0         51\n",
       "10.0        37\n",
       "11.0        23\n",
       "12.0        14\n",
       "15.0         7\n",
       "13.0         6\n",
       "16.0         4\n",
       "18.0         4\n",
       "22.0         2\n",
       "24.0         2\n",
       "19.0         2\n",
       "21.0         2\n",
       "20.0         2\n",
       "14.0         2\n",
       "49.0         2\n",
       "63.0         1\n",
       "46.0         1\n",
       "28.0         1\n",
       "86.0         1\n",
       "54.0         1\n",
       "40.0         1\n",
       "47.0         1\n",
       "17.0         1\n",
       "Name: pubRec, dtype: int64"
      ]
     },
     "execution_count": 233,
     "metadata": {},
     "output_type": "execute_result"
    }
   ],
   "source": [
    "train_df['pubRec'].value_counts()"
   ]
  },
  {
   "cell_type": "code",
   "execution_count": 234,
   "id": "5745704c",
   "metadata": {},
   "outputs": [
    {
     "name": "stdout",
     "output_type": "stream",
     "text": [
      "max:86.0, min:0.0\n"
     ]
    },
    {
     "data": {
      "image/png": "[encoded data removed]",
      "text/plain": [
       "<Figure size 1080x432 with 1 Axes>"
      ]
     },
     "metadata": {
      "needs_background": "light"
     },
     "output_type": "display_data"
    }
   ],
   "source": [
    "PlotNumFeautre('pubRec')"
   ]
  },
  {
   "cell_type": "code",
   "execution_count": 235,
   "id": "48497ce3",
   "metadata": {},
   "outputs": [],
   "source": [
    "train_df['pubRec'] = train_df['pubRec'].apply(lambda x: x if x <= 1 else 2)\n",
    "test_df['pubRec'] = test_df['pubRec'].apply(lambda x: x if x <= 1 else 2)"
   ]
  },
  {
   "cell_type": "markdown",
   "id": "3f9eabf9",
   "metadata": {},
   "source": [
    "## 1.11 pubRecBankruptcies——binning"
   ]
  },
  {
   "cell_type": "code",
   "execution_count": 236,
   "id": "a5b23658",
   "metadata": {},
   "outputs": [
    {
     "data": {
      "text/plain": [
       "0.0     700076\n",
       "1.0      93639\n",
       "2.0       4566\n",
       "3.0        945\n",
       "4.0        248\n",
       "5.0         80\n",
       "6.0         23\n",
       "7.0         11\n",
       "9.0          3\n",
       "8.0          3\n",
       "12.0         1\n",
       "Name: pubRecBankruptcies, dtype: int64"
      ]
     },
     "execution_count": 236,
     "metadata": {},
     "output_type": "execute_result"
    }
   ],
   "source": [
    "train_df['pubRecBankruptcies'].value_counts()"
   ]
  },
  {
   "cell_type": "code",
   "execution_count": 237,
   "id": "74b4663f",
   "metadata": {},
   "outputs": [],
   "source": [
    "train_df['pubRecBankruptcies'] = train_df['pubRecBankruptcies'].apply(lambda x: x if x <= 2 else 3)\n",
    "test_df['pubRecBankruptcies'] = test_df['pubRecBankruptcies'].apply(lambda x: x if x <= 2 else 3)"
   ]
  },
  {
   "cell_type": "markdown",
   "id": "85997dbb",
   "metadata": {},
   "source": [
    "## 1.12 revolBal —binning"
   ]
  },
  {
   "cell_type": "code",
   "execution_count": 238,
   "id": "d98cb61b",
   "metadata": {},
   "outputs": [
    {
     "data": {
      "text/plain": [
       "0.00      4170\n",
       "55.00     1589\n",
       "61.00     1579\n",
       "57.00     1575\n",
       "53.00     1575\n",
       "          ... \n",
       "120.90       1\n",
       "107.90       1\n",
       "49.69        1\n",
       "0.75         1\n",
       "136.40       1\n",
       "Name: revolUtil, Length: 1286, dtype: int64"
      ]
     },
     "execution_count": 238,
     "metadata": {},
     "output_type": "execute_result"
    }
   ],
   "source": [
    "train_df['revolUtil'].value_counts()"
   ]
  },
  {
   "cell_type": "code",
   "execution_count": 239,
   "id": "d8210e11",
   "metadata": {},
   "outputs": [
    {
     "data": {
      "image/png": "[encoded data removed]",
      "text/plain": [
       "<Figure size 1080x576 with 1 Axes>"
      ]
     },
     "metadata": {
      "needs_background": "light"
     },
     "output_type": "display_data"
    }
   ],
   "source": [
    "fig, ax = plt.subplots(figsize = (15, 8))\n",
    "sns.histplot(data = train_df, x = 'revolUtil',hue = 'isDefault', ax = ax)\n",
    "ax.set_xscale('log')"
   ]
  },
  {
   "cell_type": "code",
   "execution_count": 240,
   "id": "f9eb626d",
   "metadata": {},
   "outputs": [],
   "source": [
    "def revolUtilTransform(value):\n",
    "    if value <= 10:\n",
    "        return 0\n",
    "    elif value <= 100:\n",
    "        return 1\n",
    "    else:\n",
    "        return 2\n",
    "train_df['revolUtil'] = train_df['revolUtil'].apply(revolUtilTransform)\n",
    "test_df['revolUtil'] = test_df['revolUtil'].apply(revolUtilTransform)"
   ]
  },
  {
   "cell_type": "markdown",
   "id": "f26ab268",
   "metadata": {},
   "source": [
    "## 1.13 totalAcc—binning"
   ]
  },
  {
   "cell_type": "code",
   "execution_count": 241,
   "id": "d4cef843",
   "metadata": {},
   "outputs": [
    {
     "data": {
      "text/plain": [
       "20.0     28956\n",
       "21.0     28820\n",
       "19.0     28697\n",
       "22.0     28671\n",
       "18.0     28188\n",
       "         ...  \n",
       "151.0        1\n",
       "146.0        1\n",
       "103.0        1\n",
       "141.0        1\n",
       "129.0        1\n",
       "Name: totalAcc, Length: 134, dtype: int64"
      ]
     },
     "execution_count": 241,
     "metadata": {},
     "output_type": "execute_result"
    }
   ],
   "source": [
    "train_df['totalAcc'].value_counts()"
   ]
  },
  {
   "cell_type": "code",
   "execution_count": 242,
   "id": "d4628ab4",
   "metadata": {},
   "outputs": [
    {
     "name": "stdout",
     "output_type": "stream",
     "text": [
      "max:162.0, min:2.0\n"
     ]
    },
    {
     "data": {
      "image/png": "[encoded data removed]",
      "text/plain": [
       "<Figure size 1080x432 with 1 Axes>"
      ]
     },
     "metadata": {
      "needs_background": "light"
     },
     "output_type": "display_data"
    }
   ],
   "source": [
    "PlotNumFeautre('totalAcc')"
   ]
  },
  {
   "cell_type": "code",
   "execution_count": 243,
   "id": "b4c598dc",
   "metadata": {},
   "outputs": [],
   "source": [
    "train_df['revolUtil'] = train_df['revolUtil'].apply(revolUtilTransform)\n",
    "test_df['revolUtil'] = test_df['revolUtil'].apply(revolUtilTransform)"
   ]
  },
  {
   "cell_type": "markdown",
   "id": "6ca138f7",
   "metadata": {},
   "source": [
    "## 1.14 n0——binning"
   ]
  },
  {
   "cell_type": "code",
   "execution_count": 244,
   "id": "aa8c50e8",
   "metadata": {
    "scrolled": true
   },
   "outputs": [
    {
     "data": {
      "text/plain": [
       "0.0     579427\n",
       "1.0      96105\n",
       "2.0      38793\n",
       "3.0      17657\n",
       "4.0      10521\n",
       "5.0       6132\n",
       "6.0       3893\n",
       "7.0       2472\n",
       "8.0       1567\n",
       "9.0       1002\n",
       "10.0       676\n",
       "11.0       423\n",
       "12.0       331\n",
       "13.0       185\n",
       "14.0       166\n",
       "15.0        84\n",
       "16.0        76\n",
       "17.0        45\n",
       "18.0        34\n",
       "19.0        23\n",
       "20.0        18\n",
       "23.0        15\n",
       "22.0        15\n",
       "21.0        13\n",
       "24.0        12\n",
       "26.0        10\n",
       "25.0         9\n",
       "29.0         5\n",
       "31.0         4\n",
       "27.0         3\n",
       "28.0         3\n",
       "34.0         2\n",
       "33.0         2\n",
       "30.0         2\n",
       "51.0         1\n",
       "35.0         1\n",
       "38.0         1\n",
       "39.0         1\n",
       "32.0         1\n",
       "Name: n0, dtype: int64"
      ]
     },
     "execution_count": 244,
     "metadata": {},
     "output_type": "execute_result"
    }
   ],
   "source": [
    "train_df['n0'].value_counts()"
   ]
  },
  {
   "cell_type": "code",
   "execution_count": 245,
   "id": "40c39d4d",
   "metadata": {},
   "outputs": [],
   "source": [
    "train_df['n0'] = train_df['n0'].apply(lambda x: x if x < 10 else 11)\n",
    "test_df['n0'] = test_df['n0'].apply(lambda x: x if x < 10 else 11)"
   ]
  },
  {
   "cell_type": "markdown",
   "id": "6aebaca1",
   "metadata": {},
   "source": [
    "## 1.15 n1——binning"
   ]
  },
  {
   "cell_type": "code",
   "execution_count": 246,
   "id": "dbd5508e",
   "metadata": {
    "scrolled": true
   },
   "outputs": [
    {
     "data": {
      "text/plain": [
       "3.0     163008\n",
       "2.0     154693\n",
       "4.0     126573\n",
       "1.0      87122\n",
       "5.0      84396\n",
       "6.0      52103\n",
       "7.0      30905\n",
       "8.0      18148\n",
       "0.0      16266\n",
       "9.0      10688\n",
       "10.0      6328\n",
       "11.0      3766\n",
       "12.0      2265\n",
       "13.0      1366\n",
       "14.0       732\n",
       "15.0       494\n",
       "16.0       295\n",
       "17.0       222\n",
       "18.0       128\n",
       "19.0        83\n",
       "20.0        36\n",
       "21.0        30\n",
       "22.0        25\n",
       "23.0        17\n",
       "24.0        12\n",
       "26.0         9\n",
       "25.0         6\n",
       "30.0         5\n",
       "27.0         3\n",
       "28.0         2\n",
       "33.0         2\n",
       "32.0         1\n",
       "29.0         1\n",
       "Name: n1, dtype: int64"
      ]
     },
     "execution_count": 246,
     "metadata": {},
     "output_type": "execute_result"
    }
   ],
   "source": [
    "train_df['n1'].value_counts()"
   ]
  },
  {
   "cell_type": "code",
   "execution_count": 247,
   "id": "f32a2f06",
   "metadata": {},
   "outputs": [],
   "source": [
    "train_df['n1'] = train_df['n1'].apply(lambda x : x if x < 14 else 14)\n",
    "test_df['n1'] = test_df['n1'].apply(lambda x : x if x < 14 else 14)"
   ]
  },
  {
   "cell_type": "markdown",
   "id": "99f649cc",
   "metadata": {},
   "source": [
    "## 1.16 n2——binning"
   ]
  },
  {
   "cell_type": "code",
   "execution_count": 248,
   "id": "5339f51d",
   "metadata": {
    "scrolled": false
   },
   "outputs": [
    {
     "data": {
      "text/plain": [
       "4.0     117211\n",
       "5.0     108116\n",
       "3.0     106623\n",
       "6.0      88160\n",
       "2.0      70566\n",
       "7.0      68102\n",
       "8.0      50430\n",
       "9.0      35775\n",
       "1.0      26544\n",
       "10.0     25155\n",
       "11.0     17424\n",
       "12.0     12317\n",
       "13.0      8579\n",
       "14.0      6132\n",
       "15.0      4392\n",
       "0.0       3271\n",
       "16.0      3058\n",
       "17.0      2237\n",
       "18.0      1479\n",
       "19.0      1179\n",
       "20.0       814\n",
       "21.0       545\n",
       "22.0       414\n",
       "23.0       303\n",
       "24.0       216\n",
       "25.0       168\n",
       "26.0       129\n",
       "27.0        90\n",
       "28.0        64\n",
       "29.0        54\n",
       "30.0        39\n",
       "31.0        27\n",
       "32.0        24\n",
       "34.0        17\n",
       "33.0        16\n",
       "36.0        13\n",
       "35.0        10\n",
       "38.0         7\n",
       "37.0         6\n",
       "39.0         5\n",
       "43.0         4\n",
       "42.0         4\n",
       "44.0         2\n",
       "40.0         2\n",
       "41.0         2\n",
       "63.0         1\n",
       "52.0         1\n",
       "46.0         1\n",
       "57.0         1\n",
       "60.0         1\n",
       "Name: n2, dtype: int64"
      ]
     },
     "execution_count": 248,
     "metadata": {},
     "output_type": "execute_result"
    }
   ],
   "source": [
    "train_df['n2'].value_counts()"
   ]
  },
  {
   "cell_type": "code",
   "execution_count": 249,
   "id": "a18cc2df",
   "metadata": {},
   "outputs": [],
   "source": [
    "def n2Transform(value):\n",
    "    if value < 20 :\n",
    "        return value\n",
    "    else:\n",
    "        return 20\n",
    "train_df['n2'] = train_df['n2'].apply(n2Transform)\n",
    "test_df['n2'] = test_df['n2'].apply(n2Transform)"
   ]
  },
  {
   "cell_type": "markdown",
   "id": "c2a1a26a",
   "metadata": {},
   "source": [
    "## 1.17 n3——binning"
   ]
  },
  {
   "cell_type": "code",
   "execution_count": 250,
   "id": "0860e8c2",
   "metadata": {
    "scrolled": true
   },
   "outputs": [
    {
     "data": {
      "text/plain": [
       "4.0     117211\n",
       "5.0     108116\n",
       "3.0     106623\n",
       "6.0      88160\n",
       "2.0      70566\n",
       "7.0      68102\n",
       "8.0      50430\n",
       "9.0      35775\n",
       "1.0      26544\n",
       "10.0     25155\n",
       "11.0     17424\n",
       "12.0     12317\n",
       "13.0      8579\n",
       "14.0      6132\n",
       "15.0      4392\n",
       "0.0       3271\n",
       "16.0      3058\n",
       "17.0      2237\n",
       "18.0      1479\n",
       "19.0      1179\n",
       "20.0       814\n",
       "21.0       545\n",
       "22.0       414\n",
       "23.0       303\n",
       "24.0       216\n",
       "25.0       168\n",
       "26.0       129\n",
       "27.0        90\n",
       "28.0        64\n",
       "29.0        54\n",
       "30.0        39\n",
       "31.0        27\n",
       "32.0        24\n",
       "34.0        17\n",
       "33.0        16\n",
       "36.0        13\n",
       "35.0        10\n",
       "38.0         7\n",
       "37.0         6\n",
       "39.0         5\n",
       "43.0         4\n",
       "42.0         4\n",
       "44.0         2\n",
       "40.0         2\n",
       "41.0         2\n",
       "63.0         1\n",
       "52.0         1\n",
       "46.0         1\n",
       "57.0         1\n",
       "60.0         1\n",
       "Name: n3, dtype: int64"
      ]
     },
     "execution_count": 250,
     "metadata": {},
     "output_type": "execute_result"
    }
   ],
   "source": [
    "train_df['n3'].value_counts()"
   ]
  },
  {
   "cell_type": "code",
   "execution_count": 251,
   "id": "403e7405",
   "metadata": {},
   "outputs": [],
   "source": [
    "def n3Transform(value):\n",
    "    if value < 20 :\n",
    "        return value\n",
    "    else:\n",
    "        return 20\n",
    "train_df['n3'] = train_df['n3'].apply(n3Transform)\n",
    "test_df['n3'] = test_df['n3'].apply(n3Transform)"
   ]
  },
  {
   "cell_type": "markdown",
   "id": "1413b065",
   "metadata": {},
   "source": [
    "## 1.18 n4——binning"
   ]
  },
  {
   "cell_type": "code",
   "execution_count": 252,
   "id": "cc1fbf1c",
   "metadata": {
    "scrolled": true
   },
   "outputs": [
    {
     "data": {
      "text/plain": [
       "3.0     134529\n",
       "4.0     128078\n",
       "2.0     105568\n",
       "5.0     103239\n",
       "6.0      75699\n",
       "7.0      52687\n",
       "1.0      49656\n",
       "8.0      35717\n",
       "9.0      23893\n",
       "10.0     15962\n",
       "11.0     10682\n",
       "0.0       7785\n",
       "12.0      7122\n",
       "13.0      4804\n",
       "14.0      3253\n",
       "15.0      2374\n",
       "16.0      1527\n",
       "17.0      1114\n",
       "18.0       839\n",
       "19.0       553\n",
       "20.0       407\n",
       "21.0       286\n",
       "22.0       238\n",
       "23.0       157\n",
       "24.0       145\n",
       "25.0       114\n",
       "26.0        65\n",
       "27.0        59\n",
       "28.0        40\n",
       "29.0        33\n",
       "30.0        29\n",
       "31.0        22\n",
       "32.0        17\n",
       "33.0        14\n",
       "35.0        11\n",
       "36.0        10\n",
       "37.0         6\n",
       "40.0         5\n",
       "38.0         5\n",
       "34.0         5\n",
       "39.0         4\n",
       "41.0         2\n",
       "46.0         2\n",
       "42.0         2\n",
       "49.0         1\n",
       "43.0         1\n",
       "Name: n4, dtype: int64"
      ]
     },
     "execution_count": 252,
     "metadata": {},
     "output_type": "execute_result"
    }
   ],
   "source": [
    "train_df['n4'].value_counts()"
   ]
  },
  {
   "cell_type": "code",
   "execution_count": 253,
   "id": "75e6fb04",
   "metadata": {},
   "outputs": [],
   "source": [
    "train_df['n4'] = train_df['n4'].apply(lambda x: x if x < 18 else 18)\n",
    "test_df['n4'] = test_df['n4'].apply(lambda x: x if x < 18 else 18)"
   ]
  },
  {
   "cell_type": "markdown",
   "id": "53945526",
   "metadata": {},
   "source": [
    "## 1.19 n5"
   ]
  },
  {
   "cell_type": "code",
   "execution_count": 254,
   "id": "4ceacf77",
   "metadata": {},
   "outputs": [
    {
     "data": {
      "text/plain": [
       "5.0     76576\n",
       "6.0     75679\n",
       "4.0     71175\n",
       "7.0     71021\n",
       "8.0     64347\n",
       "        ...  \n",
       "57.0        1\n",
       "64.0        1\n",
       "66.0        1\n",
       "63.0        1\n",
       "68.0        1\n",
       "Name: n5, Length: 65, dtype: int64"
      ]
     },
     "execution_count": 254,
     "metadata": {},
     "output_type": "execute_result"
    }
   ],
   "source": [
    "train_df['n5'].value_counts()"
   ]
  },
  {
   "cell_type": "code",
   "execution_count": 255,
   "id": "7dc3e4ee",
   "metadata": {},
   "outputs": [
    {
     "name": "stdout",
     "output_type": "stream",
     "text": [
      "max:70.0, min:0.0\n"
     ]
    },
    {
     "data": {
      "image/png": "[encoded data removed]",
      "text/plain": [
       "<Figure size 1080x432 with 1 Axes>"
      ]
     },
     "metadata": {
      "needs_background": "light"
     },
     "output_type": "display_data"
    }
   ],
   "source": [
    "PlotNumFeautre('n5')"
   ]
  },
  {
   "cell_type": "code",
   "execution_count": 256,
   "id": "4367c4fc",
   "metadata": {},
   "outputs": [],
   "source": [
    "train_df['n5'] = train_df['n5'].apply(lambda x: x if x <30 else 30)\n",
    "test_df['n5'] = test_df['n5'].apply(lambda x: x if x <30 else 30)"
   ]
  },
  {
   "cell_type": "markdown",
   "id": "319070b3",
   "metadata": {},
   "source": [
    "## 1.20 n6"
   ]
  },
  {
   "cell_type": "code",
   "execution_count": 257,
   "id": "ee327ed2",
   "metadata": {},
   "outputs": [
    {
     "data": {
      "text/plain": [
       "4.0      64692\n",
       "3.0      64139\n",
       "5.0      61863\n",
       "2.0      58022\n",
       "6.0      57240\n",
       "         ...  \n",
       "94.0         1\n",
       "100.0        1\n",
       "98.0         1\n",
       "113.0        1\n",
       "104.0        1\n",
       "Name: n6, Length: 107, dtype: int64"
      ]
     },
     "execution_count": 257,
     "metadata": {},
     "output_type": "execute_result"
    }
   ],
   "source": [
    "train_df['n6'].value_counts()"
   ]
  },
  {
   "cell_type": "code",
   "execution_count": 258,
   "id": "ec741405",
   "metadata": {},
   "outputs": [
    {
     "name": "stdout",
     "output_type": "stream",
     "text": [
      "max:132.0, min:0.0\n"
     ]
    },
    {
     "data": {
      "image/png": "[encoded data removed]",
      "text/plain": [
       "<Figure size 1080x432 with 1 Axes>"
      ]
     },
     "metadata": {
      "needs_background": "light"
     },
     "output_type": "display_data"
    }
   ],
   "source": [
    "PlotNumFeautre('n6')"
   ]
  },
  {
   "cell_type": "code",
   "execution_count": 259,
   "id": "4a7d2fab",
   "metadata": {},
   "outputs": [],
   "source": [
    "train_df['n6'] = train_df['n6'].apply(lambda x: x  if x < 40 else 40)\n",
    "test_df['n6'] = test_df['n6'].apply(lambda x: x  if x < 40 else 40)"
   ]
  },
  {
   "cell_type": "markdown",
   "id": "9bf42bc4",
   "metadata": {},
   "source": [
    "## 1.21 n7"
   ]
  },
  {
   "cell_type": "code",
   "execution_count": 260,
   "id": "0776c529",
   "metadata": {},
   "outputs": [
    {
     "data": {
      "text/plain": [
       "6.0     83331\n",
       "5.0     80569\n",
       "7.0     79026\n",
       "8.0     71219\n",
       "4.0     68256\n",
       "        ...  \n",
       "77.0        1\n",
       "73.0        1\n",
       "59.0        1\n",
       "63.0        1\n",
       "53.0        1\n",
       "Name: n7, Length: 70, dtype: int64"
      ]
     },
     "execution_count": 260,
     "metadata": {},
     "output_type": "execute_result"
    }
   ],
   "source": [
    "train_df['n7'].value_counts()"
   ]
  },
  {
   "cell_type": "code",
   "execution_count": 261,
   "id": "e4090f34",
   "metadata": {},
   "outputs": [
    {
     "name": "stdout",
     "output_type": "stream",
     "text": [
      "max:79.0, min:0.0\n"
     ]
    },
    {
     "data": {
      "image/png": "[encoded data removed]",
      "text/plain": [
       "<Figure size 1080x432 with 1 Axes>"
      ]
     },
     "metadata": {
      "needs_background": "light"
     },
     "output_type": "display_data"
    }
   ],
   "source": [
    "PlotNumFeautre('n7')"
   ]
  },
  {
   "cell_type": "code",
   "execution_count": 262,
   "id": "4c44ad86",
   "metadata": {},
   "outputs": [],
   "source": [
    "train_df['n7'] = train_df['n7'].apply(lambda x: x if x < 30 else 30)\n",
    "test_df['n7'] = test_df['n7'].apply(lambda x: x if x < 30 else 30)"
   ]
  },
  {
   "cell_type": "markdown",
   "id": "c19b21ef",
   "metadata": {},
   "source": [
    "## 1.22 n8"
   ]
  },
  {
   "cell_type": "code",
   "execution_count": 263,
   "id": "43f1af89",
   "metadata": {},
   "outputs": [
    {
     "data": {
      "text/plain": [
       "11.0     44808\n",
       "10.0     44653\n",
       "9.0      43882\n",
       "12.0     43358\n",
       "8.0      42024\n",
       "         ...  \n",
       "128.0        1\n",
       "107.0        1\n",
       "87.0         1\n",
       "78.0         1\n",
       "83.0         1\n",
       "Name: n8, Length: 102, dtype: int64"
      ]
     },
     "execution_count": 263,
     "metadata": {},
     "output_type": "execute_result"
    }
   ],
   "source": [
    "train_df['n8'].value_counts()"
   ]
  },
  {
   "cell_type": "code",
   "execution_count": 264,
   "id": "166423cf",
   "metadata": {},
   "outputs": [
    {
     "name": "stdout",
     "output_type": "stream",
     "text": [
      "max:128.0, min:1.0\n"
     ]
    },
    {
     "data": {
      "image/png": "[encoded data removed]",
      "text/plain": [
       "<Figure size 1080x432 with 1 Axes>"
      ]
     },
     "metadata": {
      "needs_background": "light"
     },
     "output_type": "display_data"
    }
   ],
   "source": [
    "PlotNumFeautre('n8')"
   ]
  },
  {
   "cell_type": "code",
   "execution_count": 265,
   "id": "466fede0",
   "metadata": {},
   "outputs": [],
   "source": [
    "train_df['n8'] = train_df['n8'].apply(lambda x: x if x < 50 else 50)\n",
    "test_df['n8'] = test_df['n8'].apply(lambda x: x if x < 50 else 50)"
   ]
  },
  {
   "cell_type": "markdown",
   "id": "e1fd81ed",
   "metadata": {},
   "source": [
    "## 1.23 n9"
   ]
  },
  {
   "cell_type": "code",
   "execution_count": 266,
   "id": "5d57e0fa",
   "metadata": {},
   "outputs": [
    {
     "data": {
      "text/plain": [
       "4.0     118134\n",
       "5.0     108976\n",
       "3.0     107222\n",
       "6.0      88847\n",
       "2.0      70902\n",
       "7.0      68413\n",
       "8.0      50342\n",
       "9.0      35601\n",
       "1.0      26464\n",
       "10.0     24868\n",
       "11.0     17092\n",
       "12.0     11982\n",
       "13.0      8207\n",
       "14.0      5836\n",
       "15.0      4066\n",
       "0.0       3228\n",
       "16.0      2839\n",
       "17.0      2010\n",
       "18.0      1286\n",
       "19.0      1045\n",
       "20.0       697\n",
       "21.0       461\n",
       "22.0       316\n",
       "23.0       240\n",
       "24.0       167\n",
       "25.0       132\n",
       "26.0        96\n",
       "27.0        64\n",
       "28.0        51\n",
       "29.0        42\n",
       "30.0        24\n",
       "32.0        15\n",
       "31.0        15\n",
       "34.0        12\n",
       "33.0        11\n",
       "35.0         5\n",
       "36.0         5\n",
       "39.0         4\n",
       "43.0         4\n",
       "38.0         3\n",
       "37.0         3\n",
       "44.0         1\n",
       "45.0         1\n",
       "42.0         1\n",
       "Name: n9, dtype: int64"
      ]
     },
     "execution_count": 266,
     "metadata": {},
     "output_type": "execute_result"
    }
   ],
   "source": [
    "train_df['n9'].value_counts()"
   ]
  },
  {
   "cell_type": "code",
   "execution_count": 267,
   "id": "bc047198",
   "metadata": {},
   "outputs": [],
   "source": [
    "train_df['n9'] = train_df['n9'].apply(lambda x: x if x < 26 else 26)\n",
    "test_df['n9'] = test_df['n9'].apply(lambda x: x if x < 26 else 26)"
   ]
  },
  {
   "cell_type": "markdown",
   "id": "4c271144",
   "metadata": {},
   "source": [
    "## 1.24 n10"
   ]
  },
  {
   "cell_type": "code",
   "execution_count": 268,
   "id": "a0177bfb",
   "metadata": {},
   "outputs": [
    {
     "data": {
      "text/plain": [
       "9.0     68023\n",
       "10.0    66407\n",
       "8.0     65287\n",
       "11.0    61601\n",
       "7.0     58455\n",
       "        ...  \n",
       "80.0        1\n",
       "64.0        1\n",
       "75.0        1\n",
       "74.0        1\n",
       "67.0        1\n",
       "Name: n10, Length: 76, dtype: int64"
      ]
     },
     "execution_count": 268,
     "metadata": {},
     "output_type": "execute_result"
    }
   ],
   "source": [
    "train_df['n10'].value_counts()"
   ]
  },
  {
   "cell_type": "code",
   "execution_count": 269,
   "id": "138ab825",
   "metadata": {},
   "outputs": [
    {
     "name": "stdout",
     "output_type": "stream",
     "text": [
      "max:82.0, min:0.0\n"
     ]
    },
    {
     "data": {
      "image/png": "[encoded data removed]",
      "text/plain": [
       "<Figure size 1080x432 with 1 Axes>"
      ]
     },
     "metadata": {
      "needs_background": "light"
     },
     "output_type": "display_data"
    }
   ],
   "source": [
    "PlotNumFeautre('n10')"
   ]
  },
  {
   "cell_type": "code",
   "execution_count": 270,
   "id": "472e723b",
   "metadata": {},
   "outputs": [],
   "source": [
    "train_df['n10'] = train_df['n10'].apply(lambda x: x if x < 35 else 35)\n",
    "test_df['n10'] = test_df['n10'].apply(lambda x: x if x < 35 else 35)"
   ]
  },
  {
   "cell_type": "markdown",
   "id": "7b1ed879",
   "metadata": {},
   "source": [
    "## 1.25 n11"
   ]
  },
  {
   "cell_type": "code",
   "execution_count": 271,
   "id": "7170790e",
   "metadata": {},
   "outputs": [
    {
     "data": {
      "text/plain": [
       "0.0    729682\n",
       "1.0       540\n",
       "2.0        24\n",
       "4.0         1\n",
       "3.0         1\n",
       "Name: n11, dtype: int64"
      ]
     },
     "execution_count": 271,
     "metadata": {},
     "output_type": "execute_result"
    }
   ],
   "source": [
    "train_df['n11'].value_counts()"
   ]
  },
  {
   "cell_type": "code",
   "execution_count": 272,
   "id": "18d9ac71",
   "metadata": {},
   "outputs": [],
   "source": [
    "train_df['n11'] = train_df['n11'].apply(lambda x: x if x < 2 else 2)\n",
    "test_df['n11'] = test_df['n11'].apply(lambda x: x if x < 2 else 2)"
   ]
  },
  {
   "cell_type": "markdown",
   "id": "1f218f3e",
   "metadata": {},
   "source": [
    "## 1.26 n12"
   ]
  },
  {
   "cell_type": "code",
   "execution_count": 273,
   "id": "f919a24b",
   "metadata": {},
   "outputs": [
    {
     "data": {
      "text/plain": [
       "0.0    757315\n",
       "1.0      2281\n",
       "2.0       115\n",
       "3.0        16\n",
       "4.0         3\n",
       "Name: n12, dtype: int64"
      ]
     },
     "execution_count": 273,
     "metadata": {},
     "output_type": "execute_result"
    }
   ],
   "source": [
    "train_df['n12'].value_counts()"
   ]
  },
  {
   "cell_type": "code",
   "execution_count": 274,
   "id": "e6948b6d",
   "metadata": {},
   "outputs": [],
   "source": [
    "train_df['n12'] = train_df['n12'].apply(lambda x: x if x < 2 else 2)\n",
    "test_df['n12'] = test_df['n12'].apply(lambda x: x if x < 2 else 2)"
   ]
  },
  {
   "cell_type": "markdown",
   "id": "14d35bca",
   "metadata": {},
   "source": [
    "## 1.27 n13 "
   ]
  },
  {
   "cell_type": "code",
   "execution_count": 275,
   "id": "dabfe254",
   "metadata": {
    "scrolled": true
   },
   "outputs": [
    {
     "data": {
      "text/plain": [
       "0.0     716131\n",
       "1.0      32506\n",
       "2.0       6565\n",
       "3.0       1780\n",
       "4.0        993\n",
       "5.0        528\n",
       "6.0        405\n",
       "7.0        222\n",
       "8.0        172\n",
       "9.0        138\n",
       "10.0        83\n",
       "11.0        67\n",
       "12.0        36\n",
       "14.0        28\n",
       "13.0        22\n",
       "15.0        11\n",
       "16.0         9\n",
       "18.0         9\n",
       "20.0         7\n",
       "19.0         5\n",
       "26.0         3\n",
       "22.0         3\n",
       "17.0         2\n",
       "21.0         1\n",
       "39.0         1\n",
       "29.0         1\n",
       "30.0         1\n",
       "24.0         1\n",
       "Name: n13, dtype: int64"
      ]
     },
     "execution_count": 275,
     "metadata": {},
     "output_type": "execute_result"
    }
   ],
   "source": [
    "train_df['n13'].value_counts()"
   ]
  },
  {
   "cell_type": "code",
   "execution_count": 276,
   "id": "412d0560",
   "metadata": {},
   "outputs": [],
   "source": [
    "train_df['n13'] = train_df['n13'].apply(lambda x: x if x < 10 else 10)\n",
    "test_df['n13'] = test_df['n13'].apply(lambda x: x if x < 10 else 10)"
   ]
  },
  {
   "cell_type": "markdown",
   "id": "688bc736",
   "metadata": {},
   "source": [
    "## 1.28 n14"
   ]
  },
  {
   "cell_type": "code",
   "execution_count": 277,
   "id": "fff2bc73",
   "metadata": {},
   "outputs": [
    {
     "data": {
      "text/plain": [
       "1.0     187501\n",
       "2.0     171704\n",
       "0.0     128053\n",
       "3.0     124621\n",
       "4.0      73869\n",
       "5.0      36018\n",
       "6.0      17388\n",
       "7.0       9460\n",
       "8.0       4902\n",
       "9.0       2692\n",
       "10.0      1423\n",
       "11.0       835\n",
       "12.0       489\n",
       "13.0       278\n",
       "14.0       194\n",
       "15.0       101\n",
       "16.0        74\n",
       "17.0        43\n",
       "18.0        17\n",
       "20.0        17\n",
       "19.0        16\n",
       "21.0         8\n",
       "23.0         7\n",
       "24.0         5\n",
       "25.0         4\n",
       "22.0         4\n",
       "26.0         3\n",
       "28.0         1\n",
       "27.0         1\n",
       "29.0         1\n",
       "30.0         1\n",
       "Name: n14, dtype: int64"
      ]
     },
     "execution_count": 277,
     "metadata": {},
     "output_type": "execute_result"
    }
   ],
   "source": [
    "train_df['n14'].value_counts()"
   ]
  },
  {
   "cell_type": "code",
   "execution_count": 278,
   "id": "52e66968",
   "metadata": {},
   "outputs": [],
   "source": [
    "train_df['n14'] = train_df['n14'].apply(lambda x: x if x < 11 else 11)\n",
    "test_df['n14'] = test_df['n14'].apply(lambda x: x if x < 11 else 11)"
   ]
  },
  {
   "cell_type": "code",
   "execution_count": 279,
   "id": "25bbcd3e",
   "metadata": {},
   "outputs": [
    {
     "name": "stdout",
     "output_type": "stream",
     "text": [
      "<class 'pandas.core.frame.DataFrame'>\n",
      "RangeIndex: 800000 entries, 0 to 799999\n",
      "Data columns (total 51 columns):\n",
      " #   Column                   Non-Null Count   Dtype  \n",
      "---  ------                   --------------   -----  \n",
      " 0   id                       800000 non-null  int64  \n",
      " 1   loanAmnt                 800000 non-null  float64\n",
      " 2   term                     800000 non-null  int64  \n",
      " 3   interestRate             800000 non-null  float64\n",
      " 4   installment              800000 non-null  float64\n",
      " 5   grade                    800000 non-null  int32  \n",
      " 6   subGrade                 800000 non-null  int32  \n",
      " 7   employmentTitle          800000 non-null  float64\n",
      " 8   employmentLength         800000 non-null  int32  \n",
      " 9   homeOwnership            800000 non-null  int64  \n",
      " 10  annualIncome             800000 non-null  int64  \n",
      " 11  verificationStatus       800000 non-null  int64  \n",
      " 12  issueDate                800000 non-null  object \n",
      " 13  isDefault                800000 non-null  int64  \n",
      " 14  purpose                  800000 non-null  int64  \n",
      " 15  postCode                 799999 non-null  float64\n",
      " 16  regionCode               800000 non-null  int64  \n",
      " 17  dti                      800000 non-null  int64  \n",
      " 18  delinquency_2years       800000 non-null  float64\n",
      " 19  ficoRangeLow             800000 non-null  float64\n",
      " 20  ficoRangeHigh            800000 non-null  float64\n",
      " 21  openAcc                  800000 non-null  float64\n",
      " 22  pubRec                   800000 non-null  float64\n",
      " 23  pubRecBankruptcies       800000 non-null  float64\n",
      " 24  revolBal                 800000 non-null  float64\n",
      " 25  revolUtil                800000 non-null  int64  \n",
      " 26  totalAcc                 800000 non-null  float64\n",
      " 27  initialListStatus        800000 non-null  int64  \n",
      " 28  applicationType          800000 non-null  int64  \n",
      " 29  earliesCreditLine        800000 non-null  object \n",
      " 30  title                    799999 non-null  float64\n",
      " 31  policyCode               800000 non-null  float64\n",
      " 32  n0                       800000 non-null  float64\n",
      " 33  n1                       800000 non-null  float64\n",
      " 34  n2                       800000 non-null  float64\n",
      " 35  n3                       800000 non-null  float64\n",
      " 36  n4                       800000 non-null  float64\n",
      " 37  n5                       800000 non-null  float64\n",
      " 38  n6                       800000 non-null  float64\n",
      " 39  n7                       800000 non-null  float64\n",
      " 40  n8                       800000 non-null  float64\n",
      " 41  n9                       800000 non-null  float64\n",
      " 42  n10                      800000 non-null  float64\n",
      " 43  n11                      800000 non-null  float64\n",
      " 44  n12                      800000 non-null  float64\n",
      " 45  n13                      800000 non-null  float64\n",
      " 46  n14                      800000 non-null  float64\n",
      " 47  issueDate_year           800000 non-null  int64  \n",
      " 48  issueDate_month          800000 non-null  int64  \n",
      " 49  earliesCreditLine_year   800000 non-null  int64  \n",
      " 50  earliesCreditLine_month  800000 non-null  int64  \n",
      "dtypes: float64(30), int32(3), int64(16), object(2)\n",
      "memory usage: 302.1+ MB\n"
     ]
    }
   ],
   "source": [
    "train_df.info()"
   ]
  },
  {
   "cell_type": "code",
   "execution_count": 285,
   "id": "0b95d2fa",
   "metadata": {},
   "outputs": [],
   "source": [
    "imputer  = SimpleImputer(strategy='most_frequent')\n",
    "train_df['title'] = imputer.fit_transform(train_df[['title']])\n",
    "test_df['title'] = imputer.transform(test_df[['title']])\n",
    "\n",
    "train_df['postCode'] = imputer.fit_transform(train_df[['postCode']])\n",
    "test_df['postCode'] = imputer.transform(test_df[['postCode']])\n",
    "\n",
    "\n"
   ]
  },
  {
   "cell_type": "code",
   "execution_count": 287,
   "id": "2bad8d8b",
   "metadata": {},
   "outputs": [],
   "source": [
    "for col in train_df.columns:\n",
    "    if train_df[col].dtype == 'object':\n",
    "        train_df.drop(labels = [col], axis = 1, inplace = True)\n",
    "        test_df.drop(labels = [col], axis = 1, inplace = True)"
   ]
  },
  {
   "cell_type": "code",
   "execution_count": 291,
   "id": "59b51830",
   "metadata": {},
   "outputs": [
    {
     "name": "stdout",
     "output_type": "stream",
     "text": [
      "<class 'pandas.core.frame.DataFrame'>\n",
      "RangeIndex: 800000 entries, 0 to 799999\n",
      "Data columns (total 49 columns):\n",
      " #   Column                   Non-Null Count   Dtype  \n",
      "---  ------                   --------------   -----  \n",
      " 0   id                       800000 non-null  int64  \n",
      " 1   loanAmnt                 800000 non-null  float64\n",
      " 2   term                     800000 non-null  int64  \n",
      " 3   interestRate             800000 non-null  float64\n",
      " 4   installment              800000 non-null  float64\n",
      " 5   grade                    800000 non-null  int32  \n",
      " 6   subGrade                 800000 non-null  int32  \n",
      " 7   employmentTitle          800000 non-null  float64\n",
      " 8   employmentLength         800000 non-null  int32  \n",
      " 9   homeOwnership            800000 non-null  int64  \n",
      " 10  annualIncome             800000 non-null  int64  \n",
      " 11  verificationStatus       800000 non-null  int64  \n",
      " 12  isDefault                800000 non-null  int64  \n",
      " 13  purpose                  800000 non-null  int64  \n",
      " 14  postCode                 800000 non-null  float64\n",
      " 15  regionCode               800000 non-null  int64  \n",
      " 16  dti                      800000 non-null  int64  \n",
      " 17  delinquency_2years       800000 non-null  float64\n",
      " 18  ficoRangeLow             800000 non-null  float64\n",
      " 19  ficoRangeHigh            800000 non-null  float64\n",
      " 20  openAcc                  800000 non-null  float64\n",
      " 21  pubRec                   800000 non-null  float64\n",
      " 22  pubRecBankruptcies       800000 non-null  float64\n",
      " 23  revolBal                 800000 non-null  float64\n",
      " 24  revolUtil                800000 non-null  int64  \n",
      " 25  totalAcc                 800000 non-null  float64\n",
      " 26  initialListStatus        800000 non-null  int64  \n",
      " 27  applicationType          800000 non-null  int64  \n",
      " 28  title                    800000 non-null  float64\n",
      " 29  policyCode               800000 non-null  float64\n",
      " 30  n0                       800000 non-null  float64\n",
      " 31  n1                       800000 non-null  float64\n",
      " 32  n2                       800000 non-null  float64\n",
      " 33  n3                       800000 non-null  float64\n",
      " 34  n4                       800000 non-null  float64\n",
      " 35  n5                       800000 non-null  float64\n",
      " 36  n6                       800000 non-null  float64\n",
      " 37  n7                       800000 non-null  float64\n",
      " 38  n8                       800000 non-null  float64\n",
      " 39  n9                       800000 non-null  float64\n",
      " 40  n10                      800000 non-null  float64\n",
      " 41  n11                      800000 non-null  float64\n",
      " 42  n12                      800000 non-null  float64\n",
      " 43  n13                      800000 non-null  float64\n",
      " 44  n14                      800000 non-null  float64\n",
      " 45  issueDate_year           800000 non-null  int64  \n",
      " 46  issueDate_month          800000 non-null  int64  \n",
      " 47  earliesCreditLine_year   800000 non-null  int64  \n",
      " 48  earliesCreditLine_month  800000 non-null  int64  \n",
      "dtypes: float64(30), int32(3), int64(16)\n",
      "memory usage: 289.9 MB\n"
     ]
    }
   ],
   "source": [
    "train_df.info()"
   ]
  },
  {
   "cell_type": "code",
   "execution_count": 293,
   "id": "250d34a5",
   "metadata": {},
   "outputs": [],
   "source": [
    "train_df.to_csv(\"../train_bin.csv\", index = False)\n",
    "test_df.to_csv(\"../test_bin.csv\", index = False)"
   ]
  },
  {
   "cell_type": "code",
   "execution_count": null,
   "id": "d1c03bb6",
   "metadata": {},
   "outputs": [],
   "source": []
  },
  {
   "cell_type": "code",
   "execution_count": null,
   "id": "9dbafbad",
   "metadata": {},
   "outputs": [],
   "source": []
  },
  {
   "cell_type": "code",
   "execution_count": null,
   "id": "362c2b30",
   "metadata": {},
   "outputs": [],
   "source": []
  },
  {
   "cell_type": "code",
   "execution_count": null,
   "id": "883f851e",
   "metadata": {},
   "outputs": [],
   "source": []
  },
  {
   "cell_type": "code",
   "execution_count": null,
   "id": "d2a8c704",
   "metadata": {},
   "outputs": [],
   "source": []
  },
  {
   "cell_type": "code",
   "execution_count": null,
   "id": "ca5fb3cc",
   "metadata": {},
   "outputs": [],
   "source": []
  },
  {
   "cell_type": "code",
   "execution_count": null,
   "id": "7eb75ceb",
   "metadata": {},
   "outputs": [],
   "source": []
  }
 ],
 "metadata": {
  "kernelspec": {
   "display_name": "Python 3 (ipykernel)",
   "language": "python",
   "name": "python3"
  },
  "language_info": {
   "codemirror_mode": {
    "name": "ipython",
    "version": 3
   },
   "file_extension": ".py",
   "mimetype": "text/x-python",
   "name": "python",
   "nbconvert_exporter": "python",
   "pygments_lexer": "ipython3",
   "version": "3.9.13"
  }
 },
 "nbformat": 4,
 "nbformat_minor": 5
}
