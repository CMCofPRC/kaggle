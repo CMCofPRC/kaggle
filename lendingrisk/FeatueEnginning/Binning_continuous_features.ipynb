{
 "cells": [
  {
   "cell_type": "code",
   "execution_count": 90,
   "id": "e8fe5576",
   "metadata": {},
   "outputs": [],
   "source": [
    "import os\n",
    "import gc\n",
    "import time\n",
    "\n",
    "import pandas as pd\n",
    "import numpy as np\n",
    "import matplotlib.pyplot as plt\n",
    "import seaborn as sns\n",
    "from matplotlib.pyplot import MultipleLocator\n",
    "\n",
    "\n",
    "from sklearn.preprocessing import LabelEncoder,MinMaxScaler,StandardScaler\n",
    "from sklearn.preprocessing import KBinsDiscretizer,Binarizer\n",
    "from sklearn.impute import SimpleImputer\n",
    "\n"
   ]
  },
  {
   "cell_type": "code",
   "execution_count": 91,
   "id": "9dfbdcf7",
   "metadata": {},
   "outputs": [],
   "source": [
    "train_df = pd.read_csv(\"./train_origin.csv\")\n",
    "test_df = pd.read_csv(\"./test_origin.csv\")"
   ]
  },
  {
   "cell_type": "code",
   "execution_count": 92,
   "id": "ac9e0d48",
   "metadata": {},
   "outputs": [],
   "source": [
    "#定类特征\n",
    "category_feature_list = ['verificationStatus','issueDate','purpose','postCode','regionCode',\n",
    "                 'initialListStatus','applicationType','earliesCreditLine','title','policyCode']\n",
    "#定序特征\n",
    "order_feature_list = ['term','grade','subGrade','employmentLength','homeOwnership']\n",
    "\n",
    "#定量特征\n",
    "numerical_feature_list = ['id', 'loanAmnt', 'interestRate', 'installment', 'employmentTitle',\n",
    " 'annualIncome', 'isDefault', 'dti', 'delinquency_2years', 'ficoRangeLow', 'ficoRangeHigh',\n",
    " 'openAcc', 'pubRec', 'pubRecBankruptcies', 'revolBal', 'revolUtil', 'totalAcc', 'n0',\n",
    " 'n1', 'n2', 'n3', 'n4', 'n5', 'n6', 'n7', 'n8', 'n9', 'n10', 'n11', 'n12', 'n13', 'n14']"
   ]
  },
  {
   "cell_type": "markdown",
   "id": "ab78bcc6",
   "metadata": {},
   "source": [
    "# 0. object特征处理和缺失值处理"
   ]
  },
  {
   "cell_type": "code",
   "execution_count": 93,
   "id": "fd706f5e",
   "metadata": {},
   "outputs": [
    {
     "name": "stdout",
     "output_type": "stream",
     "text": [
      "<class 'pandas.core.frame.DataFrame'>\n",
      "RangeIndex: 800000 entries, 0 to 799999\n",
      "Data columns (total 50 columns):\n",
      " #   Column                   Non-Null Count   Dtype  \n",
      "---  ------                   --------------   -----  \n",
      " 0   id                       800000 non-null  int64  \n",
      " 1   loanAmnt                 800000 non-null  float64\n",
      " 2   term                     800000 non-null  int64  \n",
      " 3   interestRate             800000 non-null  float64\n",
      " 4   installment              800000 non-null  float64\n",
      " 5   grade                    800000 non-null  int64  \n",
      " 6   subGrade                 800000 non-null  int64  \n",
      " 7   employmentTitle          800000 non-null  float64\n",
      " 8   employmentLength         800000 non-null  int64  \n",
      " 9   homeOwnership            800000 non-null  int64  \n",
      " 10  annualIncome             800000 non-null  float64\n",
      " 11  verificationStatus       800000 non-null  int64  \n",
      " 12  isDefault                800000 non-null  int64  \n",
      " 13  purpose                  800000 non-null  int64  \n",
      " 14  postCode                 800000 non-null  float64\n",
      " 15  regionCode               800000 non-null  int64  \n",
      " 16  dti                      800000 non-null  float64\n",
      " 17  delinquency_2years       800000 non-null  float64\n",
      " 18  ficoRangeLow             800000 non-null  float64\n",
      " 19  ficoRangeHigh            800000 non-null  float64\n",
      " 20  openAcc                  800000 non-null  float64\n",
      " 21  pubRec                   800000 non-null  float64\n",
      " 22  pubRecBankruptcies       800000 non-null  float64\n",
      " 23  revolBal                 800000 non-null  float64\n",
      " 24  revolUtil                800000 non-null  float64\n",
      " 25  totalAcc                 800000 non-null  float64\n",
      " 26  initialListStatus        800000 non-null  int64  \n",
      " 27  applicationType          800000 non-null  int64  \n",
      " 28  title                    800000 non-null  float64\n",
      " 29  policyCode               800000 non-null  float64\n",
      " 30  n0                       800000 non-null  float64\n",
      " 31  n1                       800000 non-null  float64\n",
      " 32  n2                       800000 non-null  float64\n",
      " 33  n3                       800000 non-null  float64\n",
      " 34  n4                       800000 non-null  float64\n",
      " 35  n5                       800000 non-null  float64\n",
      " 36  n6                       800000 non-null  float64\n",
      " 37  n7                       800000 non-null  float64\n",
      " 38  n8                       800000 non-null  float64\n",
      " 39  n9                       800000 non-null  float64\n",
      " 40  n10                      800000 non-null  float64\n",
      " 41  n11                      800000 non-null  float64\n",
      " 42  n12                      800000 non-null  float64\n",
      " 43  n13                      800000 non-null  float64\n",
      " 44  n14                      800000 non-null  float64\n",
      " 45  issueDate_year           800000 non-null  int64  \n",
      " 46  issueDate_month          800000 non-null  int64  \n",
      " 47  issueDate_day            800000 non-null  int64  \n",
      " 48  earliesCreditLine_month  800000 non-null  int64  \n",
      " 49  earliesCreditLine_year   800000 non-null  int64  \n",
      "dtypes: float64(33), int64(17)\n",
      "memory usage: 305.2 MB\n"
     ]
    }
   ],
   "source": [
    "train_df.info()"
   ]
  },
  {
   "cell_type": "markdown",
   "id": "3ee5379c",
   "metadata": {},
   "source": [
    "## 0.1 grade  处理object特征grade,将其进行标签编码"
   ]
  },
  {
   "cell_type": "code",
   "execution_count": 94,
   "id": "0c682bbc",
   "metadata": {},
   "outputs": [],
   "source": [
    "grade_enc = LabelEncoder()\n",
    "train_df['grade'] = grade_enc.fit_transform(train_df['grade'])\n",
    "test_df['grade'] = grade_enc.transform(test_df['grade'])"
   ]
  },
  {
   "cell_type": "code",
   "execution_count": 95,
   "id": "511a447b",
   "metadata": {},
   "outputs": [
    {
     "data": {
      "text/plain": [
       "0"
      ]
     },
     "execution_count": 95,
     "metadata": {},
     "output_type": "execute_result"
    }
   ],
   "source": [
    "test_df['grade'].isnull().sum()"
   ]
  },
  {
   "cell_type": "markdown",
   "id": "d3a4f388",
   "metadata": {},
   "source": [
    "## 0.2 subGrade 处理object特征subGrade"
   ]
  },
  {
   "cell_type": "code",
   "execution_count": 96,
   "id": "b5acccfa",
   "metadata": {},
   "outputs": [],
   "source": [
    "grade_enc = LabelEncoder()\n",
    "train_df['subGrade'] = grade_enc.fit_transform(train_df['subGrade'])\n",
    "test_df['subGrade'] = grade_enc.transform(test_df['subGrade'])"
   ]
  },
  {
   "cell_type": "markdown",
   "id": "dc6bc91c",
   "metadata": {},
   "source": [
    "## 0.3 employmentLength 处理object employmentLength"
   ]
  },
  {
   "cell_type": "code",
   "execution_count": 97,
   "id": "b1bcb0b1",
   "metadata": {},
   "outputs": [],
   "source": [
    "imputer = SimpleImputer(strategy='most_frequent')\n",
    "train_df['employmentLength'] = imputer.fit_transform(train_df[['employmentLength']])\n",
    "test_df['employmentLength'] = imputer.transform(test_df[['employmentLength']])"
   ]
  },
  {
   "cell_type": "code",
   "execution_count": 98,
   "id": "e16f4e30",
   "metadata": {},
   "outputs": [],
   "source": [
    "employmentLength_enc = LabelEncoder()\n",
    "train_df['employmentLength'] = employmentLength_enc.fit_transform(train_df['employmentLength'])\n",
    "test_df['employmentLength'] = employmentLength_enc.transform(test_df['employmentLength'])"
   ]
  },
  {
   "cell_type": "markdown",
   "id": "926d175d",
   "metadata": {},
   "source": [
    "## 0.4 issueDate 处理日期特征 issueDate"
   ]
  },
  {
   "cell_type": "code",
   "execution_count": 99,
   "id": "b249d766",
   "metadata": {},
   "outputs": [
    {
     "ename": "KeyError",
     "evalue": "'issueDate'",
     "output_type": "error",
     "traceback": [
      "\u001b[1;31m---------------------------------------------------------------------------\u001b[0m",
      "\u001b[1;31mKeyError\u001b[0m                                  Traceback (most recent call last)",
      "File \u001b[1;32mE:\\anaconda\\envs\\kaggle\\lib\\site-packages\\pandas\\core\\indexes\\base.py:3803\u001b[0m, in \u001b[0;36mIndex.get_loc\u001b[1;34m(self, key, method, tolerance)\u001b[0m\n\u001b[0;32m   3802\u001b[0m \u001b[38;5;28;01mtry\u001b[39;00m:\n\u001b[1;32m-> 3803\u001b[0m     \u001b[38;5;28;01mreturn\u001b[39;00m \u001b[38;5;28;43mself\u001b[39;49m\u001b[38;5;241;43m.\u001b[39;49m\u001b[43m_engine\u001b[49m\u001b[38;5;241;43m.\u001b[39;49m\u001b[43mget_loc\u001b[49m\u001b[43m(\u001b[49m\u001b[43mcasted_key\u001b[49m\u001b[43m)\u001b[49m\n\u001b[0;32m   3804\u001b[0m \u001b[38;5;28;01mexcept\u001b[39;00m \u001b[38;5;167;01mKeyError\u001b[39;00m \u001b[38;5;28;01mas\u001b[39;00m err:\n",
      "File \u001b[1;32mE:\\anaconda\\envs\\kaggle\\lib\\site-packages\\pandas\\_libs\\index.pyx:138\u001b[0m, in \u001b[0;36mpandas._libs.index.IndexEngine.get_loc\u001b[1;34m()\u001b[0m\n",
      "File \u001b[1;32mE:\\anaconda\\envs\\kaggle\\lib\\site-packages\\pandas\\_libs\\index.pyx:165\u001b[0m, in \u001b[0;36mpandas._libs.index.IndexEngine.get_loc\u001b[1;34m()\u001b[0m\n",
      "File \u001b[1;32mpandas\\_libs\\hashtable_class_helper.pxi:5745\u001b[0m, in \u001b[0;36mpandas._libs.hashtable.PyObjectHashTable.get_item\u001b[1;34m()\u001b[0m\n",
      "File \u001b[1;32mpandas\\_libs\\hashtable_class_helper.pxi:5753\u001b[0m, in \u001b[0;36mpandas._libs.hashtable.PyObjectHashTable.get_item\u001b[1;34m()\u001b[0m\n",
      "\u001b[1;31mKeyError\u001b[0m: 'issueDate'",
      "\nThe above exception was the direct cause of the following exception:\n",
      "\u001b[1;31mKeyError\u001b[0m                                  Traceback (most recent call last)",
      "Input \u001b[1;32mIn [99]\u001b[0m, in \u001b[0;36m<cell line: 1>\u001b[1;34m()\u001b[0m\n\u001b[1;32m----> 1\u001b[0m train_df[\u001b[38;5;124m'\u001b[39m\u001b[38;5;124missueDate_year\u001b[39m\u001b[38;5;124m'\u001b[39m] \u001b[38;5;241m=\u001b[39m pd\u001b[38;5;241m.\u001b[39mDatetimeIndex(\u001b[43mtrain_df\u001b[49m\u001b[43m[\u001b[49m\u001b[38;5;124;43m'\u001b[39;49m\u001b[38;5;124;43missueDate\u001b[39;49m\u001b[38;5;124;43m'\u001b[39;49m\u001b[43m]\u001b[49m)\u001b[38;5;241m.\u001b[39myear\n\u001b[0;32m      2\u001b[0m test_df[\u001b[38;5;124m'\u001b[39m\u001b[38;5;124missueDate_year\u001b[39m\u001b[38;5;124m'\u001b[39m] \u001b[38;5;241m=\u001b[39m pd\u001b[38;5;241m.\u001b[39mDatetimeIndex(test_df[\u001b[38;5;124m'\u001b[39m\u001b[38;5;124missueDate\u001b[39m\u001b[38;5;124m'\u001b[39m])\u001b[38;5;241m.\u001b[39myear\n",
      "File \u001b[1;32mE:\\anaconda\\envs\\kaggle\\lib\\site-packages\\pandas\\core\\frame.py:3804\u001b[0m, in \u001b[0;36mDataFrame.__getitem__\u001b[1;34m(self, key)\u001b[0m\n\u001b[0;32m   3802\u001b[0m \u001b[38;5;28;01mif\u001b[39;00m \u001b[38;5;28mself\u001b[39m\u001b[38;5;241m.\u001b[39mcolumns\u001b[38;5;241m.\u001b[39mnlevels \u001b[38;5;241m>\u001b[39m \u001b[38;5;241m1\u001b[39m:\n\u001b[0;32m   3803\u001b[0m     \u001b[38;5;28;01mreturn\u001b[39;00m \u001b[38;5;28mself\u001b[39m\u001b[38;5;241m.\u001b[39m_getitem_multilevel(key)\n\u001b[1;32m-> 3804\u001b[0m indexer \u001b[38;5;241m=\u001b[39m \u001b[38;5;28;43mself\u001b[39;49m\u001b[38;5;241;43m.\u001b[39;49m\u001b[43mcolumns\u001b[49m\u001b[38;5;241;43m.\u001b[39;49m\u001b[43mget_loc\u001b[49m\u001b[43m(\u001b[49m\u001b[43mkey\u001b[49m\u001b[43m)\u001b[49m\n\u001b[0;32m   3805\u001b[0m \u001b[38;5;28;01mif\u001b[39;00m is_integer(indexer):\n\u001b[0;32m   3806\u001b[0m     indexer \u001b[38;5;241m=\u001b[39m [indexer]\n",
      "File \u001b[1;32mE:\\anaconda\\envs\\kaggle\\lib\\site-packages\\pandas\\core\\indexes\\base.py:3805\u001b[0m, in \u001b[0;36mIndex.get_loc\u001b[1;34m(self, key, method, tolerance)\u001b[0m\n\u001b[0;32m   3803\u001b[0m     \u001b[38;5;28;01mreturn\u001b[39;00m \u001b[38;5;28mself\u001b[39m\u001b[38;5;241m.\u001b[39m_engine\u001b[38;5;241m.\u001b[39mget_loc(casted_key)\n\u001b[0;32m   3804\u001b[0m \u001b[38;5;28;01mexcept\u001b[39;00m \u001b[38;5;167;01mKeyError\u001b[39;00m \u001b[38;5;28;01mas\u001b[39;00m err:\n\u001b[1;32m-> 3805\u001b[0m     \u001b[38;5;28;01mraise\u001b[39;00m \u001b[38;5;167;01mKeyError\u001b[39;00m(key) \u001b[38;5;28;01mfrom\u001b[39;00m \u001b[38;5;21;01merr\u001b[39;00m\n\u001b[0;32m   3806\u001b[0m \u001b[38;5;28;01mexcept\u001b[39;00m \u001b[38;5;167;01mTypeError\u001b[39;00m:\n\u001b[0;32m   3807\u001b[0m     \u001b[38;5;66;03m# If we have a listlike key, _check_indexing_error will raise\u001b[39;00m\n\u001b[0;32m   3808\u001b[0m     \u001b[38;5;66;03m#  InvalidIndexError. Otherwise we fall through and re-raise\u001b[39;00m\n\u001b[0;32m   3809\u001b[0m     \u001b[38;5;66;03m#  the TypeError.\u001b[39;00m\n\u001b[0;32m   3810\u001b[0m     \u001b[38;5;28mself\u001b[39m\u001b[38;5;241m.\u001b[39m_check_indexing_error(key)\n",
      "\u001b[1;31mKeyError\u001b[0m: 'issueDate'"
     ]
    }
   ],
   "source": [
    "train_df['issueDate_year'] = pd.DatetimeIndex(train_df['issueDate']).year\n",
    "test_df['issueDate_year'] = pd.DatetimeIndex(test_df['issueDate']).year"
   ]
  },
  {
   "cell_type": "code",
   "execution_count": 100,
   "id": "a9e13023",
   "metadata": {},
   "outputs": [
    {
     "ename": "KeyError",
     "evalue": "'issueDate'",
     "output_type": "error",
     "traceback": [
      "\u001b[1;31m---------------------------------------------------------------------------\u001b[0m",
      "\u001b[1;31mKeyError\u001b[0m                                  Traceback (most recent call last)",
      "File \u001b[1;32mE:\\anaconda\\envs\\kaggle\\lib\\site-packages\\pandas\\core\\indexes\\base.py:3803\u001b[0m, in \u001b[0;36mIndex.get_loc\u001b[1;34m(self, key, method, tolerance)\u001b[0m\n\u001b[0;32m   3802\u001b[0m \u001b[38;5;28;01mtry\u001b[39;00m:\n\u001b[1;32m-> 3803\u001b[0m     \u001b[38;5;28;01mreturn\u001b[39;00m \u001b[38;5;28;43mself\u001b[39;49m\u001b[38;5;241;43m.\u001b[39;49m\u001b[43m_engine\u001b[49m\u001b[38;5;241;43m.\u001b[39;49m\u001b[43mget_loc\u001b[49m\u001b[43m(\u001b[49m\u001b[43mcasted_key\u001b[49m\u001b[43m)\u001b[49m\n\u001b[0;32m   3804\u001b[0m \u001b[38;5;28;01mexcept\u001b[39;00m \u001b[38;5;167;01mKeyError\u001b[39;00m \u001b[38;5;28;01mas\u001b[39;00m err:\n",
      "File \u001b[1;32mE:\\anaconda\\envs\\kaggle\\lib\\site-packages\\pandas\\_libs\\index.pyx:138\u001b[0m, in \u001b[0;36mpandas._libs.index.IndexEngine.get_loc\u001b[1;34m()\u001b[0m\n",
      "File \u001b[1;32mE:\\anaconda\\envs\\kaggle\\lib\\site-packages\\pandas\\_libs\\index.pyx:165\u001b[0m, in \u001b[0;36mpandas._libs.index.IndexEngine.get_loc\u001b[1;34m()\u001b[0m\n",
      "File \u001b[1;32mpandas\\_libs\\hashtable_class_helper.pxi:5745\u001b[0m, in \u001b[0;36mpandas._libs.hashtable.PyObjectHashTable.get_item\u001b[1;34m()\u001b[0m\n",
      "File \u001b[1;32mpandas\\_libs\\hashtable_class_helper.pxi:5753\u001b[0m, in \u001b[0;36mpandas._libs.hashtable.PyObjectHashTable.get_item\u001b[1;34m()\u001b[0m\n",
      "\u001b[1;31mKeyError\u001b[0m: 'issueDate'",
      "\nThe above exception was the direct cause of the following exception:\n",
      "\u001b[1;31mKeyError\u001b[0m                                  Traceback (most recent call last)",
      "Input \u001b[1;32mIn [100]\u001b[0m, in \u001b[0;36m<cell line: 1>\u001b[1;34m()\u001b[0m\n\u001b[1;32m----> 1\u001b[0m train_df[\u001b[38;5;124m'\u001b[39m\u001b[38;5;124missueDate_month\u001b[39m\u001b[38;5;124m'\u001b[39m] \u001b[38;5;241m=\u001b[39m pd\u001b[38;5;241m.\u001b[39mDatetimeIndex(\u001b[43mtrain_df\u001b[49m\u001b[43m[\u001b[49m\u001b[38;5;124;43m'\u001b[39;49m\u001b[38;5;124;43missueDate\u001b[39;49m\u001b[38;5;124;43m'\u001b[39;49m\u001b[43m]\u001b[49m)\u001b[38;5;241m.\u001b[39mmonth\n\u001b[0;32m      2\u001b[0m test_df[\u001b[38;5;124m'\u001b[39m\u001b[38;5;124missueDate_month\u001b[39m\u001b[38;5;124m'\u001b[39m] \u001b[38;5;241m=\u001b[39m pd\u001b[38;5;241m.\u001b[39mDatetimeIndex(test_df[\u001b[38;5;124m'\u001b[39m\u001b[38;5;124missueDate\u001b[39m\u001b[38;5;124m'\u001b[39m])\u001b[38;5;241m.\u001b[39mmonth\n",
      "File \u001b[1;32mE:\\anaconda\\envs\\kaggle\\lib\\site-packages\\pandas\\core\\frame.py:3804\u001b[0m, in \u001b[0;36mDataFrame.__getitem__\u001b[1;34m(self, key)\u001b[0m\n\u001b[0;32m   3802\u001b[0m \u001b[38;5;28;01mif\u001b[39;00m \u001b[38;5;28mself\u001b[39m\u001b[38;5;241m.\u001b[39mcolumns\u001b[38;5;241m.\u001b[39mnlevels \u001b[38;5;241m>\u001b[39m \u001b[38;5;241m1\u001b[39m:\n\u001b[0;32m   3803\u001b[0m     \u001b[38;5;28;01mreturn\u001b[39;00m \u001b[38;5;28mself\u001b[39m\u001b[38;5;241m.\u001b[39m_getitem_multilevel(key)\n\u001b[1;32m-> 3804\u001b[0m indexer \u001b[38;5;241m=\u001b[39m \u001b[38;5;28;43mself\u001b[39;49m\u001b[38;5;241;43m.\u001b[39;49m\u001b[43mcolumns\u001b[49m\u001b[38;5;241;43m.\u001b[39;49m\u001b[43mget_loc\u001b[49m\u001b[43m(\u001b[49m\u001b[43mkey\u001b[49m\u001b[43m)\u001b[49m\n\u001b[0;32m   3805\u001b[0m \u001b[38;5;28;01mif\u001b[39;00m is_integer(indexer):\n\u001b[0;32m   3806\u001b[0m     indexer \u001b[38;5;241m=\u001b[39m [indexer]\n",
      "File \u001b[1;32mE:\\anaconda\\envs\\kaggle\\lib\\site-packages\\pandas\\core\\indexes\\base.py:3805\u001b[0m, in \u001b[0;36mIndex.get_loc\u001b[1;34m(self, key, method, tolerance)\u001b[0m\n\u001b[0;32m   3803\u001b[0m     \u001b[38;5;28;01mreturn\u001b[39;00m \u001b[38;5;28mself\u001b[39m\u001b[38;5;241m.\u001b[39m_engine\u001b[38;5;241m.\u001b[39mget_loc(casted_key)\n\u001b[0;32m   3804\u001b[0m \u001b[38;5;28;01mexcept\u001b[39;00m \u001b[38;5;167;01mKeyError\u001b[39;00m \u001b[38;5;28;01mas\u001b[39;00m err:\n\u001b[1;32m-> 3805\u001b[0m     \u001b[38;5;28;01mraise\u001b[39;00m \u001b[38;5;167;01mKeyError\u001b[39;00m(key) \u001b[38;5;28;01mfrom\u001b[39;00m \u001b[38;5;21;01merr\u001b[39;00m\n\u001b[0;32m   3806\u001b[0m \u001b[38;5;28;01mexcept\u001b[39;00m \u001b[38;5;167;01mTypeError\u001b[39;00m:\n\u001b[0;32m   3807\u001b[0m     \u001b[38;5;66;03m# If we have a listlike key, _check_indexing_error will raise\u001b[39;00m\n\u001b[0;32m   3808\u001b[0m     \u001b[38;5;66;03m#  InvalidIndexError. Otherwise we fall through and re-raise\u001b[39;00m\n\u001b[0;32m   3809\u001b[0m     \u001b[38;5;66;03m#  the TypeError.\u001b[39;00m\n\u001b[0;32m   3810\u001b[0m     \u001b[38;5;28mself\u001b[39m\u001b[38;5;241m.\u001b[39m_check_indexing_error(key)\n",
      "\u001b[1;31mKeyError\u001b[0m: 'issueDate'"
     ]
    }
   ],
   "source": [
    "train_df['issueDate_month'] = pd.DatetimeIndex(train_df['issueDate']).month\n",
    "test_df['issueDate_month'] = pd.DatetimeIndex(test_df['issueDate']).month"
   ]
  },
  {
   "cell_type": "markdown",
   "id": "22c6a2b0",
   "metadata": {},
   "source": [
    "## 0.5 earliesCreditLine 处理日期特征earliesCreditLine"
   ]
  },
  {
   "cell_type": "code",
   "execution_count": 6,
   "id": "7172da15",
   "metadata": {},
   "outputs": [],
   "source": [
    "train_df['earliesCreditLine_year'] = pd.DatetimeIndex(train_df['earliesCreditLine']).year\n",
    "train_df['earliesCreditLine_month'] = pd.DatetimeIndex(train_df['earliesCreditLine']).month"
   ]
  },
  {
   "cell_type": "code",
   "execution_count": 7,
   "id": "2b4a1623",
   "metadata": {},
   "outputs": [],
   "source": [
    "test_df['earliesCreditLine_year'] = pd.DatetimeIndex(test_df['earliesCreditLine']).year\n",
    "test_df['earliesCreditLine_month'] = pd.DatetimeIndex(test_df['earliesCreditLine']).month"
   ]
  },
  {
   "cell_type": "code",
   "execution_count": 101,
   "id": "70bdc728",
   "metadata": {},
   "outputs": [],
   "source": [
    "def PlotNumFeautre(col):\n",
    "    fig,ax = plt.subplots(figsize = (15, 6))\n",
    "    sns.histplot(data = train_df, x = col,hue = 'isDefault', ax = ax)\n",
    "    print(\"max:{}, min:{}\".format(max(train_df[col]), min(train_df[col])))"
   ]
  },
  {
   "cell_type": "code",
   "execution_count": 102,
   "id": "53c683f1",
   "metadata": {},
   "outputs": [],
   "source": [
    "for col in train_df.columns:\n",
    "    if train_df[col].dtype == 'object':\n",
    "        train_df.drop(labels = [col], axis = 1,inplace= True)\n",
    "        test_df.drop(labels = [col], axis = 1,inplace= True)"
   ]
  },
  {
   "cell_type": "code",
   "execution_count": null,
   "id": "74b35358",
   "metadata": {},
   "outputs": [],
   "source": []
  },
  {
   "cell_type": "markdown",
   "id": "a5af16e6",
   "metadata": {},
   "source": [
    "# 1. numerical feature binning"
   ]
  },
  {
   "cell_type": "markdown",
   "id": "5720fadf",
   "metadata": {},
   "source": [
    "## 1.1 loanAmnt ——bining"
   ]
  },
  {
   "cell_type": "code",
   "execution_count": 103,
   "id": "4aecc3fa",
   "metadata": {},
   "outputs": [
    {
     "name": "stdout",
     "output_type": "stream",
     "text": [
      "max:40000.0, min:500.0\n"
     ]
    },
    {
     "data": {
      "image/png": "[encoded data removed]",
      "text/plain": [
       "<Figure size 1080x432 with 1 Axes>"
      ]
     },
     "metadata": {
      "needs_background": "light"
     },
     "output_type": "display_data"
    }
   ],
   "source": [
    "PlotNumFeautre('loanAmnt')"
   ]
  },
  {
   "cell_type": "code",
   "execution_count": 104,
   "id": "27615235",
   "metadata": {},
   "outputs": [],
   "source": [
    "#根据图示可以将 loanAmnt做8个分箱处理\n",
    "loanAmnt_bin_enc = KBinsDiscretizer(n_bins=8,encode='ordinal',strategy='uniform')"
   ]
  },
  {
   "cell_type": "code",
   "execution_count": 105,
   "id": "3ed1abb4",
   "metadata": {},
   "outputs": [],
   "source": [
    "train_df['loanAmnt'] = loanAmnt_bin_enc.fit_transform(train_df[['loanAmnt']])\n",
    "test_df['loanAmnt'] = loanAmnt_bin_enc.transform(test_df[['loanAmnt']])"
   ]
  },
  {
   "cell_type": "markdown",
   "id": "ff0c1e75",
   "metadata": {},
   "source": [
    "## 1.2 interestRate——binning"
   ]
  },
  {
   "cell_type": "code",
   "execution_count": 106,
   "id": "53809fd2",
   "metadata": {},
   "outputs": [
    {
     "name": "stdout",
     "output_type": "stream",
     "text": [
      "max:30.99, min:5.31\n"
     ]
    },
    {
     "data": {
      "image/png": "[encoded data removed]",
      "text/plain": [
       "<Figure size 1080x432 with 1 Axes>"
      ]
     },
     "metadata": {
      "needs_background": "light"
     },
     "output_type": "display_data"
    }
   ],
   "source": [
    "PlotNumFeautre('interestRate')"
   ]
  },
  {
   "cell_type": "code",
   "execution_count": 107,
   "id": "21e6c707",
   "metadata": {},
   "outputs": [],
   "source": [
    "interestRate_bin_enc = KBinsDiscretizer(n_bins=5, encode='ordinal', strategy='uniform')\n",
    "train_df['interestRate'] = interestRate_bin_enc.fit_transform(train_df[['interestRate']])\n",
    "test_df['interestRate'] = interestRate_bin_enc.transform(test_df[['interestRate']])"
   ]
  },
  {
   "cell_type": "markdown",
   "id": "6ed6c9e6",
   "metadata": {},
   "source": [
    "## 1.2 installment——binning"
   ]
  },
  {
   "cell_type": "code",
   "execution_count": 108,
   "id": "adc8cb10",
   "metadata": {},
   "outputs": [
    {
     "name": "stdout",
     "output_type": "stream",
     "text": [
      "max:1715.42, min:15.69\n"
     ]
    },
    {
     "data": {
      "image/png": "[encoded data removed]",
      "text/plain": [
       "<Figure size 1080x432 with 1 Axes>"
      ]
     },
     "metadata": {
      "needs_background": "light"
     },
     "output_type": "display_data"
    }
   ],
   "source": [
    "PlotNumFeautre('installment')"
   ]
  },
  {
   "cell_type": "code",
   "execution_count": 109,
   "id": "a6501304",
   "metadata": {},
   "outputs": [],
   "source": [
    "installment_bin_enc = KBinsDiscretizer(n_bins=6, encode= 'ordinal', strategy='uniform')\n",
    "train_df['installment'] = installment_bin_enc.fit_transform(train_df[['installment']])\n",
    "test_df['installment'] = installment_bin_enc.transform(test_df[['installment']])"
   ]
  },
  {
   "cell_type": "markdown",
   "id": "9f49cadc",
   "metadata": {},
   "source": [
    "## 1.3 employmentTitle——binning"
   ]
  },
  {
   "cell_type": "code",
   "execution_count": 110,
   "id": "ae3edd67",
   "metadata": {},
   "outputs": [
    {
     "name": "stdout",
     "output_type": "stream",
     "text": [
      "max:378351.0, min:0.0\n"
     ]
    },
    {
     "data": {
      "image/png": "[encoded data removed]",
      "text/plain": [
       "<Figure size 1080x432 with 1 Axes>"
      ]
     },
     "metadata": {
      "needs_background": "light"
     },
     "output_type": "display_data"
    }
   ],
   "source": [
    "PlotNumFeautre('employmentTitle')"
   ]
  },
  {
   "cell_type": "code",
   "execution_count": 111,
   "id": "1ec457f0",
   "metadata": {},
   "outputs": [],
   "source": [
    "employmentTitle_imputer = SimpleImputer()\n",
    "train_df['employmentTitle'] = employmentTitle_imputer.fit_transform(train_df[['employmentTitle']])\n",
    "test_df['employmentTitle'] = employmentTitle_imputer.transform(test_df[['employmentTitle']])\n",
    "\n",
    "employmentTitle_bin_enc = KBinsDiscretizer(n_bins=2, encode='ordinal', strategy='uniform')\n",
    "train_df['employmentTitle'] = employmentTitle_bin_enc.fit_transform(train_df[['employmentTitle']])\n",
    "test_df['employmentTitle'] = employmentTitle_bin_enc.fit_transform(test_df[['employmentTitle']])"
   ]
  },
  {
   "cell_type": "markdown",
   "id": "c6458622",
   "metadata": {},
   "source": [
    "## 1.4 annualIncome------binning"
   ]
  },
  {
   "cell_type": "code",
   "execution_count": 112,
   "id": "dd4414f2",
   "metadata": {},
   "outputs": [
    {
     "data": {
      "image/png": "[encoded data removed]",
      "text/plain": [
       "<Figure size 1080x576 with 1 Axes>"
      ]
     },
     "metadata": {
      "needs_background": "light"
     },
     "output_type": "display_data"
    }
   ],
   "source": [
    "fig, ax = plt.subplots(figsize = (15, 8))\n",
    "sns.histplot(data = train_df, x = 'annualIncome',ax = ax)\n",
    "ax.set_xscale('log')"
   ]
  },
  {
   "cell_type": "code",
   "execution_count": 113,
   "id": "a229ded9",
   "metadata": {},
   "outputs": [
    {
     "data": {
      "text/plain": [
       "54829.0         1\n",
       "57304.0         1\n",
       "325879.0        1\n",
       "97532.0         1\n",
       "36130.0         1\n",
       "            ...  \n",
       "40000.0     21057\n",
       "70000.0     22076\n",
       "65000.0     23126\n",
       "50000.0     27062\n",
       "60000.0     30682\n",
       "Name: annualIncome, Length: 44926, dtype: int64"
      ]
     },
     "execution_count": 113,
     "metadata": {},
     "output_type": "execute_result"
    }
   ],
   "source": [
    "train_df['annualIncome'].value_counts().sort_values()"
   ]
  },
  {
   "cell_type": "code",
   "execution_count": 114,
   "id": "a55c9dd6",
   "metadata": {},
   "outputs": [],
   "source": [
    "'''由于annualIncome特征的取值跨度较大，设定范围进行编码转化'''\n",
    "def annualIncomeTransform(value):\n",
    "    if value < 10000:\n",
    "        return 0\n",
    "    elif value < 200000:\n",
    "        return 1\n",
    "    else:\n",
    "        return 2\n",
    "train_df['annualIncome'] = train_df['annualIncome'].apply(annualIncomeTransform)\n",
    "test_df['annualIncome'] = test_df['annualIncome'].apply(annualIncomeTransform)"
   ]
  },
  {
   "cell_type": "markdown",
   "id": "d135c803",
   "metadata": {},
   "source": [
    "## 1.5 dti—binning"
   ]
  },
  {
   "cell_type": "code",
   "execution_count": 115,
   "id": "6e0d33c6",
   "metadata": {},
   "outputs": [
    {
     "data": {
      "text/plain": [
       "-1.00        2\n",
       " 0.00      516\n",
       " 0.01        6\n",
       " 0.02       10\n",
       " 0.03       10\n",
       "          ... \n",
       " 797.10      1\n",
       " 818.10      1\n",
       " 831.97      1\n",
       " 991.57      1\n",
       " 999.00     24\n",
       "Name: dti, Length: 6322, dtype: int64"
      ]
     },
     "execution_count": 115,
     "metadata": {},
     "output_type": "execute_result"
    }
   ],
   "source": [
    "train_df['dti'].value_counts().sort_index()"
   ]
  },
  {
   "cell_type": "code",
   "execution_count": 116,
   "id": "2702588f",
   "metadata": {},
   "outputs": [
    {
     "data": {
      "image/png": "[encoded data removed]",
      "text/plain": [
       "<Figure size 1080x576 with 1 Axes>"
      ]
     },
     "metadata": {
      "needs_background": "light"
     },
     "output_type": "display_data"
    }
   ],
   "source": [
    "fig, ax = plt.subplots(figsize = (15, 8))\n",
    "sns.histplot(data = train_df,x = 'dti', hue = 'isDefault', ax = ax)\n",
    "ax.set_xscale('log')"
   ]
  },
  {
   "cell_type": "code",
   "execution_count": 117,
   "id": "e6117071",
   "metadata": {},
   "outputs": [],
   "source": [
    "def dtiTransform(value):\n",
    "    if value < 0.3:\n",
    "        return 0\n",
    "    elif value < 13:\n",
    "        return 1\n",
    "    else:\n",
    "        return 2\n",
    "train_df['dti'] = train_df['dti'].apply(dtiTransform)\n",
    "test_df['dti'] = test_df['dti'].apply(dtiTransform)"
   ]
  },
  {
   "cell_type": "markdown",
   "id": "6dde65a3",
   "metadata": {},
   "source": [
    "## 1.6 delinquency_2years—binning"
   ]
  },
  {
   "cell_type": "code",
   "execution_count": 118,
   "id": "2f122ae5",
   "metadata": {
    "scrolled": true
   },
   "outputs": [
    {
     "data": {
      "text/plain": [
       "0.0     645715\n",
       "1.0     102586\n",
       "2.0      29944\n",
       "3.0      10919\n",
       "4.0       4808\n",
       "5.0       2504\n",
       "6.0       1399\n",
       "7.0        770\n",
       "8.0        443\n",
       "9.0        293\n",
       "10.0       192\n",
       "11.0       144\n",
       "12.0        86\n",
       "14.0        53\n",
       "13.0        50\n",
       "15.0        23\n",
       "16.0        20\n",
       "18.0        13\n",
       "19.0        10\n",
       "20.0         7\n",
       "17.0         6\n",
       "22.0         3\n",
       "21.0         3\n",
       "29.0         2\n",
       "26.0         2\n",
       "25.0         1\n",
       "27.0         1\n",
       "39.0         1\n",
       "30.0         1\n",
       "24.0         1\n",
       "Name: delinquency_2years, dtype: int64"
      ]
     },
     "execution_count": 118,
     "metadata": {},
     "output_type": "execute_result"
    }
   ],
   "source": [
    "train_df['delinquency_2years'].value_counts()"
   ]
  },
  {
   "cell_type": "code",
   "execution_count": 119,
   "id": "8baafe63",
   "metadata": {},
   "outputs": [
    {
     "name": "stdout",
     "output_type": "stream",
     "text": [
      "max:39.0, min:0.0\n"
     ]
    },
    {
     "data": {
      "image/png": "[encoded data removed]",
      "text/plain": [
       "<Figure size 1080x432 with 1 Axes>"
      ]
     },
     "metadata": {
      "needs_background": "light"
     },
     "output_type": "display_data"
    }
   ],
   "source": [
    "PlotNumFeautre('delinquency_2years')"
   ]
  },
  {
   "cell_type": "code",
   "execution_count": 120,
   "id": "5e042bae",
   "metadata": {},
   "outputs": [],
   "source": [
    "def delinquency_2yearsTransform(value):\n",
    "    if value > 6:\n",
    "        return 7\n",
    "    else:\n",
    "        return value\n",
    "train_df['delinquency_2years'] = train_df['delinquency_2years'].apply(\n",
    "    delinquency_2yearsTransform)\n",
    "test_df['delinquency_2years'] = test_df['delinquency_2years'].apply(\n",
    "    delinquency_2yearsTransform)"
   ]
  },
  {
   "cell_type": "markdown",
   "id": "274c98c7",
   "metadata": {},
   "source": [
    "## 1.7 ficoRangeLow——binning"
   ]
  },
  {
   "cell_type": "code",
   "execution_count": 121,
   "id": "2bab92cb",
   "metadata": {
    "scrolled": false
   },
   "outputs": [
    {
     "data": {
      "text/plain": [
       "660.0    71974\n",
       "670.0    69815\n",
       "665.0    69619\n",
       "675.0    61993\n",
       "680.0    61294\n",
       "685.0    53668\n",
       "690.0    52046\n",
       "695.0    47065\n",
       "700.0    43292\n",
       "705.0    39030\n",
       "710.0    34296\n",
       "715.0    30154\n",
       "720.0    26036\n",
       "725.0    20766\n",
       "730.0    18186\n",
       "735.0    14377\n",
       "740.0    12585\n",
       "745.0    10336\n",
       "750.0     9419\n",
       "755.0     8191\n",
       "760.0     6716\n",
       "765.0     6163\n",
       "770.0     5311\n",
       "775.0     4882\n",
       "780.0     4286\n",
       "785.0     3476\n",
       "790.0     3284\n",
       "795.0     2637\n",
       "800.0     2261\n",
       "805.0     1942\n",
       "810.0     1408\n",
       "815.0     1111\n",
       "820.0      827\n",
       "825.0      636\n",
       "830.0      412\n",
       "835.0      249\n",
       "840.0      140\n",
       "845.0      116\n",
       "630.0        1\n",
       "Name: ficoRangeLow, dtype: int64"
      ]
     },
     "execution_count": 121,
     "metadata": {},
     "output_type": "execute_result"
    }
   ],
   "source": [
    "train_df['ficoRangeLow'].value_counts()"
   ]
  },
  {
   "cell_type": "code",
   "execution_count": 122,
   "id": "c24e8dea",
   "metadata": {},
   "outputs": [
    {
     "name": "stdout",
     "output_type": "stream",
     "text": [
      "max:845.0, min:630.0\n"
     ]
    },
    {
     "data": {
      "image/png": "[encoded data removed]",
      "text/plain": [
       "<Figure size 1080x432 with 1 Axes>"
      ]
     },
     "metadata": {
      "needs_background": "light"
     },
     "output_type": "display_data"
    }
   ],
   "source": [
    "PlotNumFeautre('ficoRangeLow')"
   ]
  },
  {
   "cell_type": "code",
   "execution_count": 123,
   "id": "f1277793",
   "metadata": {},
   "outputs": [],
   "source": [
    "train_df['ficoRangeLow'] = train_df['ficoRangeLow'].apply(lambda x: 660 if x < 660 else x)\n",
    "test_df['ficoRangeLow'] = test_df['ficoRangeLow'].apply(lambda x: 660 if x < 660 else x)"
   ]
  },
  {
   "cell_type": "markdown",
   "id": "6663b569",
   "metadata": {},
   "source": [
    "## 1.8 ficoRangeHigh —binning"
   ]
  },
  {
   "cell_type": "code",
   "execution_count": 124,
   "id": "9f35ff41",
   "metadata": {},
   "outputs": [
    {
     "data": {
      "text/plain": [
       "664.0    71974\n",
       "674.0    69815\n",
       "669.0    69619\n",
       "679.0    61993\n",
       "684.0    61294\n",
       "689.0    53668\n",
       "694.0    52046\n",
       "699.0    47065\n",
       "704.0    43292\n",
       "709.0    39030\n",
       "714.0    34296\n",
       "719.0    30154\n",
       "724.0    26036\n",
       "729.0    20766\n",
       "734.0    18186\n",
       "739.0    14377\n",
       "744.0    12585\n",
       "749.0    10336\n",
       "754.0     9419\n",
       "759.0     8191\n",
       "764.0     6716\n",
       "769.0     6163\n",
       "774.0     5311\n",
       "779.0     4882\n",
       "784.0     4286\n",
       "789.0     3476\n",
       "794.0     3284\n",
       "799.0     2637\n",
       "804.0     2261\n",
       "809.0     1942\n",
       "814.0     1408\n",
       "819.0     1111\n",
       "824.0      827\n",
       "829.0      636\n",
       "834.0      412\n",
       "839.0      249\n",
       "844.0      140\n",
       "850.0      116\n",
       "634.0        1\n",
       "Name: ficoRangeHigh, dtype: int64"
      ]
     },
     "execution_count": 124,
     "metadata": {},
     "output_type": "execute_result"
    }
   ],
   "source": [
    "train_df['ficoRangeHigh'].value_counts()"
   ]
  },
  {
   "cell_type": "code",
   "execution_count": 125,
   "id": "0d9f1fe0",
   "metadata": {},
   "outputs": [
    {
     "name": "stdout",
     "output_type": "stream",
     "text": [
      "max:850.0, min:634.0\n"
     ]
    },
    {
     "data": {
      "image/png": "[encoded data removed]",
      "text/plain": [
       "<Figure size 1080x432 with 1 Axes>"
      ]
     },
     "metadata": {
      "needs_background": "light"
     },
     "output_type": "display_data"
    }
   ],
   "source": [
    "PlotNumFeautre('ficoRangeHigh')"
   ]
  },
  {
   "cell_type": "code",
   "execution_count": 126,
   "id": "3214434f",
   "metadata": {},
   "outputs": [],
   "source": [
    "train_df['ficoRangeHigh'] = train_df['ficoRangeHigh'].apply(lambda x: 664 if x < 664 else x)\n",
    "test_df['ficoRangeHigh'] = test_df['ficoRangeHigh'].apply(lambda x: 664 if x < 664 else x)"
   ]
  },
  {
   "cell_type": "markdown",
   "id": "f5b86bd0",
   "metadata": {},
   "source": [
    "## 1.9 openAcc——binning"
   ]
  },
  {
   "cell_type": "code",
   "execution_count": 127,
   "id": "33aa926e",
   "metadata": {},
   "outputs": [
    {
     "data": {
      "text/plain": [
       "9.0     70865\n",
       "10.0    69171\n",
       "8.0     68201\n",
       "11.0    64069\n",
       "7.0     61355\n",
       "        ...  \n",
       "82.0        1\n",
       "81.0        1\n",
       "86.0        1\n",
       "74.0        1\n",
       "67.0        1\n",
       "Name: openAcc, Length: 75, dtype: int64"
      ]
     },
     "execution_count": 127,
     "metadata": {},
     "output_type": "execute_result"
    }
   ],
   "source": [
    "train_df['openAcc'].value_counts()"
   ]
  },
  {
   "cell_type": "code",
   "execution_count": 128,
   "id": "0d019f11",
   "metadata": {},
   "outputs": [
    {
     "name": "stdout",
     "output_type": "stream",
     "text": [
      "max:86.0, min:0.0\n"
     ]
    },
    {
     "data": {
      "image/png": "[encoded data removed]",
      "text/plain": [
       "<Figure size 1080x432 with 1 Axes>"
      ]
     },
     "metadata": {
      "needs_background": "light"
     },
     "output_type": "display_data"
    }
   ],
   "source": [
    "PlotNumFeautre('openAcc')"
   ]
  },
  {
   "cell_type": "markdown",
   "id": "ccdea449",
   "metadata": {},
   "source": [
    "## 1.10 pubRec—binning"
   ]
  },
  {
   "cell_type": "code",
   "execution_count": 129,
   "id": "121d1a26",
   "metadata": {
    "scrolled": true
   },
   "outputs": [
    {
     "data": {
      "text/plain": [
       "0.0     664765\n",
       "1.0     113186\n",
       "2.0      14520\n",
       "3.0       4432\n",
       "4.0       1535\n",
       "5.0        757\n",
       "6.0        367\n",
       "7.0        165\n",
       "8.0        105\n",
       "9.0         51\n",
       "10.0        37\n",
       "11.0        23\n",
       "12.0        14\n",
       "15.0         7\n",
       "13.0         6\n",
       "16.0         4\n",
       "18.0         4\n",
       "22.0         2\n",
       "24.0         2\n",
       "19.0         2\n",
       "21.0         2\n",
       "20.0         2\n",
       "14.0         2\n",
       "49.0         2\n",
       "63.0         1\n",
       "46.0         1\n",
       "28.0         1\n",
       "86.0         1\n",
       "54.0         1\n",
       "40.0         1\n",
       "47.0         1\n",
       "17.0         1\n",
       "Name: pubRec, dtype: int64"
      ]
     },
     "execution_count": 129,
     "metadata": {},
     "output_type": "execute_result"
    }
   ],
   "source": [
    "train_df['pubRec'].value_counts()"
   ]
  },
  {
   "cell_type": "code",
   "execution_count": 130,
   "id": "5745704c",
   "metadata": {},
   "outputs": [
    {
     "name": "stdout",
     "output_type": "stream",
     "text": [
      "max:86.0, min:0.0\n"
     ]
    },
    {
     "data": {
      "image/png": "[encoded data removed]",
      "text/plain": [
       "<Figure size 1080x432 with 1 Axes>"
      ]
     },
     "metadata": {
      "needs_background": "light"
     },
     "output_type": "display_data"
    }
   ],
   "source": [
    "PlotNumFeautre('pubRec')"
   ]
  },
  {
   "cell_type": "code",
   "execution_count": 131,
   "id": "48497ce3",
   "metadata": {},
   "outputs": [],
   "source": [
    "train_df['pubRec'] = train_df['pubRec'].apply(lambda x: x if x <= 1 else 2)\n",
    "test_df['pubRec'] = test_df['pubRec'].apply(lambda x: x if x <= 1 else 2)"
   ]
  },
  {
   "cell_type": "markdown",
   "id": "3f9eabf9",
   "metadata": {},
   "source": [
    "## 1.11 pubRecBankruptcies——binning"
   ]
  },
  {
   "cell_type": "code",
   "execution_count": 132,
   "id": "a5b23658",
   "metadata": {},
   "outputs": [
    {
     "data": {
      "text/plain": [
       "0.000000     700076\n",
       "1.000000      93639\n",
       "2.000000       4566\n",
       "3.000000        945\n",
       "0.134163        405\n",
       "4.000000        248\n",
       "5.000000         80\n",
       "6.000000         23\n",
       "7.000000         11\n",
       "9.000000          3\n",
       "8.000000          3\n",
       "12.000000         1\n",
       "Name: pubRecBankruptcies, dtype: int64"
      ]
     },
     "execution_count": 132,
     "metadata": {},
     "output_type": "execute_result"
    }
   ],
   "source": [
    "train_df['pubRecBankruptcies'].value_counts()"
   ]
  },
  {
   "cell_type": "code",
   "execution_count": 133,
   "id": "74b4663f",
   "metadata": {},
   "outputs": [],
   "source": [
    "train_df['pubRecBankruptcies'] = train_df['pubRecBankruptcies'].apply(lambda x: x if x <= 2 else 3)\n",
    "test_df['pubRecBankruptcies'] = test_df['pubRecBankruptcies'].apply(lambda x: x if x <= 2 else 3)"
   ]
  },
  {
   "cell_type": "markdown",
   "id": "85997dbb",
   "metadata": {},
   "source": [
    "## 1.12 revolBal —binning"
   ]
  },
  {
   "cell_type": "code",
   "execution_count": 134,
   "id": "d98cb61b",
   "metadata": {},
   "outputs": [
    {
     "data": {
      "text/plain": [
       "0.00      4170\n",
       "55.00     1589\n",
       "61.00     1579\n",
       "57.00     1575\n",
       "53.00     1575\n",
       "          ... \n",
       "120.90       1\n",
       "107.90       1\n",
       "49.69        1\n",
       "0.75         1\n",
       "136.40       1\n",
       "Name: revolUtil, Length: 1287, dtype: int64"
      ]
     },
     "execution_count": 134,
     "metadata": {},
     "output_type": "execute_result"
    }
   ],
   "source": [
    "train_df['revolUtil'].value_counts()"
   ]
  },
  {
   "cell_type": "code",
   "execution_count": 135,
   "id": "d8210e11",
   "metadata": {},
   "outputs": [
    {
     "data": {
      "image/png": "[encoded data removed]",
      "text/plain": [
       "<Figure size 1080x576 with 1 Axes>"
      ]
     },
     "metadata": {
      "needs_background": "light"
     },
     "output_type": "display_data"
    }
   ],
   "source": [
    "fig, ax = plt.subplots(figsize = (15, 8))\n",
    "sns.histplot(data = train_df, x = 'revolUtil',hue = 'isDefault', ax = ax)\n",
    "ax.set_xscale('log')"
   ]
  },
  {
   "cell_type": "code",
   "execution_count": 136,
   "id": "f9eb626d",
   "metadata": {},
   "outputs": [],
   "source": [
    "def revolUtilTransform(value):\n",
    "    if value <= 10:\n",
    "        return 0\n",
    "    elif value <= 100:\n",
    "        return 1\n",
    "    else:\n",
    "        return 2\n",
    "train_df['revolUtil'] = train_df['revolUtil'].apply(revolUtilTransform)\n",
    "test_df['revolUtil'] = test_df['revolUtil'].apply(revolUtilTransform)"
   ]
  },
  {
   "cell_type": "markdown",
   "id": "f26ab268",
   "metadata": {},
   "source": [
    "## 1.13 totalAcc—binning"
   ]
  },
  {
   "cell_type": "code",
   "execution_count": 137,
   "id": "d4cef843",
   "metadata": {},
   "outputs": [
    {
     "data": {
      "text/plain": [
       "20.0     28956\n",
       "21.0     28820\n",
       "19.0     28697\n",
       "22.0     28671\n",
       "18.0     28188\n",
       "         ...  \n",
       "151.0        1\n",
       "146.0        1\n",
       "103.0        1\n",
       "141.0        1\n",
       "129.0        1\n",
       "Name: totalAcc, Length: 134, dtype: int64"
      ]
     },
     "execution_count": 137,
     "metadata": {},
     "output_type": "execute_result"
    }
   ],
   "source": [
    "train_df['totalAcc'].value_counts()"
   ]
  },
  {
   "cell_type": "code",
   "execution_count": 138,
   "id": "d4628ab4",
   "metadata": {},
   "outputs": [
    {
     "name": "stdout",
     "output_type": "stream",
     "text": [
      "max:162.0, min:2.0\n"
     ]
    },
    {
     "data": {
      "image/png": "[encoded data removed]",
      "text/plain": [
       "<Figure size 1080x432 with 1 Axes>"
      ]
     },
     "metadata": {
      "needs_background": "light"
     },
     "output_type": "display_data"
    }
   ],
   "source": [
    "PlotNumFeautre('totalAcc')"
   ]
  },
  {
   "cell_type": "code",
   "execution_count": 139,
   "id": "b4c598dc",
   "metadata": {},
   "outputs": [],
   "source": [
    "train_df['revolUtil'] = train_df['revolUtil'].apply(revolUtilTransform)\n",
    "test_df['revolUtil'] = test_df['revolUtil'].apply(revolUtilTransform)"
   ]
  },
  {
   "cell_type": "markdown",
   "id": "6ca138f7",
   "metadata": {},
   "source": [
    "## 1.14 n0——binning"
   ]
  },
  {
   "cell_type": "code",
   "execution_count": 140,
   "id": "aa8c50e8",
   "metadata": {
    "scrolled": true
   },
   "outputs": [
    {
     "data": {
      "text/plain": [
       "0.000000     579427\n",
       "1.000000      96105\n",
       "0.511932      40270\n",
       "2.000000      38793\n",
       "3.000000      17657\n",
       "4.000000      10521\n",
       "5.000000       6132\n",
       "6.000000       3893\n",
       "7.000000       2472\n",
       "8.000000       1567\n",
       "9.000000       1002\n",
       "10.000000       676\n",
       "11.000000       423\n",
       "12.000000       331\n",
       "13.000000       185\n",
       "14.000000       166\n",
       "15.000000        84\n",
       "16.000000        76\n",
       "17.000000        45\n",
       "18.000000        34\n",
       "19.000000        23\n",
       "20.000000        18\n",
       "23.000000        15\n",
       "22.000000        15\n",
       "21.000000        13\n",
       "24.000000        12\n",
       "26.000000        10\n",
       "25.000000         9\n",
       "29.000000         5\n",
       "31.000000         4\n",
       "27.000000         3\n",
       "28.000000         3\n",
       "34.000000         2\n",
       "33.000000         2\n",
       "30.000000         2\n",
       "51.000000         1\n",
       "35.000000         1\n",
       "38.000000         1\n",
       "39.000000         1\n",
       "32.000000         1\n",
       "Name: n0, dtype: int64"
      ]
     },
     "execution_count": 140,
     "metadata": {},
     "output_type": "execute_result"
    }
   ],
   "source": [
    "train_df['n0'].value_counts()"
   ]
  },
  {
   "cell_type": "code",
   "execution_count": 141,
   "id": "40c39d4d",
   "metadata": {},
   "outputs": [],
   "source": [
    "train_df['n0'] = train_df['n0'].apply(lambda x: x if x < 10 else 11)\n",
    "test_df['n0'] = test_df['n0'].apply(lambda x: x if x < 10 else 11)"
   ]
  },
  {
   "cell_type": "markdown",
   "id": "6aebaca1",
   "metadata": {},
   "source": [
    "## 1.15 n1——binning"
   ]
  },
  {
   "cell_type": "code",
   "execution_count": 142,
   "id": "dbd5508e",
   "metadata": {
    "scrolled": true
   },
   "outputs": [
    {
     "data": {
      "text/plain": [
       "3.00000     163008\n",
       "2.00000     154693\n",
       "4.00000     126573\n",
       "1.00000      87122\n",
       "5.00000      84396\n",
       "6.00000      52103\n",
       "3.64233      40270\n",
       "7.00000      30905\n",
       "8.00000      18148\n",
       "0.00000      16266\n",
       "9.00000      10688\n",
       "10.00000      6328\n",
       "11.00000      3766\n",
       "12.00000      2265\n",
       "13.00000      1366\n",
       "14.00000       732\n",
       "15.00000       494\n",
       "16.00000       295\n",
       "17.00000       222\n",
       "18.00000       128\n",
       "19.00000        83\n",
       "20.00000        36\n",
       "21.00000        30\n",
       "22.00000        25\n",
       "23.00000        17\n",
       "24.00000        12\n",
       "26.00000         9\n",
       "25.00000         6\n",
       "30.00000         5\n",
       "27.00000         3\n",
       "28.00000         2\n",
       "33.00000         2\n",
       "32.00000         1\n",
       "29.00000         1\n",
       "Name: n1, dtype: int64"
      ]
     },
     "execution_count": 142,
     "metadata": {},
     "output_type": "execute_result"
    }
   ],
   "source": [
    "train_df['n1'].value_counts()"
   ]
  },
  {
   "cell_type": "code",
   "execution_count": 143,
   "id": "f32a2f06",
   "metadata": {},
   "outputs": [],
   "source": [
    "train_df['n1'] = train_df['n1'].apply(lambda x : x if x < 14 else 14)\n",
    "test_df['n1'] = test_df['n1'].apply(lambda x : x if x < 14 else 14)"
   ]
  },
  {
   "cell_type": "markdown",
   "id": "99f649cc",
   "metadata": {},
   "source": [
    "## 1.16 n2——binning"
   ]
  },
  {
   "cell_type": "code",
   "execution_count": 144,
   "id": "5339f51d",
   "metadata": {
    "scrolled": false
   },
   "outputs": [
    {
     "data": {
      "text/plain": [
       "4.000000     117211\n",
       "5.000000     108116\n",
       "3.000000     106623\n",
       "6.000000      88160\n",
       "2.000000      70566\n",
       "7.000000      68102\n",
       "8.000000      50430\n",
       "5.642648      40270\n",
       "9.000000      35775\n",
       "1.000000      26544\n",
       "10.000000     25155\n",
       "11.000000     17424\n",
       "12.000000     12317\n",
       "13.000000      8579\n",
       "14.000000      6132\n",
       "15.000000      4392\n",
       "0.000000       3271\n",
       "16.000000      3058\n",
       "17.000000      2237\n",
       "18.000000      1479\n",
       "19.000000      1179\n",
       "20.000000       814\n",
       "21.000000       545\n",
       "22.000000       414\n",
       "23.000000       303\n",
       "24.000000       216\n",
       "25.000000       168\n",
       "26.000000       129\n",
       "27.000000        90\n",
       "28.000000        64\n",
       "29.000000        54\n",
       "30.000000        39\n",
       "31.000000        27\n",
       "32.000000        24\n",
       "34.000000        17\n",
       "33.000000        16\n",
       "36.000000        13\n",
       "35.000000        10\n",
       "38.000000         7\n",
       "37.000000         6\n",
       "39.000000         5\n",
       "42.000000         4\n",
       "43.000000         4\n",
       "41.000000         2\n",
       "40.000000         2\n",
       "44.000000         2\n",
       "63.000000         1\n",
       "52.000000         1\n",
       "46.000000         1\n",
       "57.000000         1\n",
       "60.000000         1\n",
       "Name: n2, dtype: int64"
      ]
     },
     "execution_count": 144,
     "metadata": {},
     "output_type": "execute_result"
    }
   ],
   "source": [
    "train_df['n2'].value_counts()"
   ]
  },
  {
   "cell_type": "code",
   "execution_count": 145,
   "id": "a18cc2df",
   "metadata": {},
   "outputs": [],
   "source": [
    "def n2Transform(value):\n",
    "    if value < 20 :\n",
    "        return value\n",
    "    else:\n",
    "        return 20\n",
    "train_df['n2'] = train_df['n2'].apply(n2Transform)\n",
    "test_df['n2'] = test_df['n2'].apply(n2Transform)"
   ]
  },
  {
   "cell_type": "markdown",
   "id": "c2a1a26a",
   "metadata": {},
   "source": [
    "## 1.17 n3——binning"
   ]
  },
  {
   "cell_type": "code",
   "execution_count": 146,
   "id": "0860e8c2",
   "metadata": {
    "scrolled": true
   },
   "outputs": [
    {
     "data": {
      "text/plain": [
       "4.000000     117211\n",
       "5.000000     108116\n",
       "3.000000     106623\n",
       "6.000000      88160\n",
       "2.000000      70566\n",
       "7.000000      68102\n",
       "8.000000      50430\n",
       "5.642648      40270\n",
       "9.000000      35775\n",
       "1.000000      26544\n",
       "10.000000     25155\n",
       "11.000000     17424\n",
       "12.000000     12317\n",
       "13.000000      8579\n",
       "14.000000      6132\n",
       "15.000000      4392\n",
       "0.000000       3271\n",
       "16.000000      3058\n",
       "17.000000      2237\n",
       "18.000000      1479\n",
       "19.000000      1179\n",
       "20.000000       814\n",
       "21.000000       545\n",
       "22.000000       414\n",
       "23.000000       303\n",
       "24.000000       216\n",
       "25.000000       168\n",
       "26.000000       129\n",
       "27.000000        90\n",
       "28.000000        64\n",
       "29.000000        54\n",
       "30.000000        39\n",
       "31.000000        27\n",
       "32.000000        24\n",
       "34.000000        17\n",
       "33.000000        16\n",
       "36.000000        13\n",
       "35.000000        10\n",
       "38.000000         7\n",
       "37.000000         6\n",
       "39.000000         5\n",
       "42.000000         4\n",
       "43.000000         4\n",
       "41.000000         2\n",
       "40.000000         2\n",
       "44.000000         2\n",
       "63.000000         1\n",
       "52.000000         1\n",
       "46.000000         1\n",
       "57.000000         1\n",
       "60.000000         1\n",
       "Name: n3, dtype: int64"
      ]
     },
     "execution_count": 146,
     "metadata": {},
     "output_type": "execute_result"
    }
   ],
   "source": [
    "train_df['n3'].value_counts()"
   ]
  },
  {
   "cell_type": "code",
   "execution_count": 147,
   "id": "403e7405",
   "metadata": {},
   "outputs": [],
   "source": [
    "def n3Transform(value):\n",
    "    if value < 20 :\n",
    "        return value\n",
    "    else:\n",
    "        return 20\n",
    "train_df['n3'] = train_df['n3'].apply(n3Transform)\n",
    "test_df['n3'] = test_df['n3'].apply(n3Transform)"
   ]
  },
  {
   "cell_type": "markdown",
   "id": "1413b065",
   "metadata": {},
   "source": [
    "## 1.18 n4——binning"
   ]
  },
  {
   "cell_type": "code",
   "execution_count": 148,
   "id": "cc1fbf1c",
   "metadata": {
    "scrolled": true
   },
   "outputs": [
    {
     "data": {
      "text/plain": [
       "3.000000     134529\n",
       "4.000000     128078\n",
       "2.000000     105568\n",
       "5.000000     103239\n",
       "6.000000      75699\n",
       "7.000000      52687\n",
       "1.000000      49656\n",
       "8.000000      35717\n",
       "4.735641      33239\n",
       "9.000000      23893\n",
       "10.000000     15962\n",
       "11.000000     10682\n",
       "0.000000       7785\n",
       "12.000000      7122\n",
       "13.000000      4804\n",
       "14.000000      3253\n",
       "15.000000      2374\n",
       "16.000000      1527\n",
       "17.000000      1114\n",
       "18.000000       839\n",
       "19.000000       553\n",
       "20.000000       407\n",
       "21.000000       286\n",
       "22.000000       238\n",
       "23.000000       157\n",
       "24.000000       145\n",
       "25.000000       114\n",
       "26.000000        65\n",
       "27.000000        59\n",
       "28.000000        40\n",
       "29.000000        33\n",
       "30.000000        29\n",
       "31.000000        22\n",
       "32.000000        17\n",
       "33.000000        14\n",
       "35.000000        11\n",
       "36.000000        10\n",
       "37.000000         6\n",
       "40.000000         5\n",
       "38.000000         5\n",
       "34.000000         5\n",
       "39.000000         4\n",
       "41.000000         2\n",
       "46.000000         2\n",
       "42.000000         2\n",
       "49.000000         1\n",
       "43.000000         1\n",
       "Name: n4, dtype: int64"
      ]
     },
     "execution_count": 148,
     "metadata": {},
     "output_type": "execute_result"
    }
   ],
   "source": [
    "train_df['n4'].value_counts()"
   ]
  },
  {
   "cell_type": "code",
   "execution_count": 149,
   "id": "75e6fb04",
   "metadata": {},
   "outputs": [],
   "source": [
    "train_df['n4'] = train_df['n4'].apply(lambda x: x if x < 18 else 18)\n",
    "test_df['n4'] = test_df['n4'].apply(lambda x: x if x < 18 else 18)"
   ]
  },
  {
   "cell_type": "markdown",
   "id": "53945526",
   "metadata": {},
   "source": [
    "## 1.19 n5"
   ]
  },
  {
   "cell_type": "code",
   "execution_count": 150,
   "id": "4ceacf77",
   "metadata": {},
   "outputs": [
    {
     "data": {
      "text/plain": [
       "5.0     76576\n",
       "6.0     75679\n",
       "4.0     71175\n",
       "7.0     71021\n",
       "8.0     64347\n",
       "        ...  \n",
       "57.0        1\n",
       "64.0        1\n",
       "66.0        1\n",
       "63.0        1\n",
       "68.0        1\n",
       "Name: n5, Length: 66, dtype: int64"
      ]
     },
     "execution_count": 150,
     "metadata": {},
     "output_type": "execute_result"
    }
   ],
   "source": [
    "train_df['n5'].value_counts()"
   ]
  },
  {
   "cell_type": "code",
   "execution_count": 151,
   "id": "7dc3e4ee",
   "metadata": {},
   "outputs": [
    {
     "name": "stdout",
     "output_type": "stream",
     "text": [
      "max:70.0, min:0.0\n"
     ]
    },
    {
     "data": {
      "image/png": "[encoded data removed]",
      "text/plain": [
       "<Figure size 1080x432 with 1 Axes>"
      ]
     },
     "metadata": {
      "needs_background": "light"
     },
     "output_type": "display_data"
    }
   ],
   "source": [
    "PlotNumFeautre('n5')"
   ]
  },
  {
   "cell_type": "code",
   "execution_count": 152,
   "id": "4367c4fc",
   "metadata": {},
   "outputs": [],
   "source": [
    "train_df['n5'] = train_df['n5'].apply(lambda x: x if x <30 else 30)\n",
    "test_df['n5'] = test_df['n5'].apply(lambda x: x if x <30 else 30)"
   ]
  },
  {
   "cell_type": "markdown",
   "id": "319070b3",
   "metadata": {},
   "source": [
    "## 1.20 n6"
   ]
  },
  {
   "cell_type": "code",
   "execution_count": 153,
   "id": "ee327ed2",
   "metadata": {},
   "outputs": [
    {
     "data": {
      "text/plain": [
       "4.0      64692\n",
       "3.0      64139\n",
       "5.0      61863\n",
       "2.0      58022\n",
       "6.0      57240\n",
       "         ...  \n",
       "94.0         1\n",
       "100.0        1\n",
       "98.0         1\n",
       "113.0        1\n",
       "104.0        1\n",
       "Name: n6, Length: 108, dtype: int64"
      ]
     },
     "execution_count": 153,
     "metadata": {},
     "output_type": "execute_result"
    }
   ],
   "source": [
    "train_df['n6'].value_counts()"
   ]
  },
  {
   "cell_type": "code",
   "execution_count": 154,
   "id": "ec741405",
   "metadata": {},
   "outputs": [
    {
     "name": "stdout",
     "output_type": "stream",
     "text": [
      "max:132.0, min:0.0\n"
     ]
    },
    {
     "data": {
      "image/png": "[encoded data removed]",
      "text/plain": [
       "<Figure size 1080x432 with 1 Axes>"
      ]
     },
     "metadata": {
      "needs_background": "light"
     },
     "output_type": "display_data"
    }
   ],
   "source": [
    "PlotNumFeautre('n6')"
   ]
  },
  {
   "cell_type": "code",
   "execution_count": 155,
   "id": "4a7d2fab",
   "metadata": {},
   "outputs": [],
   "source": [
    "train_df['n6'] = train_df['n6'].apply(lambda x: x  if x < 40 else 40)\n",
    "test_df['n6'] = test_df['n6'].apply(lambda x: x  if x < 40 else 40)"
   ]
  },
  {
   "cell_type": "markdown",
   "id": "9bf42bc4",
   "metadata": {},
   "source": [
    "## 1.21 n7"
   ]
  },
  {
   "cell_type": "code",
   "execution_count": 156,
   "id": "0776c529",
   "metadata": {},
   "outputs": [
    {
     "data": {
      "text/plain": [
       "6.0     83331\n",
       "5.0     80569\n",
       "7.0     79026\n",
       "8.0     71219\n",
       "4.0     68256\n",
       "        ...  \n",
       "73.0        1\n",
       "59.0        1\n",
       "63.0        1\n",
       "77.0        1\n",
       "53.0        1\n",
       "Name: n7, Length: 71, dtype: int64"
      ]
     },
     "execution_count": 156,
     "metadata": {},
     "output_type": "execute_result"
    }
   ],
   "source": [
    "train_df['n7'].value_counts()"
   ]
  },
  {
   "cell_type": "code",
   "execution_count": 157,
   "id": "e4090f34",
   "metadata": {},
   "outputs": [
    {
     "name": "stdout",
     "output_type": "stream",
     "text": [
      "max:79.0, min:0.0\n"
     ]
    },
    {
     "data": {
      "image/png": "[encoded data removed]",
      "text/plain": [
       "<Figure size 1080x432 with 1 Axes>"
      ]
     },
     "metadata": {
      "needs_background": "light"
     },
     "output_type": "display_data"
    }
   ],
   "source": [
    "PlotNumFeautre('n7')"
   ]
  },
  {
   "cell_type": "code",
   "execution_count": 158,
   "id": "4c44ad86",
   "metadata": {},
   "outputs": [],
   "source": [
    "train_df['n7'] = train_df['n7'].apply(lambda x: x if x < 30 else 30)\n",
    "test_df['n7'] = test_df['n7'].apply(lambda x: x if x < 30 else 30)"
   ]
  },
  {
   "cell_type": "markdown",
   "id": "c19b21ef",
   "metadata": {},
   "source": [
    "## 1.22 n8"
   ]
  },
  {
   "cell_type": "code",
   "execution_count": 159,
   "id": "43f1af89",
   "metadata": {},
   "outputs": [
    {
     "data": {
      "text/plain": [
       "11.0     44808\n",
       "10.0     44653\n",
       "9.0      43882\n",
       "12.0     43358\n",
       "8.0      42024\n",
       "         ...  \n",
       "128.0        1\n",
       "107.0        1\n",
       "87.0         1\n",
       "127.0        1\n",
       "83.0         1\n",
       "Name: n8, Length: 103, dtype: int64"
      ]
     },
     "execution_count": 159,
     "metadata": {},
     "output_type": "execute_result"
    }
   ],
   "source": [
    "train_df['n8'].value_counts()"
   ]
  },
  {
   "cell_type": "code",
   "execution_count": 160,
   "id": "166423cf",
   "metadata": {},
   "outputs": [
    {
     "name": "stdout",
     "output_type": "stream",
     "text": [
      "max:128.0, min:1.0\n"
     ]
    },
    {
     "data": {
      "image/png": "[encoded data removed]",
      "text/plain": [
       "<Figure size 1080x432 with 1 Axes>"
      ]
     },
     "metadata": {
      "needs_background": "light"
     },
     "output_type": "display_data"
    }
   ],
   "source": [
    "PlotNumFeautre('n8')"
   ]
  },
  {
   "cell_type": "code",
   "execution_count": 161,
   "id": "466fede0",
   "metadata": {},
   "outputs": [],
   "source": [
    "train_df['n8'] = train_df['n8'].apply(lambda x: x if x < 50 else 50)\n",
    "test_df['n8'] = test_df['n8'].apply(lambda x: x if x < 50 else 50)"
   ]
  },
  {
   "cell_type": "markdown",
   "id": "e1fd81ed",
   "metadata": {},
   "source": [
    "## 1.23 n9"
   ]
  },
  {
   "cell_type": "code",
   "execution_count": 162,
   "id": "5d57e0fa",
   "metadata": {},
   "outputs": [
    {
     "data": {
      "text/plain": [
       "4.000000     118134\n",
       "5.000000     108976\n",
       "3.000000     107222\n",
       "6.000000      88847\n",
       "2.000000      70902\n",
       "7.000000      68413\n",
       "8.000000      50342\n",
       "5.592345      40270\n",
       "9.000000      35601\n",
       "1.000000      26464\n",
       "10.000000     24868\n",
       "11.000000     17092\n",
       "12.000000     11982\n",
       "13.000000      8207\n",
       "14.000000      5836\n",
       "15.000000      4066\n",
       "0.000000       3228\n",
       "16.000000      2839\n",
       "17.000000      2010\n",
       "18.000000      1286\n",
       "19.000000      1045\n",
       "20.000000       697\n",
       "21.000000       461\n",
       "22.000000       316\n",
       "23.000000       240\n",
       "24.000000       167\n",
       "25.000000       132\n",
       "26.000000        96\n",
       "27.000000        64\n",
       "28.000000        51\n",
       "29.000000        42\n",
       "30.000000        24\n",
       "31.000000        15\n",
       "32.000000        15\n",
       "34.000000        12\n",
       "33.000000        11\n",
       "36.000000         5\n",
       "35.000000         5\n",
       "39.000000         4\n",
       "43.000000         4\n",
       "37.000000         3\n",
       "38.000000         3\n",
       "45.000000         1\n",
       "44.000000         1\n",
       "42.000000         1\n",
       "Name: n9, dtype: int64"
      ]
     },
     "execution_count": 162,
     "metadata": {},
     "output_type": "execute_result"
    }
   ],
   "source": [
    "train_df['n9'].value_counts()"
   ]
  },
  {
   "cell_type": "code",
   "execution_count": 163,
   "id": "bc047198",
   "metadata": {},
   "outputs": [],
   "source": [
    "train_df['n9'] = train_df['n9'].apply(lambda x: x if x < 26 else 26)\n",
    "test_df['n9'] = test_df['n9'].apply(lambda x: x if x < 26 else 26)"
   ]
  },
  {
   "cell_type": "markdown",
   "id": "4c271144",
   "metadata": {},
   "source": [
    "## 1.24 n10"
   ]
  },
  {
   "cell_type": "code",
   "execution_count": 164,
   "id": "a0177bfb",
   "metadata": {},
   "outputs": [
    {
     "data": {
      "text/plain": [
       "9.0     68023\n",
       "10.0    66407\n",
       "8.0     65287\n",
       "11.0    61601\n",
       "7.0     58455\n",
       "        ...  \n",
       "80.0        1\n",
       "64.0        1\n",
       "75.0        1\n",
       "74.0        1\n",
       "67.0        1\n",
       "Name: n10, Length: 77, dtype: int64"
      ]
     },
     "execution_count": 164,
     "metadata": {},
     "output_type": "execute_result"
    }
   ],
   "source": [
    "train_df['n10'].value_counts()"
   ]
  },
  {
   "cell_type": "code",
   "execution_count": 165,
   "id": "138ab825",
   "metadata": {},
   "outputs": [
    {
     "name": "stdout",
     "output_type": "stream",
     "text": [
      "max:82.0, min:0.0\n"
     ]
    },
    {
     "data": {
      "image/png": "[encoded data removed]",
      "text/plain": [
       "<Figure size 1080x432 with 1 Axes>"
      ]
     },
     "metadata": {
      "needs_background": "light"
     },
     "output_type": "display_data"
    }
   ],
   "source": [
    "PlotNumFeautre('n10')"
   ]
  },
  {
   "cell_type": "code",
   "execution_count": 166,
   "id": "472e723b",
   "metadata": {},
   "outputs": [],
   "source": [
    "train_df['n10'] = train_df['n10'].apply(lambda x: x if x < 35 else 35)\n",
    "test_df['n10'] = test_df['n10'].apply(lambda x: x if x < 35 else 35)"
   ]
  },
  {
   "cell_type": "markdown",
   "id": "7b1ed879",
   "metadata": {},
   "source": [
    "## 1.25 n11"
   ]
  },
  {
   "cell_type": "code",
   "execution_count": 167,
   "id": "7170790e",
   "metadata": {},
   "outputs": [
    {
     "data": {
      "text/plain": [
       "0.000000    729682\n",
       "0.000815     69752\n",
       "1.000000       540\n",
       "2.000000        24\n",
       "4.000000         1\n",
       "3.000000         1\n",
       "Name: n11, dtype: int64"
      ]
     },
     "execution_count": 167,
     "metadata": {},
     "output_type": "execute_result"
    }
   ],
   "source": [
    "train_df['n11'].value_counts()"
   ]
  },
  {
   "cell_type": "code",
   "execution_count": 168,
   "id": "18d9ac71",
   "metadata": {},
   "outputs": [],
   "source": [
    "train_df['n11'] = train_df['n11'].apply(lambda x: x if x < 2 else 2)\n",
    "test_df['n11'] = test_df['n11'].apply(lambda x: x if x < 2 else 2)"
   ]
  },
  {
   "cell_type": "markdown",
   "id": "1f218f3e",
   "metadata": {},
   "source": [
    "## 1.26 n12"
   ]
  },
  {
   "cell_type": "code",
   "execution_count": 169,
   "id": "f919a24b",
   "metadata": {},
   "outputs": [
    {
     "data": {
      "text/plain": [
       "0.000000    757315\n",
       "0.003384     40270\n",
       "1.000000      2281\n",
       "2.000000       115\n",
       "3.000000        16\n",
       "4.000000         3\n",
       "Name: n12, dtype: int64"
      ]
     },
     "execution_count": 169,
     "metadata": {},
     "output_type": "execute_result"
    }
   ],
   "source": [
    "train_df['n12'].value_counts()"
   ]
  },
  {
   "cell_type": "code",
   "execution_count": 170,
   "id": "e6948b6d",
   "metadata": {},
   "outputs": [],
   "source": [
    "train_df['n12'] = train_df['n12'].apply(lambda x: x if x < 2 else 2)\n",
    "test_df['n12'] = test_df['n12'].apply(lambda x: x if x < 2 else 2)"
   ]
  },
  {
   "cell_type": "markdown",
   "id": "14d35bca",
   "metadata": {},
   "source": [
    "## 1.27 n13 "
   ]
  },
  {
   "cell_type": "code",
   "execution_count": 171,
   "id": "dabfe254",
   "metadata": {
    "scrolled": true
   },
   "outputs": [
    {
     "data": {
      "text/plain": [
       "0.000000     716131\n",
       "0.089366      40270\n",
       "1.000000      32506\n",
       "2.000000       6565\n",
       "3.000000       1780\n",
       "4.000000        993\n",
       "5.000000        528\n",
       "6.000000        405\n",
       "7.000000        222\n",
       "8.000000        172\n",
       "9.000000        138\n",
       "10.000000        83\n",
       "11.000000        67\n",
       "12.000000        36\n",
       "14.000000        28\n",
       "13.000000        22\n",
       "15.000000        11\n",
       "16.000000         9\n",
       "18.000000         9\n",
       "20.000000         7\n",
       "19.000000         5\n",
       "26.000000         3\n",
       "22.000000         3\n",
       "17.000000         2\n",
       "21.000000         1\n",
       "39.000000         1\n",
       "29.000000         1\n",
       "30.000000         1\n",
       "24.000000         1\n",
       "Name: n13, dtype: int64"
      ]
     },
     "execution_count": 171,
     "metadata": {},
     "output_type": "execute_result"
    }
   ],
   "source": [
    "train_df['n13'].value_counts()"
   ]
  },
  {
   "cell_type": "code",
   "execution_count": 172,
   "id": "412d0560",
   "metadata": {},
   "outputs": [],
   "source": [
    "train_df['n13'] = train_df['n13'].apply(lambda x: x if x < 10 else 10)\n",
    "test_df['n13'] = test_df['n13'].apply(lambda x: x if x < 10 else 10)"
   ]
  },
  {
   "cell_type": "markdown",
   "id": "688bc736",
   "metadata": {},
   "source": [
    "## 1.28 n14"
   ]
  },
  {
   "cell_type": "code",
   "execution_count": 173,
   "id": "fff2bc73",
   "metadata": {},
   "outputs": [
    {
     "data": {
      "text/plain": [
       "1.000000     187501\n",
       "2.000000     171704\n",
       "0.000000     128053\n",
       "3.000000     124621\n",
       "4.000000      73869\n",
       "2.178606      40270\n",
       "5.000000      36018\n",
       "6.000000      17388\n",
       "7.000000       9460\n",
       "8.000000       4902\n",
       "9.000000       2692\n",
       "10.000000      1423\n",
       "11.000000       835\n",
       "12.000000       489\n",
       "13.000000       278\n",
       "14.000000       194\n",
       "15.000000       101\n",
       "16.000000        74\n",
       "17.000000        43\n",
       "18.000000        17\n",
       "20.000000        17\n",
       "19.000000        16\n",
       "21.000000         8\n",
       "23.000000         7\n",
       "24.000000         5\n",
       "25.000000         4\n",
       "22.000000         4\n",
       "26.000000         3\n",
       "28.000000         1\n",
       "27.000000         1\n",
       "29.000000         1\n",
       "30.000000         1\n",
       "Name: n14, dtype: int64"
      ]
     },
     "execution_count": 173,
     "metadata": {},
     "output_type": "execute_result"
    }
   ],
   "source": [
    "train_df['n14'].value_counts()"
   ]
  },
  {
   "cell_type": "code",
   "execution_count": 174,
   "id": "52e66968",
   "metadata": {},
   "outputs": [],
   "source": [
    "train_df['n14'] = train_df['n14'].apply(lambda x: x if x < 11 else 11)\n",
    "test_df['n14'] = test_df['n14'].apply(lambda x: x if x < 11 else 11)"
   ]
  },
  {
   "cell_type": "code",
   "execution_count": 175,
   "id": "25bbcd3e",
   "metadata": {},
   "outputs": [
    {
     "name": "stdout",
     "output_type": "stream",
     "text": [
      "<class 'pandas.core.frame.DataFrame'>\n",
      "RangeIndex: 800000 entries, 0 to 799999\n",
      "Data columns (total 50 columns):\n",
      " #   Column                   Non-Null Count   Dtype  \n",
      "---  ------                   --------------   -----  \n",
      " 0   id                       800000 non-null  int64  \n",
      " 1   loanAmnt                 800000 non-null  float64\n",
      " 2   term                     800000 non-null  int64  \n",
      " 3   interestRate             800000 non-null  float64\n",
      " 4   installment              800000 non-null  float64\n",
      " 5   grade                    800000 non-null  int64  \n",
      " 6   subGrade                 800000 non-null  int64  \n",
      " 7   employmentTitle          800000 non-null  float64\n",
      " 8   employmentLength         800000 non-null  int64  \n",
      " 9   homeOwnership            800000 non-null  int64  \n",
      " 10  annualIncome             800000 non-null  int64  \n",
      " 11  verificationStatus       800000 non-null  int64  \n",
      " 12  isDefault                800000 non-null  int64  \n",
      " 13  purpose                  800000 non-null  int64  \n",
      " 14  postCode                 800000 non-null  float64\n",
      " 15  regionCode               800000 non-null  int64  \n",
      " 16  dti                      800000 non-null  int64  \n",
      " 17  delinquency_2years       800000 non-null  float64\n",
      " 18  ficoRangeLow             800000 non-null  float64\n",
      " 19  ficoRangeHigh            800000 non-null  float64\n",
      " 20  openAcc                  800000 non-null  float64\n",
      " 21  pubRec                   800000 non-null  float64\n",
      " 22  pubRecBankruptcies       800000 non-null  float64\n",
      " 23  revolBal                 800000 non-null  float64\n",
      " 24  revolUtil                800000 non-null  int64  \n",
      " 25  totalAcc                 800000 non-null  float64\n",
      " 26  initialListStatus        800000 non-null  int64  \n",
      " 27  applicationType          800000 non-null  int64  \n",
      " 28  title                    800000 non-null  float64\n",
      " 29  policyCode               800000 non-null  float64\n",
      " 30  n0                       800000 non-null  float64\n",
      " 31  n1                       800000 non-null  float64\n",
      " 32  n2                       800000 non-null  float64\n",
      " 33  n3                       800000 non-null  float64\n",
      " 34  n4                       800000 non-null  float64\n",
      " 35  n5                       800000 non-null  float64\n",
      " 36  n6                       800000 non-null  float64\n",
      " 37  n7                       800000 non-null  float64\n",
      " 38  n8                       800000 non-null  float64\n",
      " 39  n9                       800000 non-null  float64\n",
      " 40  n10                      800000 non-null  float64\n",
      " 41  n11                      800000 non-null  float64\n",
      " 42  n12                      800000 non-null  float64\n",
      " 43  n13                      800000 non-null  float64\n",
      " 44  n14                      800000 non-null  float64\n",
      " 45  issueDate_year           800000 non-null  int64  \n",
      " 46  issueDate_month          800000 non-null  int64  \n",
      " 47  issueDate_day            800000 non-null  int64  \n",
      " 48  earliesCreditLine_month  800000 non-null  int64  \n",
      " 49  earliesCreditLine_year   800000 non-null  int64  \n",
      "dtypes: float64(30), int64(20)\n",
      "memory usage: 305.2 MB\n"
     ]
    }
   ],
   "source": [
    "train_df.info()"
   ]
  },
  {
   "cell_type": "code",
   "execution_count": 176,
   "id": "0b95d2fa",
   "metadata": {},
   "outputs": [],
   "source": [
    "imputer  = SimpleImputer(strategy='most_frequent')\n",
    "train_df['title'] = imputer.fit_transform(train_df[['title']])\n",
    "test_df['title'] = imputer.transform(test_df[['title']])\n",
    "\n",
    "train_df['postCode'] = imputer.fit_transform(train_df[['postCode']])\n",
    "test_df['postCode'] = imputer.transform(test_df[['postCode']])\n",
    "\n",
    "\n"
   ]
  },
  {
   "cell_type": "code",
   "execution_count": 177,
   "id": "2bad8d8b",
   "metadata": {},
   "outputs": [],
   "source": [
    "for col in train_df.columns:\n",
    "    if train_df[col].dtype == 'object':\n",
    "        train_df.drop(labels = [col], axis = 1, inplace = True)\n",
    "        test_df.drop(labels = [col], axis = 1, inplace = True)"
   ]
  },
  {
   "cell_type": "code",
   "execution_count": 178,
   "id": "59b51830",
   "metadata": {},
   "outputs": [
    {
     "name": "stdout",
     "output_type": "stream",
     "text": [
      "<class 'pandas.core.frame.DataFrame'>\n",
      "RangeIndex: 800000 entries, 0 to 799999\n",
      "Data columns (total 50 columns):\n",
      " #   Column                   Non-Null Count   Dtype  \n",
      "---  ------                   --------------   -----  \n",
      " 0   id                       800000 non-null  int64  \n",
      " 1   loanAmnt                 800000 non-null  float64\n",
      " 2   term                     800000 non-null  int64  \n",
      " 3   interestRate             800000 non-null  float64\n",
      " 4   installment              800000 non-null  float64\n",
      " 5   grade                    800000 non-null  int64  \n",
      " 6   subGrade                 800000 non-null  int64  \n",
      " 7   employmentTitle          800000 non-null  float64\n",
      " 8   employmentLength         800000 non-null  int64  \n",
      " 9   homeOwnership            800000 non-null  int64  \n",
      " 10  annualIncome             800000 non-null  int64  \n",
      " 11  verificationStatus       800000 non-null  int64  \n",
      " 12  isDefault                800000 non-null  int64  \n",
      " 13  purpose                  800000 non-null  int64  \n",
      " 14  postCode                 800000 non-null  float64\n",
      " 15  regionCode               800000 non-null  int64  \n",
      " 16  dti                      800000 non-null  int64  \n",
      " 17  delinquency_2years       800000 non-null  float64\n",
      " 18  ficoRangeLow             800000 non-null  float64\n",
      " 19  ficoRangeHigh            800000 non-null  float64\n",
      " 20  openAcc                  800000 non-null  float64\n",
      " 21  pubRec                   800000 non-null  float64\n",
      " 22  pubRecBankruptcies       800000 non-null  float64\n",
      " 23  revolBal                 800000 non-null  float64\n",
      " 24  revolUtil                800000 non-null  int64  \n",
      " 25  totalAcc                 800000 non-null  float64\n",
      " 26  initialListStatus        800000 non-null  int64  \n",
      " 27  applicationType          800000 non-null  int64  \n",
      " 28  title                    800000 non-null  float64\n",
      " 29  policyCode               800000 non-null  float64\n",
      " 30  n0                       800000 non-null  float64\n",
      " 31  n1                       800000 non-null  float64\n",
      " 32  n2                       800000 non-null  float64\n",
      " 33  n3                       800000 non-null  float64\n",
      " 34  n4                       800000 non-null  float64\n",
      " 35  n5                       800000 non-null  float64\n",
      " 36  n6                       800000 non-null  float64\n",
      " 37  n7                       800000 non-null  float64\n",
      " 38  n8                       800000 non-null  float64\n",
      " 39  n9                       800000 non-null  float64\n",
      " 40  n10                      800000 non-null  float64\n",
      " 41  n11                      800000 non-null  float64\n",
      " 42  n12                      800000 non-null  float64\n",
      " 43  n13                      800000 non-null  float64\n",
      " 44  n14                      800000 non-null  float64\n",
      " 45  issueDate_year           800000 non-null  int64  \n",
      " 46  issueDate_month          800000 non-null  int64  \n",
      " 47  issueDate_day            800000 non-null  int64  \n",
      " 48  earliesCreditLine_month  800000 non-null  int64  \n",
      " 49  earliesCreditLine_year   800000 non-null  int64  \n",
      "dtypes: float64(30), int64(20)\n",
      "memory usage: 305.2 MB\n"
     ]
    }
   ],
   "source": [
    "train_df.info()"
   ]
  },
  {
   "cell_type": "code",
   "execution_count": 180,
   "id": "c4241027",
   "metadata": {},
   "outputs": [
    {
     "data": {
      "text/html": [
       "<div>\n",
       "<style scoped>\n",
       "    .dataframe tbody tr th:only-of-type {\n",
       "        vertical-align: middle;\n",
       "    }\n",
       "\n",
       "    .dataframe tbody tr th {\n",
       "        vertical-align: top;\n",
       "    }\n",
       "\n",
       "    .dataframe thead th {\n",
       "        text-align: right;\n",
       "    }\n",
       "</style>\n",
       "<table border=\"1\" class=\"dataframe\">\n",
       "  <thead>\n",
       "    <tr style=\"text-align: right;\">\n",
       "      <th></th>\n",
       "      <th>0</th>\n",
       "      <th>1</th>\n",
       "      <th>2</th>\n",
       "      <th>3</th>\n",
       "      <th>4</th>\n",
       "    </tr>\n",
       "  </thead>\n",
       "  <tbody>\n",
       "    <tr>\n",
       "      <th>id</th>\n",
       "      <td>0.0</td>\n",
       "      <td>1.000000</td>\n",
       "      <td>2.0</td>\n",
       "      <td>3.0</td>\n",
       "      <td>4.0</td>\n",
       "    </tr>\n",
       "    <tr>\n",
       "      <th>loanAmnt</th>\n",
       "      <td>6.0</td>\n",
       "      <td>3.000000</td>\n",
       "      <td>2.0</td>\n",
       "      <td>2.0</td>\n",
       "      <td>0.0</td>\n",
       "    </tr>\n",
       "    <tr>\n",
       "      <th>term</th>\n",
       "      <td>5.0</td>\n",
       "      <td>5.000000</td>\n",
       "      <td>5.0</td>\n",
       "      <td>3.0</td>\n",
       "      <td>3.0</td>\n",
       "    </tr>\n",
       "    <tr>\n",
       "      <th>interestRate</th>\n",
       "      <td>2.0</td>\n",
       "      <td>2.000000</td>\n",
       "      <td>2.0</td>\n",
       "      <td>0.0</td>\n",
       "      <td>1.0</td>\n",
       "    </tr>\n",
       "    <tr>\n",
       "      <th>installment</th>\n",
       "      <td>3.0</td>\n",
       "      <td>1.000000</td>\n",
       "      <td>0.0</td>\n",
       "      <td>1.0</td>\n",
       "      <td>0.0</td>\n",
       "    </tr>\n",
       "    <tr>\n",
       "      <th>grade</th>\n",
       "      <td>4.0</td>\n",
       "      <td>3.000000</td>\n",
       "      <td>3.0</td>\n",
       "      <td>0.0</td>\n",
       "      <td>2.0</td>\n",
       "    </tr>\n",
       "    <tr>\n",
       "      <th>subGrade</th>\n",
       "      <td>21.0</td>\n",
       "      <td>16.000000</td>\n",
       "      <td>17.0</td>\n",
       "      <td>3.0</td>\n",
       "      <td>11.0</td>\n",
       "    </tr>\n",
       "    <tr>\n",
       "      <th>employmentTitle</th>\n",
       "      <td>0.0</td>\n",
       "      <td>1.000000</td>\n",
       "      <td>0.0</td>\n",
       "      <td>0.0</td>\n",
       "      <td>0.0</td>\n",
       "    </tr>\n",
       "    <tr>\n",
       "      <th>employmentLength</th>\n",
       "      <td>2.0</td>\n",
       "      <td>5.000000</td>\n",
       "      <td>8.0</td>\n",
       "      <td>1.0</td>\n",
       "      <td>11.0</td>\n",
       "    </tr>\n",
       "    <tr>\n",
       "      <th>homeOwnership</th>\n",
       "      <td>2.0</td>\n",
       "      <td>0.000000</td>\n",
       "      <td>0.0</td>\n",
       "      <td>1.0</td>\n",
       "      <td>1.0</td>\n",
       "    </tr>\n",
       "    <tr>\n",
       "      <th>annualIncome</th>\n",
       "      <td>1.0</td>\n",
       "      <td>1.000000</td>\n",
       "      <td>1.0</td>\n",
       "      <td>1.0</td>\n",
       "      <td>1.0</td>\n",
       "    </tr>\n",
       "    <tr>\n",
       "      <th>verificationStatus</th>\n",
       "      <td>2.0</td>\n",
       "      <td>2.000000</td>\n",
       "      <td>2.0</td>\n",
       "      <td>1.0</td>\n",
       "      <td>2.0</td>\n",
       "    </tr>\n",
       "    <tr>\n",
       "      <th>isDefault</th>\n",
       "      <td>1.0</td>\n",
       "      <td>0.000000</td>\n",
       "      <td>0.0</td>\n",
       "      <td>0.0</td>\n",
       "      <td>0.0</td>\n",
       "    </tr>\n",
       "    <tr>\n",
       "      <th>purpose</th>\n",
       "      <td>1.0</td>\n",
       "      <td>0.000000</td>\n",
       "      <td>0.0</td>\n",
       "      <td>4.0</td>\n",
       "      <td>10.0</td>\n",
       "    </tr>\n",
       "    <tr>\n",
       "      <th>postCode</th>\n",
       "      <td>137.0</td>\n",
       "      <td>156.000000</td>\n",
       "      <td>337.0</td>\n",
       "      <td>148.0</td>\n",
       "      <td>301.0</td>\n",
       "    </tr>\n",
       "    <tr>\n",
       "      <th>regionCode</th>\n",
       "      <td>32.0</td>\n",
       "      <td>18.000000</td>\n",
       "      <td>14.0</td>\n",
       "      <td>11.0</td>\n",
       "      <td>21.0</td>\n",
       "    </tr>\n",
       "    <tr>\n",
       "      <th>dti</th>\n",
       "      <td>2.0</td>\n",
       "      <td>2.000000</td>\n",
       "      <td>2.0</td>\n",
       "      <td>2.0</td>\n",
       "      <td>2.0</td>\n",
       "    </tr>\n",
       "    <tr>\n",
       "      <th>delinquency_2years</th>\n",
       "      <td>0.0</td>\n",
       "      <td>0.000000</td>\n",
       "      <td>0.0</td>\n",
       "      <td>0.0</td>\n",
       "      <td>0.0</td>\n",
       "    </tr>\n",
       "    <tr>\n",
       "      <th>ficoRangeLow</th>\n",
       "      <td>730.0</td>\n",
       "      <td>700.000000</td>\n",
       "      <td>675.0</td>\n",
       "      <td>685.0</td>\n",
       "      <td>690.0</td>\n",
       "    </tr>\n",
       "    <tr>\n",
       "      <th>ficoRangeHigh</th>\n",
       "      <td>734.0</td>\n",
       "      <td>704.000000</td>\n",
       "      <td>679.0</td>\n",
       "      <td>689.0</td>\n",
       "      <td>694.0</td>\n",
       "    </tr>\n",
       "    <tr>\n",
       "      <th>openAcc</th>\n",
       "      <td>7.0</td>\n",
       "      <td>13.000000</td>\n",
       "      <td>11.0</td>\n",
       "      <td>9.0</td>\n",
       "      <td>12.0</td>\n",
       "    </tr>\n",
       "    <tr>\n",
       "      <th>pubRec</th>\n",
       "      <td>0.0</td>\n",
       "      <td>0.000000</td>\n",
       "      <td>0.0</td>\n",
       "      <td>0.0</td>\n",
       "      <td>0.0</td>\n",
       "    </tr>\n",
       "    <tr>\n",
       "      <th>pubRecBankruptcies</th>\n",
       "      <td>0.0</td>\n",
       "      <td>0.000000</td>\n",
       "      <td>0.0</td>\n",
       "      <td>0.0</td>\n",
       "      <td>0.0</td>\n",
       "    </tr>\n",
       "    <tr>\n",
       "      <th>revolBal</th>\n",
       "      <td>24178.0</td>\n",
       "      <td>15096.000000</td>\n",
       "      <td>4606.0</td>\n",
       "      <td>9948.0</td>\n",
       "      <td>2942.0</td>\n",
       "    </tr>\n",
       "    <tr>\n",
       "      <th>revolUtil</th>\n",
       "      <td>0.0</td>\n",
       "      <td>0.000000</td>\n",
       "      <td>0.0</td>\n",
       "      <td>0.0</td>\n",
       "      <td>0.0</td>\n",
       "    </tr>\n",
       "    <tr>\n",
       "      <th>totalAcc</th>\n",
       "      <td>27.0</td>\n",
       "      <td>18.000000</td>\n",
       "      <td>27.0</td>\n",
       "      <td>28.0</td>\n",
       "      <td>27.0</td>\n",
       "    </tr>\n",
       "    <tr>\n",
       "      <th>initialListStatus</th>\n",
       "      <td>0.0</td>\n",
       "      <td>1.000000</td>\n",
       "      <td>0.0</td>\n",
       "      <td>1.0</td>\n",
       "      <td>0.0</td>\n",
       "    </tr>\n",
       "    <tr>\n",
       "      <th>applicationType</th>\n",
       "      <td>0.0</td>\n",
       "      <td>0.000000</td>\n",
       "      <td>0.0</td>\n",
       "      <td>0.0</td>\n",
       "      <td>0.0</td>\n",
       "    </tr>\n",
       "    <tr>\n",
       "      <th>title</th>\n",
       "      <td>1.0</td>\n",
       "      <td>1723.000000</td>\n",
       "      <td>0.0</td>\n",
       "      <td>4.0</td>\n",
       "      <td>11.0</td>\n",
       "    </tr>\n",
       "    <tr>\n",
       "      <th>policyCode</th>\n",
       "      <td>1.0</td>\n",
       "      <td>1.000000</td>\n",
       "      <td>1.0</td>\n",
       "      <td>1.0</td>\n",
       "      <td>1.0</td>\n",
       "    </tr>\n",
       "    <tr>\n",
       "      <th>n0</th>\n",
       "      <td>0.0</td>\n",
       "      <td>0.511932</td>\n",
       "      <td>0.0</td>\n",
       "      <td>6.0</td>\n",
       "      <td>1.0</td>\n",
       "    </tr>\n",
       "    <tr>\n",
       "      <th>n1</th>\n",
       "      <td>2.0</td>\n",
       "      <td>3.642330</td>\n",
       "      <td>0.0</td>\n",
       "      <td>4.0</td>\n",
       "      <td>2.0</td>\n",
       "    </tr>\n",
       "    <tr>\n",
       "      <th>n2</th>\n",
       "      <td>2.0</td>\n",
       "      <td>5.642648</td>\n",
       "      <td>3.0</td>\n",
       "      <td>6.0</td>\n",
       "      <td>7.0</td>\n",
       "    </tr>\n",
       "    <tr>\n",
       "      <th>n3</th>\n",
       "      <td>2.0</td>\n",
       "      <td>5.642648</td>\n",
       "      <td>3.0</td>\n",
       "      <td>6.0</td>\n",
       "      <td>7.0</td>\n",
       "    </tr>\n",
       "    <tr>\n",
       "      <th>n4</th>\n",
       "      <td>4.0</td>\n",
       "      <td>10.000000</td>\n",
       "      <td>0.0</td>\n",
       "      <td>4.0</td>\n",
       "      <td>2.0</td>\n",
       "    </tr>\n",
       "    <tr>\n",
       "      <th>n5</th>\n",
       "      <td>9.0</td>\n",
       "      <td>8.107937</td>\n",
       "      <td>0.0</td>\n",
       "      <td>16.0</td>\n",
       "      <td>4.0</td>\n",
       "    </tr>\n",
       "    <tr>\n",
       "      <th>n6</th>\n",
       "      <td>8.0</td>\n",
       "      <td>8.575994</td>\n",
       "      <td>21.0</td>\n",
       "      <td>4.0</td>\n",
       "      <td>9.0</td>\n",
       "    </tr>\n",
       "    <tr>\n",
       "      <th>n7</th>\n",
       "      <td>4.0</td>\n",
       "      <td>8.282953</td>\n",
       "      <td>4.0</td>\n",
       "      <td>7.0</td>\n",
       "      <td>10.0</td>\n",
       "    </tr>\n",
       "    <tr>\n",
       "      <th>n8</th>\n",
       "      <td>12.0</td>\n",
       "      <td>14.622488</td>\n",
       "      <td>5.0</td>\n",
       "      <td>21.0</td>\n",
       "      <td>15.0</td>\n",
       "    </tr>\n",
       "    <tr>\n",
       "      <th>n9</th>\n",
       "      <td>2.0</td>\n",
       "      <td>5.592345</td>\n",
       "      <td>3.0</td>\n",
       "      <td>6.0</td>\n",
       "      <td>7.0</td>\n",
       "    </tr>\n",
       "    <tr>\n",
       "      <th>n10</th>\n",
       "      <td>7.0</td>\n",
       "      <td>13.000000</td>\n",
       "      <td>11.0</td>\n",
       "      <td>9.0</td>\n",
       "      <td>12.0</td>\n",
       "    </tr>\n",
       "    <tr>\n",
       "      <th>n11</th>\n",
       "      <td>0.0</td>\n",
       "      <td>0.000815</td>\n",
       "      <td>0.0</td>\n",
       "      <td>0.0</td>\n",
       "      <td>0.0</td>\n",
       "    </tr>\n",
       "    <tr>\n",
       "      <th>n12</th>\n",
       "      <td>0.0</td>\n",
       "      <td>0.003384</td>\n",
       "      <td>0.0</td>\n",
       "      <td>0.0</td>\n",
       "      <td>0.0</td>\n",
       "    </tr>\n",
       "    <tr>\n",
       "      <th>n13</th>\n",
       "      <td>0.0</td>\n",
       "      <td>0.089366</td>\n",
       "      <td>0.0</td>\n",
       "      <td>0.0</td>\n",
       "      <td>0.0</td>\n",
       "    </tr>\n",
       "    <tr>\n",
       "      <th>n14</th>\n",
       "      <td>2.0</td>\n",
       "      <td>2.178606</td>\n",
       "      <td>4.0</td>\n",
       "      <td>1.0</td>\n",
       "      <td>4.0</td>\n",
       "    </tr>\n",
       "    <tr>\n",
       "      <th>issueDate_year</th>\n",
       "      <td>2014.0</td>\n",
       "      <td>2012.000000</td>\n",
       "      <td>2015.0</td>\n",
       "      <td>2015.0</td>\n",
       "      <td>2016.0</td>\n",
       "    </tr>\n",
       "    <tr>\n",
       "      <th>issueDate_month</th>\n",
       "      <td>7.0</td>\n",
       "      <td>8.000000</td>\n",
       "      <td>10.0</td>\n",
       "      <td>8.0</td>\n",
       "      <td>3.0</td>\n",
       "    </tr>\n",
       "    <tr>\n",
       "      <th>issueDate_day</th>\n",
       "      <td>1.0</td>\n",
       "      <td>1.000000</td>\n",
       "      <td>1.0</td>\n",
       "      <td>1.0</td>\n",
       "      <td>1.0</td>\n",
       "    </tr>\n",
       "    <tr>\n",
       "      <th>earliesCreditLine_month</th>\n",
       "      <td>8.0</td>\n",
       "      <td>5.000000</td>\n",
       "      <td>5.0</td>\n",
       "      <td>5.0</td>\n",
       "      <td>8.0</td>\n",
       "    </tr>\n",
       "    <tr>\n",
       "      <th>earliesCreditLine_year</th>\n",
       "      <td>2001.0</td>\n",
       "      <td>2002.000000</td>\n",
       "      <td>2006.0</td>\n",
       "      <td>1999.0</td>\n",
       "      <td>1977.0</td>\n",
       "    </tr>\n",
       "  </tbody>\n",
       "</table>\n",
       "</div>"
      ],
      "text/plain": [
       "                               0             1       2       3       4\n",
       "id                           0.0      1.000000     2.0     3.0     4.0\n",
       "loanAmnt                     6.0      3.000000     2.0     2.0     0.0\n",
       "term                         5.0      5.000000     5.0     3.0     3.0\n",
       "interestRate                 2.0      2.000000     2.0     0.0     1.0\n",
       "installment                  3.0      1.000000     0.0     1.0     0.0\n",
       "grade                        4.0      3.000000     3.0     0.0     2.0\n",
       "subGrade                    21.0     16.000000    17.0     3.0    11.0\n",
       "employmentTitle              0.0      1.000000     0.0     0.0     0.0\n",
       "employmentLength             2.0      5.000000     8.0     1.0    11.0\n",
       "homeOwnership                2.0      0.000000     0.0     1.0     1.0\n",
       "annualIncome                 1.0      1.000000     1.0     1.0     1.0\n",
       "verificationStatus           2.0      2.000000     2.0     1.0     2.0\n",
       "isDefault                    1.0      0.000000     0.0     0.0     0.0\n",
       "purpose                      1.0      0.000000     0.0     4.0    10.0\n",
       "postCode                   137.0    156.000000   337.0   148.0   301.0\n",
       "regionCode                  32.0     18.000000    14.0    11.0    21.0\n",
       "dti                          2.0      2.000000     2.0     2.0     2.0\n",
       "delinquency_2years           0.0      0.000000     0.0     0.0     0.0\n",
       "ficoRangeLow               730.0    700.000000   675.0   685.0   690.0\n",
       "ficoRangeHigh              734.0    704.000000   679.0   689.0   694.0\n",
       "openAcc                      7.0     13.000000    11.0     9.0    12.0\n",
       "pubRec                       0.0      0.000000     0.0     0.0     0.0\n",
       "pubRecBankruptcies           0.0      0.000000     0.0     0.0     0.0\n",
       "revolBal                 24178.0  15096.000000  4606.0  9948.0  2942.0\n",
       "revolUtil                    0.0      0.000000     0.0     0.0     0.0\n",
       "totalAcc                    27.0     18.000000    27.0    28.0    27.0\n",
       "initialListStatus            0.0      1.000000     0.0     1.0     0.0\n",
       "applicationType              0.0      0.000000     0.0     0.0     0.0\n",
       "title                        1.0   1723.000000     0.0     4.0    11.0\n",
       "policyCode                   1.0      1.000000     1.0     1.0     1.0\n",
       "n0                           0.0      0.511932     0.0     6.0     1.0\n",
       "n1                           2.0      3.642330     0.0     4.0     2.0\n",
       "n2                           2.0      5.642648     3.0     6.0     7.0\n",
       "n3                           2.0      5.642648     3.0     6.0     7.0\n",
       "n4                           4.0     10.000000     0.0     4.0     2.0\n",
       "n5                           9.0      8.107937     0.0    16.0     4.0\n",
       "n6                           8.0      8.575994    21.0     4.0     9.0\n",
       "n7                           4.0      8.282953     4.0     7.0    10.0\n",
       "n8                          12.0     14.622488     5.0    21.0    15.0\n",
       "n9                           2.0      5.592345     3.0     6.0     7.0\n",
       "n10                          7.0     13.000000    11.0     9.0    12.0\n",
       "n11                          0.0      0.000815     0.0     0.0     0.0\n",
       "n12                          0.0      0.003384     0.0     0.0     0.0\n",
       "n13                          0.0      0.089366     0.0     0.0     0.0\n",
       "n14                          2.0      2.178606     4.0     1.0     4.0\n",
       "issueDate_year            2014.0   2012.000000  2015.0  2015.0  2016.0\n",
       "issueDate_month              7.0      8.000000    10.0     8.0     3.0\n",
       "issueDate_day                1.0      1.000000     1.0     1.0     1.0\n",
       "earliesCreditLine_month      8.0      5.000000     5.0     5.0     8.0\n",
       "earliesCreditLine_year    2001.0   2002.000000  2006.0  1999.0  1977.0"
      ]
     },
     "execution_count": 180,
     "metadata": {},
     "output_type": "execute_result"
    }
   ],
   "source": [
    "train_df.head().T"
   ]
  },
  {
   "cell_type": "code",
   "execution_count": 181,
   "id": "250d34a5",
   "metadata": {},
   "outputs": [],
   "source": [
    "train_df.to_csv(\"./train_bin.csv\", index = False)\n",
    "test_df.to_csv(\"./test_bin.csv\", index = False)"
   ]
  },
  {
   "cell_type": "code",
   "execution_count": null,
   "id": "d1c03bb6",
   "metadata": {},
   "outputs": [],
   "source": []
  },
  {
   "cell_type": "code",
   "execution_count": null,
   "id": "9dbafbad",
   "metadata": {},
   "outputs": [],
   "source": []
  },
  {
   "cell_type": "code",
   "execution_count": null,
   "id": "883f851e",
   "metadata": {},
   "outputs": [],
   "source": []
  },
  {
   "cell_type": "code",
   "execution_count": null,
   "id": "d2a8c704",
   "metadata": {},
   "outputs": [],
   "source": []
  },
  {
   "cell_type": "code",
   "execution_count": null,
   "id": "ca5fb3cc",
   "metadata": {},
   "outputs": [],
   "source": []
  },
  {
   "cell_type": "code",
   "execution_count": null,
   "id": "7eb75ceb",
   "metadata": {},
   "outputs": [],
   "source": []
  }
 ],
 "metadata": {
  "kernelspec": {
   "display_name": "Python 3 (ipykernel)",
   "language": "python",
   "name": "python3"
  },
  "language_info": {
   "codemirror_mode": {
    "name": "ipython",
    "version": 3
   },
   "file_extension": ".py",
   "mimetype": "text/x-python",
   "name": "python",
   "nbconvert_exporter": "python",
   "pygments_lexer": "ipython3",
   "version": "3.9.13"
  }
 },
 "nbformat": 4,
 "nbformat_minor": 5
}
