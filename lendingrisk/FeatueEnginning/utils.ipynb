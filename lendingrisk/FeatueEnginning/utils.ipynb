{
 "cells": [
  {
   "cell_type": "code",
   "execution_count": 39,
   "id": "9928dacd",
   "metadata": {},
   "outputs": [],
   "source": [
    "import os\n",
    "import warnings\n",
    "\n",
    "import pandas as pd\n",
    "import numpy as np\n",
    "import seaborn as sns\n",
    "import matplotlib.pyplot as plt\n",
    "import missingno\n",
    "\n",
    "from sklearn.impute import SimpleImputer\n",
    "\n",
    "warnings.filterwarnings(\"ignore\")"
   ]
  },
  {
   "cell_type": "code",
   "execution_count": 14,
   "id": "4a0d0afc",
   "metadata": {},
   "outputs": [],
   "source": [
    "df = pd.read_csv(\"./train.csv\")"
   ]
  },
  {
   "cell_type": "code",
   "execution_count": 28,
   "id": "876fcf38",
   "metadata": {},
   "outputs": [],
   "source": [
    "def NumColPlot(df,col):\n",
    "    \"\"\"plot the distribution of a numerical feature \"\"\"\n",
    "    \n",
    "    fig,ax = plt.subplots(figsize = (15,8))\n",
    "    sns.histplot(data = df, x = col, hue='isDefault', ax = ax)\n",
    "    ax.set_title(\"distribution of \"+col,fontsize = 18)\n",
    "    ax.set_xlabel(col, fontsize = 18)\n",
    "    ax.set_ylabel(\"hist\", fontsize = 18)\n",
    "    plt.show()"
   ]
  },
  {
   "cell_type": "code",
   "execution_count": 30,
   "id": "9ebae632",
   "metadata": {},
   "outputs": [],
   "source": [
    "def CateColPlot(df, col):\n",
    "    \"\"\"plot the counts of a category feature \"\"\"\n",
    "    fig,ax = plt.subplots(figsize = (15,8))\n",
    "    sns.countplot(data = df, x = col, hue='isDefault', ax = ax)\n",
    "    ax.set_title(\"counts of \"+col,fontsize = 18)\n",
    "    ax.set_xlabel(col, fontsize = 18)\n",
    "    ax.set_ylabel(\"counts\", fontsize = 18)\n",
    "    plt.show()"
   ]
  },
  {
   "cell_type": "code",
   "execution_count": 37,
   "id": "a33cc47d",
   "metadata": {},
   "outputs": [],
   "source": [
    "def MissingDataPlot(df):\n",
    "    \"\"\"plot the missing values of df\"\"\"\n",
    "    missingno.matrix(df=df)"
   ]
  },
  {
   "cell_type": "code",
   "execution_count": 41,
   "id": "71cab4b4",
   "metadata": {},
   "outputs": [],
   "source": [
    "def MostImputer(df, col):\n",
    "    imputer = SimpleImputer(strategy='most_frequent')\n",
    "    imputer.fit(df[[col]])\n",
    "    return imputer"
   ]
  },
  {
   "cell_type": "code",
   "execution_count": 42,
   "id": "eac6fe50",
   "metadata": {},
   "outputs": [],
   "source": [
    "def MedianImputer(df, col):\n",
    "    imputer = SimpleImputer(strategy=\"median\")\n",
    "    imputer.fit(df[[col]])\n",
    "    return imputer"
   ]
  },
  {
   "cell_type": "code",
   "execution_count": 43,
   "id": "a78dc10c",
   "metadata": {},
   "outputs": [],
   "source": [
    "def MeanImputer(df, col):\n",
    "    imputer = SimpleImputer(strategy=\"mean\")\n",
    "    imputer.fit(df[[col]])\n",
    "    return imputer"
   ]
  }
 ],
 "metadata": {
  "kernelspec": {
   "display_name": "Python 3 (ipykernel)",
   "language": "python",
   "name": "python3"
  },
  "language_info": {
   "codemirror_mode": {
    "name": "ipython",
    "version": 3
   },
   "file_extension": ".py",
   "mimetype": "text/x-python",
   "name": "python",
   "nbconvert_exporter": "python",
   "pygments_lexer": "ipython3",
   "version": "3.9.13"
  }
 },
 "nbformat": 4,
 "nbformat_minor": 5
}
