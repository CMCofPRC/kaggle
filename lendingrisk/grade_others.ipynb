{
 "cells": [
  {
   "cell_type": "code",
   "execution_count": 1,
   "id": "babcee29",
   "metadata": {},
   "outputs": [],
   "source": [
    "import pandas as pd\n",
    "import gc\n",
    "import numpy as np\n",
    "from sklearn.tree import DecisionTreeClassifier\n",
    "from sklearn.ensemble import RandomForestClassifier\n",
    "from sklearn.metrics import roc_auc_score\n",
    "from sklearn.model_selection import StratifiedKFold\n",
    "import xgboost\n",
    "import lightgbm\n",
    "seed_state = 2022"
   ]
  },
  {
   "cell_type": "code",
   "execution_count": 51,
   "id": "771756e3",
   "metadata": {},
   "outputs": [],
   "source": [
    "train_df = pd.read_pickle(\"./train_df.pkl\")\n",
    "test_df = pd.read_pickle(\"./test_df.pkl\")"
   ]
  },
  {
   "cell_type": "code",
   "execution_count": 22,
   "id": "e44ab6c6",
   "metadata": {},
   "outputs": [
    {
     "name": "stdout",
     "output_type": "stream",
     "text": [
      "<class 'pandas.core.frame.DataFrame'>\n",
      "RangeIndex: 800000 entries, 0 to 799999\n",
      "Data columns (total 50 columns):\n",
      " #   Column                   Non-Null Count   Dtype  \n",
      "---  ------                   --------------   -----  \n",
      " 0   id                       800000 non-null  int64  \n",
      " 1   loanAmnt                 800000 non-null  float64\n",
      " 2   term                     800000 non-null  int64  \n",
      " 3   interestRate             800000 non-null  float64\n",
      " 4   installment              800000 non-null  float64\n",
      " 5   grade                    800000 non-null  int32  \n",
      " 6   subGrade                 800000 non-null  int32  \n",
      " 7   employmentTitle          800000 non-null  float64\n",
      " 8   employmentLength         800000 non-null  int32  \n",
      " 9   homeOwnership            800000 non-null  int64  \n",
      " 10  annualIncome             800000 non-null  float64\n",
      " 11  verificationStatus       800000 non-null  int64  \n",
      " 12  isDefault                800000 non-null  int64  \n",
      " 13  purpose                  800000 non-null  int64  \n",
      " 14  postCode                 800000 non-null  float64\n",
      " 15  regionCode               800000 non-null  int64  \n",
      " 16  dti                      800000 non-null  float64\n",
      " 17  delinquency_2years       800000 non-null  float64\n",
      " 18  ficoRangeLow             800000 non-null  float64\n",
      " 19  ficoRangeHigh            800000 non-null  float64\n",
      " 20  openAcc                  800000 non-null  float64\n",
      " 21  pubRec                   800000 non-null  float64\n",
      " 22  pubRecBankruptcies       800000 non-null  float64\n",
      " 23  revolBal                 800000 non-null  float64\n",
      " 24  revolUtil                800000 non-null  float64\n",
      " 25  totalAcc                 800000 non-null  float64\n",
      " 26  initialListStatus        800000 non-null  int64  \n",
      " 27  applicationType          800000 non-null  int64  \n",
      " 28  title                    800000 non-null  float64\n",
      " 29  policyCode               800000 non-null  float64\n",
      " 30  n0                       800000 non-null  float64\n",
      " 31  n1                       800000 non-null  float64\n",
      " 32  n2                       800000 non-null  float64\n",
      " 33  n3                       800000 non-null  float64\n",
      " 34  n4                       800000 non-null  float64\n",
      " 35  n5                       800000 non-null  float64\n",
      " 36  n6                       800000 non-null  float64\n",
      " 37  n7                       800000 non-null  float64\n",
      " 38  n8                       800000 non-null  float64\n",
      " 39  n9                       800000 non-null  float64\n",
      " 40  n10                      800000 non-null  float64\n",
      " 41  n11                      800000 non-null  float64\n",
      " 42  n12                      800000 non-null  float64\n",
      " 43  n13                      800000 non-null  float64\n",
      " 44  n14                      800000 non-null  float64\n",
      " 45  issueDate_year           800000 non-null  int64  \n",
      " 46  issueDate_month          800000 non-null  int64  \n",
      " 47  issueDate_day            800000 non-null  int64  \n",
      " 48  earliesCreditLine_month  800000 non-null  int64  \n",
      " 49  earliesCreditLine_year   800000 non-null  int64  \n",
      "dtypes: float64(33), int32(3), int64(14)\n",
      "memory usage: 296.0 MB\n"
     ]
    }
   ],
   "source": [
    "train_df.info()"
   ]
  },
  {
   "cell_type": "code",
   "execution_count": 52,
   "id": "2e2791ca",
   "metadata": {},
   "outputs": [],
   "source": [
    "train_X = train_df.copy()\n",
    "train_y = train_X['isDefault']\n",
    "\n",
    "train_X.drop(labels = ['isDefault'], axis = 1, inplace = True)"
   ]
  },
  {
   "cell_type": "code",
   "execution_count": 53,
   "id": "0dbdb218",
   "metadata": {},
   "outputs": [
    {
     "data": {
      "text/plain": [
       "0"
      ]
     },
     "execution_count": 53,
     "metadata": {},
     "output_type": "execute_result"
    }
   ],
   "source": [
    "del train_df\n",
    "gc.collect()"
   ]
  },
  {
   "cell_type": "code",
   "execution_count": 54,
   "id": "cdece25b",
   "metadata": {},
   "outputs": [
    {
     "data": {
      "text/plain": [
       "Index(['id', 'loanAmnt', 'term', 'interestRate', 'installment', 'grade',\n",
       "       'subGrade', 'employmentTitle', 'employmentLength', 'homeOwnership',\n",
       "       'annualIncome', 'verificationStatus', 'purpose', 'postCode',\n",
       "       'regionCode', 'dti', 'delinquency_2years', 'ficoRangeLow',\n",
       "       'ficoRangeHigh', 'openAcc', 'pubRec', 'pubRecBankruptcies', 'revolBal',\n",
       "       'revolUtil', 'totalAcc', 'initialListStatus', 'applicationType',\n",
       "       'title', 'policyCode', 'n0', 'n1', 'n2', 'n3', 'n4', 'n5', 'n6', 'n7',\n",
       "       'n8', 'n9', 'n10', 'n11', 'n12', 'n13', 'n14', 'issueDate_year',\n",
       "       'issueDate_month', 'issueDate_day', 'earliesCreditLine_month',\n",
       "       'earliesCreditLine_year'],\n",
       "      dtype='object')"
      ]
     },
     "execution_count": 54,
     "metadata": {},
     "output_type": "execute_result"
    }
   ],
   "source": [
    "train_X.columns"
   ]
  },
  {
   "cell_type": "code",
   "execution_count": 55,
   "id": "aac448f0",
   "metadata": {},
   "outputs": [
    {
     "data": {
      "text/plain": [
       "Index(['id', 'loanAmnt', 'term', 'interestRate', 'installment', 'grade',\n",
       "       'subGrade', 'employmentTitle', 'employmentLength', 'homeOwnership',\n",
       "       'annualIncome', 'verificationStatus', 'purpose', 'postCode',\n",
       "       'regionCode', 'dti', 'delinquency_2years', 'ficoRangeLow',\n",
       "       'ficoRangeHigh', 'openAcc', 'pubRec', 'pubRecBankruptcies', 'revolBal',\n",
       "       'revolUtil', 'totalAcc', 'initialListStatus', 'applicationType',\n",
       "       'title', 'policyCode', 'n0', 'n1', 'n2', 'n3', 'n4', 'n5', 'n6', 'n7',\n",
       "       'n8', 'n9', 'n10', 'n11', 'n12', 'n13', 'n14', 'issueDate_year',\n",
       "       'issueDate_month', 'issueDate_day', 'earliesCreditLine_month',\n",
       "       'earliesCreditLine_year'],\n",
       "      dtype='object')"
      ]
     },
     "execution_count": 55,
     "metadata": {},
     "output_type": "execute_result"
    }
   ],
   "source": [
    "test_df.columns"
   ]
  },
  {
   "cell_type": "code",
   "execution_count": 56,
   "id": "9e91e2c6",
   "metadata": {},
   "outputs": [],
   "source": [
    "\"\"\"将最重要的特征grade和剩余的特征做交叉，看是否会有提升\"\"\"\n",
    "for col in train_X.columns:\n",
    "    if col != 'issueDate_year':\n",
    "        train_X['issueDate_year_' + col] = train_X['issueDate_year'] * train_X[col]\n",
    "        test_df['issueDate_year_' + col] = test_df['issueDate_year'] * test_df[col]"
   ]
  },
  {
   "cell_type": "code",
   "execution_count": 57,
   "id": "ffab0749",
   "metadata": {},
   "outputs": [
    {
     "data": {
      "text/plain": [
       "Index(['id', 'loanAmnt', 'term', 'interestRate', 'installment', 'grade',\n",
       "       'subGrade', 'employmentTitle', 'employmentLength', 'homeOwnership',\n",
       "       'annualIncome', 'verificationStatus', 'purpose', 'postCode',\n",
       "       'regionCode', 'dti', 'delinquency_2years', 'ficoRangeLow',\n",
       "       'ficoRangeHigh', 'openAcc', 'pubRec', 'pubRecBankruptcies', 'revolBal',\n",
       "       'revolUtil', 'totalAcc', 'initialListStatus', 'applicationType',\n",
       "       'title', 'policyCode', 'n0', 'n1', 'n2', 'n3', 'n4', 'n5', 'n6', 'n7',\n",
       "       'n8', 'n9', 'n10', 'n11', 'n12', 'n13', 'n14', 'issueDate_year',\n",
       "       'issueDate_month', 'issueDate_day', 'earliesCreditLine_month',\n",
       "       'earliesCreditLine_year', 'issueDate_year_id',\n",
       "       'issueDate_year_loanAmnt', 'issueDate_year_term',\n",
       "       'issueDate_year_interestRate', 'issueDate_year_installment',\n",
       "       'issueDate_year_grade', 'issueDate_year_subGrade',\n",
       "       'issueDate_year_employmentTitle', 'issueDate_year_employmentLength',\n",
       "       'issueDate_year_homeOwnership', 'issueDate_year_annualIncome',\n",
       "       'issueDate_year_verificationStatus', 'issueDate_year_purpose',\n",
       "       'issueDate_year_postCode', 'issueDate_year_regionCode',\n",
       "       'issueDate_year_dti', 'issueDate_year_delinquency_2years',\n",
       "       'issueDate_year_ficoRangeLow', 'issueDate_year_ficoRangeHigh',\n",
       "       'issueDate_year_openAcc', 'issueDate_year_pubRec',\n",
       "       'issueDate_year_pubRecBankruptcies', 'issueDate_year_revolBal',\n",
       "       'issueDate_year_revolUtil', 'issueDate_year_totalAcc',\n",
       "       'issueDate_year_initialListStatus', 'issueDate_year_applicationType',\n",
       "       'issueDate_year_title', 'issueDate_year_policyCode',\n",
       "       'issueDate_year_n0', 'issueDate_year_n1', 'issueDate_year_n2',\n",
       "       'issueDate_year_n3', 'issueDate_year_n4', 'issueDate_year_n5',\n",
       "       'issueDate_year_n6', 'issueDate_year_n7', 'issueDate_year_n8',\n",
       "       'issueDate_year_n9', 'issueDate_year_n10', 'issueDate_year_n11',\n",
       "       'issueDate_year_n12', 'issueDate_year_n13', 'issueDate_year_n14',\n",
       "       'issueDate_year_issueDate_month', 'issueDate_year_issueDate_day',\n",
       "       'issueDate_year_earliesCreditLine_month',\n",
       "       'issueDate_year_earliesCreditLine_year'],\n",
       "      dtype='object')"
      ]
     },
     "execution_count": 57,
     "metadata": {},
     "output_type": "execute_result"
    }
   ],
   "source": [
    "train_X.columns"
   ]
  },
  {
   "cell_type": "code",
   "execution_count": 58,
   "id": "a4993cca",
   "metadata": {
    "scrolled": false
   },
   "outputs": [
    {
     "name": "stderr",
     "output_type": "stream",
     "text": [
      "C:\\Users\\Mr.Li\\AppData\\Local\\Temp\\ipykernel_11232\\1412807090.py:10: SettingWithCopyWarning: \n",
      "A value is trying to be set on a copy of a slice from a DataFrame.\n",
      "Try using .loc[row_indexer,col_indexer] = value instead\n",
      "\n",
      "See the caveats in the documentation: https://pandas.pydata.org/pandas-docs/stable/user_guide/indexing.html#returning-a-view-versus-a-copy\n",
      "  prediction['prob'] = 0\n"
     ]
    },
    {
     "name": "stdout",
     "output_type": "stream",
     "text": [
      "\n",
      "Fold_1 Training ========================\n",
      "\n"
     ]
    },
    {
     "name": "stderr",
     "output_type": "stream",
     "text": [
      "E:\\anaconda\\envs\\kaggle\\lib\\site-packages\\xgboost\\sklearn.py:793: UserWarning: `eval_metric` in `fit` method is deprecated for better compatibility with scikit-learn, use `eval_metric` in constructor or`set_params` instead.\n",
      "  warnings.warn(\n",
      "E:\\anaconda\\envs\\kaggle\\lib\\site-packages\\xgboost\\sklearn.py:793: UserWarning: `early_stopping_rounds` in `fit` method is deprecated for better compatibility with scikit-learn, use `early_stopping_rounds` in constructor or`set_params` instead.\n",
      "  warnings.warn(\n"
     ]
    },
    {
     "name": "stdout",
     "output_type": "stream",
     "text": [
      "[0]\tvalidation_0-auc:0.70785\tvalidation_1-auc:0.70498\n",
      "[100]\tvalidation_0-auc:0.73397\tvalidation_1-auc:0.72569\n",
      "[200]\tvalidation_0-auc:0.74489\tvalidation_1-auc:0.73055\n",
      "[300]\tvalidation_0-auc:0.75224\tvalidation_1-auc:0.73234\n",
      "[400]\tvalidation_0-auc:0.75832\tvalidation_1-auc:0.73339\n",
      "[499]\tvalidation_0-auc:0.76415\tvalidation_1-auc:0.73405\n"
     ]
    },
    {
     "name": "stderr",
     "output_type": "stream",
     "text": [
      "C:\\Users\\Mr.Li\\AppData\\Local\\Temp\\ipykernel_11232\\1412807090.py:49: SettingWithCopyWarning: \n",
      "A value is trying to be set on a copy of a slice from a DataFrame.\n",
      "Try using .loc[row_indexer,col_indexer] = value instead\n",
      "\n",
      "See the caveats in the documentation: https://pandas.pydata.org/pandas-docs/stable/user_guide/indexing.html#returning-a-view-versus-a-copy\n",
      "  prediction['prob'] += pred_test / kfold.n_splits\n"
     ]
    },
    {
     "name": "stdout",
     "output_type": "stream",
     "text": [
      "\n",
      "Fold_2 Training ========================\n",
      "\n"
     ]
    },
    {
     "name": "stderr",
     "output_type": "stream",
     "text": [
      "E:\\anaconda\\envs\\kaggle\\lib\\site-packages\\xgboost\\sklearn.py:793: UserWarning: `eval_metric` in `fit` method is deprecated for better compatibility with scikit-learn, use `eval_metric` in constructor or`set_params` instead.\n",
      "  warnings.warn(\n",
      "E:\\anaconda\\envs\\kaggle\\lib\\site-packages\\xgboost\\sklearn.py:793: UserWarning: `early_stopping_rounds` in `fit` method is deprecated for better compatibility with scikit-learn, use `early_stopping_rounds` in constructor or`set_params` instead.\n",
      "  warnings.warn(\n"
     ]
    },
    {
     "name": "stdout",
     "output_type": "stream",
     "text": [
      "[0]\tvalidation_0-auc:0.70783\tvalidation_1-auc:0.70548\n",
      "[100]\tvalidation_0-auc:0.73346\tvalidation_1-auc:0.72710\n",
      "[200]\tvalidation_0-auc:0.74437\tvalidation_1-auc:0.73214\n",
      "[300]\tvalidation_0-auc:0.75184\tvalidation_1-auc:0.73419\n",
      "[400]\tvalidation_0-auc:0.75810\tvalidation_1-auc:0.73522\n",
      "[499]\tvalidation_0-auc:0.76356\tvalidation_1-auc:0.73583\n"
     ]
    },
    {
     "name": "stderr",
     "output_type": "stream",
     "text": [
      "C:\\Users\\Mr.Li\\AppData\\Local\\Temp\\ipykernel_11232\\1412807090.py:49: SettingWithCopyWarning: \n",
      "A value is trying to be set on a copy of a slice from a DataFrame.\n",
      "Try using .loc[row_indexer,col_indexer] = value instead\n",
      "\n",
      "See the caveats in the documentation: https://pandas.pydata.org/pandas-docs/stable/user_guide/indexing.html#returning-a-view-versus-a-copy\n",
      "  prediction['prob'] += pred_test / kfold.n_splits\n"
     ]
    },
    {
     "name": "stdout",
     "output_type": "stream",
     "text": [
      "\n",
      "Fold_3 Training ========================\n",
      "\n"
     ]
    },
    {
     "name": "stderr",
     "output_type": "stream",
     "text": [
      "E:\\anaconda\\envs\\kaggle\\lib\\site-packages\\xgboost\\sklearn.py:793: UserWarning: `eval_metric` in `fit` method is deprecated for better compatibility with scikit-learn, use `eval_metric` in constructor or`set_params` instead.\n",
      "  warnings.warn(\n",
      "E:\\anaconda\\envs\\kaggle\\lib\\site-packages\\xgboost\\sklearn.py:793: UserWarning: `early_stopping_rounds` in `fit` method is deprecated for better compatibility with scikit-learn, use `early_stopping_rounds` in constructor or`set_params` instead.\n",
      "  warnings.warn(\n"
     ]
    },
    {
     "name": "stdout",
     "output_type": "stream",
     "text": [
      "[0]\tvalidation_0-auc:0.70683\tvalidation_1-auc:0.70700\n",
      "[100]\tvalidation_0-auc:0.73332\tvalidation_1-auc:0.72803\n",
      "[200]\tvalidation_0-auc:0.74389\tvalidation_1-auc:0.73287\n",
      "[300]\tvalidation_0-auc:0.75153\tvalidation_1-auc:0.73500\n",
      "[400]\tvalidation_0-auc:0.75767\tvalidation_1-auc:0.73627\n",
      "[499]\tvalidation_0-auc:0.76349\tvalidation_1-auc:0.73715\n"
     ]
    },
    {
     "name": "stderr",
     "output_type": "stream",
     "text": [
      "C:\\Users\\Mr.Li\\AppData\\Local\\Temp\\ipykernel_11232\\1412807090.py:49: SettingWithCopyWarning: \n",
      "A value is trying to be set on a copy of a slice from a DataFrame.\n",
      "Try using .loc[row_indexer,col_indexer] = value instead\n",
      "\n",
      "See the caveats in the documentation: https://pandas.pydata.org/pandas-docs/stable/user_guide/indexing.html#returning-a-view-versus-a-copy\n",
      "  prediction['prob'] += pred_test / kfold.n_splits\n"
     ]
    },
    {
     "name": "stdout",
     "output_type": "stream",
     "text": [
      "\n",
      "Fold_4 Training ========================\n",
      "\n"
     ]
    },
    {
     "name": "stderr",
     "output_type": "stream",
     "text": [
      "E:\\anaconda\\envs\\kaggle\\lib\\site-packages\\xgboost\\sklearn.py:793: UserWarning: `eval_metric` in `fit` method is deprecated for better compatibility with scikit-learn, use `eval_metric` in constructor or`set_params` instead.\n",
      "  warnings.warn(\n",
      "E:\\anaconda\\envs\\kaggle\\lib\\site-packages\\xgboost\\sklearn.py:793: UserWarning: `early_stopping_rounds` in `fit` method is deprecated for better compatibility with scikit-learn, use `early_stopping_rounds` in constructor or`set_params` instead.\n",
      "  warnings.warn(\n"
     ]
    },
    {
     "name": "stdout",
     "output_type": "stream",
     "text": [
      "[0]\tvalidation_0-auc:0.70769\tvalidation_1-auc:0.70525\n",
      "[100]\tvalidation_0-auc:0.73373\tvalidation_1-auc:0.72600\n",
      "[200]\tvalidation_0-auc:0.74458\tvalidation_1-auc:0.73079\n",
      "[300]\tvalidation_0-auc:0.75225\tvalidation_1-auc:0.73286\n",
      "[400]\tvalidation_0-auc:0.75845\tvalidation_1-auc:0.73392\n",
      "[499]\tvalidation_0-auc:0.76401\tvalidation_1-auc:0.73449\n"
     ]
    },
    {
     "name": "stderr",
     "output_type": "stream",
     "text": [
      "C:\\Users\\Mr.Li\\AppData\\Local\\Temp\\ipykernel_11232\\1412807090.py:49: SettingWithCopyWarning: \n",
      "A value is trying to be set on a copy of a slice from a DataFrame.\n",
      "Try using .loc[row_indexer,col_indexer] = value instead\n",
      "\n",
      "See the caveats in the documentation: https://pandas.pydata.org/pandas-docs/stable/user_guide/indexing.html#returning-a-view-versus-a-copy\n",
      "  prediction['prob'] += pred_test / kfold.n_splits\n"
     ]
    },
    {
     "name": "stdout",
     "output_type": "stream",
     "text": [
      "\n",
      "Fold_5 Training ========================\n",
      "\n"
     ]
    },
    {
     "name": "stderr",
     "output_type": "stream",
     "text": [
      "E:\\anaconda\\envs\\kaggle\\lib\\site-packages\\xgboost\\sklearn.py:793: UserWarning: `eval_metric` in `fit` method is deprecated for better compatibility with scikit-learn, use `eval_metric` in constructor or`set_params` instead.\n",
      "  warnings.warn(\n",
      "E:\\anaconda\\envs\\kaggle\\lib\\site-packages\\xgboost\\sklearn.py:793: UserWarning: `early_stopping_rounds` in `fit` method is deprecated for better compatibility with scikit-learn, use `early_stopping_rounds` in constructor or`set_params` instead.\n",
      "  warnings.warn(\n"
     ]
    },
    {
     "name": "stdout",
     "output_type": "stream",
     "text": [
      "[0]\tvalidation_0-auc:0.70752\tvalidation_1-auc:0.70491\n",
      "[100]\tvalidation_0-auc:0.73384\tvalidation_1-auc:0.72546\n",
      "[200]\tvalidation_0-auc:0.74453\tvalidation_1-auc:0.73046\n",
      "[300]\tvalidation_0-auc:0.75193\tvalidation_1-auc:0.73261\n",
      "[400]\tvalidation_0-auc:0.75809\tvalidation_1-auc:0.73381\n",
      "[499]\tvalidation_0-auc:0.76384\tvalidation_1-auc:0.73456\n"
     ]
    },
    {
     "name": "stderr",
     "output_type": "stream",
     "text": [
      "C:\\Users\\Mr.Li\\AppData\\Local\\Temp\\ipykernel_11232\\1412807090.py:49: SettingWithCopyWarning: \n",
      "A value is trying to be set on a copy of a slice from a DataFrame.\n",
      "Try using .loc[row_indexer,col_indexer] = value instead\n",
      "\n",
      "See the caveats in the documentation: https://pandas.pydata.org/pandas-docs/stable/user_guide/indexing.html#returning-a-view-versus-a-copy\n",
      "  prediction['prob'] += pred_test / kfold.n_splits\n"
     ]
    }
   ],
   "source": [
    "feature_names = list(train_X.columns)\n",
    "\n",
    "#包外验证\n",
    "df_oof = train_X[['id']].copy()\n",
    "df_oof['label'] = train_y\n",
    "df_oof['prob'] = 0\n",
    "\n",
    "#存放测试结果\n",
    "prediction = test_df[['id']]\n",
    "prediction['prob'] = 0\n",
    "\n",
    "#重要特征列表\n",
    "df_importance_list = []\n",
    "\n",
    "model = xgboost.XGBClassifier(\n",
    "                            n_estimators = 500,\n",
    "                            n_jobs = -1,\n",
    "                            max_depth = 6,\n",
    "                            learning_rate = 0.05,\n",
    "                            subsample = 0.8,\n",
    "                            gamma = 0.5,\n",
    "                            reg_alpha = 3,\n",
    "                            reg_lambda = 1,\n",
    "                            random_state = seed_state)\n",
    "\n",
    "kfold = StratifiedKFold(n_splits=5, shuffle=True, random_state=seed_state)\n",
    "\n",
    "for fold_id,(train_idx, val_idx) in enumerate(kfold.split(train_X, train_y)):\n",
    "    train_X_kfold = train_X.iloc[train_idx]\n",
    "    train_y_kfold = train_y.iloc[train_idx]\n",
    "    val_X_kfold = train_X.iloc[val_idx]\n",
    "    val_y_kfold = train_y.iloc[val_idx]\n",
    "    \n",
    "    print('\\nFold_{} Training ========================\\n'.format(\n",
    "        fold_id + 1))\n",
    "    \n",
    "    xgb_model = model.fit(train_X_kfold,\n",
    "                          train_y_kfold,\n",
    "                          eval_set=[(train_X_kfold, train_y_kfold), (val_X_kfold, val_y_kfold)],\n",
    "                          verbose=100,\n",
    "                          eval_metric='auc',\n",
    "                          early_stopping_rounds=50)\n",
    "    \n",
    "    pred_val = xgb_model.predict_proba(val_X_kfold)[:, 1]\n",
    "    df_oof.loc[val_idx, 'prob'] = pred_val\n",
    "    \n",
    "    \n",
    "    pred_test = xgb_model.predict_proba(test_df)[:, 1]\n",
    "    prediction['prob'] += pred_test / kfold.n_splits\n",
    "\n",
    "    df_importance = pd.DataFrame({\n",
    "        'column': feature_names,\n",
    "        'importance': xgb_model.feature_importances_,\n",
    "    })\n",
    "    df_importance_list.append(df_importance)\n",
    "\n",
    "    del xgb_model, pred_val, pred_test, train_X_kfold, train_y_kfold, val_X_kfold, val_y_kfold\n",
    "    gc.collect()"
   ]
  },
  {
   "cell_type": "code",
   "execution_count": 59,
   "id": "53cfcb68",
   "metadata": {},
   "outputs": [
    {
     "data": {
      "text/plain": [
       "[                                    column  importance\n",
       " 0                                       id    0.003147\n",
       " 1                                 loanAmnt    0.005039\n",
       " 2                                     term    0.026692\n",
       " 3                             interestRate    0.004421\n",
       " 4                              installment    0.006069\n",
       " ..                                     ...         ...\n",
       " 92                      issueDate_year_n14    0.007922\n",
       " 93          issueDate_year_issueDate_month    0.005823\n",
       " 94            issueDate_year_issueDate_day    0.000000\n",
       " 95  issueDate_year_earliesCreditLine_month    0.003463\n",
       " 96   issueDate_year_earliesCreditLine_year    0.005083\n",
       " \n",
       " [97 rows x 2 columns],\n",
       "                                     column  importance\n",
       " 0                                       id    0.003113\n",
       " 1                                 loanAmnt    0.005172\n",
       " 2                                     term    0.024438\n",
       " 3                             interestRate    0.004154\n",
       " 4                              installment    0.006068\n",
       " ..                                     ...         ...\n",
       " 92                      issueDate_year_n14    0.007642\n",
       " 93          issueDate_year_issueDate_month    0.005706\n",
       " 94            issueDate_year_issueDate_day    0.000000\n",
       " 95  issueDate_year_earliesCreditLine_month    0.003444\n",
       " 96   issueDate_year_earliesCreditLine_year    0.004544\n",
       " \n",
       " [97 rows x 2 columns],\n",
       "                                     column  importance\n",
       " 0                                       id    0.003086\n",
       " 1                                 loanAmnt    0.005307\n",
       " 2                                     term    0.023460\n",
       " 3                             interestRate    0.004166\n",
       " 4                              installment    0.005512\n",
       " ..                                     ...         ...\n",
       " 92                      issueDate_year_n14    0.008183\n",
       " 93          issueDate_year_issueDate_month    0.005210\n",
       " 94            issueDate_year_issueDate_day    0.000000\n",
       " 95  issueDate_year_earliesCreditLine_month    0.003238\n",
       " 96   issueDate_year_earliesCreditLine_year    0.004955\n",
       " \n",
       " [97 rows x 2 columns],\n",
       "                                     column  importance\n",
       " 0                                       id    0.003033\n",
       " 1                                 loanAmnt    0.006771\n",
       " 2                                     term    0.027520\n",
       " 3                             interestRate    0.004402\n",
       " 4                              installment    0.005964\n",
       " ..                                     ...         ...\n",
       " 92                      issueDate_year_n14    0.008038\n",
       " 93          issueDate_year_issueDate_month    0.005552\n",
       " 94            issueDate_year_issueDate_day    0.000000\n",
       " 95  issueDate_year_earliesCreditLine_month    0.003164\n",
       " 96   issueDate_year_earliesCreditLine_year    0.005062\n",
       " \n",
       " [97 rows x 2 columns],\n",
       "                                     column  importance\n",
       " 0                                       id    0.003181\n",
       " 1                                 loanAmnt    0.005479\n",
       " 2                                     term    0.027817\n",
       " 3                             interestRate    0.003984\n",
       " 4                              installment    0.005952\n",
       " ..                                     ...         ...\n",
       " 92                      issueDate_year_n14    0.007702\n",
       " 93          issueDate_year_issueDate_month    0.005552\n",
       " 94            issueDate_year_issueDate_day    0.000000\n",
       " 95  issueDate_year_earliesCreditLine_month    0.003258\n",
       " 96   issueDate_year_earliesCreditLine_year    0.004900\n",
       " \n",
       " [97 rows x 2 columns]]"
      ]
     },
     "execution_count": 59,
     "metadata": {},
     "output_type": "execute_result"
    }
   ],
   "source": [
    "df_importance_list"
   ]
  },
  {
   "cell_type": "code",
   "execution_count": 60,
   "id": "e11882f0",
   "metadata": {},
   "outputs": [],
   "source": [
    "df_importance = pd.concat(df_importance_list)\n",
    "df_importance = df_importance.groupby(['column'])['importance'].mean().sort_values(ascending = False).reset_index()"
   ]
  },
  {
   "cell_type": "code",
   "execution_count": 61,
   "id": "204de0de",
   "metadata": {},
   "outputs": [],
   "source": [
    "df_importance.to_csv(\"./feature_importance_issueDate_year_others.csv\")"
   ]
  },
  {
   "cell_type": "code",
   "execution_count": null,
   "id": "80dc1144",
   "metadata": {},
   "outputs": [],
   "source": []
  },
  {
   "cell_type": "code",
   "execution_count": 32,
   "id": "4caee064",
   "metadata": {},
   "outputs": [],
   "source": [
    "pd.read_csv(\"./untitled.txt\").to_csv(\"./ss.csv\",encoding = 'gbk')"
   ]
  },
  {
   "cell_type": "code",
   "execution_count": 34,
   "id": "d1369e00",
   "metadata": {},
   "outputs": [],
   "source": [
    "prediction.to_csv(\"./submition.csv\")"
   ]
  },
  {
   "cell_type": "code",
   "execution_count": null,
   "id": "0977a2db",
   "metadata": {},
   "outputs": [],
   "source": []
  }
 ],
 "metadata": {
  "kernelspec": {
   "display_name": "Python 3 (ipykernel)",
   "language": "python",
   "name": "python3"
  },
  "language_info": {
   "codemirror_mode": {
    "name": "ipython",
    "version": 3
   },
   "file_extension": ".py",
   "mimetype": "text/x-python",
   "name": "python",
   "nbconvert_exporter": "python",
   "pygments_lexer": "ipython3",
   "version": "3.9.13"
  }
 },
 "nbformat": 4,
 "nbformat_minor": 5
}
