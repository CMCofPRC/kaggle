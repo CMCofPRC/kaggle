{
 "cells": [
  {
   "cell_type": "code",
   "execution_count": 14,
   "id": "babcee29",
   "metadata": {},
   "outputs": [],
   "source": [
    "import pandas as pd\n",
    "import gc\n",
    "import numpy as np\n",
    "from sklearn.tree import DecisionTreeClassifier\n",
    "from sklearn.ensemble import RandomForestClassifier\n",
    "from sklearn.metrics import roc_auc_score\n",
    "from sklearn.model_selection import StratifiedKFold\n",
    "from scipy.stats import pearsonr\n",
    "import xgboost\n",
    "import lightgbm\n",
    "\n",
    "seed_state = 2022\n"
   ]
  },
  {
   "cell_type": "code",
   "execution_count": 23,
   "id": "771756e3",
   "metadata": {},
   "outputs": [],
   "source": [
    "train_X = pd.read_csv(\"../train_bin.csv\")\n",
    "test_X = pd.read_csv(\"../test_bin.csv\")"
   ]
  },
  {
   "cell_type": "code",
   "execution_count": 24,
   "id": "2e2791ca",
   "metadata": {},
   "outputs": [],
   "source": [
    "train_y = train_X['isDefault']\n",
    "train_X.drop(labels = ['isDefault'], axis = 1, inplace = True)"
   ]
  },
  {
   "cell_type": "code",
   "execution_count": 25,
   "id": "cbedee90",
   "metadata": {},
   "outputs": [],
   "source": [
    "drop_list = ['ficoRangeHigh','n3','policyCode']\n",
    "train_X.drop(labels = drop_list, axis = 1, inplace = True)\n",
    "test_X.drop(labels = drop_list, axis = 1, inplace = True)"
   ]
  },
  {
   "cell_type": "code",
   "execution_count": 26,
   "id": "fd2efc71",
   "metadata": {},
   "outputs": [
    {
     "name": "stdout",
     "output_type": "stream",
     "text": [
      "<class 'pandas.core.frame.DataFrame'>\n",
      "RangeIndex: 800000 entries, 0 to 799999\n",
      "Data columns (total 45 columns):\n",
      " #   Column                   Non-Null Count   Dtype  \n",
      "---  ------                   --------------   -----  \n",
      " 0   id                       800000 non-null  int64  \n",
      " 1   loanAmnt                 800000 non-null  float64\n",
      " 2   term                     800000 non-null  int64  \n",
      " 3   interestRate             800000 non-null  float64\n",
      " 4   installment              800000 non-null  float64\n",
      " 5   grade                    800000 non-null  int64  \n",
      " 6   subGrade                 800000 non-null  int64  \n",
      " 7   employmentTitle          800000 non-null  float64\n",
      " 8   employmentLength         800000 non-null  int64  \n",
      " 9   homeOwnership            800000 non-null  int64  \n",
      " 10  annualIncome             800000 non-null  int64  \n",
      " 11  verificationStatus       800000 non-null  int64  \n",
      " 12  purpose                  800000 non-null  int64  \n",
      " 13  postCode                 800000 non-null  float64\n",
      " 14  regionCode               800000 non-null  int64  \n",
      " 15  dti                      800000 non-null  int64  \n",
      " 16  delinquency_2years       800000 non-null  float64\n",
      " 17  ficoRangeLow             800000 non-null  float64\n",
      " 18  openAcc                  800000 non-null  float64\n",
      " 19  pubRec                   800000 non-null  float64\n",
      " 20  pubRecBankruptcies       800000 non-null  float64\n",
      " 21  revolBal                 800000 non-null  float64\n",
      " 22  revolUtil                800000 non-null  int64  \n",
      " 23  totalAcc                 800000 non-null  float64\n",
      " 24  initialListStatus        800000 non-null  int64  \n",
      " 25  applicationType          800000 non-null  int64  \n",
      " 26  title                    800000 non-null  float64\n",
      " 27  n0                       800000 non-null  float64\n",
      " 28  n1                       800000 non-null  float64\n",
      " 29  n2                       800000 non-null  float64\n",
      " 30  n4                       800000 non-null  float64\n",
      " 31  n5                       800000 non-null  float64\n",
      " 32  n6                       800000 non-null  float64\n",
      " 33  n7                       800000 non-null  float64\n",
      " 34  n8                       800000 non-null  float64\n",
      " 35  n9                       800000 non-null  float64\n",
      " 36  n10                      800000 non-null  float64\n",
      " 37  n11                      800000 non-null  float64\n",
      " 38  n12                      800000 non-null  float64\n",
      " 39  n13                      800000 non-null  float64\n",
      " 40  n14                      800000 non-null  float64\n",
      " 41  issueDate_year           800000 non-null  int64  \n",
      " 42  issueDate_month          800000 non-null  int64  \n",
      " 43  earliesCreditLine_year   800000 non-null  int64  \n",
      " 44  earliesCreditLine_month  800000 non-null  int64  \n",
      "dtypes: float64(27), int64(18)\n",
      "memory usage: 274.7 MB\n"
     ]
    }
   ],
   "source": [
    "train_X.info()"
   ]
  },
  {
   "cell_type": "markdown",
   "id": "62e1d12a",
   "metadata": {},
   "source": [
    "## 1. 重要特征——暴力组合"
   ]
  },
  {
   "cell_type": "code",
   "execution_count": 7,
   "id": "b6bdd374",
   "metadata": {
    "scrolled": true
   },
   "outputs": [
    {
     "name": "stderr",
     "output_type": "stream",
     "text": [
      "UserWarning: Distributing <class 'NoneType'> object. This may take some time.\n"
     ]
    },
    {
     "name": "stdout",
     "output_type": "stream",
     "text": [
      "1 grade_loanAmnt \n",
      "\n",
      "2 grade_term \n",
      "\n",
      "3 grade_interestRate \n",
      "\n",
      "4 grade_installment \n",
      "\n",
      "5 grade_grade \n",
      "\n",
      "6 grade_subGrade \n",
      "\n",
      "7 grade_verificationStatus \n",
      "\n",
      "8 grade_dti \n",
      "\n",
      "9 grade_ficoRangeLow \n",
      "\n",
      "10 grade_openAcc \n",
      "\n",
      "11 grade_revolUtil \n",
      "\n",
      "12 grade_totalAcc \n",
      "\n",
      "13 grade_n1 \n",
      "\n",
      "14 grade_n2 \n",
      "\n"
     ]
    },
    {
     "name": "stderr",
     "output_type": "stream",
     "text": [
      "2022-10-25 16:03:23,929 - distributed.utils_perf - WARNING - full garbage collections took 21% CPU time recently (threshold: 10%)\n"
     ]
    },
    {
     "name": "stdout",
     "output_type": "stream",
     "text": [
      "15 grade_n4 \n",
      "\n"
     ]
    },
    {
     "name": "stderr",
     "output_type": "stream",
     "text": [
      "2022-10-25 16:03:24,816 - distributed.utils_perf - WARNING - full garbage collections took 21% CPU time recently (threshold: 10%)\n",
      "2022-10-25 16:03:25,519 - distributed.utils_perf - WARNING - full garbage collections took 21% CPU time recently (threshold: 10%)\n",
      "2022-10-25 16:03:26,211 - distributed.utils_perf - WARNING - full garbage collections took 21% CPU time recently (threshold: 10%)\n"
     ]
    },
    {
     "name": "stdout",
     "output_type": "stream",
     "text": [
      "16 grade_n7 \n",
      "\n"
     ]
    },
    {
     "name": "stderr",
     "output_type": "stream",
     "text": [
      "2022-10-25 16:03:27,086 - distributed.utils_perf - WARNING - full garbage collections took 21% CPU time recently (threshold: 10%)\n"
     ]
    },
    {
     "name": "stdout",
     "output_type": "stream",
     "text": [
      "17 grade_n8 \n",
      "\n"
     ]
    },
    {
     "name": "stderr",
     "output_type": "stream",
     "text": [
      "2022-10-25 16:03:27,913 - distributed.utils_perf - WARNING - full garbage collections took 21% CPU time recently (threshold: 10%)\n"
     ]
    },
    {
     "name": "stdout",
     "output_type": "stream",
     "text": [
      "18 grade_n9 \n",
      "\n"
     ]
    },
    {
     "name": "stderr",
     "output_type": "stream",
     "text": [
      "2022-10-25 16:03:28,842 - distributed.utils_perf - WARNING - full garbage collections took 21% CPU time recently (threshold: 10%)\n"
     ]
    },
    {
     "name": "stdout",
     "output_type": "stream",
     "text": [
      "19 grade_n10 \n",
      "\n"
     ]
    },
    {
     "name": "stderr",
     "output_type": "stream",
     "text": [
      "2022-10-25 16:03:29,803 - distributed.utils_perf - WARNING - full garbage collections took 21% CPU time recently (threshold: 10%)\n",
      "2022-10-25 16:03:30,503 - distributed.utils_perf - WARNING - full garbage collections took 21% CPU time recently (threshold: 10%)\n",
      "2022-10-25 16:03:31,182 - distributed.utils_perf - WARNING - full garbage collections took 22% CPU time recently (threshold: 10%)\n",
      "2022-10-25 16:03:31,812 - distributed.utils_perf - WARNING - full garbage collections took 22% CPU time recently (threshold: 10%)\n"
     ]
    },
    {
     "name": "stdout",
     "output_type": "stream",
     "text": [
      "20 grade_n14 \n",
      "\n"
     ]
    },
    {
     "name": "stderr",
     "output_type": "stream",
     "text": [
      "2022-10-25 16:03:32,711 - distributed.utils_perf - WARNING - full garbage collections took 22% CPU time recently (threshold: 10%)\n"
     ]
    },
    {
     "name": "stdout",
     "output_type": "stream",
     "text": [
      "21 grade_issueDate_year \n",
      "\n"
     ]
    },
    {
     "name": "stderr",
     "output_type": "stream",
     "text": [
      "2022-10-25 16:03:33,601 - distributed.utils_perf - WARNING - full garbage collections took 22% CPU time recently (threshold: 10%)\n"
     ]
    },
    {
     "name": "stdout",
     "output_type": "stream",
     "text": [
      "22 grade_issueDate_month \n",
      "\n"
     ]
    },
    {
     "name": "stderr",
     "output_type": "stream",
     "text": [
      "2022-10-25 16:03:34,479 - distributed.utils_perf - WARNING - full garbage collections took 22% CPU time recently (threshold: 10%)\n"
     ]
    },
    {
     "name": "stdout",
     "output_type": "stream",
     "text": [
      "23 grade_earliesCreditLine_month \n",
      "\n"
     ]
    },
    {
     "name": "stderr",
     "output_type": "stream",
     "text": [
      "2022-10-25 16:03:35,434 - distributed.utils_perf - WARNING - full garbage collections took 22% CPU time recently (threshold: 10%)\n"
     ]
    },
    {
     "name": "stdout",
     "output_type": "stream",
     "text": [
      "24 grade_earliesCreditLine_year \n",
      "\n"
     ]
    },
    {
     "name": "stderr",
     "output_type": "stream",
     "text": [
      "2022-10-25 16:03:36,339 - distributed.utils_perf - WARNING - full garbage collections took 22% CPU time recently (threshold: 10%)\n",
      "2022-10-25 16:03:37,059 - distributed.utils_perf - WARNING - full garbage collections took 22% CPU time recently (threshold: 10%)\n"
     ]
    },
    {
     "name": "stdout",
     "output_type": "stream",
     "text": [
      "25 subGrade_loanAmnt \n",
      "\n"
     ]
    },
    {
     "name": "stderr",
     "output_type": "stream",
     "text": [
      "2022-10-25 16:03:38,004 - distributed.utils_perf - WARNING - full garbage collections took 21% CPU time recently (threshold: 10%)\n"
     ]
    },
    {
     "name": "stdout",
     "output_type": "stream",
     "text": [
      "26 subGrade_term \n",
      "\n"
     ]
    },
    {
     "name": "stderr",
     "output_type": "stream",
     "text": [
      "2022-10-25 16:03:38,916 - distributed.utils_perf - WARNING - full garbage collections took 21% CPU time recently (threshold: 10%)\n"
     ]
    },
    {
     "name": "stdout",
     "output_type": "stream",
     "text": [
      "27 subGrade_interestRate \n",
      "\n"
     ]
    },
    {
     "name": "stderr",
     "output_type": "stream",
     "text": [
      "2022-10-25 16:03:39,879 - distributed.utils_perf - WARNING - full garbage collections took 21% CPU time recently (threshold: 10%)\n"
     ]
    },
    {
     "name": "stdout",
     "output_type": "stream",
     "text": [
      "28 subGrade_installment \n",
      "\n"
     ]
    },
    {
     "name": "stderr",
     "output_type": "stream",
     "text": [
      "2022-10-25 16:03:40,840 - distributed.utils_perf - WARNING - full garbage collections took 22% CPU time recently (threshold: 10%)\n"
     ]
    },
    {
     "name": "stdout",
     "output_type": "stream",
     "text": [
      "重复了\n",
      "29 subGrade_subGrade \n",
      "\n"
     ]
    },
    {
     "name": "stderr",
     "output_type": "stream",
     "text": [
      "2022-10-25 16:03:41,856 - distributed.utils_perf - WARNING - full garbage collections took 21% CPU time recently (threshold: 10%)\n",
      "2022-10-25 16:03:42,624 - distributed.utils_perf - WARNING - full garbage collections took 22% CPU time recently (threshold: 10%)\n",
      "2022-10-25 16:03:43,330 - distributed.utils_perf - WARNING - full garbage collections took 22% CPU time recently (threshold: 10%)\n",
      "2022-10-25 16:03:44,024 - distributed.utils_perf - WARNING - full garbage collections took 22% CPU time recently (threshold: 10%)\n",
      "2022-10-25 16:03:44,781 - distributed.utils_perf - WARNING - full garbage collections took 22% CPU time recently (threshold: 10%)\n"
     ]
    },
    {
     "name": "stdout",
     "output_type": "stream",
     "text": [
      "30 subGrade_verificationStatus \n",
      "\n"
     ]
    },
    {
     "name": "stderr",
     "output_type": "stream",
     "text": [
      "2022-10-25 16:03:45,793 - distributed.utils_perf - WARNING - full garbage collections took 22% CPU time recently (threshold: 10%)\n",
      "2022-10-25 16:03:46,613 - distributed.utils_perf - WARNING - full garbage collections took 22% CPU time recently (threshold: 10%)\n",
      "2022-10-25 16:03:47,286 - distributed.utils_perf - WARNING - full garbage collections took 22% CPU time recently (threshold: 10%)\n",
      "2022-10-25 16:03:47,967 - distributed.utils_perf - WARNING - full garbage collections took 23% CPU time recently (threshold: 10%)\n"
     ]
    },
    {
     "name": "stdout",
     "output_type": "stream",
     "text": [
      "31 subGrade_dti \n",
      "\n"
     ]
    },
    {
     "name": "stderr",
     "output_type": "stream",
     "text": [
      "2022-10-25 16:03:48,913 - distributed.utils_perf - WARNING - full garbage collections took 23% CPU time recently (threshold: 10%)\n",
      "2022-10-25 16:03:49,745 - distributed.utils_perf - WARNING - full garbage collections took 23% CPU time recently (threshold: 10%)\n"
     ]
    },
    {
     "name": "stdout",
     "output_type": "stream",
     "text": [
      "32 subGrade_ficoRangeLow \n",
      "\n"
     ]
    },
    {
     "name": "stderr",
     "output_type": "stream",
     "text": [
      "2022-10-25 16:03:50,650 - distributed.utils_perf - WARNING - full garbage collections took 23% CPU time recently (threshold: 10%)\n"
     ]
    },
    {
     "name": "stdout",
     "output_type": "stream",
     "text": [
      "33 subGrade_openAcc \n",
      "\n"
     ]
    },
    {
     "name": "stderr",
     "output_type": "stream",
     "text": [
      "2022-10-25 16:03:51,585 - distributed.utils_perf - WARNING - full garbage collections took 23% CPU time recently (threshold: 10%)\n",
      "2022-10-25 16:03:52,323 - distributed.utils_perf - WARNING - full garbage collections took 23% CPU time recently (threshold: 10%)\n",
      "2022-10-25 16:03:52,972 - distributed.utils_perf - WARNING - full garbage collections took 23% CPU time recently (threshold: 10%)\n",
      "2022-10-25 16:03:53,720 - distributed.utils_perf - WARNING - full garbage collections took 24% CPU time recently (threshold: 10%)\n"
     ]
    },
    {
     "name": "stdout",
     "output_type": "stream",
     "text": [
      "34 subGrade_revolUtil \n",
      "\n"
     ]
    },
    {
     "name": "stderr",
     "output_type": "stream",
     "text": [
      "2022-10-25 16:03:54,603 - distributed.utils_perf - WARNING - full garbage collections took 24% CPU time recently (threshold: 10%)\n"
     ]
    },
    {
     "name": "stdout",
     "output_type": "stream",
     "text": [
      "35 subGrade_totalAcc \n",
      "\n"
     ]
    },
    {
     "name": "stderr",
     "output_type": "stream",
     "text": [
      "2022-10-25 16:03:55,586 - distributed.utils_perf - WARNING - full garbage collections took 23% CPU time recently (threshold: 10%)\n",
      "2022-10-25 16:03:56,319 - distributed.utils_perf - WARNING - full garbage collections took 23% CPU time recently (threshold: 10%)\n",
      "2022-10-25 16:03:57,060 - distributed.utils_perf - WARNING - full garbage collections took 23% CPU time recently (threshold: 10%)\n",
      "2022-10-25 16:03:57,745 - distributed.utils_perf - WARNING - full garbage collections took 23% CPU time recently (threshold: 10%)\n",
      "2022-10-25 16:03:58,391 - distributed.utils_perf - WARNING - full garbage collections took 24% CPU time recently (threshold: 10%)\n"
     ]
    },
    {
     "name": "stdout",
     "output_type": "stream",
     "text": [
      "36 subGrade_n1 \n",
      "\n"
     ]
    },
    {
     "name": "stderr",
     "output_type": "stream",
     "text": [
      "2022-10-25 16:03:59,268 - distributed.utils_perf - WARNING - full garbage collections took 24% CPU time recently (threshold: 10%)\n"
     ]
    },
    {
     "name": "stdout",
     "output_type": "stream",
     "text": [
      "37 subGrade_n2 \n",
      "\n"
     ]
    },
    {
     "name": "stderr",
     "output_type": "stream",
     "text": [
      "2022-10-25 16:04:00,247 - distributed.utils_perf - WARNING - full garbage collections took 24% CPU time recently (threshold: 10%)\n",
      "2022-10-25 16:04:01,157 - distributed.utils_perf - WARNING - full garbage collections took 24% CPU time recently (threshold: 10%)\n",
      "2022-10-25 16:04:01,996 - distributed.utils_perf - WARNING - full garbage collections took 24% CPU time recently (threshold: 10%)\n",
      "2022-10-25 16:04:02,830 - distributed.utils_perf - WARNING - full garbage collections took 25% CPU time recently (threshold: 10%)\n"
     ]
    },
    {
     "name": "stdout",
     "output_type": "stream",
     "text": [
      "38 subGrade_n7 \n",
      "\n"
     ]
    },
    {
     "name": "stderr",
     "output_type": "stream",
     "text": [
      "2022-10-25 16:04:03,744 - distributed.utils_perf - WARNING - full garbage collections took 25% CPU time recently (threshold: 10%)\n",
      "2022-10-25 16:04:04,410 - distributed.utils_perf - WARNING - full garbage collections took 25% CPU time recently (threshold: 10%)\n"
     ]
    },
    {
     "name": "stdout",
     "output_type": "stream",
     "text": [
      "39 subGrade_n9 \n",
      "\n"
     ]
    },
    {
     "name": "stderr",
     "output_type": "stream",
     "text": [
      "2022-10-25 16:04:05,289 - distributed.utils_perf - WARNING - full garbage collections took 25% CPU time recently (threshold: 10%)\n"
     ]
    },
    {
     "name": "stdout",
     "output_type": "stream",
     "text": [
      "40 subGrade_n10 \n",
      "\n"
     ]
    },
    {
     "name": "stderr",
     "output_type": "stream",
     "text": [
      "2022-10-25 16:04:06,228 - distributed.utils_perf - WARNING - full garbage collections took 25% CPU time recently (threshold: 10%)\n",
      "2022-10-25 16:04:06,932 - distributed.utils_perf - WARNING - full garbage collections took 25% CPU time recently (threshold: 10%)\n",
      "2022-10-25 16:04:07,694 - distributed.utils_perf - WARNING - full garbage collections took 25% CPU time recently (threshold: 10%)\n",
      "2022-10-25 16:04:08,320 - distributed.utils_perf - WARNING - full garbage collections took 25% CPU time recently (threshold: 10%)\n",
      "2022-10-25 16:04:09,023 - distributed.utils_perf - WARNING - full garbage collections took 25% CPU time recently (threshold: 10%)\n"
     ]
    },
    {
     "name": "stdout",
     "output_type": "stream",
     "text": [
      "41 subGrade_issueDate_year \n",
      "\n"
     ]
    },
    {
     "name": "stderr",
     "output_type": "stream",
     "text": [
      "2022-10-25 16:04:09,852 - distributed.utils_perf - WARNING - full garbage collections took 25% CPU time recently (threshold: 10%)\n",
      "2022-10-25 16:04:10,602 - distributed.utils_perf - WARNING - full garbage collections took 25% CPU time recently (threshold: 10%)\n"
     ]
    },
    {
     "name": "stdout",
     "output_type": "stream",
     "text": [
      "42 subGrade_earliesCreditLine_month \n",
      "\n"
     ]
    },
    {
     "name": "stderr",
     "output_type": "stream",
     "text": [
      "2022-10-25 16:04:11,479 - distributed.utils_perf - WARNING - full garbage collections took 25% CPU time recently (threshold: 10%)\n"
     ]
    },
    {
     "name": "stdout",
     "output_type": "stream",
     "text": [
      "43 subGrade_earliesCreditLine_year \n",
      "\n"
     ]
    },
    {
     "name": "stderr",
     "output_type": "stream",
     "text": [
      "2022-10-25 16:04:12,365 - distributed.utils_perf - WARNING - full garbage collections took 25% CPU time recently (threshold: 10%)\n",
      "2022-10-25 16:04:13,122 - distributed.utils_perf - WARNING - full garbage collections took 25% CPU time recently (threshold: 10%)\n",
      "2022-10-25 16:04:13,836 - distributed.utils_perf - WARNING - full garbage collections took 25% CPU time recently (threshold: 10%)\n",
      "2022-10-25 16:04:14,532 - distributed.utils_perf - WARNING - full garbage collections took 25% CPU time recently (threshold: 10%)\n"
     ]
    },
    {
     "name": "stdout",
     "output_type": "stream",
     "text": [
      "44 term_interestRate \n",
      "\n"
     ]
    },
    {
     "name": "stderr",
     "output_type": "stream",
     "text": [
      "2022-10-25 16:04:15,426 - distributed.utils_perf - WARNING - full garbage collections took 26% CPU time recently (threshold: 10%)\n",
      "2022-10-25 16:04:16,256 - distributed.utils_perf - WARNING - full garbage collections took 26% CPU time recently (threshold: 10%)\n"
     ]
    },
    {
     "name": "stdout",
     "output_type": "stream",
     "text": [
      "重复了\n",
      "重复了\n"
     ]
    },
    {
     "name": "stderr",
     "output_type": "stream",
     "text": [
      "2022-10-25 16:04:17,045 - distributed.utils_perf - WARNING - full garbage collections took 26% CPU time recently (threshold: 10%)\n",
      "2022-10-25 16:04:17,872 - distributed.utils_perf - WARNING - full garbage collections took 26% CPU time recently (threshold: 10%)\n",
      "2022-10-25 16:04:18,564 - distributed.utils_perf - WARNING - full garbage collections took 26% CPU time recently (threshold: 10%)\n",
      "2022-10-25 16:04:19,258 - distributed.utils_perf - WARNING - full garbage collections took 27% CPU time recently (threshold: 10%)\n",
      "2022-10-25 16:04:19,957 - distributed.utils_perf - WARNING - full garbage collections took 27% CPU time recently (threshold: 10%)\n",
      "2022-10-25 16:04:20,658 - distributed.utils_perf - WARNING - full garbage collections took 27% CPU time recently (threshold: 10%)\n",
      "2022-10-25 16:04:21,326 - distributed.utils_perf - WARNING - full garbage collections took 27% CPU time recently (threshold: 10%)\n",
      "2022-10-25 16:04:22,070 - distributed.utils_perf - WARNING - full garbage collections took 27% CPU time recently (threshold: 10%)\n",
      "2022-10-25 16:04:22,744 - distributed.utils_perf - WARNING - full garbage collections took 27% CPU time recently (threshold: 10%)\n",
      "2022-10-25 16:04:23,433 - distributed.utils_perf - WARNING - full garbage collections took 27% CPU time recently (threshold: 10%)\n",
      "2022-10-25 16:04:24,187 - distributed.utils_perf - WARNING - full garbage collections took 27% CPU time recently (threshold: 10%)\n",
      "2022-10-25 16:04:24,857 - distributed.utils_perf - WARNING - full garbage collections took 27% CPU time recently (threshold: 10%)\n",
      "2022-10-25 16:04:25,562 - distributed.utils_perf - WARNING - full garbage collections took 27% CPU time recently (threshold: 10%)\n",
      "2022-10-25 16:04:26,271 - distributed.utils_perf - WARNING - full garbage collections took 27% CPU time recently (threshold: 10%)\n",
      "2022-10-25 16:04:26,977 - distributed.utils_perf - WARNING - full garbage collections took 27% CPU time recently (threshold: 10%)\n",
      "2022-10-25 16:04:27,734 - distributed.utils_perf - WARNING - full garbage collections took 28% CPU time recently (threshold: 10%)\n",
      "2022-10-25 16:04:28,385 - distributed.utils_perf - WARNING - full garbage collections took 28% CPU time recently (threshold: 10%)\n",
      "2022-10-25 16:04:29,138 - distributed.utils_perf - WARNING - full garbage collections took 28% CPU time recently (threshold: 10%)\n",
      "2022-10-25 16:04:29,846 - distributed.utils_perf - WARNING - full garbage collections took 28% CPU time recently (threshold: 10%)\n",
      "2022-10-25 16:04:30,542 - distributed.utils_perf - WARNING - full garbage collections took 28% CPU time recently (threshold: 10%)\n",
      "2022-10-25 16:04:31,336 - distributed.utils_perf - WARNING - full garbage collections took 28% CPU time recently (threshold: 10%)\n",
      "2022-10-25 16:04:32,114 - distributed.utils_perf - WARNING - full garbage collections took 28% CPU time recently (threshold: 10%)\n",
      "2022-10-25 16:04:32,909 - distributed.utils_perf - WARNING - full garbage collections took 29% CPU time recently (threshold: 10%)\n",
      "2022-10-25 16:04:33,805 - distributed.utils_perf - WARNING - full garbage collections took 29% CPU time recently (threshold: 10%)\n",
      "2022-10-25 16:04:34,541 - distributed.utils_perf - WARNING - full garbage collections took 29% CPU time recently (threshold: 10%)\n",
      "2022-10-25 16:04:35,215 - distributed.utils_perf - WARNING - full garbage collections took 29% CPU time recently (threshold: 10%)\n",
      "2022-10-25 16:04:35,925 - distributed.utils_perf - WARNING - full garbage collections took 29% CPU time recently (threshold: 10%)\n",
      "2022-10-25 16:04:36,606 - distributed.utils_perf - WARNING - full garbage collections took 29% CPU time recently (threshold: 10%)\n",
      "2022-10-25 16:04:37,301 - distributed.utils_perf - WARNING - full garbage collections took 29% CPU time recently (threshold: 10%)\n",
      "2022-10-25 16:04:37,996 - distributed.utils_perf - WARNING - full garbage collections took 29% CPU time recently (threshold: 10%)\n",
      "2022-10-25 16:04:38,703 - distributed.utils_perf - WARNING - full garbage collections took 29% CPU time recently (threshold: 10%)\n",
      "2022-10-25 16:04:39,368 - distributed.utils_perf - WARNING - full garbage collections took 29% CPU time recently (threshold: 10%)\n",
      "2022-10-25 16:04:40,128 - distributed.utils_perf - WARNING - full garbage collections took 29% CPU time recently (threshold: 10%)\n",
      "2022-10-25 16:04:40,819 - distributed.utils_perf - WARNING - full garbage collections took 30% CPU time recently (threshold: 10%)\n",
      "2022-10-25 16:04:41,493 - distributed.utils_perf - WARNING - full garbage collections took 30% CPU time recently (threshold: 10%)\n",
      "2022-10-25 16:04:42,247 - distributed.utils_perf - WARNING - full garbage collections took 30% CPU time recently (threshold: 10%)\n",
      "2022-10-25 16:04:42,943 - distributed.utils_perf - WARNING - full garbage collections took 30% CPU time recently (threshold: 10%)\n",
      "2022-10-25 16:04:43,670 - distributed.utils_perf - WARNING - full garbage collections took 30% CPU time recently (threshold: 10%)\n",
      "2022-10-25 16:04:44,346 - distributed.utils_perf - WARNING - full garbage collections took 30% CPU time recently (threshold: 10%)\n",
      "2022-10-25 16:04:45,115 - distributed.utils_perf - WARNING - full garbage collections took 30% CPU time recently (threshold: 10%)\n"
     ]
    },
    {
     "name": "stdout",
     "output_type": "stream",
     "text": [
      "重复了\n"
     ]
    },
    {
     "name": "stderr",
     "output_type": "stream",
     "text": [
      "2022-10-25 16:04:45,801 - distributed.utils_perf - WARNING - full garbage collections took 30% CPU time recently (threshold: 10%)\n",
      "2022-10-25 16:04:46,464 - distributed.utils_perf - WARNING - full garbage collections took 30% CPU time recently (threshold: 10%)\n"
     ]
    },
    {
     "name": "stdout",
     "output_type": "stream",
     "text": [
      "重复了\n",
      "重复了\n"
     ]
    },
    {
     "name": "stderr",
     "output_type": "stream",
     "text": [
      "2022-10-25 16:04:47,243 - distributed.utils_perf - WARNING - full garbage collections took 29% CPU time recently (threshold: 10%)\n",
      "2022-10-25 16:04:47,987 - distributed.utils_perf - WARNING - full garbage collections took 29% CPU time recently (threshold: 10%)\n",
      "2022-10-25 16:04:48,787 - distributed.utils_perf - WARNING - full garbage collections took 30% CPU time recently (threshold: 10%)\n",
      "2022-10-25 16:04:49,657 - distributed.utils_perf - WARNING - full garbage collections took 30% CPU time recently (threshold: 10%)\n",
      "2022-10-25 16:04:50,445 - distributed.utils_perf - WARNING - full garbage collections took 30% CPU time recently (threshold: 10%)\n",
      "2022-10-25 16:04:51,264 - distributed.utils_perf - WARNING - full garbage collections took 30% CPU time recently (threshold: 10%)\n",
      "2022-10-25 16:04:52,068 - distributed.utils_perf - WARNING - full garbage collections took 30% CPU time recently (threshold: 10%)\n",
      "2022-10-25 16:04:52,793 - distributed.utils_perf - WARNING - full garbage collections took 30% CPU time recently (threshold: 10%)\n",
      "2022-10-25 16:04:53,505 - distributed.utils_perf - WARNING - full garbage collections took 30% CPU time recently (threshold: 10%)\n",
      "2022-10-25 16:04:54,294 - distributed.utils_perf - WARNING - full garbage collections took 30% CPU time recently (threshold: 10%)\n",
      "2022-10-25 16:04:55,002 - distributed.utils_perf - WARNING - full garbage collections took 29% CPU time recently (threshold: 10%)\n",
      "2022-10-25 16:04:55,727 - distributed.utils_perf - WARNING - full garbage collections took 30% CPU time recently (threshold: 10%)\n",
      "2022-10-25 16:04:56,478 - distributed.utils_perf - WARNING - full garbage collections took 30% CPU time recently (threshold: 10%)\n",
      "2022-10-25 16:04:57,217 - distributed.utils_perf - WARNING - full garbage collections took 30% CPU time recently (threshold: 10%)\n",
      "2022-10-25 16:04:57,924 - distributed.utils_perf - WARNING - full garbage collections took 30% CPU time recently (threshold: 10%)\n",
      "2022-10-25 16:04:58,671 - distributed.utils_perf - WARNING - full garbage collections took 30% CPU time recently (threshold: 10%)\n",
      "2022-10-25 16:04:59,385 - distributed.utils_perf - WARNING - full garbage collections took 31% CPU time recently (threshold: 10%)\n",
      "2022-10-25 16:05:00,171 - distributed.utils_perf - WARNING - full garbage collections took 31% CPU time recently (threshold: 10%)\n",
      "2022-10-25 16:05:00,858 - distributed.utils_perf - WARNING - full garbage collections took 31% CPU time recently (threshold: 10%)\n",
      "2022-10-25 16:05:01,649 - distributed.utils_perf - WARNING - full garbage collections took 31% CPU time recently (threshold: 10%)\n",
      "2022-10-25 16:05:02,338 - distributed.utils_perf - WARNING - full garbage collections took 31% CPU time recently (threshold: 10%)\n",
      "2022-10-25 16:05:03,042 - distributed.utils_perf - WARNING - full garbage collections took 31% CPU time recently (threshold: 10%)\n",
      "2022-10-25 16:05:03,746 - distributed.utils_perf - WARNING - full garbage collections took 30% CPU time recently (threshold: 10%)\n",
      "2022-10-25 16:05:04,472 - distributed.utils_perf - WARNING - full garbage collections took 30% CPU time recently (threshold: 10%)\n",
      "2022-10-25 16:05:05,300 - distributed.utils_perf - WARNING - full garbage collections took 30% CPU time recently (threshold: 10%)\n",
      "2022-10-25 16:05:06,167 - distributed.utils_perf - WARNING - full garbage collections took 30% CPU time recently (threshold: 10%)\n",
      "2022-10-25 16:05:06,827 - distributed.utils_perf - WARNING - full garbage collections took 30% CPU time recently (threshold: 10%)\n",
      "2022-10-25 16:05:07,560 - distributed.utils_perf - WARNING - full garbage collections took 30% CPU time recently (threshold: 10%)\n",
      "2022-10-25 16:05:08,253 - distributed.utils_perf - WARNING - full garbage collections took 30% CPU time recently (threshold: 10%)\n",
      "2022-10-25 16:05:08,928 - distributed.utils_perf - WARNING - full garbage collections took 30% CPU time recently (threshold: 10%)\n",
      "2022-10-25 16:05:09,695 - distributed.utils_perf - WARNING - full garbage collections took 31% CPU time recently (threshold: 10%)\n",
      "2022-10-25 16:05:10,375 - distributed.utils_perf - WARNING - full garbage collections took 31% CPU time recently (threshold: 10%)\n",
      "2022-10-25 16:05:11,131 - distributed.utils_perf - WARNING - full garbage collections took 31% CPU time recently (threshold: 10%)\n",
      "2022-10-25 16:05:11,788 - distributed.utils_perf - WARNING - full garbage collections took 31% CPU time recently (threshold: 10%)\n",
      "2022-10-25 16:05:12,480 - distributed.utils_perf - WARNING - full garbage collections took 31% CPU time recently (threshold: 10%)\n",
      "2022-10-25 16:05:13,215 - distributed.utils_perf - WARNING - full garbage collections took 31% CPU time recently (threshold: 10%)\n",
      "2022-10-25 16:05:13,880 - distributed.utils_perf - WARNING - full garbage collections took 31% CPU time recently (threshold: 10%)\n",
      "2022-10-25 16:05:14,572 - distributed.utils_perf - WARNING - full garbage collections took 31% CPU time recently (threshold: 10%)\n",
      "2022-10-25 16:05:15,300 - distributed.utils_perf - WARNING - full garbage collections took 31% CPU time recently (threshold: 10%)\n",
      "2022-10-25 16:05:15,999 - distributed.utils_perf - WARNING - full garbage collections took 32% CPU time recently (threshold: 10%)\n"
     ]
    },
    {
     "name": "stdout",
     "output_type": "stream",
     "text": [
      "重复了\n",
      "45 issueDate_year_interestRate \n",
      "\n"
     ]
    },
    {
     "name": "stderr",
     "output_type": "stream",
     "text": [
      "2022-10-25 16:05:16,842 - distributed.utils_perf - WARNING - full garbage collections took 32% CPU time recently (threshold: 10%)\n",
      "2022-10-25 16:05:17,569 - distributed.utils_perf - WARNING - full garbage collections took 31% CPU time recently (threshold: 10%)\n"
     ]
    },
    {
     "name": "stdout",
     "output_type": "stream",
     "text": [
      "重复了\n",
      "重复了\n"
     ]
    },
    {
     "name": "stderr",
     "output_type": "stream",
     "text": [
      "2022-10-25 16:05:18,287 - distributed.utils_perf - WARNING - full garbage collections took 32% CPU time recently (threshold: 10%)\n",
      "2022-10-25 16:05:18,978 - distributed.utils_perf - WARNING - full garbage collections took 32% CPU time recently (threshold: 10%)\n"
     ]
    },
    {
     "name": "stdout",
     "output_type": "stream",
     "text": [
      "重复了\n"
     ]
    },
    {
     "name": "stderr",
     "output_type": "stream",
     "text": [
      "2022-10-25 16:05:19,721 - distributed.utils_perf - WARNING - full garbage collections took 32% CPU time recently (threshold: 10%)\n",
      "2022-10-25 16:05:20,428 - distributed.utils_perf - WARNING - full garbage collections took 32% CPU time recently (threshold: 10%)\n",
      "2022-10-25 16:05:21,211 - distributed.utils_perf - WARNING - full garbage collections took 32% CPU time recently (threshold: 10%)\n",
      "2022-10-25 16:05:21,915 - distributed.utils_perf - WARNING - full garbage collections took 32% CPU time recently (threshold: 10%)\n",
      "2022-10-25 16:05:22,679 - distributed.utils_perf - WARNING - full garbage collections took 32% CPU time recently (threshold: 10%)\n",
      "2022-10-25 16:05:23,349 - distributed.utils_perf - WARNING - full garbage collections took 32% CPU time recently (threshold: 10%)\n",
      "2022-10-25 16:05:24,032 - distributed.utils_perf - WARNING - full garbage collections took 32% CPU time recently (threshold: 10%)\n",
      "2022-10-25 16:05:24,758 - distributed.utils_perf - WARNING - full garbage collections took 32% CPU time recently (threshold: 10%)\n",
      "2022-10-25 16:05:25,463 - distributed.utils_perf - WARNING - full garbage collections took 32% CPU time recently (threshold: 10%)\n",
      "2022-10-25 16:05:26,180 - distributed.utils_perf - WARNING - full garbage collections took 32% CPU time recently (threshold: 10%)\n",
      "2022-10-25 16:05:26,838 - distributed.utils_perf - WARNING - full garbage collections took 33% CPU time recently (threshold: 10%)\n",
      "2022-10-25 16:05:27,578 - distributed.utils_perf - WARNING - full garbage collections took 33% CPU time recently (threshold: 10%)\n",
      "2022-10-25 16:05:28,289 - distributed.utils_perf - WARNING - full garbage collections took 33% CPU time recently (threshold: 10%)\n",
      "2022-10-25 16:05:28,970 - distributed.utils_perf - WARNING - full garbage collections took 33% CPU time recently (threshold: 10%)\n",
      "2022-10-25 16:05:29,720 - distributed.utils_perf - WARNING - full garbage collections took 33% CPU time recently (threshold: 10%)\n",
      "2022-10-25 16:05:30,413 - distributed.utils_perf - WARNING - full garbage collections took 34% CPU time recently (threshold: 10%)\n",
      "2022-10-25 16:05:31,140 - distributed.utils_perf - WARNING - full garbage collections took 34% CPU time recently (threshold: 10%)\n",
      "2022-10-25 16:05:31,823 - distributed.utils_perf - WARNING - full garbage collections took 33% CPU time recently (threshold: 10%)\n",
      "2022-10-25 16:05:32,515 - distributed.utils_perf - WARNING - full garbage collections took 33% CPU time recently (threshold: 10%)\n",
      "2022-10-25 16:05:33,216 - distributed.utils_perf - WARNING - full garbage collections took 33% CPU time recently (threshold: 10%)\n",
      "2022-10-25 16:05:33,891 - distributed.utils_perf - WARNING - full garbage collections took 33% CPU time recently (threshold: 10%)\n",
      "2022-10-25 16:05:34,577 - distributed.utils_perf - WARNING - full garbage collections took 33% CPU time recently (threshold: 10%)\n",
      "2022-10-25 16:05:35,251 - distributed.utils_perf - WARNING - full garbage collections took 33% CPU time recently (threshold: 10%)\n",
      "2022-10-25 16:05:35,919 - distributed.utils_perf - WARNING - full garbage collections took 33% CPU time recently (threshold: 10%)\n",
      "2022-10-25 16:05:36,688 - distributed.utils_perf - WARNING - full garbage collections took 33% CPU time recently (threshold: 10%)\n",
      "2022-10-25 16:05:37,398 - distributed.utils_perf - WARNING - full garbage collections took 33% CPU time recently (threshold: 10%)\n",
      "2022-10-25 16:05:38,147 - distributed.utils_perf - WARNING - full garbage collections took 33% CPU time recently (threshold: 10%)\n",
      "2022-10-25 16:05:38,811 - distributed.utils_perf - WARNING - full garbage collections took 33% CPU time recently (threshold: 10%)\n",
      "2022-10-25 16:05:39,526 - distributed.utils_perf - WARNING - full garbage collections took 33% CPU time recently (threshold: 10%)\n",
      "2022-10-25 16:05:40,235 - distributed.utils_perf - WARNING - full garbage collections took 33% CPU time recently (threshold: 10%)\n",
      "2022-10-25 16:05:40,909 - distributed.utils_perf - WARNING - full garbage collections took 33% CPU time recently (threshold: 10%)\n",
      "2022-10-25 16:05:41,651 - distributed.utils_perf - WARNING - full garbage collections took 33% CPU time recently (threshold: 10%)\n",
      "2022-10-25 16:05:42,316 - distributed.utils_perf - WARNING - full garbage collections took 33% CPU time recently (threshold: 10%)\n",
      "2022-10-25 16:05:42,989 - distributed.utils_perf - WARNING - full garbage collections took 33% CPU time recently (threshold: 10%)\n",
      "2022-10-25 16:05:43,723 - distributed.utils_perf - WARNING - full garbage collections took 33% CPU time recently (threshold: 10%)\n",
      "2022-10-25 16:05:44,421 - distributed.utils_perf - WARNING - full garbage collections took 33% CPU time recently (threshold: 10%)\n",
      "2022-10-25 16:05:45,167 - distributed.utils_perf - WARNING - full garbage collections took 33% CPU time recently (threshold: 10%)\n"
     ]
    },
    {
     "name": "stdout",
     "output_type": "stream",
     "text": [
      "重复了\n"
     ]
    },
    {
     "name": "stderr",
     "output_type": "stream",
     "text": [
      "2022-10-25 16:05:45,862 - distributed.utils_perf - WARNING - full garbage collections took 33% CPU time recently (threshold: 10%)\n",
      "2022-10-25 16:05:46,556 - distributed.utils_perf - WARNING - full garbage collections took 33% CPU time recently (threshold: 10%)\n"
     ]
    },
    {
     "name": "stdout",
     "output_type": "stream",
     "text": [
      "重复了\n",
      "重复了\n"
     ]
    },
    {
     "name": "stderr",
     "output_type": "stream",
     "text": [
      "2022-10-25 16:05:47,243 - distributed.utils_perf - WARNING - full garbage collections took 33% CPU time recently (threshold: 10%)\n",
      "2022-10-25 16:05:47,950 - distributed.utils_perf - WARNING - full garbage collections took 33% CPU time recently (threshold: 10%)\n"
     ]
    },
    {
     "name": "stdout",
     "output_type": "stream",
     "text": [
      "重复了\n"
     ]
    },
    {
     "name": "stderr",
     "output_type": "stream",
     "text": [
      "2022-10-25 16:05:48,669 - distributed.utils_perf - WARNING - full garbage collections took 33% CPU time recently (threshold: 10%)\n",
      "2022-10-25 16:05:49,330 - distributed.utils_perf - WARNING - full garbage collections took 33% CPU time recently (threshold: 10%)\n",
      "2022-10-25 16:05:50,075 - distributed.utils_perf - WARNING - full garbage collections took 33% CPU time recently (threshold: 10%)\n",
      "2022-10-25 16:05:50,796 - distributed.utils_perf - WARNING - full garbage collections took 33% CPU time recently (threshold: 10%)\n",
      "2022-10-25 16:05:51,512 - distributed.utils_perf - WARNING - full garbage collections took 33% CPU time recently (threshold: 10%)\n",
      "2022-10-25 16:05:52,218 - distributed.utils_perf - WARNING - full garbage collections took 33% CPU time recently (threshold: 10%)\n",
      "2022-10-25 16:05:53,011 - distributed.utils_perf - WARNING - full garbage collections took 33% CPU time recently (threshold: 10%)\n",
      "2022-10-25 16:05:53,792 - distributed.utils_perf - WARNING - full garbage collections took 33% CPU time recently (threshold: 10%)\n",
      "2022-10-25 16:05:54,464 - distributed.utils_perf - WARNING - full garbage collections took 33% CPU time recently (threshold: 10%)\n",
      "2022-10-25 16:05:55,210 - distributed.utils_perf - WARNING - full garbage collections took 34% CPU time recently (threshold: 10%)\n",
      "2022-10-25 16:05:55,904 - distributed.utils_perf - WARNING - full garbage collections took 34% CPU time recently (threshold: 10%)\n",
      "2022-10-25 16:05:56,635 - distributed.utils_perf - WARNING - full garbage collections took 34% CPU time recently (threshold: 10%)\n",
      "2022-10-25 16:05:57,318 - distributed.utils_perf - WARNING - full garbage collections took 34% CPU time recently (threshold: 10%)\n",
      "2022-10-25 16:05:58,007 - distributed.utils_perf - WARNING - full garbage collections took 34% CPU time recently (threshold: 10%)\n",
      "2022-10-25 16:05:58,743 - distributed.utils_perf - WARNING - full garbage collections took 34% CPU time recently (threshold: 10%)\n",
      "2022-10-25 16:05:59,416 - distributed.utils_perf - WARNING - full garbage collections took 34% CPU time recently (threshold: 10%)\n",
      "2022-10-25 16:06:00,172 - distributed.utils_perf - WARNING - full garbage collections took 34% CPU time recently (threshold: 10%)\n",
      "2022-10-25 16:06:00,849 - distributed.utils_perf - WARNING - full garbage collections took 34% CPU time recently (threshold: 10%)\n",
      "2022-10-25 16:06:01,635 - distributed.utils_perf - WARNING - full garbage collections took 34% CPU time recently (threshold: 10%)\n",
      "2022-10-25 16:06:02,393 - distributed.utils_perf - WARNING - full garbage collections took 34% CPU time recently (threshold: 10%)\n",
      "2022-10-25 16:06:03,193 - distributed.utils_perf - WARNING - full garbage collections took 34% CPU time recently (threshold: 10%)\n",
      "2022-10-25 16:06:03,876 - distributed.utils_perf - WARNING - full garbage collections took 34% CPU time recently (threshold: 10%)\n",
      "2022-10-25 16:06:04,607 - distributed.utils_perf - WARNING - full garbage collections took 34% CPU time recently (threshold: 10%)\n",
      "2022-10-25 16:06:05,253 - distributed.utils_perf - WARNING - full garbage collections took 34% CPU time recently (threshold: 10%)\n",
      "2022-10-25 16:06:05,945 - distributed.utils_perf - WARNING - full garbage collections took 34% CPU time recently (threshold: 10%)\n",
      "2022-10-25 16:06:06,683 - distributed.utils_perf - WARNING - full garbage collections took 35% CPU time recently (threshold: 10%)\n",
      "2022-10-25 16:06:07,342 - distributed.utils_perf - WARNING - full garbage collections took 35% CPU time recently (threshold: 10%)\n",
      "2022-10-25 16:06:08,065 - distributed.utils_perf - WARNING - full garbage collections took 35% CPU time recently (threshold: 10%)\n",
      "2022-10-25 16:06:08,813 - distributed.utils_perf - WARNING - full garbage collections took 36% CPU time recently (threshold: 10%)\n",
      "2022-10-25 16:06:09,579 - distributed.utils_perf - WARNING - full garbage collections took 36% CPU time recently (threshold: 10%)\n",
      "2022-10-25 16:06:10,342 - distributed.utils_perf - WARNING - full garbage collections took 36% CPU time recently (threshold: 10%)\n"
     ]
    },
    {
     "name": "stdout",
     "output_type": "stream",
     "text": [
      "重复了\n"
     ]
    },
    {
     "name": "stderr",
     "output_type": "stream",
     "text": [
      "2022-10-25 16:06:11,060 - distributed.utils_perf - WARNING - full garbage collections took 36% CPU time recently (threshold: 10%)\n",
      "2022-10-25 16:06:11,772 - distributed.utils_perf - WARNING - full garbage collections took 36% CPU time recently (threshold: 10%)\n",
      "2022-10-25 16:06:12,471 - distributed.utils_perf - WARNING - full garbage collections took 36% CPU time recently (threshold: 10%)\n",
      "2022-10-25 16:06:13,215 - distributed.utils_perf - WARNING - full garbage collections took 35% CPU time recently (threshold: 10%)\n",
      "2022-10-25 16:06:13,927 - distributed.utils_perf - WARNING - full garbage collections took 35% CPU time recently (threshold: 10%)\n"
     ]
    },
    {
     "name": "stdout",
     "output_type": "stream",
     "text": [
      "重复了\n"
     ]
    },
    {
     "name": "stderr",
     "output_type": "stream",
     "text": [
      "2022-10-25 16:06:14,655 - distributed.utils_perf - WARNING - full garbage collections took 35% CPU time recently (threshold: 10%)\n",
      "2022-10-25 16:06:15,316 - distributed.utils_perf - WARNING - full garbage collections took 35% CPU time recently (threshold: 10%)\n"
     ]
    },
    {
     "name": "stdout",
     "output_type": "stream",
     "text": [
      "重复了\n",
      "重复了\n"
     ]
    },
    {
     "name": "stderr",
     "output_type": "stream",
     "text": [
      "2022-10-25 16:06:16,057 - distributed.utils_perf - WARNING - full garbage collections took 36% CPU time recently (threshold: 10%)\n",
      "2022-10-25 16:06:16,770 - distributed.utils_perf - WARNING - full garbage collections took 35% CPU time recently (threshold: 10%)\n"
     ]
    },
    {
     "name": "stdout",
     "output_type": "stream",
     "text": [
      "重复了\n"
     ]
    },
    {
     "name": "stderr",
     "output_type": "stream",
     "text": [
      "2022-10-25 16:06:17,425 - distributed.utils_perf - WARNING - full garbage collections took 35% CPU time recently (threshold: 10%)\n",
      "2022-10-25 16:06:18,200 - distributed.utils_perf - WARNING - full garbage collections took 35% CPU time recently (threshold: 10%)\n",
      "2022-10-25 16:06:18,907 - distributed.utils_perf - WARNING - full garbage collections took 35% CPU time recently (threshold: 10%)\n",
      "2022-10-25 16:06:19,635 - distributed.utils_perf - WARNING - full garbage collections took 35% CPU time recently (threshold: 10%)\n",
      "2022-10-25 16:06:20,371 - distributed.utils_perf - WARNING - full garbage collections took 35% CPU time recently (threshold: 10%)\n",
      "2022-10-25 16:06:21,174 - distributed.utils_perf - WARNING - full garbage collections took 35% CPU time recently (threshold: 10%)\n",
      "2022-10-25 16:06:21,896 - distributed.utils_perf - WARNING - full garbage collections took 35% CPU time recently (threshold: 10%)\n",
      "2022-10-25 16:06:22,658 - distributed.utils_perf - WARNING - full garbage collections took 35% CPU time recently (threshold: 10%)\n",
      "2022-10-25 16:06:23,360 - distributed.utils_perf - WARNING - full garbage collections took 35% CPU time recently (threshold: 10%)\n",
      "2022-10-25 16:06:24,149 - distributed.utils_perf - WARNING - full garbage collections took 35% CPU time recently (threshold: 10%)\n",
      "2022-10-25 16:06:24,966 - distributed.utils_perf - WARNING - full garbage collections took 35% CPU time recently (threshold: 10%)\n",
      "2022-10-25 16:06:25,791 - distributed.utils_perf - WARNING - full garbage collections took 35% CPU time recently (threshold: 10%)\n",
      "2022-10-25 16:06:26,566 - distributed.utils_perf - WARNING - full garbage collections took 35% CPU time recently (threshold: 10%)\n",
      "2022-10-25 16:06:27,303 - distributed.utils_perf - WARNING - full garbage collections took 35% CPU time recently (threshold: 10%)\n",
      "2022-10-25 16:06:28,077 - distributed.utils_perf - WARNING - full garbage collections took 34% CPU time recently (threshold: 10%)\n",
      "2022-10-25 16:06:28,797 - distributed.utils_perf - WARNING - full garbage collections took 34% CPU time recently (threshold: 10%)\n",
      "2022-10-25 16:06:29,487 - distributed.utils_perf - WARNING - full garbage collections took 34% CPU time recently (threshold: 10%)\n",
      "2022-10-25 16:06:30,210 - distributed.utils_perf - WARNING - full garbage collections took 34% CPU time recently (threshold: 10%)\n",
      "2022-10-25 16:06:30,903 - distributed.utils_perf - WARNING - full garbage collections took 34% CPU time recently (threshold: 10%)\n",
      "2022-10-25 16:06:31,579 - distributed.utils_perf - WARNING - full garbage collections took 34% CPU time recently (threshold: 10%)\n",
      "2022-10-25 16:06:32,280 - distributed.utils_perf - WARNING - full garbage collections took 34% CPU time recently (threshold: 10%)\n",
      "2022-10-25 16:06:33,024 - distributed.utils_perf - WARNING - full garbage collections took 34% CPU time recently (threshold: 10%)\n",
      "2022-10-25 16:06:33,714 - distributed.utils_perf - WARNING - full garbage collections took 34% CPU time recently (threshold: 10%)\n",
      "2022-10-25 16:06:34,420 - distributed.utils_perf - WARNING - full garbage collections took 34% CPU time recently (threshold: 10%)\n",
      "2022-10-25 16:06:35,183 - distributed.utils_perf - WARNING - full garbage collections took 35% CPU time recently (threshold: 10%)\n",
      "2022-10-25 16:06:35,880 - distributed.utils_perf - WARNING - full garbage collections took 35% CPU time recently (threshold: 10%)\n",
      "2022-10-25 16:06:36,594 - distributed.utils_perf - WARNING - full garbage collections took 35% CPU time recently (threshold: 10%)\n"
     ]
    },
    {
     "name": "stdout",
     "output_type": "stream",
     "text": [
      "重复了\n"
     ]
    },
    {
     "name": "stderr",
     "output_type": "stream",
     "text": [
      "2022-10-25 16:06:37,298 - distributed.utils_perf - WARNING - full garbage collections took 35% CPU time recently (threshold: 10%)\n",
      "2022-10-25 16:06:38,008 - distributed.utils_perf - WARNING - full garbage collections took 35% CPU time recently (threshold: 10%)\n",
      "2022-10-25 16:06:38,718 - distributed.utils_perf - WARNING - full garbage collections took 35% CPU time recently (threshold: 10%)\n"
     ]
    },
    {
     "name": "stdout",
     "output_type": "stream",
     "text": [
      "重复了\n"
     ]
    },
    {
     "name": "stderr",
     "output_type": "stream",
     "text": [
      "2022-10-25 16:06:39,425 - distributed.utils_perf - WARNING - full garbage collections took 35% CPU time recently (threshold: 10%)\n",
      "2022-10-25 16:06:40,220 - distributed.utils_perf - WARNING - full garbage collections took 35% CPU time recently (threshold: 10%)\n",
      "2022-10-25 16:06:40,946 - distributed.utils_perf - WARNING - full garbage collections took 36% CPU time recently (threshold: 10%)\n",
      "2022-10-25 16:06:41,770 - distributed.utils_perf - WARNING - full garbage collections took 36% CPU time recently (threshold: 10%)\n",
      "2022-10-25 16:06:42,497 - distributed.utils_perf - WARNING - full garbage collections took 36% CPU time recently (threshold: 10%)\n"
     ]
    },
    {
     "name": "stdout",
     "output_type": "stream",
     "text": [
      "重复了\n"
     ]
    },
    {
     "name": "stderr",
     "output_type": "stream",
     "text": [
      "2022-10-25 16:06:43,287 - distributed.utils_perf - WARNING - full garbage collections took 36% CPU time recently (threshold: 10%)\n",
      "2022-10-25 16:06:44,041 - distributed.utils_perf - WARNING - full garbage collections took 36% CPU time recently (threshold: 10%)\n"
     ]
    },
    {
     "name": "stdout",
     "output_type": "stream",
     "text": [
      "重复了\n",
      "重复了\n"
     ]
    },
    {
     "name": "stderr",
     "output_type": "stream",
     "text": [
      "2022-10-25 16:06:44,787 - distributed.utils_perf - WARNING - full garbage collections took 36% CPU time recently (threshold: 10%)\n",
      "2022-10-25 16:06:45,558 - distributed.utils_perf - WARNING - full garbage collections took 36% CPU time recently (threshold: 10%)\n"
     ]
    },
    {
     "name": "stdout",
     "output_type": "stream",
     "text": [
      "重复了\n"
     ]
    },
    {
     "name": "stderr",
     "output_type": "stream",
     "text": [
      "2022-10-25 16:06:46,321 - distributed.utils_perf - WARNING - full garbage collections took 36% CPU time recently (threshold: 10%)\n",
      "2022-10-25 16:06:47,112 - distributed.utils_perf - WARNING - full garbage collections took 36% CPU time recently (threshold: 10%)\n",
      "2022-10-25 16:06:47,828 - distributed.utils_perf - WARNING - full garbage collections took 36% CPU time recently (threshold: 10%)\n",
      "2022-10-25 16:06:48,647 - distributed.utils_perf - WARNING - full garbage collections took 36% CPU time recently (threshold: 10%)\n",
      "2022-10-25 16:06:49,374 - distributed.utils_perf - WARNING - full garbage collections took 37% CPU time recently (threshold: 10%)\n",
      "2022-10-25 16:06:50,164 - distributed.utils_perf - WARNING - full garbage collections took 37% CPU time recently (threshold: 10%)\n",
      "2022-10-25 16:06:50,878 - distributed.utils_perf - WARNING - full garbage collections took 37% CPU time recently (threshold: 10%)\n",
      "2022-10-25 16:06:51,705 - distributed.utils_perf - WARNING - full garbage collections took 37% CPU time recently (threshold: 10%)\n",
      "2022-10-25 16:06:52,500 - distributed.utils_perf - WARNING - full garbage collections took 37% CPU time recently (threshold: 10%)\n",
      "2022-10-25 16:06:53,289 - distributed.utils_perf - WARNING - full garbage collections took 37% CPU time recently (threshold: 10%)\n",
      "2022-10-25 16:06:53,992 - distributed.utils_perf - WARNING - full garbage collections took 37% CPU time recently (threshold: 10%)\n",
      "2022-10-25 16:06:54,838 - distributed.utils_perf - WARNING - full garbage collections took 36% CPU time recently (threshold: 10%)\n",
      "2022-10-25 16:06:55,622 - distributed.utils_perf - WARNING - full garbage collections took 36% CPU time recently (threshold: 10%)\n",
      "2022-10-25 16:06:56,423 - distributed.utils_perf - WARNING - full garbage collections took 36% CPU time recently (threshold: 10%)\n",
      "2022-10-25 16:06:57,571 - distributed.utils_perf - WARNING - full garbage collections took 36% CPU time recently (threshold: 10%)\n",
      "2022-10-25 16:06:58,832 - distributed.utils_perf - WARNING - full garbage collections took 36% CPU time recently (threshold: 10%)\n",
      "2022-10-25 16:06:59,957 - distributed.utils_perf - WARNING - full garbage collections took 36% CPU time recently (threshold: 10%)\n",
      "2022-10-25 16:07:00,991 - distributed.utils_perf - WARNING - full garbage collections took 36% CPU time recently (threshold: 10%)\n",
      "2022-10-25 16:07:01,791 - distributed.utils_perf - WARNING - full garbage collections took 36% CPU time recently (threshold: 10%)\n"
     ]
    },
    {
     "name": "stdout",
     "output_type": "stream",
     "text": [
      "重复了\n"
     ]
    },
    {
     "name": "stderr",
     "output_type": "stream",
     "text": [
      "2022-10-25 16:07:02,497 - distributed.utils_perf - WARNING - full garbage collections took 36% CPU time recently (threshold: 10%)\n",
      "2022-10-25 16:07:03,242 - distributed.utils_perf - WARNING - full garbage collections took 36% CPU time recently (threshold: 10%)\n",
      "2022-10-25 16:07:03,932 - distributed.utils_perf - WARNING - full garbage collections took 36% CPU time recently (threshold: 10%)\n",
      "2022-10-25 16:07:04,692 - distributed.utils_perf - WARNING - full garbage collections took 36% CPU time recently (threshold: 10%)\n",
      "2022-10-25 16:07:05,413 - distributed.utils_perf - WARNING - full garbage collections took 35% CPU time recently (threshold: 10%)\n",
      "2022-10-25 16:07:06,141 - distributed.utils_perf - WARNING - full garbage collections took 35% CPU time recently (threshold: 10%)\n",
      "2022-10-25 16:07:06,826 - distributed.utils_perf - WARNING - full garbage collections took 35% CPU time recently (threshold: 10%)\n"
     ]
    },
    {
     "name": "stdout",
     "output_type": "stream",
     "text": [
      "重复了\n"
     ]
    },
    {
     "name": "stderr",
     "output_type": "stream",
     "text": [
      "2022-10-25 16:07:07,561 - distributed.utils_perf - WARNING - full garbage collections took 36% CPU time recently (threshold: 10%)\n",
      "2022-10-25 16:07:08,299 - distributed.utils_perf - WARNING - full garbage collections took 36% CPU time recently (threshold: 10%)\n",
      "2022-10-25 16:07:09,047 - distributed.utils_perf - WARNING - full garbage collections took 36% CPU time recently (threshold: 10%)\n"
     ]
    },
    {
     "name": "stdout",
     "output_type": "stream",
     "text": [
      "重复了\n"
     ]
    },
    {
     "name": "stderr",
     "output_type": "stream",
     "text": [
      "2022-10-25 16:07:09,782 - distributed.utils_perf - WARNING - full garbage collections took 36% CPU time recently (threshold: 10%)\n",
      "2022-10-25 16:07:10,492 - distributed.utils_perf - WARNING - full garbage collections took 36% CPU time recently (threshold: 10%)\n",
      "2022-10-25 16:07:11,251 - distributed.utils_perf - WARNING - full garbage collections took 36% CPU time recently (threshold: 10%)\n",
      "2022-10-25 16:07:11,947 - distributed.utils_perf - WARNING - full garbage collections took 36% CPU time recently (threshold: 10%)\n",
      "2022-10-25 16:07:12,790 - distributed.utils_perf - WARNING - full garbage collections took 36% CPU time recently (threshold: 10%)\n"
     ]
    },
    {
     "name": "stdout",
     "output_type": "stream",
     "text": [
      "重复了\n",
      "46 ficoRangeLow_interestRate \n",
      "\n"
     ]
    },
    {
     "name": "stderr",
     "output_type": "stream",
     "text": [
      "2022-10-25 16:07:13,943 - distributed.utils_perf - WARNING - full garbage collections took 36% CPU time recently (threshold: 10%)\n",
      "2022-10-25 16:07:14,920 - distributed.utils_perf - WARNING - full garbage collections took 36% CPU time recently (threshold: 10%)\n"
     ]
    },
    {
     "name": "stdout",
     "output_type": "stream",
     "text": [
      "重复了\n",
      "重复了\n"
     ]
    },
    {
     "name": "stderr",
     "output_type": "stream",
     "text": [
      "2022-10-25 16:07:15,767 - distributed.utils_perf - WARNING - full garbage collections took 36% CPU time recently (threshold: 10%)\n"
     ]
    },
    {
     "name": "stdout",
     "output_type": "stream",
     "text": [
      "重复了\n",
      "重复了\n"
     ]
    },
    {
     "name": "stderr",
     "output_type": "stream",
     "text": [
      "2022-10-25 16:07:16,856 - distributed.utils_perf - WARNING - full garbage collections took 36% CPU time recently (threshold: 10%)\n",
      "2022-10-25 16:07:17,953 - distributed.utils_perf - WARNING - full garbage collections took 36% CPU time recently (threshold: 10%)\n",
      "2022-10-25 16:07:18,748 - distributed.utils_perf - WARNING - full garbage collections took 37% CPU time recently (threshold: 10%)\n",
      "2022-10-25 16:07:19,469 - distributed.utils_perf - WARNING - full garbage collections took 37% CPU time recently (threshold: 10%)\n",
      "2022-10-25 16:07:20,241 - distributed.utils_perf - WARNING - full garbage collections took 38% CPU time recently (threshold: 10%)\n",
      "2022-10-25 16:07:20,981 - distributed.utils_perf - WARNING - full garbage collections took 37% CPU time recently (threshold: 10%)\n",
      "2022-10-25 16:07:21,756 - distributed.utils_perf - WARNING - full garbage collections took 37% CPU time recently (threshold: 10%)\n",
      "2022-10-25 16:07:22,469 - distributed.utils_perf - WARNING - full garbage collections took 38% CPU time recently (threshold: 10%)\n",
      "2022-10-25 16:07:23,227 - distributed.utils_perf - WARNING - full garbage collections took 37% CPU time recently (threshold: 10%)\n",
      "2022-10-25 16:07:23,946 - distributed.utils_perf - WARNING - full garbage collections took 37% CPU time recently (threshold: 10%)\n",
      "2022-10-25 16:07:24,750 - distributed.utils_perf - WARNING - full garbage collections took 37% CPU time recently (threshold: 10%)\n",
      "2022-10-25 16:07:25,496 - distributed.utils_perf - WARNING - full garbage collections took 37% CPU time recently (threshold: 10%)\n",
      "2022-10-25 16:07:26,279 - distributed.utils_perf - WARNING - full garbage collections took 38% CPU time recently (threshold: 10%)\n",
      "2022-10-25 16:07:27,200 - distributed.utils_perf - WARNING - full garbage collections took 38% CPU time recently (threshold: 10%)\n",
      "2022-10-25 16:07:28,154 - distributed.utils_perf - WARNING - full garbage collections took 37% CPU time recently (threshold: 10%)\n",
      "2022-10-25 16:07:29,031 - distributed.utils_perf - WARNING - full garbage collections took 37% CPU time recently (threshold: 10%)\n",
      "2022-10-25 16:07:29,878 - distributed.utils_perf - WARNING - full garbage collections took 37% CPU time recently (threshold: 10%)\n",
      "2022-10-25 16:07:30,639 - distributed.utils_perf - WARNING - full garbage collections took 37% CPU time recently (threshold: 10%)\n",
      "2022-10-25 16:07:31,352 - distributed.utils_perf - WARNING - full garbage collections took 37% CPU time recently (threshold: 10%)\n"
     ]
    },
    {
     "name": "stdout",
     "output_type": "stream",
     "text": [
      "重复了\n"
     ]
    },
    {
     "name": "stderr",
     "output_type": "stream",
     "text": [
      "2022-10-25 16:07:32,082 - distributed.utils_perf - WARNING - full garbage collections took 38% CPU time recently (threshold: 10%)\n",
      "2022-10-25 16:07:32,836 - distributed.utils_perf - WARNING - full garbage collections took 38% CPU time recently (threshold: 10%)\n",
      "2022-10-25 16:07:33,640 - distributed.utils_perf - WARNING - full garbage collections took 38% CPU time recently (threshold: 10%)\n",
      "2022-10-25 16:07:34,365 - distributed.utils_perf - WARNING - full garbage collections took 37% CPU time recently (threshold: 10%)\n",
      "2022-10-25 16:07:35,048 - distributed.utils_perf - WARNING - full garbage collections took 38% CPU time recently (threshold: 10%)\n",
      "2022-10-25 16:07:35,809 - distributed.utils_perf - WARNING - full garbage collections took 38% CPU time recently (threshold: 10%)\n",
      "2022-10-25 16:07:36,546 - distributed.utils_perf - WARNING - full garbage collections took 37% CPU time recently (threshold: 10%)\n"
     ]
    },
    {
     "name": "stdout",
     "output_type": "stream",
     "text": [
      "重复了\n"
     ]
    },
    {
     "name": "stderr",
     "output_type": "stream",
     "text": [
      "2022-10-25 16:07:37,308 - distributed.utils_perf - WARNING - full garbage collections took 37% CPU time recently (threshold: 10%)\n",
      "2022-10-25 16:07:38,134 - distributed.utils_perf - WARNING - full garbage collections took 37% CPU time recently (threshold: 10%)\n",
      "2022-10-25 16:07:38,894 - distributed.utils_perf - WARNING - full garbage collections took 37% CPU time recently (threshold: 10%)\n"
     ]
    },
    {
     "name": "stdout",
     "output_type": "stream",
     "text": [
      "重复了\n"
     ]
    },
    {
     "name": "stderr",
     "output_type": "stream",
     "text": [
      "2022-10-25 16:07:39,693 - distributed.utils_perf - WARNING - full garbage collections took 37% CPU time recently (threshold: 10%)\n",
      "2022-10-25 16:07:40,487 - distributed.utils_perf - WARNING - full garbage collections took 37% CPU time recently (threshold: 10%)\n",
      "2022-10-25 16:07:41,264 - distributed.utils_perf - WARNING - full garbage collections took 37% CPU time recently (threshold: 10%)\n",
      "2022-10-25 16:07:42,026 - distributed.utils_perf - WARNING - full garbage collections took 37% CPU time recently (threshold: 10%)\n",
      "2022-10-25 16:07:42,757 - distributed.utils_perf - WARNING - full garbage collections took 36% CPU time recently (threshold: 10%)\n"
     ]
    },
    {
     "name": "stdout",
     "output_type": "stream",
     "text": [
      "重复了\n"
     ]
    },
    {
     "name": "stderr",
     "output_type": "stream",
     "text": [
      "2022-10-25 16:07:43,452 - distributed.utils_perf - WARNING - full garbage collections took 36% CPU time recently (threshold: 10%)\n",
      "2022-10-25 16:07:44,207 - distributed.utils_perf - WARNING - full garbage collections took 36% CPU time recently (threshold: 10%)\n"
     ]
    },
    {
     "name": "stdout",
     "output_type": "stream",
     "text": [
      "重复了\n",
      "重复了\n"
     ]
    },
    {
     "name": "stderr",
     "output_type": "stream",
     "text": [
      "2022-10-25 16:07:45,040 - distributed.utils_perf - WARNING - full garbage collections took 36% CPU time recently (threshold: 10%)\n"
     ]
    },
    {
     "name": "stdout",
     "output_type": "stream",
     "text": [
      "重复了\n",
      "重复了\n"
     ]
    },
    {
     "name": "stderr",
     "output_type": "stream",
     "text": [
      "2022-10-25 16:07:45,874 - distributed.utils_perf - WARNING - full garbage collections took 36% CPU time recently (threshold: 10%)\n",
      "2022-10-25 16:07:46,723 - distributed.utils_perf - WARNING - full garbage collections took 36% CPU time recently (threshold: 10%)\n",
      "2022-10-25 16:07:47,689 - distributed.utils_perf - WARNING - full garbage collections took 36% CPU time recently (threshold: 10%)\n",
      "2022-10-25 16:07:48,396 - distributed.utils_perf - WARNING - full garbage collections took 36% CPU time recently (threshold: 10%)\n",
      "2022-10-25 16:07:49,213 - distributed.utils_perf - WARNING - full garbage collections took 36% CPU time recently (threshold: 10%)\n",
      "2022-10-25 16:07:49,976 - distributed.utils_perf - WARNING - full garbage collections took 36% CPU time recently (threshold: 10%)\n",
      "2022-10-25 16:07:50,812 - distributed.utils_perf - WARNING - full garbage collections took 36% CPU time recently (threshold: 10%)\n"
     ]
    },
    {
     "name": "stdout",
     "output_type": "stream",
     "text": [
      "重复了\n"
     ]
    },
    {
     "name": "stderr",
     "output_type": "stream",
     "text": [
      "2022-10-25 16:07:51,525 - distributed.utils_perf - WARNING - full garbage collections took 37% CPU time recently (threshold: 10%)\n",
      "2022-10-25 16:07:52,249 - distributed.utils_perf - WARNING - full garbage collections took 37% CPU time recently (threshold: 10%)\n",
      "2022-10-25 16:07:53,000 - distributed.utils_perf - WARNING - full garbage collections took 37% CPU time recently (threshold: 10%)\n",
      "2022-10-25 16:07:53,743 - distributed.utils_perf - WARNING - full garbage collections took 37% CPU time recently (threshold: 10%)\n",
      "2022-10-25 16:07:54,422 - distributed.utils_perf - WARNING - full garbage collections took 37% CPU time recently (threshold: 10%)\n",
      "2022-10-25 16:07:55,182 - distributed.utils_perf - WARNING - full garbage collections took 37% CPU time recently (threshold: 10%)\n",
      "2022-10-25 16:07:55,871 - distributed.utils_perf - WARNING - full garbage collections took 37% CPU time recently (threshold: 10%)\n",
      "2022-10-25 16:07:56,738 - distributed.utils_perf - WARNING - full garbage collections took 37% CPU time recently (threshold: 10%)\n",
      "2022-10-25 16:07:57,571 - distributed.utils_perf - WARNING - full garbage collections took 37% CPU time recently (threshold: 10%)\n",
      "2022-10-25 16:07:58,287 - distributed.utils_perf - WARNING - full garbage collections took 36% CPU time recently (threshold: 10%)\n",
      "2022-10-25 16:07:59,024 - distributed.utils_perf - WARNING - full garbage collections took 36% CPU time recently (threshold: 10%)\n"
     ]
    },
    {
     "name": "stdout",
     "output_type": "stream",
     "text": [
      "重复了\n"
     ]
    },
    {
     "name": "stderr",
     "output_type": "stream",
     "text": [
      "2022-10-25 16:07:59,769 - distributed.utils_perf - WARNING - full garbage collections took 37% CPU time recently (threshold: 10%)\n",
      "2022-10-25 16:08:00,559 - distributed.utils_perf - WARNING - full garbage collections took 37% CPU time recently (threshold: 10%)\n",
      "2022-10-25 16:08:01,370 - distributed.utils_perf - WARNING - full garbage collections took 38% CPU time recently (threshold: 10%)\n",
      "2022-10-25 16:08:02,427 - distributed.utils_perf - WARNING - full garbage collections took 38% CPU time recently (threshold: 10%)\n",
      "2022-10-25 16:08:03,339 - distributed.utils_perf - WARNING - full garbage collections took 37% CPU time recently (threshold: 10%)\n",
      "2022-10-25 16:08:04,118 - distributed.utils_perf - WARNING - full garbage collections took 37% CPU time recently (threshold: 10%)\n",
      "2022-10-25 16:08:04,819 - distributed.utils_perf - WARNING - full garbage collections took 37% CPU time recently (threshold: 10%)\n"
     ]
    },
    {
     "name": "stdout",
     "output_type": "stream",
     "text": [
      "重复了\n"
     ]
    },
    {
     "name": "stderr",
     "output_type": "stream",
     "text": [
      "2022-10-25 16:08:05,605 - distributed.utils_perf - WARNING - full garbage collections took 37% CPU time recently (threshold: 10%)\n",
      "2022-10-25 16:08:06,299 - distributed.utils_perf - WARNING - full garbage collections took 37% CPU time recently (threshold: 10%)\n",
      "2022-10-25 16:08:06,987 - distributed.utils_perf - WARNING - full garbage collections took 37% CPU time recently (threshold: 10%)\n"
     ]
    },
    {
     "name": "stdout",
     "output_type": "stream",
     "text": [
      "重复了\n"
     ]
    },
    {
     "name": "stderr",
     "output_type": "stream",
     "text": [
      "2022-10-25 16:08:07,744 - distributed.utils_perf - WARNING - full garbage collections took 37% CPU time recently (threshold: 10%)\n",
      "2022-10-25 16:08:08,418 - distributed.utils_perf - WARNING - full garbage collections took 37% CPU time recently (threshold: 10%)\n",
      "2022-10-25 16:08:09,186 - distributed.utils_perf - WARNING - full garbage collections took 37% CPU time recently (threshold: 10%)\n",
      "2022-10-25 16:08:09,947 - distributed.utils_perf - WARNING - full garbage collections took 37% CPU time recently (threshold: 10%)\n",
      "2022-10-25 16:08:10,698 - distributed.utils_perf - WARNING - full garbage collections took 38% CPU time recently (threshold: 10%)\n"
     ]
    },
    {
     "name": "stdout",
     "output_type": "stream",
     "text": [
      "重复了\n"
     ]
    },
    {
     "name": "stderr",
     "output_type": "stream",
     "text": [
      "2022-10-25 16:08:11,585 - distributed.utils_perf - WARNING - full garbage collections took 37% CPU time recently (threshold: 10%)\n",
      "2022-10-25 16:08:12,341 - distributed.utils_perf - WARNING - full garbage collections took 37% CPU time recently (threshold: 10%)\n"
     ]
    },
    {
     "name": "stdout",
     "output_type": "stream",
     "text": [
      "重复了\n",
      "重复了\n"
     ]
    },
    {
     "name": "stderr",
     "output_type": "stream",
     "text": [
      "2022-10-25 16:08:13,128 - distributed.utils_perf - WARNING - full garbage collections took 38% CPU time recently (threshold: 10%)\n"
     ]
    },
    {
     "name": "stdout",
     "output_type": "stream",
     "text": [
      "重复了\n",
      "重复了\n"
     ]
    },
    {
     "name": "stderr",
     "output_type": "stream",
     "text": [
      "2022-10-25 16:08:13,879 - distributed.utils_perf - WARNING - full garbage collections took 38% CPU time recently (threshold: 10%)\n",
      "2022-10-25 16:08:14,616 - distributed.utils_perf - WARNING - full garbage collections took 38% CPU time recently (threshold: 10%)\n",
      "2022-10-25 16:08:15,377 - distributed.utils_perf - WARNING - full garbage collections took 38% CPU time recently (threshold: 10%)\n",
      "2022-10-25 16:08:16,210 - distributed.utils_perf - WARNING - full garbage collections took 38% CPU time recently (threshold: 10%)\n",
      "2022-10-25 16:08:17,030 - distributed.utils_perf - WARNING - full garbage collections took 38% CPU time recently (threshold: 10%)\n",
      "2022-10-25 16:08:18,029 - distributed.utils_perf - WARNING - full garbage collections took 38% CPU time recently (threshold: 10%)\n",
      "2022-10-25 16:08:18,927 - distributed.utils_perf - WARNING - full garbage collections took 38% CPU time recently (threshold: 10%)\n"
     ]
    },
    {
     "name": "stdout",
     "output_type": "stream",
     "text": [
      "重复了\n"
     ]
    },
    {
     "name": "stderr",
     "output_type": "stream",
     "text": [
      "2022-10-25 16:08:19,728 - distributed.utils_perf - WARNING - full garbage collections took 38% CPU time recently (threshold: 10%)\n",
      "2022-10-25 16:08:20,471 - distributed.utils_perf - WARNING - full garbage collections took 38% CPU time recently (threshold: 10%)\n",
      "2022-10-25 16:08:21,274 - distributed.utils_perf - WARNING - full garbage collections took 38% CPU time recently (threshold: 10%)\n",
      "2022-10-25 16:08:22,082 - distributed.utils_perf - WARNING - full garbage collections took 37% CPU time recently (threshold: 10%)\n",
      "2022-10-25 16:08:22,989 - distributed.utils_perf - WARNING - full garbage collections took 37% CPU time recently (threshold: 10%)\n",
      "2022-10-25 16:08:23,777 - distributed.utils_perf - WARNING - full garbage collections took 37% CPU time recently (threshold: 10%)\n",
      "2022-10-25 16:08:24,478 - distributed.utils_perf - WARNING - full garbage collections took 37% CPU time recently (threshold: 10%)\n",
      "2022-10-25 16:08:25,443 - distributed.utils_perf - WARNING - full garbage collections took 37% CPU time recently (threshold: 10%)\n",
      "2022-10-25 16:08:26,293 - distributed.utils_perf - WARNING - full garbage collections took 37% CPU time recently (threshold: 10%)\n",
      "2022-10-25 16:08:27,060 - distributed.utils_perf - WARNING - full garbage collections took 37% CPU time recently (threshold: 10%)\n",
      "2022-10-25 16:08:27,830 - distributed.utils_perf - WARNING - full garbage collections took 37% CPU time recently (threshold: 10%)\n"
     ]
    },
    {
     "name": "stdout",
     "output_type": "stream",
     "text": [
      "重复了\n"
     ]
    },
    {
     "name": "stderr",
     "output_type": "stream",
     "text": [
      "2022-10-25 16:08:28,852 - distributed.utils_perf - WARNING - full garbage collections took 37% CPU time recently (threshold: 10%)\n",
      "2022-10-25 16:08:29,771 - distributed.utils_perf - WARNING - full garbage collections took 38% CPU time recently (threshold: 10%)\n",
      "2022-10-25 16:08:30,643 - distributed.utils_perf - WARNING - full garbage collections took 37% CPU time recently (threshold: 10%)\n",
      "2022-10-25 16:08:31,564 - distributed.utils_perf - WARNING - full garbage collections took 38% CPU time recently (threshold: 10%)\n",
      "2022-10-25 16:08:32,900 - distributed.utils_perf - WARNING - full garbage collections took 37% CPU time recently (threshold: 10%)\n",
      "2022-10-25 16:08:34,429 - distributed.utils_perf - WARNING - full garbage collections took 38% CPU time recently (threshold: 10%)\n",
      "2022-10-25 16:08:35,696 - distributed.utils_perf - WARNING - full garbage collections took 37% CPU time recently (threshold: 10%)\n"
     ]
    },
    {
     "name": "stdout",
     "output_type": "stream",
     "text": [
      "重复了\n"
     ]
    },
    {
     "name": "stderr",
     "output_type": "stream",
     "text": [
      "2022-10-25 16:08:36,542 - distributed.utils_perf - WARNING - full garbage collections took 37% CPU time recently (threshold: 10%)\n",
      "2022-10-25 16:08:37,324 - distributed.utils_perf - WARNING - full garbage collections took 37% CPU time recently (threshold: 10%)\n"
     ]
    },
    {
     "name": "stdout",
     "output_type": "stream",
     "text": [
      "重复了\n",
      "重复了\n"
     ]
    },
    {
     "name": "stderr",
     "output_type": "stream",
     "text": [
      "2022-10-25 16:08:38,164 - distributed.utils_perf - WARNING - full garbage collections took 38% CPU time recently (threshold: 10%)\n",
      "2022-10-25 16:08:38,946 - distributed.utils_perf - WARNING - full garbage collections took 38% CPU time recently (threshold: 10%)\n",
      "2022-10-25 16:08:39,705 - distributed.utils_perf - WARNING - full garbage collections took 37% CPU time recently (threshold: 10%)\n",
      "2022-10-25 16:08:40,550 - distributed.utils_perf - WARNING - full garbage collections took 37% CPU time recently (threshold: 10%)\n"
     ]
    },
    {
     "name": "stdout",
     "output_type": "stream",
     "text": [
      "重复了\n",
      "重复了\n"
     ]
    },
    {
     "name": "stderr",
     "output_type": "stream",
     "text": [
      "2022-10-25 16:08:41,413 - distributed.utils_perf - WARNING - full garbage collections took 37% CPU time recently (threshold: 10%)\n",
      "2022-10-25 16:08:42,233 - distributed.utils_perf - WARNING - full garbage collections took 37% CPU time recently (threshold: 10%)\n"
     ]
    },
    {
     "name": "stdout",
     "output_type": "stream",
     "text": [
      "重复了\n",
      "重复了\n"
     ]
    },
    {
     "name": "stderr",
     "output_type": "stream",
     "text": [
      "2022-10-25 16:08:42,990 - distributed.utils_perf - WARNING - full garbage collections took 37% CPU time recently (threshold: 10%)\n"
     ]
    },
    {
     "name": "stdout",
     "output_type": "stream",
     "text": [
      "重复了\n",
      "重复了\n"
     ]
    },
    {
     "name": "stderr",
     "output_type": "stream",
     "text": [
      "2022-10-25 16:08:43,783 - distributed.utils_perf - WARNING - full garbage collections took 37% CPU time recently (threshold: 10%)\n",
      "2022-10-25 16:08:44,579 - distributed.utils_perf - WARNING - full garbage collections took 37% CPU time recently (threshold: 10%)\n",
      "2022-10-25 16:08:45,344 - distributed.utils_perf - WARNING - full garbage collections took 37% CPU time recently (threshold: 10%)\n",
      "2022-10-25 16:08:46,105 - distributed.utils_perf - WARNING - full garbage collections took 37% CPU time recently (threshold: 10%)\n",
      "2022-10-25 16:08:46,855 - distributed.utils_perf - WARNING - full garbage collections took 36% CPU time recently (threshold: 10%)\n",
      "2022-10-25 16:08:47,647 - distributed.utils_perf - WARNING - full garbage collections took 37% CPU time recently (threshold: 10%)\n",
      "2022-10-25 16:08:48,554 - distributed.utils_perf - WARNING - full garbage collections took 37% CPU time recently (threshold: 10%)\n"
     ]
    },
    {
     "name": "stdout",
     "output_type": "stream",
     "text": [
      "重复了\n"
     ]
    },
    {
     "name": "stderr",
     "output_type": "stream",
     "text": [
      "2022-10-25 16:08:49,964 - distributed.utils_perf - WARNING - full garbage collections took 37% CPU time recently (threshold: 10%)\n",
      "2022-10-25 16:08:51,082 - distributed.utils_perf - WARNING - full garbage collections took 36% CPU time recently (threshold: 10%)\n",
      "2022-10-25 16:08:51,837 - distributed.utils_perf - WARNING - full garbage collections took 36% CPU time recently (threshold: 10%)\n",
      "2022-10-25 16:08:52,583 - distributed.utils_perf - WARNING - full garbage collections took 36% CPU time recently (threshold: 10%)\n",
      "2022-10-25 16:08:53,369 - distributed.utils_perf - WARNING - full garbage collections took 37% CPU time recently (threshold: 10%)\n",
      "2022-10-25 16:08:54,122 - distributed.utils_perf - WARNING - full garbage collections took 37% CPU time recently (threshold: 10%)\n",
      "2022-10-25 16:08:54,846 - distributed.utils_perf - WARNING - full garbage collections took 37% CPU time recently (threshold: 10%)\n",
      "2022-10-25 16:08:55,618 - distributed.utils_perf - WARNING - full garbage collections took 37% CPU time recently (threshold: 10%)\n",
      "2022-10-25 16:08:56,384 - distributed.utils_perf - WARNING - full garbage collections took 36% CPU time recently (threshold: 10%)\n",
      "2022-10-25 16:08:57,187 - distributed.utils_perf - WARNING - full garbage collections took 37% CPU time recently (threshold: 10%)\n",
      "2022-10-25 16:08:57,881 - distributed.utils_perf - WARNING - full garbage collections took 37% CPU time recently (threshold: 10%)\n"
     ]
    },
    {
     "name": "stdout",
     "output_type": "stream",
     "text": [
      "重复了\n"
     ]
    },
    {
     "name": "stderr",
     "output_type": "stream",
     "text": [
      "2022-10-25 16:08:58,668 - distributed.utils_perf - WARNING - full garbage collections took 37% CPU time recently (threshold: 10%)\n",
      "2022-10-25 16:08:59,383 - distributed.utils_perf - WARNING - full garbage collections took 37% CPU time recently (threshold: 10%)\n",
      "2022-10-25 16:09:00,173 - distributed.utils_perf - WARNING - full garbage collections took 37% CPU time recently (threshold: 10%)\n",
      "2022-10-25 16:09:00,872 - distributed.utils_perf - WARNING - full garbage collections took 37% CPU time recently (threshold: 10%)\n",
      "2022-10-25 16:09:01,670 - distributed.utils_perf - WARNING - full garbage collections took 37% CPU time recently (threshold: 10%)\n",
      "2022-10-25 16:09:02,376 - distributed.utils_perf - WARNING - full garbage collections took 37% CPU time recently (threshold: 10%)\n",
      "2022-10-25 16:09:03,145 - distributed.utils_perf - WARNING - full garbage collections took 37% CPU time recently (threshold: 10%)\n"
     ]
    },
    {
     "name": "stdout",
     "output_type": "stream",
     "text": [
      "重复了\n"
     ]
    },
    {
     "name": "stderr",
     "output_type": "stream",
     "text": [
      "2022-10-25 16:09:03,872 - distributed.utils_perf - WARNING - full garbage collections took 37% CPU time recently (threshold: 10%)\n",
      "2022-10-25 16:09:04,665 - distributed.utils_perf - WARNING - full garbage collections took 37% CPU time recently (threshold: 10%)\n"
     ]
    },
    {
     "name": "stdout",
     "output_type": "stream",
     "text": [
      "重复了\n",
      "重复了\n"
     ]
    },
    {
     "name": "stderr",
     "output_type": "stream",
     "text": [
      "2022-10-25 16:09:05,454 - distributed.utils_perf - WARNING - full garbage collections took 37% CPU time recently (threshold: 10%)\n",
      "2022-10-25 16:09:06,260 - distributed.utils_perf - WARNING - full garbage collections took 37% CPU time recently (threshold: 10%)\n",
      "2022-10-25 16:09:07,280 - distributed.utils_perf - WARNING - full garbage collections took 37% CPU time recently (threshold: 10%)\n",
      "2022-10-25 16:09:08,224 - distributed.utils_perf - WARNING - full garbage collections took 37% CPU time recently (threshold: 10%)\n"
     ]
    },
    {
     "name": "stdout",
     "output_type": "stream",
     "text": [
      "重复了\n",
      "重复了\n"
     ]
    },
    {
     "name": "stderr",
     "output_type": "stream",
     "text": [
      "2022-10-25 16:09:09,116 - distributed.utils_perf - WARNING - full garbage collections took 37% CPU time recently (threshold: 10%)\n",
      "2022-10-25 16:09:09,994 - distributed.utils_perf - WARNING - full garbage collections took 37% CPU time recently (threshold: 10%)\n"
     ]
    },
    {
     "name": "stdout",
     "output_type": "stream",
     "text": [
      "重复了\n",
      "重复了\n"
     ]
    },
    {
     "name": "stderr",
     "output_type": "stream",
     "text": [
      "2022-10-25 16:09:10,765 - distributed.utils_perf - WARNING - full garbage collections took 37% CPU time recently (threshold: 10%)\n"
     ]
    },
    {
     "name": "stdout",
     "output_type": "stream",
     "text": [
      "重复了\n",
      "重复了\n"
     ]
    },
    {
     "name": "stderr",
     "output_type": "stream",
     "text": [
      "2022-10-25 16:09:11,512 - distributed.utils_perf - WARNING - full garbage collections took 37% CPU time recently (threshold: 10%)\n",
      "2022-10-25 16:09:12,250 - distributed.utils_perf - WARNING - full garbage collections took 37% CPU time recently (threshold: 10%)\n",
      "2022-10-25 16:09:12,938 - distributed.utils_perf - WARNING - full garbage collections took 37% CPU time recently (threshold: 10%)\n",
      "2022-10-25 16:09:13,905 - distributed.utils_perf - WARNING - full garbage collections took 37% CPU time recently (threshold: 10%)\n",
      "2022-10-25 16:09:14,729 - distributed.utils_perf - WARNING - full garbage collections took 37% CPU time recently (threshold: 10%)\n"
     ]
    },
    {
     "name": "stdout",
     "output_type": "stream",
     "text": [
      "重复了\n"
     ]
    },
    {
     "name": "stderr",
     "output_type": "stream",
     "text": [
      "2022-10-25 16:09:15,828 - distributed.utils_perf - WARNING - full garbage collections took 38% CPU time recently (threshold: 10%)\n"
     ]
    },
    {
     "name": "stdout",
     "output_type": "stream",
     "text": [
      "重复了\n"
     ]
    },
    {
     "name": "stderr",
     "output_type": "stream",
     "text": [
      "2022-10-25 16:09:16,718 - distributed.utils_perf - WARNING - full garbage collections took 37% CPU time recently (threshold: 10%)\n",
      "2022-10-25 16:09:17,589 - distributed.utils_perf - WARNING - full garbage collections took 37% CPU time recently (threshold: 10%)\n",
      "2022-10-25 16:09:18,363 - distributed.utils_perf - WARNING - full garbage collections took 37% CPU time recently (threshold: 10%)\n",
      "2022-10-25 16:09:19,182 - distributed.utils_perf - WARNING - full garbage collections took 37% CPU time recently (threshold: 10%)\n",
      "2022-10-25 16:09:19,904 - distributed.utils_perf - WARNING - full garbage collections took 37% CPU time recently (threshold: 10%)\n",
      "2022-10-25 16:09:20,717 - distributed.utils_perf - WARNING - full garbage collections took 37% CPU time recently (threshold: 10%)\n",
      "2022-10-25 16:09:21,561 - distributed.utils_perf - WARNING - full garbage collections took 37% CPU time recently (threshold: 10%)\n",
      "2022-10-25 16:09:22,367 - distributed.utils_perf - WARNING - full garbage collections took 37% CPU time recently (threshold: 10%)\n",
      "2022-10-25 16:09:23,280 - distributed.utils_perf - WARNING - full garbage collections took 37% CPU time recently (threshold: 10%)\n",
      "2022-10-25 16:09:24,018 - distributed.utils_perf - WARNING - full garbage collections took 37% CPU time recently (threshold: 10%)\n",
      "2022-10-25 16:09:24,765 - distributed.utils_perf - WARNING - full garbage collections took 37% CPU time recently (threshold: 10%)\n"
     ]
    },
    {
     "name": "stdout",
     "output_type": "stream",
     "text": [
      "重复了\n"
     ]
    },
    {
     "name": "stderr",
     "output_type": "stream",
     "text": [
      "2022-10-25 16:09:25,519 - distributed.utils_perf - WARNING - full garbage collections took 37% CPU time recently (threshold: 10%)\n",
      "2022-10-25 16:09:26,244 - distributed.utils_perf - WARNING - full garbage collections took 37% CPU time recently (threshold: 10%)\n",
      "2022-10-25 16:09:26,948 - distributed.utils_perf - WARNING - full garbage collections took 37% CPU time recently (threshold: 10%)\n",
      "2022-10-25 16:09:27,717 - distributed.utils_perf - WARNING - full garbage collections took 38% CPU time recently (threshold: 10%)\n",
      "2022-10-25 16:09:28,479 - distributed.utils_perf - WARNING - full garbage collections took 38% CPU time recently (threshold: 10%)\n",
      "2022-10-25 16:09:29,325 - distributed.utils_perf - WARNING - full garbage collections took 38% CPU time recently (threshold: 10%)\n",
      "2022-10-25 16:09:30,070 - distributed.utils_perf - WARNING - full garbage collections took 38% CPU time recently (threshold: 10%)\n"
     ]
    },
    {
     "name": "stdout",
     "output_type": "stream",
     "text": [
      "重复了\n"
     ]
    },
    {
     "name": "stderr",
     "output_type": "stream",
     "text": [
      "2022-10-25 16:09:30,880 - distributed.utils_perf - WARNING - full garbage collections took 38% CPU time recently (threshold: 10%)\n",
      "2022-10-25 16:09:31,705 - distributed.utils_perf - WARNING - full garbage collections took 38% CPU time recently (threshold: 10%)\n"
     ]
    },
    {
     "name": "stdout",
     "output_type": "stream",
     "text": [
      "重复了\n",
      "重复了\n"
     ]
    },
    {
     "name": "stderr",
     "output_type": "stream",
     "text": [
      "2022-10-25 16:09:32,390 - distributed.utils_perf - WARNING - full garbage collections took 38% CPU time recently (threshold: 10%)\n",
      "2022-10-25 16:09:33,184 - distributed.utils_perf - WARNING - full garbage collections took 39% CPU time recently (threshold: 10%)\n",
      "2022-10-25 16:09:34,060 - distributed.utils_perf - WARNING - full garbage collections took 39% CPU time recently (threshold: 10%)\n",
      "2022-10-25 16:09:34,843 - distributed.utils_perf - WARNING - full garbage collections took 39% CPU time recently (threshold: 10%)\n"
     ]
    },
    {
     "name": "stdout",
     "output_type": "stream",
     "text": [
      "重复了\n",
      "重复了\n"
     ]
    },
    {
     "name": "stderr",
     "output_type": "stream",
     "text": [
      "2022-10-25 16:09:35,785 - distributed.utils_perf - WARNING - full garbage collections took 39% CPU time recently (threshold: 10%)\n",
      "2022-10-25 16:09:36,739 - distributed.utils_perf - WARNING - full garbage collections took 39% CPU time recently (threshold: 10%)\n"
     ]
    },
    {
     "name": "stdout",
     "output_type": "stream",
     "text": [
      "重复了\n",
      "重复了\n"
     ]
    },
    {
     "name": "stderr",
     "output_type": "stream",
     "text": [
      "2022-10-25 16:09:37,537 - distributed.utils_perf - WARNING - full garbage collections took 39% CPU time recently (threshold: 10%)\n"
     ]
    },
    {
     "name": "stdout",
     "output_type": "stream",
     "text": [
      "重复了\n",
      "重复了\n"
     ]
    },
    {
     "name": "stderr",
     "output_type": "stream",
     "text": [
      "2022-10-25 16:09:38,423 - distributed.utils_perf - WARNING - full garbage collections took 39% CPU time recently (threshold: 10%)\n",
      "2022-10-25 16:09:39,181 - distributed.utils_perf - WARNING - full garbage collections took 39% CPU time recently (threshold: 10%)\n",
      "2022-10-25 16:09:39,913 - distributed.utils_perf - WARNING - full garbage collections took 40% CPU time recently (threshold: 10%)\n",
      "2022-10-25 16:09:40,683 - distributed.utils_perf - WARNING - full garbage collections took 40% CPU time recently (threshold: 10%)\n",
      "2022-10-25 16:09:41,410 - distributed.utils_perf - WARNING - full garbage collections took 40% CPU time recently (threshold: 10%)\n"
     ]
    },
    {
     "name": "stdout",
     "output_type": "stream",
     "text": [
      "重复了\n"
     ]
    },
    {
     "name": "stderr",
     "output_type": "stream",
     "text": [
      "2022-10-25 16:09:42,184 - distributed.utils_perf - WARNING - full garbage collections took 40% CPU time recently (threshold: 10%)\n"
     ]
    },
    {
     "name": "stdout",
     "output_type": "stream",
     "text": [
      "重复了\n"
     ]
    },
    {
     "name": "stderr",
     "output_type": "stream",
     "text": [
      "2022-10-25 16:09:43,005 - distributed.utils_perf - WARNING - full garbage collections took 40% CPU time recently (threshold: 10%)\n",
      "2022-10-25 16:09:44,043 - distributed.utils_perf - WARNING - full garbage collections took 40% CPU time recently (threshold: 10%)\n",
      "2022-10-25 16:09:45,351 - distributed.utils_perf - WARNING - full garbage collections took 40% CPU time recently (threshold: 10%)\n",
      "2022-10-25 16:09:46,274 - distributed.utils_perf - WARNING - full garbage collections took 41% CPU time recently (threshold: 10%)\n",
      "2022-10-25 16:09:47,011 - distributed.utils_perf - WARNING - full garbage collections took 41% CPU time recently (threshold: 10%)\n",
      "2022-10-25 16:09:47,779 - distributed.utils_perf - WARNING - full garbage collections took 41% CPU time recently (threshold: 10%)\n",
      "2022-10-25 16:09:48,504 - distributed.utils_perf - WARNING - full garbage collections took 41% CPU time recently (threshold: 10%)\n",
      "2022-10-25 16:09:49,319 - distributed.utils_perf - WARNING - full garbage collections took 41% CPU time recently (threshold: 10%)\n",
      "2022-10-25 16:09:50,222 - distributed.utils_perf - WARNING - full garbage collections took 40% CPU time recently (threshold: 10%)\n",
      "2022-10-25 16:09:51,005 - distributed.utils_perf - WARNING - full garbage collections took 40% CPU time recently (threshold: 10%)\n",
      "2022-10-25 16:09:51,865 - distributed.utils_perf - WARNING - full garbage collections took 40% CPU time recently (threshold: 10%)\n"
     ]
    },
    {
     "name": "stdout",
     "output_type": "stream",
     "text": [
      "重复了\n"
     ]
    },
    {
     "name": "stderr",
     "output_type": "stream",
     "text": [
      "2022-10-25 16:09:52,830 - distributed.utils_perf - WARNING - full garbage collections took 40% CPU time recently (threshold: 10%)\n",
      "2022-10-25 16:09:53,805 - distributed.utils_perf - WARNING - full garbage collections took 39% CPU time recently (threshold: 10%)\n",
      "2022-10-25 16:09:54,501 - distributed.utils_perf - WARNING - full garbage collections took 39% CPU time recently (threshold: 10%)\n",
      "2022-10-25 16:09:55,336 - distributed.utils_perf - WARNING - full garbage collections took 39% CPU time recently (threshold: 10%)\n",
      "2022-10-25 16:09:56,273 - distributed.utils_perf - WARNING - full garbage collections took 39% CPU time recently (threshold: 10%)\n"
     ]
    },
    {
     "name": "stdout",
     "output_type": "stream",
     "text": [
      "重复了\n"
     ]
    },
    {
     "name": "stderr",
     "output_type": "stream",
     "text": [
      "2022-10-25 16:09:56,982 - distributed.utils_perf - WARNING - full garbage collections took 39% CPU time recently (threshold: 10%)\n"
     ]
    },
    {
     "name": "stdout",
     "output_type": "stream",
     "text": [
      "重复了\n"
     ]
    },
    {
     "name": "stderr",
     "output_type": "stream",
     "text": [
      "2022-10-25 16:09:57,757 - distributed.utils_perf - WARNING - full garbage collections took 38% CPU time recently (threshold: 10%)\n",
      "2022-10-25 16:09:58,436 - distributed.utils_perf - WARNING - full garbage collections took 38% CPU time recently (threshold: 10%)\n"
     ]
    },
    {
     "name": "stdout",
     "output_type": "stream",
     "text": [
      "重复了\n",
      "重复了\n"
     ]
    },
    {
     "name": "stderr",
     "output_type": "stream",
     "text": [
      "2022-10-25 16:09:59,203 - distributed.utils_perf - WARNING - full garbage collections took 38% CPU time recently (threshold: 10%)\n",
      "2022-10-25 16:09:59,899 - distributed.utils_perf - WARNING - full garbage collections took 38% CPU time recently (threshold: 10%)\n",
      "2022-10-25 16:10:00,693 - distributed.utils_perf - WARNING - full garbage collections took 39% CPU time recently (threshold: 10%)\n",
      "2022-10-25 16:10:01,501 - distributed.utils_perf - WARNING - full garbage collections took 39% CPU time recently (threshold: 10%)\n"
     ]
    },
    {
     "name": "stdout",
     "output_type": "stream",
     "text": [
      "重复了\n",
      "重复了\n"
     ]
    },
    {
     "name": "stderr",
     "output_type": "stream",
     "text": [
      "2022-10-25 16:10:02,481 - distributed.utils_perf - WARNING - full garbage collections took 39% CPU time recently (threshold: 10%)\n",
      "2022-10-25 16:10:03,327 - distributed.utils_perf - WARNING - full garbage collections took 39% CPU time recently (threshold: 10%)\n"
     ]
    },
    {
     "name": "stdout",
     "output_type": "stream",
     "text": [
      "重复了\n",
      "重复了\n"
     ]
    },
    {
     "name": "stderr",
     "output_type": "stream",
     "text": [
      "2022-10-25 16:10:04,083 - distributed.utils_perf - WARNING - full garbage collections took 39% CPU time recently (threshold: 10%)\n"
     ]
    },
    {
     "name": "stdout",
     "output_type": "stream",
     "text": [
      "重复了\n",
      "重复了\n"
     ]
    },
    {
     "name": "stderr",
     "output_type": "stream",
     "text": [
      "2022-10-25 16:10:04,861 - distributed.utils_perf - WARNING - full garbage collections took 38% CPU time recently (threshold: 10%)\n",
      "2022-10-25 16:10:05,581 - distributed.utils_perf - WARNING - full garbage collections took 38% CPU time recently (threshold: 10%)\n",
      "2022-10-25 16:10:06,441 - distributed.utils_perf - WARNING - full garbage collections took 38% CPU time recently (threshold: 10%)\n",
      "2022-10-25 16:10:07,371 - distributed.utils_perf - WARNING - full garbage collections took 39% CPU time recently (threshold: 10%)\n",
      "2022-10-25 16:10:08,605 - distributed.utils_perf - WARNING - full garbage collections took 39% CPU time recently (threshold: 10%)\n"
     ]
    },
    {
     "name": "stdout",
     "output_type": "stream",
     "text": [
      "重复了\n"
     ]
    },
    {
     "name": "stderr",
     "output_type": "stream",
     "text": [
      "2022-10-25 16:10:09,854 - distributed.utils_perf - WARNING - full garbage collections took 39% CPU time recently (threshold: 10%)\n"
     ]
    },
    {
     "name": "stdout",
     "output_type": "stream",
     "text": [
      "重复了\n"
     ]
    },
    {
     "name": "stderr",
     "output_type": "stream",
     "text": [
      "2022-10-25 16:10:11,013 - distributed.utils_perf - WARNING - full garbage collections took 38% CPU time recently (threshold: 10%)\n",
      "2022-10-25 16:10:12,090 - distributed.utils_perf - WARNING - full garbage collections took 38% CPU time recently (threshold: 10%)\n",
      "2022-10-25 16:10:13,079 - distributed.utils_perf - WARNING - full garbage collections took 37% CPU time recently (threshold: 10%)\n",
      "2022-10-25 16:10:14,154 - distributed.utils_perf - WARNING - full garbage collections took 37% CPU time recently (threshold: 10%)\n",
      "2022-10-25 16:10:15,243 - distributed.utils_perf - WARNING - full garbage collections took 37% CPU time recently (threshold: 10%)\n",
      "2022-10-25 16:10:16,181 - distributed.utils_perf - WARNING - full garbage collections took 37% CPU time recently (threshold: 10%)\n",
      "2022-10-25 16:10:17,001 - distributed.utils_perf - WARNING - full garbage collections took 37% CPU time recently (threshold: 10%)\n",
      "2022-10-25 16:10:18,162 - distributed.utils_perf - WARNING - full garbage collections took 37% CPU time recently (threshold: 10%)\n",
      "2022-10-25 16:10:18,975 - distributed.utils_perf - WARNING - full garbage collections took 37% CPU time recently (threshold: 10%)\n",
      "2022-10-25 16:10:20,040 - distributed.utils_perf - WARNING - full garbage collections took 38% CPU time recently (threshold: 10%)\n",
      "2022-10-25 16:10:20,806 - distributed.utils_perf - WARNING - full garbage collections took 38% CPU time recently (threshold: 10%)\n"
     ]
    },
    {
     "name": "stdout",
     "output_type": "stream",
     "text": [
      "重复了\n"
     ]
    },
    {
     "name": "stderr",
     "output_type": "stream",
     "text": [
      "2022-10-25 16:10:21,535 - distributed.utils_perf - WARNING - full garbage collections took 38% CPU time recently (threshold: 10%)\n",
      "2022-10-25 16:10:22,317 - distributed.utils_perf - WARNING - full garbage collections took 38% CPU time recently (threshold: 10%)\n",
      "2022-10-25 16:10:23,056 - distributed.utils_perf - WARNING - full garbage collections took 38% CPU time recently (threshold: 10%)\n",
      "2022-10-25 16:10:23,812 - distributed.utils_perf - WARNING - full garbage collections took 38% CPU time recently (threshold: 10%)\n",
      "2022-10-25 16:10:24,603 - distributed.utils_perf - WARNING - full garbage collections took 39% CPU time recently (threshold: 10%)\n"
     ]
    },
    {
     "name": "stdout",
     "output_type": "stream",
     "text": [
      "重复了\n"
     ]
    },
    {
     "name": "stderr",
     "output_type": "stream",
     "text": [
      "2022-10-25 16:10:25,556 - distributed.utils_perf - WARNING - full garbage collections took 39% CPU time recently (threshold: 10%)\n"
     ]
    },
    {
     "name": "stdout",
     "output_type": "stream",
     "text": [
      "重复了\n"
     ]
    },
    {
     "name": "stderr",
     "output_type": "stream",
     "text": [
      "2022-10-25 16:10:26,425 - distributed.utils_perf - WARNING - full garbage collections took 38% CPU time recently (threshold: 10%)\n",
      "2022-10-25 16:10:27,222 - distributed.utils_perf - WARNING - full garbage collections took 38% CPU time recently (threshold: 10%)\n"
     ]
    },
    {
     "name": "stdout",
     "output_type": "stream",
     "text": [
      "重复了\n",
      "重复了\n",
      "重复了\n"
     ]
    },
    {
     "name": "stderr",
     "output_type": "stream",
     "text": [
      "2022-10-25 16:10:28,018 - distributed.utils_perf - WARNING - full garbage collections took 38% CPU time recently (threshold: 10%)\n",
      "2022-10-25 16:10:28,836 - distributed.utils_perf - WARNING - full garbage collections took 38% CPU time recently (threshold: 10%)\n",
      "2022-10-25 16:10:29,941 - distributed.utils_perf - WARNING - full garbage collections took 38% CPU time recently (threshold: 10%)\n"
     ]
    },
    {
     "name": "stdout",
     "output_type": "stream",
     "text": [
      "重复了\n",
      "重复了\n"
     ]
    },
    {
     "name": "stderr",
     "output_type": "stream",
     "text": [
      "2022-10-25 16:10:30,742 - distributed.utils_perf - WARNING - full garbage collections took 38% CPU time recently (threshold: 10%)\n",
      "2022-10-25 16:10:31,711 - distributed.utils_perf - WARNING - full garbage collections took 39% CPU time recently (threshold: 10%)\n"
     ]
    },
    {
     "name": "stdout",
     "output_type": "stream",
     "text": [
      "重复了\n",
      "重复了\n"
     ]
    },
    {
     "name": "stderr",
     "output_type": "stream",
     "text": [
      "2022-10-25 16:10:32,811 - distributed.utils_perf - WARNING - full garbage collections took 39% CPU time recently (threshold: 10%)\n"
     ]
    },
    {
     "name": "stdout",
     "output_type": "stream",
     "text": [
      "重复了\n",
      "重复了\n",
      "重复了\n"
     ]
    },
    {
     "name": "stderr",
     "output_type": "stream",
     "text": [
      "2022-10-25 16:10:34,119 - distributed.utils_perf - WARNING - full garbage collections took 39% CPU time recently (threshold: 10%)\n",
      "2022-10-25 16:10:34,864 - distributed.utils_perf - WARNING - full garbage collections took 39% CPU time recently (threshold: 10%)\n",
      "2022-10-25 16:10:35,610 - distributed.utils_perf - WARNING - full garbage collections took 39% CPU time recently (threshold: 10%)\n",
      "2022-10-25 16:10:36,441 - distributed.utils_perf - WARNING - full garbage collections took 39% CPU time recently (threshold: 10%)\n"
     ]
    },
    {
     "name": "stdout",
     "output_type": "stream",
     "text": [
      "重复了\n"
     ]
    },
    {
     "name": "stderr",
     "output_type": "stream",
     "text": [
      "2022-10-25 16:10:37,215 - distributed.utils_perf - WARNING - full garbage collections took 39% CPU time recently (threshold: 10%)\n"
     ]
    },
    {
     "name": "stdout",
     "output_type": "stream",
     "text": [
      "重复了\n"
     ]
    },
    {
     "name": "stderr",
     "output_type": "stream",
     "text": [
      "2022-10-25 16:10:37,982 - distributed.utils_perf - WARNING - full garbage collections took 39% CPU time recently (threshold: 10%)\n",
      "2022-10-25 16:10:38,763 - distributed.utils_perf - WARNING - full garbage collections took 39% CPU time recently (threshold: 10%)\n",
      "2022-10-25 16:10:39,522 - distributed.utils_perf - WARNING - full garbage collections took 40% CPU time recently (threshold: 10%)\n",
      "2022-10-25 16:10:40,362 - distributed.utils_perf - WARNING - full garbage collections took 40% CPU time recently (threshold: 10%)\n",
      "2022-10-25 16:10:41,233 - distributed.utils_perf - WARNING - full garbage collections took 40% CPU time recently (threshold: 10%)\n",
      "2022-10-25 16:10:42,093 - distributed.utils_perf - WARNING - full garbage collections took 40% CPU time recently (threshold: 10%)\n",
      "2022-10-25 16:10:42,842 - distributed.utils_perf - WARNING - full garbage collections took 41% CPU time recently (threshold: 10%)\n",
      "2022-10-25 16:10:43,594 - distributed.utils_perf - WARNING - full garbage collections took 41% CPU time recently (threshold: 10%)\n",
      "2022-10-25 16:10:44,674 - distributed.utils_perf - WARNING - full garbage collections took 41% CPU time recently (threshold: 10%)\n",
      "2022-10-25 16:10:45,471 - distributed.utils_perf - WARNING - full garbage collections took 40% CPU time recently (threshold: 10%)\n",
      "2022-10-25 16:10:46,302 - distributed.utils_perf - WARNING - full garbage collections took 40% CPU time recently (threshold: 10%)\n"
     ]
    },
    {
     "name": "stdout",
     "output_type": "stream",
     "text": [
      "重复了\n"
     ]
    },
    {
     "name": "stderr",
     "output_type": "stream",
     "text": [
      "2022-10-25 16:10:47,055 - distributed.utils_perf - WARNING - full garbage collections took 41% CPU time recently (threshold: 10%)\n",
      "2022-10-25 16:10:47,819 - distributed.utils_perf - WARNING - full garbage collections took 41% CPU time recently (threshold: 10%)\n",
      "2022-10-25 16:10:48,540 - distributed.utils_perf - WARNING - full garbage collections took 40% CPU time recently (threshold: 10%)\n",
      "2022-10-25 16:10:49,293 - distributed.utils_perf - WARNING - full garbage collections took 40% CPU time recently (threshold: 10%)\n",
      "2022-10-25 16:10:49,985 - distributed.utils_perf - WARNING - full garbage collections took 40% CPU time recently (threshold: 10%)\n"
     ]
    },
    {
     "name": "stdout",
     "output_type": "stream",
     "text": [
      "重复了\n"
     ]
    },
    {
     "name": "stderr",
     "output_type": "stream",
     "text": [
      "2022-10-25 16:10:50,762 - distributed.utils_perf - WARNING - full garbage collections took 40% CPU time recently (threshold: 10%)\n"
     ]
    },
    {
     "name": "stdout",
     "output_type": "stream",
     "text": [
      "重复了\n"
     ]
    },
    {
     "name": "stderr",
     "output_type": "stream",
     "text": [
      "2022-10-25 16:10:51,498 - distributed.utils_perf - WARNING - full garbage collections took 40% CPU time recently (threshold: 10%)\n",
      "2022-10-25 16:10:52,273 - distributed.utils_perf - WARNING - full garbage collections took 40% CPU time recently (threshold: 10%)\n"
     ]
    },
    {
     "name": "stdout",
     "output_type": "stream",
     "text": [
      "重复了\n",
      "重复了\n",
      "重复了\n"
     ]
    },
    {
     "name": "stderr",
     "output_type": "stream",
     "text": [
      "2022-10-25 16:10:53,023 - distributed.utils_perf - WARNING - full garbage collections took 40% CPU time recently (threshold: 10%)\n",
      "2022-10-25 16:10:53,792 - distributed.utils_perf - WARNING - full garbage collections took 40% CPU time recently (threshold: 10%)\n",
      "2022-10-25 16:10:54,697 - distributed.utils_perf - WARNING - full garbage collections took 40% CPU time recently (threshold: 10%)\n"
     ]
    },
    {
     "name": "stdout",
     "output_type": "stream",
     "text": [
      "重复了\n",
      "重复了\n"
     ]
    },
    {
     "name": "stderr",
     "output_type": "stream",
     "text": [
      "2022-10-25 16:10:55,450 - distributed.utils_perf - WARNING - full garbage collections took 40% CPU time recently (threshold: 10%)\n",
      "2022-10-25 16:10:56,281 - distributed.utils_perf - WARNING - full garbage collections took 39% CPU time recently (threshold: 10%)\n"
     ]
    },
    {
     "name": "stdout",
     "output_type": "stream",
     "text": [
      "重复了\n",
      "重复了\n"
     ]
    },
    {
     "name": "stderr",
     "output_type": "stream",
     "text": [
      "2022-10-25 16:10:57,678 - distributed.utils_perf - WARNING - full garbage collections took 41% CPU time recently (threshold: 10%)\n"
     ]
    },
    {
     "name": "stdout",
     "output_type": "stream",
     "text": [
      "重复了\n",
      "重复了\n",
      "重复了\n",
      "重复了\n"
     ]
    },
    {
     "name": "stderr",
     "output_type": "stream",
     "text": [
      "2022-10-25 16:10:59,263 - distributed.utils_perf - WARNING - full garbage collections took 40% CPU time recently (threshold: 10%)\n",
      "2022-10-25 16:10:59,982 - distributed.utils_perf - WARNING - full garbage collections took 40% CPU time recently (threshold: 10%)\n",
      "2022-10-25 16:11:00,807 - distributed.utils_perf - WARNING - full garbage collections took 40% CPU time recently (threshold: 10%)\n"
     ]
    },
    {
     "name": "stdout",
     "output_type": "stream",
     "text": [
      "重复了\n"
     ]
    },
    {
     "name": "stderr",
     "output_type": "stream",
     "text": [
      "2022-10-25 16:11:02,728 - distributed.utils_perf - WARNING - full garbage collections took 40% CPU time recently (threshold: 10%)\n"
     ]
    },
    {
     "name": "stdout",
     "output_type": "stream",
     "text": [
      "重复了\n"
     ]
    },
    {
     "name": "stderr",
     "output_type": "stream",
     "text": [
      "2022-10-25 16:11:03,540 - distributed.utils_perf - WARNING - full garbage collections took 39% CPU time recently (threshold: 10%)\n",
      "2022-10-25 16:11:04,634 - distributed.utils_perf - WARNING - full garbage collections took 40% CPU time recently (threshold: 10%)\n",
      "2022-10-25 16:11:06,235 - distributed.utils_perf - WARNING - full garbage collections took 39% CPU time recently (threshold: 10%)\n",
      "2022-10-25 16:11:06,942 - distributed.utils_perf - WARNING - full garbage collections took 39% CPU time recently (threshold: 10%)\n",
      "2022-10-25 16:11:07,769 - distributed.utils_perf - WARNING - full garbage collections took 39% CPU time recently (threshold: 10%)\n",
      "2022-10-25 16:11:08,573 - distributed.utils_perf - WARNING - full garbage collections took 39% CPU time recently (threshold: 10%)\n",
      "2022-10-25 16:11:09,327 - distributed.utils_perf - WARNING - full garbage collections took 39% CPU time recently (threshold: 10%)\n",
      "2022-10-25 16:11:10,079 - distributed.utils_perf - WARNING - full garbage collections took 39% CPU time recently (threshold: 10%)\n",
      "2022-10-25 16:11:11,189 - distributed.utils_perf - WARNING - full garbage collections took 39% CPU time recently (threshold: 10%)\n",
      "2022-10-25 16:11:12,387 - distributed.utils_perf - WARNING - full garbage collections took 38% CPU time recently (threshold: 10%)\n",
      "2022-10-25 16:11:13,286 - distributed.utils_perf - WARNING - full garbage collections took 37% CPU time recently (threshold: 10%)\n"
     ]
    },
    {
     "name": "stdout",
     "output_type": "stream",
     "text": [
      "重复了\n"
     ]
    },
    {
     "name": "stderr",
     "output_type": "stream",
     "text": [
      "2022-10-25 16:11:14,230 - distributed.utils_perf - WARNING - full garbage collections took 38% CPU time recently (threshold: 10%)\n",
      "2022-10-25 16:11:15,007 - distributed.utils_perf - WARNING - full garbage collections took 38% CPU time recently (threshold: 10%)\n",
      "2022-10-25 16:11:15,815 - distributed.utils_perf - WARNING - full garbage collections took 38% CPU time recently (threshold: 10%)\n",
      "2022-10-25 16:11:16,571 - distributed.utils_perf - WARNING - full garbage collections took 38% CPU time recently (threshold: 10%)\n",
      "2022-10-25 16:11:17,386 - distributed.utils_perf - WARNING - full garbage collections took 38% CPU time recently (threshold: 10%)\n"
     ]
    },
    {
     "name": "stdout",
     "output_type": "stream",
     "text": [
      "重复了\n"
     ]
    },
    {
     "name": "stderr",
     "output_type": "stream",
     "text": [
      "2022-10-25 16:11:18,191 - distributed.utils_perf - WARNING - full garbage collections took 38% CPU time recently (threshold: 10%)\n"
     ]
    },
    {
     "name": "stdout",
     "output_type": "stream",
     "text": [
      "重复了\n"
     ]
    },
    {
     "name": "stderr",
     "output_type": "stream",
     "text": [
      "2022-10-25 16:11:18,948 - distributed.utils_perf - WARNING - full garbage collections took 37% CPU time recently (threshold: 10%)\n",
      "2022-10-25 16:11:19,781 - distributed.utils_perf - WARNING - full garbage collections took 37% CPU time recently (threshold: 10%)\n"
     ]
    },
    {
     "name": "stdout",
     "output_type": "stream",
     "text": [
      "重复了\n",
      "重复了\n",
      "重复了\n"
     ]
    },
    {
     "name": "stderr",
     "output_type": "stream",
     "text": [
      "2022-10-25 16:11:20,569 - distributed.utils_perf - WARNING - full garbage collections took 37% CPU time recently (threshold: 10%)\n",
      "2022-10-25 16:11:21,319 - distributed.utils_perf - WARNING - full garbage collections took 37% CPU time recently (threshold: 10%)\n",
      "UserWarning: Distributing <class 'list'> object. This may take some time.\n",
      "UserWarning: `to_csv` is not currently supported by PandasOnDask, defaulting to pandas implementation.\n",
      "Please refer to https://modin.readthedocs.io/en/stable/supported_apis/defaulting_to_pandas.html for explanation.\n"
     ]
    }
   ],
   "source": [
    "\"\"\"暴力 组合重要特则\"\"\"\n",
    "importance_feature_list = ['grade','subGrade','term','homeOwnership'\n",
    ",'issueDate_year','n11','n2','employmentLength','ficoRangeLow','n14',\n",
    "'loanAmnt','dti','n9','issueDate_month','annualIncome','verificationStatus',\n",
    "'revolBal',\n",
    "]\n",
    "temp_list = [] #暂存组合的特征名\n",
    "result = []\n",
    "index = 0\n",
    "temp_df = pd.DataFrame()\n",
    "for i in importance_feature_list:\n",
    "    for j in train_X.columns:\n",
    "        col = i + '_' + j\n",
    "        if j + '_' + i in temp_list: #避免重复\n",
    "            print('重复了')\n",
    "            continue\n",
    "        temp_list.append(col)\n",
    "        corr =  pearsonr(train_X[i] * train_X[j],train_y)\n",
    "        if corr[1] <= 0.05 and corr[0] > 0.19:\n",
    "            index += 1\n",
    "            print(index,col,'\\n')\n",
    "\n",
    "            result.append([col,corr[0],corr[1]]) #存入列表\n",
    "            temp_df[col] = train_X[i] * train_X[j]\n",
    "        del col, corr\n",
    "        gc.collect()\n",
    "pd.DataFrame(data = result).to_csv(\"./feature_cross_result.csv\")"
   ]
  },
  {
   "cell_type": "code",
   "execution_count": 11,
   "id": "a6d538e0",
   "metadata": {},
   "outputs": [],
   "source": [
    "train_X = pd.concat([train_X, temp_df], axis = 1)"
   ]
  },
  {
   "cell_type": "code",
   "execution_count": 12,
   "id": "2b8ca23f",
   "metadata": {},
   "outputs": [
    {
     "name": "stderr",
     "output_type": "stream",
     "text": [
      "2022-10-25 16:14:46,118 - distributed.utils_perf - WARNING - full garbage collections took 34% CPU time recently (threshold: 10%)\n"
     ]
    },
    {
     "data": {
      "text/plain": [
       "3452"
      ]
     },
     "execution_count": 12,
     "metadata": {},
     "output_type": "execute_result"
    }
   ],
   "source": [
    "del temp_df\n",
    "gc.collect()"
   ]
  },
  {
   "cell_type": "code",
   "execution_count": 13,
   "id": "3556c7d4",
   "metadata": {
    "scrolled": false
   },
   "outputs": [
    {
     "name": "stderr",
     "output_type": "stream",
     "text": [
      "UserWarning: Distributing <class 'int'> object. This may take some time.\n"
     ]
    },
    {
     "name": "stdout",
     "output_type": "stream",
     "text": [
      "<class 'modin.pandas.dataframe.DataFrame'>\n",
      "RangeIndex: 732996 entries, 0 to 732995\n",
      "Data columns (total 91 columns):\n",
      " #   Column                            Non-Null Count   Dtype  \n",
      "---  --------------------------------  ---------------  -----  \n",
      " 0   id                                732996 non-null  int64\n",
      " 1   loanAmnt                          732996 non-null  float64\n",
      " 2   term                              732996 non-null  int64\n",
      " 3   interestRate                      732996 non-null  float64\n",
      " 4   installment                       732996 non-null  float64\n",
      " 5   grade                             732996 non-null  int64\n",
      " 6   subGrade                          732996 non-null  int64\n",
      " 7   employmentTitle                   732996 non-null  float64\n",
      " 8   employmentLength                  732996 non-null  int64\n",
      " 9   homeOwnership                     732996 non-null  int64\n",
      " 10  annualIncome                      732996 non-null  float64\n",
      " 11  verificationStatus                732996 non-null  int64\n",
      " 12  purpose                           732996 non-null  int64\n",
      " 13  postCode                          732996 non-null  float64\n",
      " 14  regionCode                        732996 non-null  int64\n",
      " 15  dti                               732996 non-null  float64\n",
      " 16  delinquency_2years                732996 non-null  float64\n",
      " 17  ficoRangeLow                      732996 non-null  float64\n",
      " 18  openAcc                           732996 non-null  float64\n",
      " 19  pubRec                            732996 non-null  float64\n",
      " 20  pubRecBankruptcies                732996 non-null  float64\n",
      " 21  revolBal                          732996 non-null  float64\n",
      " 22  revolUtil                         732996 non-null  float64\n",
      " 23  totalAcc                          732996 non-null  float64\n",
      " 24  initialListStatus                 732996 non-null  int64\n",
      " 25  applicationType                   732996 non-null  int64\n",
      " 26  title                             732996 non-null  float64\n",
      " 27  n0                                732996 non-null  float64\n",
      " 28  n1                                732996 non-null  float64\n",
      " 29  n2                                732996 non-null  float64\n",
      " 30  n4                                732996 non-null  float64\n",
      " 31  n5                                732996 non-null  float64\n",
      " 32  n6                                732996 non-null  float64\n",
      " 33  n7                                732996 non-null  float64\n",
      " 34  n8                                732996 non-null  float64\n",
      " 35  n9                                732996 non-null  float64\n",
      " 36  n10                               732996 non-null  float64\n",
      " 37  n11                               732996 non-null  float64\n",
      " 38  n12                               732996 non-null  float64\n",
      " 39  n13                               732996 non-null  float64\n",
      " 40  n14                               732996 non-null  float64\n",
      " 41  issueDate_year                    732996 non-null  int64\n",
      " 42  issueDate_month                   732996 non-null  int64\n",
      " 43  earliesCreditLine_month           732996 non-null  int64\n",
      " 44  earliesCreditLine_year            732996 non-null  int64\n",
      " 45  grade_loanAmnt                    732996 non-null  float64\n",
      " 46  grade_term                        732996 non-null  int64\n",
      " 47  grade_interestRate                732996 non-null  float64\n",
      " 48  grade_installment                 732996 non-null  float64\n",
      " 49  grade_grade                       732996 non-null  int64\n",
      " 50  grade_subGrade                    732996 non-null  int64\n",
      " 51  grade_verificationStatus          732996 non-null  int64\n",
      " 52  grade_dti                         732996 non-null  float64\n",
      " 53  grade_ficoRangeLow                732996 non-null  float64\n",
      " 54  grade_openAcc                     732996 non-null  float64\n",
      " 55  grade_revolUtil                   732996 non-null  float64\n",
      " 56  grade_totalAcc                    732996 non-null  float64\n",
      " 57  grade_n1                          732996 non-null  float64\n",
      " 58  grade_n2                          732996 non-null  float64\n",
      " 59  grade_n4                          732996 non-null  float64\n",
      " 60  grade_n7                          732996 non-null  float64\n",
      " 61  grade_n8                          732996 non-null  float64\n",
      " 62  grade_n9                          732996 non-null  float64\n",
      " 63  grade_n10                         732996 non-null  float64\n",
      " 64  grade_n14                         732996 non-null  float64\n",
      " 65  grade_issueDate_year              732996 non-null  int64\n",
      " 66  grade_issueDate_month             732996 non-null  int64\n",
      " 67  grade_earliesCreditLine_month     732996 non-null  int64\n",
      " 68  grade_earliesCreditLine_year      732996 non-null  int64\n",
      " 69  subGrade_loanAmnt                 732996 non-null  float64\n",
      " 70  subGrade_term                     732996 non-null  int64\n",
      " 71  subGrade_interestRate             732996 non-null  float64\n",
      " 72  subGrade_installment              732996 non-null  float64\n",
      " 73  subGrade_subGrade                 732996 non-null  int64\n",
      " 74  subGrade_verificationStatus       732996 non-null  int64\n",
      " 75  subGrade_dti                      732996 non-null  float64\n",
      " 76  subGrade_ficoRangeLow             732996 non-null  float64\n",
      " 77  subGrade_openAcc                  732996 non-null  float64\n",
      " 78  subGrade_revolUtil                732996 non-null  float64\n",
      " 79  subGrade_totalAcc                 732996 non-null  float64\n",
      " 80  subGrade_n1                       732996 non-null  float64\n",
      " 81  subGrade_n2                       732996 non-null  float64\n",
      " 82  subGrade_n7                       732996 non-null  float64\n",
      " 83  subGrade_n9                       732996 non-null  float64\n",
      " 84  subGrade_n10                      732996 non-null  float64\n",
      " 85  subGrade_issueDate_year           732996 non-null  int64\n",
      " 86  subGrade_earliesCreditLine_month  732996 non-null  int64\n",
      " 87  subGrade_earliesCreditLine_year   732996 non-null  int64\n",
      " 88  term_interestRate                 732996 non-null  float64\n",
      " 89  issueDate_year_interestRate       732996 non-null  float64\n",
      " 90  ficoRangeLow_interestRate         732996 non-null  float64\n",
      "dtypes: float64(62), int64(29)\n",
      "memory usage: 508.9 MB\n"
     ]
    }
   ],
   "source": [
    "train_X.info()"
   ]
  },
  {
   "cell_type": "code",
   "execution_count": null,
   "id": "a2e642ab",
   "metadata": {},
   "outputs": [],
   "source": []
  },
  {
   "cell_type": "code",
   "execution_count": null,
   "id": "f95618ae",
   "metadata": {},
   "outputs": [],
   "source": []
  },
  {
   "cell_type": "code",
   "execution_count": 46,
   "id": "cdece25b",
   "metadata": {},
   "outputs": [],
   "source": [
    "train_X['loanAmnt_annualIncome'] = train_X['loanAmnt'] / train_X['annualIncome']\n",
    "test_df['loanAmnt_annualIncome'] = test_df['loanAmnt'] / test_df['annualIncome']\n",
    "train_X['loanAmnt_annualIncome'] = train_X['loanAmnt_annualIncome'].apply(lambda x: 0 if x == np.inf else x)\n",
    "test_X['loanAmnt_annualIncome'] = test_X['loanAmnt_annualIncome'].apply(lambda x: 0 if x == np.inf else x)\n",
    "\n",
    "train_X['installment_loanAmnt'] = train_X['installment'] / train_X['loanAmnt']\n",
    "test_df['installment_loanAmnt'] = test_df['installment'] / test_df['loanAmnt']\n",
    "\n",
    "train_X['issueDate_year_earliesCreditLine_year'] = train_X['issueDate_year'] - train_X['earliesCreditLine_year']\n",
    "test_df['issueDate_year_earliesCreditLine_year'] = test_df['issueDate_year'] - test_df['earliesCreditLine_year']\n",
    "\n",
    "train_X['loanAmnt_totalAcc'] = train_X['loanAmnt'] / train_X['totalAcc']\n",
    "test_df['loanAmnt_totalAcc'] = test_df['loanAmnt'] / test_df['totalAcc']\n",
    "\n",
    "train_X['openAcc_totalAcc'] = train_X['openAcc'] / train_X['totalAcc']\n",
    "test_df['openAcc_totalAcc'] = test_df['openAcc'] / test_df['totalAcc']\n",
    "\n",
    "train_X['purpose_totalAcc'] = train_X['purpose'] * train_X['totalAcc']\n",
    "test_df['purpose_totalAcc'] = test_df['purpose'] * test_df['totalAcc']\n"
   ]
  },
  {
   "cell_type": "code",
   "execution_count": 92,
   "id": "a4993cca",
   "metadata": {
    "scrolled": true
   },
   "outputs": [
    {
     "name": "stderr",
     "output_type": "stream",
     "text": [
      "C:\\Users\\Mr.Li\\AppData\\Local\\Temp\\ipykernel_17264\\2517155957.py:10: SettingWithCopyWarning: \n",
      "A value is trying to be set on a copy of a slice from a DataFrame.\n",
      "Try using .loc[row_indexer,col_indexer] = value instead\n",
      "\n",
      "See the caveats in the documentation: https://pandas.pydata.org/pandas-docs/stable/user_guide/indexing.html#returning-a-view-versus-a-copy\n",
      "  prediction['prob'] = 0\n"
     ]
    },
    {
     "name": "stdout",
     "output_type": "stream",
     "text": [
      "\n",
      "Fold_1 Training ========================\n",
      "\n"
     ]
    },
    {
     "name": "stderr",
     "output_type": "stream",
     "text": [
      "E:\\anaconda\\envs\\kaggle\\lib\\site-packages\\xgboost\\sklearn.py:793: UserWarning: `eval_metric` in `fit` method is deprecated for better compatibility with scikit-learn, use `eval_metric` in constructor or`set_params` instead.\n",
      "  warnings.warn(\n",
      "E:\\anaconda\\envs\\kaggle\\lib\\site-packages\\xgboost\\sklearn.py:793: UserWarning: `early_stopping_rounds` in `fit` method is deprecated for better compatibility with scikit-learn, use `early_stopping_rounds` in constructor or`set_params` instead.\n",
      "  warnings.warn(\n"
     ]
    },
    {
     "name": "stdout",
     "output_type": "stream",
     "text": [
      "[0]\tvalidation_0-auc:0.70556\tvalidation_1-auc:0.70383\n"
     ]
    },
    {
     "ename": "KeyboardInterrupt",
     "evalue": "",
     "output_type": "error",
     "traceback": [
      "\u001b[1;31m---------------------------------------------------------------------------\u001b[0m",
      "\u001b[1;31mKeyboardInterrupt\u001b[0m                         Traceback (most recent call last)",
      "Input \u001b[1;32mIn [92]\u001b[0m, in \u001b[0;36m<cell line: 28>\u001b[1;34m()\u001b[0m\n\u001b[0;32m     32\u001b[0m val_y_kfold \u001b[38;5;241m=\u001b[39m train_y\u001b[38;5;241m.\u001b[39miloc[val_idx]\n\u001b[0;32m     34\u001b[0m \u001b[38;5;28mprint\u001b[39m(\u001b[38;5;124m'\u001b[39m\u001b[38;5;130;01m\\n\u001b[39;00m\u001b[38;5;124mFold_\u001b[39m\u001b[38;5;132;01m{}\u001b[39;00m\u001b[38;5;124m Training ========================\u001b[39m\u001b[38;5;130;01m\\n\u001b[39;00m\u001b[38;5;124m'\u001b[39m\u001b[38;5;241m.\u001b[39mformat(\n\u001b[0;32m     35\u001b[0m     fold_id \u001b[38;5;241m+\u001b[39m \u001b[38;5;241m1\u001b[39m))\n\u001b[1;32m---> 37\u001b[0m xgb_model \u001b[38;5;241m=\u001b[39m \u001b[43mmodel\u001b[49m\u001b[38;5;241;43m.\u001b[39;49m\u001b[43mfit\u001b[49m\u001b[43m(\u001b[49m\u001b[43mtrain_X_kfold\u001b[49m\u001b[43m,\u001b[49m\n\u001b[0;32m     38\u001b[0m \u001b[43m                      \u001b[49m\u001b[43mtrain_y_kfold\u001b[49m\u001b[43m,\u001b[49m\n\u001b[0;32m     39\u001b[0m \u001b[43m                      \u001b[49m\u001b[43meval_set\u001b[49m\u001b[38;5;241;43m=\u001b[39;49m\u001b[43m[\u001b[49m\u001b[43m(\u001b[49m\u001b[43mtrain_X_kfold\u001b[49m\u001b[43m,\u001b[49m\u001b[43m \u001b[49m\u001b[43mtrain_y_kfold\u001b[49m\u001b[43m)\u001b[49m\u001b[43m,\u001b[49m\u001b[43m \u001b[49m\u001b[43m(\u001b[49m\u001b[43mval_X_kfold\u001b[49m\u001b[43m,\u001b[49m\u001b[43m \u001b[49m\u001b[43mval_y_kfold\u001b[49m\u001b[43m)\u001b[49m\u001b[43m]\u001b[49m\u001b[43m,\u001b[49m\n\u001b[0;32m     40\u001b[0m \u001b[43m                      \u001b[49m\u001b[43mverbose\u001b[49m\u001b[38;5;241;43m=\u001b[39;49m\u001b[38;5;241;43m50\u001b[39;49m\u001b[43m,\u001b[49m\n\u001b[0;32m     41\u001b[0m \u001b[43m                      \u001b[49m\u001b[43meval_metric\u001b[49m\u001b[38;5;241;43m=\u001b[39;49m\u001b[38;5;124;43m'\u001b[39;49m\u001b[38;5;124;43mauc\u001b[39;49m\u001b[38;5;124;43m'\u001b[39;49m\u001b[43m,\u001b[49m\n\u001b[0;32m     42\u001b[0m \u001b[43m                      \u001b[49m\u001b[43mearly_stopping_rounds\u001b[49m\u001b[38;5;241;43m=\u001b[39;49m\u001b[38;5;241;43m50\u001b[39;49m\u001b[43m)\u001b[49m\n\u001b[0;32m     44\u001b[0m pred_val \u001b[38;5;241m=\u001b[39m xgb_model\u001b[38;5;241m.\u001b[39mpredict_proba(val_X_kfold)[:, \u001b[38;5;241m1\u001b[39m]\n\u001b[0;32m     45\u001b[0m df_oof\u001b[38;5;241m.\u001b[39mloc[val_idx, \u001b[38;5;124m'\u001b[39m\u001b[38;5;124mprob\u001b[39m\u001b[38;5;124m'\u001b[39m] \u001b[38;5;241m=\u001b[39m pred_val\n",
      "File \u001b[1;32mE:\\anaconda\\envs\\kaggle\\lib\\site-packages\\xgboost\\core.py:532\u001b[0m, in \u001b[0;36m_deprecate_positional_args.<locals>.inner_f\u001b[1;34m(*args, **kwargs)\u001b[0m\n\u001b[0;32m    530\u001b[0m \u001b[38;5;28;01mfor\u001b[39;00m k, arg \u001b[38;5;129;01min\u001b[39;00m \u001b[38;5;28mzip\u001b[39m(sig\u001b[38;5;241m.\u001b[39mparameters, args):\n\u001b[0;32m    531\u001b[0m     kwargs[k] \u001b[38;5;241m=\u001b[39m arg\n\u001b[1;32m--> 532\u001b[0m \u001b[38;5;28;01mreturn\u001b[39;00m f(\u001b[38;5;241m*\u001b[39m\u001b[38;5;241m*\u001b[39mkwargs)\n",
      "File \u001b[1;32mE:\\anaconda\\envs\\kaggle\\lib\\site-packages\\xgboost\\sklearn.py:1400\u001b[0m, in \u001b[0;36mXGBClassifier.fit\u001b[1;34m(self, X, y, sample_weight, base_margin, eval_set, eval_metric, early_stopping_rounds, verbose, xgb_model, sample_weight_eval_set, base_margin_eval_set, feature_weights, callbacks)\u001b[0m\n\u001b[0;32m   1379\u001b[0m model, metric, params, early_stopping_rounds, callbacks \u001b[38;5;241m=\u001b[39m \u001b[38;5;28mself\u001b[39m\u001b[38;5;241m.\u001b[39m_configure_fit(\n\u001b[0;32m   1380\u001b[0m     xgb_model, eval_metric, params, early_stopping_rounds, callbacks\n\u001b[0;32m   1381\u001b[0m )\n\u001b[0;32m   1382\u001b[0m train_dmatrix, evals \u001b[38;5;241m=\u001b[39m _wrap_evaluation_matrices(\n\u001b[0;32m   1383\u001b[0m     missing\u001b[38;5;241m=\u001b[39m\u001b[38;5;28mself\u001b[39m\u001b[38;5;241m.\u001b[39mmissing,\n\u001b[0;32m   1384\u001b[0m     X\u001b[38;5;241m=\u001b[39mX,\n\u001b[1;32m   (...)\u001b[0m\n\u001b[0;32m   1397\u001b[0m     enable_categorical\u001b[38;5;241m=\u001b[39m\u001b[38;5;28mself\u001b[39m\u001b[38;5;241m.\u001b[39menable_categorical,\n\u001b[0;32m   1398\u001b[0m )\n\u001b[1;32m-> 1400\u001b[0m \u001b[38;5;28mself\u001b[39m\u001b[38;5;241m.\u001b[39m_Booster \u001b[38;5;241m=\u001b[39m \u001b[43mtrain\u001b[49m\u001b[43m(\u001b[49m\n\u001b[0;32m   1401\u001b[0m \u001b[43m    \u001b[49m\u001b[43mparams\u001b[49m\u001b[43m,\u001b[49m\n\u001b[0;32m   1402\u001b[0m \u001b[43m    \u001b[49m\u001b[43mtrain_dmatrix\u001b[49m\u001b[43m,\u001b[49m\n\u001b[0;32m   1403\u001b[0m \u001b[43m    \u001b[49m\u001b[38;5;28;43mself\u001b[39;49m\u001b[38;5;241;43m.\u001b[39;49m\u001b[43mget_num_boosting_rounds\u001b[49m\u001b[43m(\u001b[49m\u001b[43m)\u001b[49m\u001b[43m,\u001b[49m\n\u001b[0;32m   1404\u001b[0m \u001b[43m    \u001b[49m\u001b[43mevals\u001b[49m\u001b[38;5;241;43m=\u001b[39;49m\u001b[43mevals\u001b[49m\u001b[43m,\u001b[49m\n\u001b[0;32m   1405\u001b[0m \u001b[43m    \u001b[49m\u001b[43mearly_stopping_rounds\u001b[49m\u001b[38;5;241;43m=\u001b[39;49m\u001b[43mearly_stopping_rounds\u001b[49m\u001b[43m,\u001b[49m\n\u001b[0;32m   1406\u001b[0m \u001b[43m    \u001b[49m\u001b[43mevals_result\u001b[49m\u001b[38;5;241;43m=\u001b[39;49m\u001b[43mevals_result\u001b[49m\u001b[43m,\u001b[49m\n\u001b[0;32m   1407\u001b[0m \u001b[43m    \u001b[49m\u001b[43mobj\u001b[49m\u001b[38;5;241;43m=\u001b[39;49m\u001b[43mobj\u001b[49m\u001b[43m,\u001b[49m\n\u001b[0;32m   1408\u001b[0m \u001b[43m    \u001b[49m\u001b[43mcustom_metric\u001b[49m\u001b[38;5;241;43m=\u001b[39;49m\u001b[43mmetric\u001b[49m\u001b[43m,\u001b[49m\n\u001b[0;32m   1409\u001b[0m \u001b[43m    \u001b[49m\u001b[43mverbose_eval\u001b[49m\u001b[38;5;241;43m=\u001b[39;49m\u001b[43mverbose\u001b[49m\u001b[43m,\u001b[49m\n\u001b[0;32m   1410\u001b[0m \u001b[43m    \u001b[49m\u001b[43mxgb_model\u001b[49m\u001b[38;5;241;43m=\u001b[39;49m\u001b[43mmodel\u001b[49m\u001b[43m,\u001b[49m\n\u001b[0;32m   1411\u001b[0m \u001b[43m    \u001b[49m\u001b[43mcallbacks\u001b[49m\u001b[38;5;241;43m=\u001b[39;49m\u001b[43mcallbacks\u001b[49m\u001b[43m,\u001b[49m\n\u001b[0;32m   1412\u001b[0m \u001b[43m\u001b[49m\u001b[43m)\u001b[49m\n\u001b[0;32m   1414\u001b[0m \u001b[38;5;28;01mif\u001b[39;00m \u001b[38;5;129;01mnot\u001b[39;00m callable(\u001b[38;5;28mself\u001b[39m\u001b[38;5;241m.\u001b[39mobjective):\n\u001b[0;32m   1415\u001b[0m     \u001b[38;5;28mself\u001b[39m\u001b[38;5;241m.\u001b[39mobjective \u001b[38;5;241m=\u001b[39m params[\u001b[38;5;124m\"\u001b[39m\u001b[38;5;124mobjective\u001b[39m\u001b[38;5;124m\"\u001b[39m]\n",
      "File \u001b[1;32mE:\\anaconda\\envs\\kaggle\\lib\\site-packages\\xgboost\\core.py:532\u001b[0m, in \u001b[0;36m_deprecate_positional_args.<locals>.inner_f\u001b[1;34m(*args, **kwargs)\u001b[0m\n\u001b[0;32m    530\u001b[0m \u001b[38;5;28;01mfor\u001b[39;00m k, arg \u001b[38;5;129;01min\u001b[39;00m \u001b[38;5;28mzip\u001b[39m(sig\u001b[38;5;241m.\u001b[39mparameters, args):\n\u001b[0;32m    531\u001b[0m     kwargs[k] \u001b[38;5;241m=\u001b[39m arg\n\u001b[1;32m--> 532\u001b[0m \u001b[38;5;28;01mreturn\u001b[39;00m f(\u001b[38;5;241m*\u001b[39m\u001b[38;5;241m*\u001b[39mkwargs)\n",
      "File \u001b[1;32mE:\\anaconda\\envs\\kaggle\\lib\\site-packages\\xgboost\\training.py:181\u001b[0m, in \u001b[0;36mtrain\u001b[1;34m(params, dtrain, num_boost_round, evals, obj, feval, maximize, early_stopping_rounds, evals_result, verbose_eval, xgb_model, callbacks, custom_metric)\u001b[0m\n\u001b[0;32m    179\u001b[0m \u001b[38;5;28;01mif\u001b[39;00m cb_container\u001b[38;5;241m.\u001b[39mbefore_iteration(bst, i, dtrain, evals):\n\u001b[0;32m    180\u001b[0m     \u001b[38;5;28;01mbreak\u001b[39;00m\n\u001b[1;32m--> 181\u001b[0m \u001b[43mbst\u001b[49m\u001b[38;5;241;43m.\u001b[39;49m\u001b[43mupdate\u001b[49m\u001b[43m(\u001b[49m\u001b[43mdtrain\u001b[49m\u001b[43m,\u001b[49m\u001b[43m \u001b[49m\u001b[43mi\u001b[49m\u001b[43m,\u001b[49m\u001b[43m \u001b[49m\u001b[43mobj\u001b[49m\u001b[43m)\u001b[49m\n\u001b[0;32m    182\u001b[0m \u001b[38;5;28;01mif\u001b[39;00m cb_container\u001b[38;5;241m.\u001b[39mafter_iteration(bst, i, dtrain, evals):\n\u001b[0;32m    183\u001b[0m     \u001b[38;5;28;01mbreak\u001b[39;00m\n",
      "File \u001b[1;32mE:\\anaconda\\envs\\kaggle\\lib\\site-packages\\xgboost\\core.py:1733\u001b[0m, in \u001b[0;36mBooster.update\u001b[1;34m(self, dtrain, iteration, fobj)\u001b[0m\n\u001b[0;32m   1730\u001b[0m \u001b[38;5;28mself\u001b[39m\u001b[38;5;241m.\u001b[39m_validate_features(dtrain)\n\u001b[0;32m   1732\u001b[0m \u001b[38;5;28;01mif\u001b[39;00m fobj \u001b[38;5;129;01mis\u001b[39;00m \u001b[38;5;28;01mNone\u001b[39;00m:\n\u001b[1;32m-> 1733\u001b[0m     _check_call(\u001b[43m_LIB\u001b[49m\u001b[38;5;241;43m.\u001b[39;49m\u001b[43mXGBoosterUpdateOneIter\u001b[49m\u001b[43m(\u001b[49m\u001b[38;5;28;43mself\u001b[39;49m\u001b[38;5;241;43m.\u001b[39;49m\u001b[43mhandle\u001b[49m\u001b[43m,\u001b[49m\n\u001b[0;32m   1734\u001b[0m \u001b[43m                                            \u001b[49m\u001b[43mctypes\u001b[49m\u001b[38;5;241;43m.\u001b[39;49m\u001b[43mc_int\u001b[49m\u001b[43m(\u001b[49m\u001b[43miteration\u001b[49m\u001b[43m)\u001b[49m\u001b[43m,\u001b[49m\n\u001b[0;32m   1735\u001b[0m \u001b[43m                                            \u001b[49m\u001b[43mdtrain\u001b[49m\u001b[38;5;241;43m.\u001b[39;49m\u001b[43mhandle\u001b[49m\u001b[43m)\u001b[49m)\n\u001b[0;32m   1736\u001b[0m \u001b[38;5;28;01melse\u001b[39;00m:\n\u001b[0;32m   1737\u001b[0m     pred \u001b[38;5;241m=\u001b[39m \u001b[38;5;28mself\u001b[39m\u001b[38;5;241m.\u001b[39mpredict(dtrain, output_margin\u001b[38;5;241m=\u001b[39m\u001b[38;5;28;01mTrue\u001b[39;00m, training\u001b[38;5;241m=\u001b[39m\u001b[38;5;28;01mTrue\u001b[39;00m)\n",
      "\u001b[1;31mKeyboardInterrupt\u001b[0m: "
     ]
    }
   ],
   "source": [
    "feature_names = list(train_X.columns)\n",
    "\n",
    "#包外验证\n",
    "df_oof = train_X[['id']].copy()\n",
    "df_oof['label'] = train_y\n",
    "df_oof['prob'] = 0\n",
    "\n",
    "#存放测试结果\n",
    "prediction = test_df[['id']]\n",
    "prediction['prob'] = 0\n",
    "\n",
    "#重要特征列表\n",
    "df_importance_list = []\n",
    "\n",
    "model = xgboost.XGBClassifier(\n",
    "                            n_estimators = 10000,\n",
    "                            n_jobs = -1,\n",
    "                            max_depth = 6,\n",
    "                            learning_rate = 0.01,\n",
    "                            subsample = 0.8,\n",
    "                            gamma = 0.3,\n",
    "                            reg_alpha = 3,\n",
    "                            reg_lambda = 1,\n",
    "                            random_state = seed_state)\n",
    "\n",
    "kfold = StratifiedKFold(n_splits=5, shuffle=True, random_state=seed_state)\n",
    "\n",
    "for fold_id,(train_idx, val_idx) in enumerate(kfold.split(train_X, train_y)):\n",
    "    train_X_kfold = train_X.iloc[train_idx]\n",
    "    train_y_kfold = train_y.iloc[train_idx]\n",
    "    val_X_kfold = train_X.iloc[val_idx]\n",
    "    val_y_kfold = train_y.iloc[val_idx]\n",
    "    \n",
    "    print('\\nFold_{} Training ========================\\n'.format(\n",
    "        fold_id + 1))\n",
    "    \n",
    "    xgb_model = model.fit(train_X_kfold,\n",
    "                          train_y_kfold,\n",
    "                          eval_set=[(train_X_kfold, train_y_kfold), (val_X_kfold, val_y_kfold)],\n",
    "                          verbose=50,\n",
    "                          eval_metric='auc',\n",
    "                          early_stopping_rounds=50)\n",
    "    \n",
    "    pred_val = xgb_model.predict_proba(val_X_kfold)[:, 1]\n",
    "    df_oof.loc[val_idx, 'prob'] = pred_val\n",
    "    \n",
    "    \n",
    "    pred_test = xgb_model.predict_proba(test_df)[:, 1]\n",
    "    prediction['prob'] += pred_test / kfold.n_splits\n",
    "\n",
    "    df_importance = pd.DataFrame({\n",
    "        'column': feature_names,\n",
    "        'importance': xgb_model.feature_importances_,\n",
    "    })\n",
    "    df_importance_list.append(df_importance)\n",
    "\n",
    "    del xgb_model, pred_val, pred_test, train_X_kfold, train_y_kfold, val_X_kfold, val_y_kfold\n",
    "    gc.collect()"
   ]
  },
  {
   "cell_type": "code",
   "execution_count": 90,
   "id": "7c263df9",
   "metadata": {},
   "outputs": [
    {
     "ename": "NameError",
     "evalue": "name 'modelbest_ntree_limit' is not defined",
     "output_type": "error",
     "traceback": [
      "\u001b[1;31m---------------------------------------------------------------------------\u001b[0m",
      "\u001b[1;31mNameError\u001b[0m                                 Traceback (most recent call last)",
      "Input \u001b[1;32mIn [90]\u001b[0m, in \u001b[0;36m<cell line: 1>\u001b[1;34m()\u001b[0m\n\u001b[1;32m----> 1\u001b[0m \u001b[43mmodelbest_ntree_limit\u001b[49m\n",
      "\u001b[1;31mNameError\u001b[0m: name 'modelbest_ntree_limit' is not defined"
     ]
    }
   ],
   "source": [
    "model.evals_result"
   ]
  },
  {
   "cell_type": "code",
   "execution_count": 59,
   "id": "53cfcb68",
   "metadata": {},
   "outputs": [
    {
     "data": {
      "text/plain": [
       "[                                    column  importance\n",
       " 0                                       id    0.003147\n",
       " 1                                 loanAmnt    0.005039\n",
       " 2                                     term    0.026692\n",
       " 3                             interestRate    0.004421\n",
       " 4                              installment    0.006069\n",
       " ..                                     ...         ...\n",
       " 92                      issueDate_year_n14    0.007922\n",
       " 93          issueDate_year_issueDate_month    0.005823\n",
       " 94            issueDate_year_issueDate_day    0.000000\n",
       " 95  issueDate_year_earliesCreditLine_month    0.003463\n",
       " 96   issueDate_year_earliesCreditLine_year    0.005083\n",
       " \n",
       " [97 rows x 2 columns],\n",
       "                                     column  importance\n",
       " 0                                       id    0.003113\n",
       " 1                                 loanAmnt    0.005172\n",
       " 2                                     term    0.024438\n",
       " 3                             interestRate    0.004154\n",
       " 4                              installment    0.006068\n",
       " ..                                     ...         ...\n",
       " 92                      issueDate_year_n14    0.007642\n",
       " 93          issueDate_year_issueDate_month    0.005706\n",
       " 94            issueDate_year_issueDate_day    0.000000\n",
       " 95  issueDate_year_earliesCreditLine_month    0.003444\n",
       " 96   issueDate_year_earliesCreditLine_year    0.004544\n",
       " \n",
       " [97 rows x 2 columns],\n",
       "                                     column  importance\n",
       " 0                                       id    0.003086\n",
       " 1                                 loanAmnt    0.005307\n",
       " 2                                     term    0.023460\n",
       " 3                             interestRate    0.004166\n",
       " 4                              installment    0.005512\n",
       " ..                                     ...         ...\n",
       " 92                      issueDate_year_n14    0.008183\n",
       " 93          issueDate_year_issueDate_month    0.005210\n",
       " 94            issueDate_year_issueDate_day    0.000000\n",
       " 95  issueDate_year_earliesCreditLine_month    0.003238\n",
       " 96   issueDate_year_earliesCreditLine_year    0.004955\n",
       " \n",
       " [97 rows x 2 columns],\n",
       "                                     column  importance\n",
       " 0                                       id    0.003033\n",
       " 1                                 loanAmnt    0.006771\n",
       " 2                                     term    0.027520\n",
       " 3                             interestRate    0.004402\n",
       " 4                              installment    0.005964\n",
       " ..                                     ...         ...\n",
       " 92                      issueDate_year_n14    0.008038\n",
       " 93          issueDate_year_issueDate_month    0.005552\n",
       " 94            issueDate_year_issueDate_day    0.000000\n",
       " 95  issueDate_year_earliesCreditLine_month    0.003164\n",
       " 96   issueDate_year_earliesCreditLine_year    0.005062\n",
       " \n",
       " [97 rows x 2 columns],\n",
       "                                     column  importance\n",
       " 0                                       id    0.003181\n",
       " 1                                 loanAmnt    0.005479\n",
       " 2                                     term    0.027817\n",
       " 3                             interestRate    0.003984\n",
       " 4                              installment    0.005952\n",
       " ..                                     ...         ...\n",
       " 92                      issueDate_year_n14    0.007702\n",
       " 93          issueDate_year_issueDate_month    0.005552\n",
       " 94            issueDate_year_issueDate_day    0.000000\n",
       " 95  issueDate_year_earliesCreditLine_month    0.003258\n",
       " 96   issueDate_year_earliesCreditLine_year    0.004900\n",
       " \n",
       " [97 rows x 2 columns]]"
      ]
     },
     "execution_count": 59,
     "metadata": {},
     "output_type": "execute_result"
    }
   ],
   "source": [
    "df_importance_list"
   ]
  },
  {
   "cell_type": "code",
   "execution_count": 60,
   "id": "e11882f0",
   "metadata": {},
   "outputs": [],
   "source": [
    "df_importance = pd.concat(df_importance_list)\n",
    "df_importance = df_importance.groupby(['column'])['importance'].mean().sort_values(ascending = False).reset_index()"
   ]
  },
  {
   "cell_type": "code",
   "execution_count": 61,
   "id": "204de0de",
   "metadata": {},
   "outputs": [],
   "source": [
    "df_importance.to_csv(\"./feature_importance_issueDate_year_others.csv\")"
   ]
  },
  {
   "cell_type": "code",
   "execution_count": 32,
   "id": "4caee064",
   "metadata": {},
   "outputs": [],
   "source": [
    "pd.read_csv(\"./untitled.txt\").to_csv(\"./ss.csv\",encoding = 'gbk')"
   ]
  },
  {
   "cell_type": "code",
   "execution_count": 34,
   "id": "d1369e00",
   "metadata": {},
   "outputs": [],
   "source": [
    "prediction.to_csv(\"./submition.csv\")"
   ]
  },
  {
   "cell_type": "code",
   "execution_count": 16,
   "id": "006f9713",
   "metadata": {},
   "outputs": [
    {
     "name": "stderr",
     "output_type": "stream",
     "text": [
      "UserWarning: Distributing <class 'dict'> object. This may take some time.\n"
     ]
    },
    {
     "ename": "ValueError",
     "evalue": "No objects to concatenate",
     "output_type": "error",
     "traceback": [
      "\u001b[1;31m---------------------------------------------------------------------------\u001b[0m",
      "\u001b[1;31mValueError\u001b[0m                                Traceback (most recent call last)",
      "Input \u001b[1;32mIn [16]\u001b[0m, in \u001b[0;36m<cell line: 28>\u001b[1;34m()\u001b[0m\n\u001b[0;32m     22\u001b[0m xgb_model \u001b[38;5;241m=\u001b[39m model\u001b[38;5;241m.\u001b[39mfit(train_X,train_y)\n\u001b[0;32m     24\u001b[0m df_importance \u001b[38;5;241m=\u001b[39m pd\u001b[38;5;241m.\u001b[39mDataFrame({\n\u001b[0;32m     25\u001b[0m     \u001b[38;5;124m'\u001b[39m\u001b[38;5;124mcolumn\u001b[39m\u001b[38;5;124m'\u001b[39m: feature_names,\n\u001b[0;32m     26\u001b[0m     \u001b[38;5;124m'\u001b[39m\u001b[38;5;124mimportance\u001b[39m\u001b[38;5;124m'\u001b[39m: xgb_model\u001b[38;5;241m.\u001b[39mfeature_importances_,\n\u001b[0;32m     27\u001b[0m })\n\u001b[1;32m---> 28\u001b[0m df_importance \u001b[38;5;241m=\u001b[39m \u001b[43mpd\u001b[49m\u001b[38;5;241;43m.\u001b[39;49m\u001b[43mconcat\u001b[49m\u001b[43m(\u001b[49m\u001b[43mdf_importance_list\u001b[49m\u001b[43m)\u001b[49m\n\u001b[0;32m     29\u001b[0m df_importance \u001b[38;5;241m=\u001b[39m df_importance\u001b[38;5;241m.\u001b[39mgroupby([\u001b[38;5;124m'\u001b[39m\u001b[38;5;124mcolumn\u001b[39m\u001b[38;5;124m'\u001b[39m])[\u001b[38;5;124m'\u001b[39m\u001b[38;5;124mimportance\u001b[39m\u001b[38;5;124m'\u001b[39m]\u001b[38;5;241m.\u001b[39mmean()\u001b[38;5;241m.\u001b[39msort_values(ascending \u001b[38;5;241m=\u001b[39m \u001b[38;5;28;01mFalse\u001b[39;00m)\u001b[38;5;241m.\u001b[39mreset_index()\n\u001b[0;32m     30\u001b[0m df_importance\u001b[38;5;241m.\u001b[39mto_csv(\u001b[38;5;124m\"\u001b[39m\u001b[38;5;124m./sss.csv\u001b[39m\u001b[38;5;124m\"\u001b[39m)\n",
      "File \u001b[1;32mE:\\anaconda\\envs\\kaggle\\lib\\site-packages\\modin\\logging\\logger_decorator.py:128\u001b[0m, in \u001b[0;36menable_logging.<locals>.decorator.<locals>.run_and_log\u001b[1;34m(*args, **kwargs)\u001b[0m\n\u001b[0;32m    113\u001b[0m \u001b[38;5;124;03m\"\"\"\u001b[39;00m\n\u001b[0;32m    114\u001b[0m \u001b[38;5;124;03mCompute function with logging if Modin logging is enabled.\u001b[39;00m\n\u001b[0;32m    115\u001b[0m \n\u001b[1;32m   (...)\u001b[0m\n\u001b[0;32m    125\u001b[0m \u001b[38;5;124;03mAny\u001b[39;00m\n\u001b[0;32m    126\u001b[0m \u001b[38;5;124;03m\"\"\"\u001b[39;00m\n\u001b[0;32m    127\u001b[0m \u001b[38;5;28;01mif\u001b[39;00m LogMode\u001b[38;5;241m.\u001b[39mget() \u001b[38;5;241m==\u001b[39m \u001b[38;5;124m\"\u001b[39m\u001b[38;5;124mdisable\u001b[39m\u001b[38;5;124m\"\u001b[39m:\n\u001b[1;32m--> 128\u001b[0m     \u001b[38;5;28;01mreturn\u001b[39;00m obj(\u001b[38;5;241m*\u001b[39margs, \u001b[38;5;241m*\u001b[39m\u001b[38;5;241m*\u001b[39mkwargs)\n\u001b[0;32m    130\u001b[0m logger \u001b[38;5;241m=\u001b[39m get_logger()\n\u001b[0;32m    131\u001b[0m logger_level \u001b[38;5;241m=\u001b[39m \u001b[38;5;28mgetattr\u001b[39m(logger, log_level)\n",
      "File \u001b[1;32mE:\\anaconda\\envs\\kaggle\\lib\\site-packages\\modin\\pandas\\general.py:418\u001b[0m, in \u001b[0;36mconcat\u001b[1;34m(objs, axis, join, ignore_index, keys, levels, names, verify_integrity, sort, copy)\u001b[0m\n\u001b[0;32m    416\u001b[0m     list_of_objs \u001b[38;5;241m=\u001b[39m \u001b[38;5;28mlist\u001b[39m(objs)\n\u001b[0;32m    417\u001b[0m \u001b[38;5;28;01mif\u001b[39;00m \u001b[38;5;28mlen\u001b[39m(list_of_objs) \u001b[38;5;241m==\u001b[39m \u001b[38;5;241m0\u001b[39m:\n\u001b[1;32m--> 418\u001b[0m     \u001b[38;5;28;01mraise\u001b[39;00m \u001b[38;5;167;01mValueError\u001b[39;00m(\u001b[38;5;124m\"\u001b[39m\u001b[38;5;124mNo objects to concatenate\u001b[39m\u001b[38;5;124m\"\u001b[39m)\n\u001b[0;32m    420\u001b[0m list_of_objs \u001b[38;5;241m=\u001b[39m [obj \u001b[38;5;28;01mfor\u001b[39;00m obj \u001b[38;5;129;01min\u001b[39;00m list_of_objs \u001b[38;5;28;01mif\u001b[39;00m obj \u001b[38;5;129;01mis\u001b[39;00m \u001b[38;5;129;01mnot\u001b[39;00m \u001b[38;5;28;01mNone\u001b[39;00m]\n\u001b[0;32m    422\u001b[0m \u001b[38;5;28;01mif\u001b[39;00m \u001b[38;5;28mlen\u001b[39m(list_of_objs) \u001b[38;5;241m==\u001b[39m \u001b[38;5;241m0\u001b[39m:\n",
      "\u001b[1;31mValueError\u001b[0m: No objects to concatenate"
     ]
    }
   ],
   "source": [
    "feature_names = list(train_X.columns)\n",
    "\n",
    "#包外验证\n",
    "df_oof = train_X[['id']].copy()\n",
    "df_oof['label'] = train_y\n",
    "df_oof['prob'] = 0\n",
    "\n",
    "#存放测试结果\n",
    "prediction = test_df[['id']]\n",
    "prediction['prob'] = 0\n",
    "\n",
    "#重要特征列表\n",
    "df_importance_list = []\n",
    "\n",
    "model = RandomForestClassifier(\n",
    "                            n_estimators = 900,\n",
    "                            n_jobs = -1,\n",
    "                            max_depth = 6,\n",
    "                    random_state = seed_state)\n",
    "\n",
    "\n",
    "xgb_model = model.fit(train_X,train_y)\n",
    "\n"
   ]
  },
  {
   "cell_type": "code",
   "execution_count": null,
   "id": "8f52026f",
   "metadata": {},
   "outputs": [],
   "source": []
  }
 ],
 "metadata": {
  "kernelspec": {
   "display_name": "Python 3 (ipykernel)",
   "language": "python",
   "name": "python3"
  },
  "language_info": {
   "codemirror_mode": {
    "name": "ipython",
    "version": 3
   },
   "file_extension": ".py",
   "mimetype": "text/x-python",
   "name": "python",
   "nbconvert_exporter": "python",
   "pygments_lexer": "ipython3",
   "version": "3.9.13"
  }
 },
 "nbformat": 4,
 "nbformat_minor": 5
}
