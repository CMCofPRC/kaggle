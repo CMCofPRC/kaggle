{
 "cells": [
  {
   "cell_type": "code",
   "execution_count": 306,
   "id": "9a5c42cc",
   "metadata": {},
   "outputs": [
    {
     "data": {
      "text/html": [
       "\n",
       "<style>\n",
       "    div#notebook-container    { width: 100%; }\n",
       "    div#menubar-container     { width: 90%; }\n",
       "    div#maintoolbar-container { width: 99%; }\n",
       "    div#maintoolbar{background:#e5e5e5;}\n",
       "</style>\n"
      ],
      "text/plain": [
       "<IPython.core.display.HTML object>"
      ]
     },
     "metadata": {},
     "output_type": "display_data"
    }
   ],
   "source": [
    "import os\n",
    "import gc\n",
    "import warnings\n",
    "import random\n",
    "import pandas as pd\n",
    "import numpy as np\n",
    "import itertools\n",
    "%run Page_Style.ipynb\n",
    "warnings.filterwarnings(action='ignore')"
   ]
  },
  {
   "cell_type": "code",
   "execution_count": 3,
   "id": "784f0110",
   "metadata": {},
   "outputs": [],
   "source": [
    "train_X = pd.read_csv(\"./train_filled_Outliers.csv\")"
   ]
  },
  {
   "cell_type": "code",
   "execution_count": null,
   "id": "daa1ed5d",
   "metadata": {},
   "outputs": [],
   "source": []
  },
  {
   "cell_type": "markdown",
   "id": "55d95703",
   "metadata": {},
   "source": [
    "## Encoding"
   ]
  },
  {
   "cell_type": "markdown",
   "id": "2f2a86dc",
   "metadata": {},
   "source": [
    "### loanAmnt"
   ]
  },
  {
   "cell_type": "code",
   "execution_count": 14,
   "id": "f8be1d24",
   "metadata": {},
   "outputs": [
    {
     "data": {
      "text/plain": [
       "10000.0    59068\n",
       "12000.0    43291\n",
       "20000.0    41885\n",
       "15000.0    41629\n",
       "35000.0    30371\n",
       "           ...  \n",
       "725.0          1\n",
       "37775.0        1\n",
       "36725.0        1\n",
       "950.0          1\n",
       "37750.0        1\n",
       "Name: loanAmnt, Length: 1474, dtype: int64"
      ]
     },
     "execution_count": 14,
     "metadata": {},
     "output_type": "execute_result"
    }
   ],
   "source": [
    "train_X['loanAmnt'].value_counts()"
   ]
  },
  {
   "cell_type": "code",
   "execution_count": 210,
   "id": "e01feab6",
   "metadata": {},
   "outputs": [
    {
     "name": "stdout",
     "output_type": "stream",
     "text": [
      "         counts\n",
      "22400.0     984\n",
      "6600.0      976\n",
      "8800.0      943\n",
      "14500.0     941\n",
      "1600.0      875\n",
      "...         ...\n",
      "21400.0     101\n",
      "16850.0     101\n",
      "14875.0     101\n",
      "9625.0      101\n",
      "24950.0     101\n",
      "\n",
      "[575 rows x 1 columns]\n"
     ]
    }
   ],
   "source": [
    "Rare_Get_Value_Counts(train_X, col ='loanAmnt', num = 1000)"
   ]
  },
  {
   "cell_type": "code",
   "execution_count": 201,
   "id": "9255b19e",
   "metadata": {},
   "outputs": [
    {
     "data": {
      "text/plain": [
       "0         35000.0\n",
       "1         18000.0\n",
       "2         12000.0\n",
       "3         11000.0\n",
       "4          3000.0\n",
       "           ...   \n",
       "799995    25000.0\n",
       "799996    17000.0\n",
       "799997     6000.0\n",
       "799998    19200.0\n",
       "799999     9000.0\n",
       "Name: loanAmnt, Length: 800000, dtype: float64"
      ]
     },
     "execution_count": 201,
     "metadata": {},
     "output_type": "execute_result"
    }
   ],
   "source": [
    "Rare_Value_Impute(train_X, col = 'loanAmnt',num = 100, method='extreme', value= 999999)"
   ]
  },
  {
   "cell_type": "markdown",
   "id": "122d9a5d",
   "metadata": {},
   "source": [
    "### term"
   ]
  },
  {
   "cell_type": "code",
   "execution_count": 213,
   "id": "53a94ff0",
   "metadata": {},
   "outputs": [
    {
     "name": "stdout",
     "output_type": "stream",
     "text": [
      "完整的数值分布：\n",
      "\n",
      "3    606902\n",
      "5    193098\n",
      "Name: term, dtype: int64\n",
      "Empty DataFrame\n",
      "Columns: [counts]\n",
      "Index: []\n"
     ]
    },
    {
     "data": {
      "text/plain": [
       "'term 无需编码'"
      ]
     },
     "execution_count": 213,
     "metadata": {},
     "output_type": "execute_result"
    }
   ],
   "source": [
    "Rare_Get_Value_Counts(train_X,col = 'term',num = 100000)\n",
    "\"\"\"term 无需编码\"\"\""
   ]
  },
  {
   "cell_type": "markdown",
   "id": "346bb6da",
   "metadata": {},
   "source": [
    "### interestRate"
   ]
  },
  {
   "cell_type": "code",
   "execution_count": 222,
   "id": "f8bcea7b",
   "metadata": {},
   "outputs": [
    {
     "name": "stdout",
     "output_type": "stream",
     "text": [
      "完整的数值分布：\n",
      "\n",
      "10.99    22549\n",
      "11.99    19674\n",
      "13.99    17420\n",
      "5.32     17033\n",
      "9.17     15523\n",
      "         ...  \n",
      "14.75        1\n",
      "24.76        1\n",
      "17.54        1\n",
      "18.36        1\n",
      "14.28        1\n",
      "Name: interestRate, Length: 589, dtype: int64\n",
      "取值少于10\n",
      "\n",
      "       counts\n",
      "9.96       10\n",
      "10.28      10\n",
      "12.22      10\n",
      "24.33      10\n",
      "12.72      10\n",
      "...       ...\n",
      "14.75       1\n",
      "24.76       1\n",
      "17.54       1\n",
      "18.36       1\n",
      "14.28       1\n",
      "\n",
      "[119 rows x 1 columns]\n"
     ]
    }
   ],
   "source": [
    "Rare_Get_Value_Counts(train_X, col = 'interestRate', num = 10)"
   ]
  },
  {
   "cell_type": "code",
   "execution_count": 223,
   "id": "36ac79d7",
   "metadata": {},
   "outputs": [
    {
     "data": {
      "text/plain": [
       "0         19.52\n",
       "1         18.49\n",
       "2         16.99\n",
       "3          7.26\n",
       "4         12.99\n",
       "          ...  \n",
       "799995    14.49\n",
       "799996     7.90\n",
       "799997    13.33\n",
       "799998     6.92\n",
       "799999    11.06\n",
       "Name: interestRate, Length: 800000, dtype: float64"
      ]
     },
     "execution_count": 223,
     "metadata": {},
     "output_type": "execute_result"
    }
   ],
   "source": [
    "Rare_Value_Impute(train_X, col = 'interestRate', num = 10,method='extreme',value=9999)"
   ]
  },
  {
   "cell_type": "markdown",
   "id": "52f35647",
   "metadata": {},
   "source": [
    "### installment"
   ]
  },
  {
   "cell_type": "code",
   "execution_count": 227,
   "id": "7b7dc6f1",
   "metadata": {},
   "outputs": [
    {
     "name": "stdout",
     "output_type": "stream",
     "text": [
      "完整的数值分布：\n",
      "\n",
      "327.34     1843\n",
      "301.15     1592\n",
      "332.10     1543\n",
      "318.79     1358\n",
      "491.01     1245\n",
      "           ... \n",
      "1036.79       1\n",
      "699.99        1\n",
      "490.96        1\n",
      "277.97        1\n",
      "523.99        1\n",
      "Name: installment, Length: 72360, dtype: int64\n",
      "取值少于1\n",
      "\n",
      "         counts\n",
      "970.06        1\n",
      "338.42        1\n",
      "892.30        1\n",
      "62.80         1\n",
      "502.88        1\n",
      "...         ...\n",
      "1036.79       1\n",
      "699.99        1\n",
      "490.96        1\n",
      "277.97        1\n",
      "523.99        1\n",
      "\n",
      "[21990 rows x 1 columns]\n"
     ]
    }
   ],
   "source": [
    "Rare_Get_Value_Counts(train_X, col='installment', num = 1)"
   ]
  },
  {
   "cell_type": "code",
   "execution_count": 228,
   "id": "3c863974",
   "metadata": {},
   "outputs": [
    {
     "data": {
      "text/plain": [
       "0         917.97\n",
       "1         461.90\n",
       "2         298.17\n",
       "3         340.96\n",
       "4         101.07\n",
       "           ...  \n",
       "799995    860.41\n",
       "799996    531.94\n",
       "799997    203.12\n",
       "799998    592.14\n",
       "799999    294.91\n",
       "Name: installment, Length: 800000, dtype: float64"
      ]
     },
     "execution_count": 228,
     "metadata": {},
     "output_type": "execute_result"
    }
   ],
   "source": [
    "Rare_Value_Impute(train_X,col= 'installment', num = 1,method='extreme',value=999999)"
   ]
  },
  {
   "cell_type": "markdown",
   "id": "35139436",
   "metadata": {},
   "source": [
    "### employmentTitle"
   ]
  },
  {
   "cell_type": "code",
   "execution_count": 229,
   "id": "c9dce8a3",
   "metadata": {},
   "outputs": [
    {
     "name": "stdout",
     "output_type": "stream",
     "text": [
      "完整的数值分布：\n",
      "\n",
      "293518.625    53171\n",
      "54.000        51150\n",
      "38.000        12644\n",
      "32.000        11543\n",
      "184.000        6112\n",
      "              ...  \n",
      "244573.000        1\n",
      "71957.000         1\n",
      "166678.000        1\n",
      "13584.000         1\n",
      "134854.000        1\n",
      "Name: employmentTitle, Length: 197339, dtype: int64\n",
      "取值少于10\n",
      "\n",
      "          counts\n",
      "17790.0       10\n",
      "220323.0      10\n",
      "219277.0      10\n",
      "4404.0        10\n",
      "44027.0       10\n",
      "...          ...\n",
      "244573.0       1\n",
      "71957.0        1\n",
      "166678.0       1\n",
      "13584.0        1\n",
      "134854.0       1\n",
      "\n",
      "[191538 rows x 1 columns]\n"
     ]
    }
   ],
   "source": [
    "Rare_Get_Value_Counts(train_X,col='employmentTitle',num =10)"
   ]
  },
  {
   "cell_type": "code",
   "execution_count": 230,
   "id": "b0b8600b",
   "metadata": {},
   "outputs": [
    {
     "data": {
      "text/plain": [
       "0            320.0\n",
       "1         219843.0\n",
       "2             -111\n",
       "3             -111\n",
       "4             54.0\n",
       "            ...   \n",
       "799995      2659.0\n",
       "799996     29205.0\n",
       "799997      2582.0\n",
       "799998       151.0\n",
       "799999        13.0\n",
       "Name: employmentTitle, Length: 800000, dtype: object"
      ]
     },
     "execution_count": 230,
     "metadata": {},
     "output_type": "execute_result"
    }
   ],
   "source": [
    "Rare_Value_Impute(train_X,col = 'employmentTitle', num = 10, method='extreme', value= '-111')"
   ]
  },
  {
   "cell_type": "markdown",
   "id": "afda459f",
   "metadata": {},
   "source": [
    "### homeOwnership"
   ]
  },
  {
   "cell_type": "code",
   "execution_count": 322,
   "id": "7a90eba1",
   "metadata": {},
   "outputs": [
    {
     "name": "stdout",
     "output_type": "stream",
     "text": [
      "完整的数值分布：\n",
      "\n",
      "0.0    395732\n",
      "1.0    317660\n",
      "2.0     86309\n",
      "3.5       299\n",
      "Name: homeOwnership, dtype: int64\n",
      "取值少于10\n",
      "\n",
      "Empty DataFrame\n",
      "Columns: [counts]\n",
      "Index: []\n"
     ]
    },
    {
     "data": {
      "text/plain": [
       "'homeOwnership已经做过处理'"
      ]
     },
     "execution_count": 322,
     "metadata": {},
     "output_type": "execute_result"
    }
   ],
   "source": [
    "Rare_Get_Value_Counts(train_X, col = 'homeOwnership', num = 10)\n",
    "\"\"\"homeOwnership已经做过处理\"\"\""
   ]
  },
  {
   "cell_type": "markdown",
   "id": "6af6f366",
   "metadata": {},
   "source": [
    "### annualIncome"
   ]
  },
  {
   "cell_type": "code",
   "execution_count": 329,
   "id": "d719568c",
   "metadata": {},
   "outputs": [
    {
     "name": "stdout",
     "output_type": "stream",
     "text": [
      "完整的数值分布：\n",
      "\n",
      "156601.00    39014\n",
      "60000.00     30682\n",
      "50000.00     27062\n",
      "65000.00     23126\n",
      "70000.00     22076\n",
      "             ...  \n",
      "51387.00         1\n",
      "93821.00         1\n",
      "34823.40         1\n",
      "24439.00         1\n",
      "41389.04         1\n",
      "Name: annualIncome, Length: 42520, dtype: int64\n",
      "取值少于100\n",
      "\n",
      "          counts\n",
      "20400.00     100\n",
      "44200.00      98\n",
      "49900.00      95\n",
      "18500.00      94\n",
      "20800.00      94\n",
      "...          ...\n",
      "51387.00       1\n",
      "93821.00       1\n",
      "34823.40       1\n",
      "24439.00       1\n",
      "41389.04       1\n",
      "\n",
      "[42234 rows x 1 columns]\n"
     ]
    }
   ],
   "source": [
    "Rare_Get_Value_Counts(train_X, col = 'annualIncome', num = 100)"
   ]
  },
  {
   "cell_type": "code",
   "execution_count": 331,
   "id": "d66490f2",
   "metadata": {},
   "outputs": [
    {
     "data": {
      "text/plain": [
       "0         110000.0\n",
       "1          46000.0\n",
       "2          74000.0\n",
       "3         118000.0\n",
       "4          29000.0\n",
       "            ...   \n",
       "799995     72000.0\n",
       "799996     99000.0\n",
       "799997     65000.0\n",
       "799998     96000.0\n",
       "799999    120000.0\n",
       "Name: annualIncome, Length: 800000, dtype: float64"
      ]
     },
     "execution_count": 331,
     "metadata": {},
     "output_type": "execute_result"
    }
   ],
   "source": [
    "Rare_Value_Impute(train_X,col = 'annualIncome', num = 100)"
   ]
  },
  {
   "cell_type": "markdown",
   "id": "10a0ff57",
   "metadata": {},
   "source": [
    "### verificationStatus"
   ]
  },
  {
   "cell_type": "code",
   "execution_count": 332,
   "id": "8fe49903",
   "metadata": {},
   "outputs": [
    {
     "name": "stdout",
     "output_type": "stream",
     "text": [
      "完整的数值分布：\n",
      "\n",
      "1    309810\n",
      "2    248968\n",
      "0    241222\n",
      "Name: verificationStatus, dtype: int64\n",
      "取值少于10\n",
      "\n",
      "Empty DataFrame\n",
      "Columns: [counts]\n",
      "Index: []\n"
     ]
    }
   ],
   "source": [
    "Rare_Get_Value_Counts(train_X,col= 'verificationStatus', num =  10)"
   ]
  },
  {
   "cell_type": "code",
   "execution_count": null,
   "id": "88d19fc7",
   "metadata": {},
   "outputs": [],
   "source": []
  },
  {
   "cell_type": "markdown",
   "id": "8efa4e05",
   "metadata": {},
   "source": [
    "### purpose\n"
   ]
  },
  {
   "cell_type": "code",
   "execution_count": 333,
   "id": "7e935e3f",
   "metadata": {},
   "outputs": [
    {
     "name": "stdout",
     "output_type": "stream",
     "text": [
      "完整的数值分布：\n",
      "\n",
      "0.0     464096\n",
      "4.0     175433\n",
      "2.0      52129\n",
      "5.0      46276\n",
      "3.0      17579\n",
      "9.0       9238\n",
      "1.0       9106\n",
      "8.0       8657\n",
      "10.0      5652\n",
      "7.0       5373\n",
      "6.0       4354\n",
      "11.0      2107\n",
      "Name: purpose, dtype: int64\n",
      "取值少于10\n",
      "\n",
      "Empty DataFrame\n",
      "Columns: [counts]\n",
      "Index: []\n"
     ]
    }
   ],
   "source": [
    "Rare_Get_Value_Counts(train_X,col= 'purpose', num =  10)"
   ]
  },
  {
   "cell_type": "markdown",
   "id": "9a39c36e",
   "metadata": {},
   "source": [
    "### postCode"
   ]
  },
  {
   "cell_type": "code",
   "execution_count": 334,
   "id": "582d97e0",
   "metadata": {},
   "outputs": [
    {
     "name": "stdout",
     "output_type": "stream",
     "text": [
      "完整的数值分布：\n",
      "\n",
      "134.0    8956\n",
      "19.0     8611\n",
      "51.0     8161\n",
      "31.0     7337\n",
      "4.0      7176\n",
      "         ... \n",
      "758.0      15\n",
      "802.0      10\n",
      "822.0       5\n",
      "821.0       2\n",
      "825.0       1\n",
      "Name: postCode, Length: 835, dtype: int64\n",
      "取值少于10\n",
      "\n",
      "       counts\n",
      "802.0      10\n",
      "822.0       5\n",
      "821.0       2\n",
      "825.0       1\n"
     ]
    }
   ],
   "source": [
    "Rare_Get_Value_Counts(train_X,col= 'postCode', num =  10)"
   ]
  },
  {
   "cell_type": "code",
   "execution_count": 335,
   "id": "e6a3845f",
   "metadata": {},
   "outputs": [
    {
     "data": {
      "text/plain": [
       "0         137.0\n",
       "1         156.0\n",
       "2         337.0\n",
       "3         148.0\n",
       "4         301.0\n",
       "          ...  \n",
       "799995    242.0\n",
       "799996    563.0\n",
       "799997     47.0\n",
       "799998     34.0\n",
       "799999     62.0\n",
       "Name: postCode, Length: 800000, dtype: float64"
      ]
     },
     "execution_count": 335,
     "metadata": {},
     "output_type": "execute_result"
    }
   ],
   "source": [
    "Rare_Value_Impute(train_X,col = 'postCode',num = 10, method='extreme', value = 999999)"
   ]
  },
  {
   "cell_type": "markdown",
   "id": "09f17ffc",
   "metadata": {},
   "source": [
    "### regionCode"
   ]
  },
  {
   "cell_type": "code",
   "execution_count": 338,
   "id": "51c1faa0",
   "metadata": {},
   "outputs": [
    {
     "name": "stdout",
     "output_type": "stream",
     "text": [
      "完整的数值分布：\n",
      "\n",
      "8.0     116921\n",
      "14.0     65768\n",
      "13.0     65041\n",
      "21.0     56671\n",
      "2.0      30513\n",
      "30.0     28634\n",
      "0.0      27180\n",
      "19.0     26198\n",
      "3.0      25766\n",
      "9.0      22902\n",
      "7.0      22600\n",
      "23.0     20919\n",
      "10.0     19604\n",
      "12.0     18543\n",
      "26.0     18432\n",
      "22.0     17722\n",
      "18.0     17286\n",
      "44.0     14948\n",
      "4.0      14177\n",
      "11.0     12929\n",
      "24.0     12776\n",
      "32.0     12065\n",
      "38.0     11982\n",
      "36.0     11644\n",
      "27.0     10521\n",
      "17.0      9863\n",
      "35.0      9669\n",
      "5.0       9581\n",
      "20.0      9124\n",
      "43.0      7701\n",
      "42.0      7267\n",
      "15.0      6690\n",
      "37.0      5998\n",
      "16.0      4325\n",
      "28.0      4036\n",
      "33.0      3817\n",
      "6.0       3496\n",
      "39.0      2943\n",
      "40.0      2287\n",
      "31.0      2261\n",
      "34.0      2136\n",
      "25.0      2102\n",
      "41.0      1778\n",
      "1.0       1624\n",
      "29.0      1560\n",
      "Name: regionCode, dtype: int64\n",
      "取值少于100\n",
      "\n",
      "Empty DataFrame\n",
      "Columns: [counts]\n",
      "Index: []\n"
     ]
    }
   ],
   "source": [
    "Rare_Get_Value_Counts(train_X,col = 'regionCode',num = 100)"
   ]
  },
  {
   "cell_type": "markdown",
   "id": "a05ed405",
   "metadata": {},
   "source": [
    "### dti"
   ]
  },
  {
   "cell_type": "code",
   "execution_count": 345,
   "id": "f049469f",
   "metadata": {},
   "outputs": [
    {
     "name": "stdout",
     "output_type": "stream",
     "text": [
      "完整的数值分布：\n",
      "\n",
      "43.45    3271\n",
      "19.20     593\n",
      "18.00     585\n",
      "17.61     574\n",
      "13.20     570\n",
      "         ... \n",
      "41.07       1\n",
      "40.46       1\n",
      "40.99       1\n",
      "41.52       1\n",
      "41.83       1\n",
      "Name: dti, Length: 4235, dtype: int64\n",
      "取值少于5\n",
      "\n",
      "       counts\n",
      "40.84       5\n",
      "42.15       5\n",
      "42.32       5\n",
      "41.64       5\n",
      "40.89       5\n",
      "...       ...\n",
      "41.07       1\n",
      "40.46       1\n",
      "40.99       1\n",
      "41.52       1\n",
      "41.83       1\n",
      "\n",
      "[213 rows x 1 columns]\n"
     ]
    }
   ],
   "source": [
    "Rare_Get_Value_Counts(train_X,col = 'dti', num = 5)"
   ]
  },
  {
   "cell_type": "code",
   "execution_count": 346,
   "id": "9008b224",
   "metadata": {},
   "outputs": [
    {
     "data": {
      "text/plain": [
       "0         17.05\n",
       "1         27.83\n",
       "2         22.77\n",
       "3         17.21\n",
       "4         32.16\n",
       "          ...  \n",
       "799995    19.03\n",
       "799996    15.72\n",
       "799997    12.11\n",
       "799998    29.25\n",
       "799999     8.99\n",
       "Name: dti, Length: 800000, dtype: float64"
      ]
     },
     "execution_count": 346,
     "metadata": {},
     "output_type": "execute_result"
    }
   ],
   "source": [
    "Rare_Value_Impute(train_X,col = 'dti', num = 5,method='extreme', value = 9999)    "
   ]
  },
  {
   "cell_type": "markdown",
   "id": "e3133343",
   "metadata": {},
   "source": [
    "### delinquency_2years"
   ]
  },
  {
   "cell_type": "code",
   "execution_count": 347,
   "id": "d31e4089",
   "metadata": {},
   "outputs": [
    {
     "name": "stdout",
     "output_type": "stream",
     "text": [
      "完整的数值分布：\n",
      "\n",
      "0.0     645715\n",
      "1.0     102586\n",
      "2.0      29944\n",
      "3.0      10919\n",
      "4.0       4808\n",
      "5.0       2504\n",
      "6.0       1399\n",
      "7.0        770\n",
      "8.0        443\n",
      "9.0        293\n",
      "10.0       192\n",
      "11.0       144\n",
      "12.0        86\n",
      "14.0        53\n",
      "13.0        50\n",
      "15.0        23\n",
      "16.0        20\n",
      "18.0        13\n",
      "19.0        10\n",
      "20.0         7\n",
      "17.0         6\n",
      "22.0         3\n",
      "21.0         3\n",
      "29.0         2\n",
      "26.0         2\n",
      "25.0         1\n",
      "27.0         1\n",
      "39.0         1\n",
      "30.0         1\n",
      "24.0         1\n",
      "Name: delinquency_2years, dtype: int64\n",
      "取值少于1\n",
      "\n",
      "      counts\n",
      "25.0       1\n",
      "27.0       1\n",
      "39.0       1\n",
      "30.0       1\n",
      "24.0       1\n"
     ]
    }
   ],
   "source": [
    "Rare_Get_Value_Counts(train_X, col = 'delinquency_2years')"
   ]
  },
  {
   "cell_type": "code",
   "execution_count": 348,
   "id": "9a7aa26d",
   "metadata": {},
   "outputs": [
    {
     "data": {
      "text/plain": [
       "0         0.0\n",
       "1         0.0\n",
       "2         0.0\n",
       "3         0.0\n",
       "4         0.0\n",
       "         ... \n",
       "799995    0.0\n",
       "799996    1.0\n",
       "799997    1.0\n",
       "799998    0.0\n",
       "799999    0.0\n",
       "Name: delinquency_2years, Length: 800000, dtype: float64"
      ]
     },
     "execution_count": 348,
     "metadata": {},
     "output_type": "execute_result"
    }
   ],
   "source": [
    "Rare_Value_Impute(train_X, col = 'delinquency_2years', num = 10, method='extreme', value = 9999)"
   ]
  },
  {
   "cell_type": "markdown",
   "id": "b529fc5a",
   "metadata": {},
   "source": [
    "### ficoRangeLow"
   ]
  },
  {
   "cell_type": "code",
   "execution_count": 351,
   "id": "1e09ecfa",
   "metadata": {},
   "outputs": [
    {
     "name": "stdout",
     "output_type": "stream",
     "text": [
      "完整的数值分布：\n",
      "\n",
      "660.0    71974\n",
      "670.0    69815\n",
      "665.0    69619\n",
      "675.0    61993\n",
      "680.0    61294\n",
      "685.0    53668\n",
      "690.0    52046\n",
      "695.0    47065\n",
      "700.0    43292\n",
      "705.0    39030\n",
      "710.0    34296\n",
      "715.0    30154\n",
      "720.0    26036\n",
      "725.0    20766\n",
      "730.0    18186\n",
      "735.0    14377\n",
      "740.0    12585\n",
      "745.0    10336\n",
      "750.0     9419\n",
      "755.0     8191\n",
      "760.0     6716\n",
      "765.0     6163\n",
      "770.0     5311\n",
      "775.0     4882\n",
      "780.0     4286\n",
      "785.0     3476\n",
      "790.0     3284\n",
      "795.0     2637\n",
      "800.0     2261\n",
      "805.0     1942\n",
      "810.0     1408\n",
      "815.0     1111\n",
      "820.0      827\n",
      "825.0      636\n",
      "830.0      412\n",
      "835.0      249\n",
      "840.0      140\n",
      "845.0      116\n",
      "630.0        1\n",
      "Name: ficoRangeLow, dtype: int64\n",
      "取值<=1\n",
      "\n",
      "       counts\n",
      "630.0       1\n"
     ]
    }
   ],
   "source": [
    "Rare_Get_Value_Counts(train_X, col = 'ficoRangeLow')"
   ]
  },
  {
   "cell_type": "code",
   "execution_count": 352,
   "id": "cec6ee96",
   "metadata": {},
   "outputs": [
    {
     "data": {
      "text/plain": [
       "0         730.0\n",
       "1         700.0\n",
       "2         675.0\n",
       "3         685.0\n",
       "4         690.0\n",
       "          ...  \n",
       "799995    710.0\n",
       "799996    720.0\n",
       "799997    670.0\n",
       "799998    675.0\n",
       "799999    695.0\n",
       "Name: ficoRangeLow, Length: 800000, dtype: float64"
      ]
     },
     "execution_count": 352,
     "metadata": {},
     "output_type": "execute_result"
    }
   ],
   "source": [
    "Rare_Value_Impute(train_X, col = 'ficoRangeLow', num=10,method='extremem', value = 999999999)"
   ]
  },
  {
   "cell_type": "markdown",
   "id": "84011f14",
   "metadata": {},
   "source": [
    "### ficoRangeHigh"
   ]
  },
  {
   "cell_type": "code",
   "execution_count": 354,
   "id": "f1051bd3",
   "metadata": {},
   "outputs": [
    {
     "name": "stdout",
     "output_type": "stream",
     "text": [
      "完整的数值分布：\n",
      "\n",
      "664.0    71974\n",
      "674.0    69815\n",
      "669.0    69619\n",
      "679.0    61993\n",
      "684.0    61294\n",
      "689.0    53668\n",
      "694.0    52046\n",
      "699.0    47065\n",
      "704.0    43292\n",
      "709.0    39030\n",
      "714.0    34296\n",
      "719.0    30154\n",
      "724.0    26036\n",
      "729.0    20766\n",
      "734.0    18186\n",
      "739.0    14377\n",
      "744.0    12585\n",
      "749.0    10336\n",
      "754.0     9419\n",
      "759.0     8191\n",
      "764.0     6716\n",
      "769.0     6163\n",
      "774.0     5311\n",
      "779.0     4882\n",
      "784.0     4286\n",
      "789.0     3476\n",
      "794.0     3284\n",
      "799.0     2637\n",
      "804.0     2261\n",
      "809.0     1942\n",
      "814.0     1408\n",
      "819.0     1111\n",
      "824.0      827\n",
      "829.0      636\n",
      "834.0      412\n",
      "839.0      249\n",
      "844.0      140\n",
      "850.0      116\n",
      "634.0        1\n",
      "Name: ficoRangeHigh, dtype: int64\n",
      "取值<=1\n",
      "\n",
      "       counts\n",
      "634.0       1\n"
     ]
    }
   ],
   "source": [
    "Rare_Get_Value_Counts(train_X, col = 'ficoRangeHigh')"
   ]
  },
  {
   "cell_type": "code",
   "execution_count": 355,
   "id": "d43f472e",
   "metadata": {},
   "outputs": [
    {
     "data": {
      "text/plain": [
       "0         734.0\n",
       "1         704.0\n",
       "2         679.0\n",
       "3         689.0\n",
       "4         694.0\n",
       "          ...  \n",
       "799995    714.0\n",
       "799996    724.0\n",
       "799997    674.0\n",
       "799998    679.0\n",
       "799999    699.0\n",
       "Name: ficoRangeHigh, Length: 800000, dtype: float64"
      ]
     },
     "execution_count": 355,
     "metadata": {},
     "output_type": "execute_result"
    }
   ],
   "source": [
    "Rare_Value_Impute(train_X, col ='ficoRangeHigh', num = 10, method='extreme',value= 999999)"
   ]
  },
  {
   "cell_type": "markdown",
   "id": "d792eff5",
   "metadata": {},
   "source": [
    "### openAcc"
   ]
  },
  {
   "cell_type": "code",
   "execution_count": 358,
   "id": "d8e40ba3",
   "metadata": {},
   "outputs": [
    {
     "name": "stdout",
     "output_type": "stream",
     "text": [
      "完整的数值分布：\n",
      "\n",
      "9.0     70865\n",
      "10.0    69171\n",
      "8.0     68201\n",
      "11.0    64069\n",
      "7.0     61355\n",
      "        ...  \n",
      "82.0        1\n",
      "81.0        1\n",
      "86.0        1\n",
      "74.0        1\n",
      "67.0        1\n",
      "Name: openAcc, Length: 75, dtype: int64\n",
      "取值<=100\n",
      "\n",
      "      counts\n",
      "43.0      73\n",
      "44.0      66\n",
      "45.0      56\n",
      "46.0      48\n",
      "47.0      35\n",
      "49.0      31\n",
      "48.0      21\n",
      "51.0      20\n",
      "52.0      19\n",
      "50.0      17\n",
      "54.0      13\n",
      "53.0      10\n",
      "0.0        9\n",
      "56.0       7\n",
      "58.0       7\n",
      "55.0       7\n",
      "60.0       5\n",
      "59.0       5\n",
      "57.0       4\n",
      "63.0       3\n",
      "61.0       3\n",
      "66.0       2\n",
      "80.0       2\n",
      "62.0       2\n",
      "76.0       2\n",
      "72.0       1\n",
      "77.0       1\n",
      "70.0       1\n",
      "82.0       1\n",
      "81.0       1\n",
      "86.0       1\n",
      "74.0       1\n",
      "67.0       1\n"
     ]
    }
   ],
   "source": [
    "Rare_Get_Value_Counts(train_X, col = 'openAcc', num = 100)"
   ]
  },
  {
   "cell_type": "code",
   "execution_count": 359,
   "id": "765d0a1d",
   "metadata": {},
   "outputs": [
    {
     "data": {
      "text/plain": [
       "0          7.0\n",
       "1         13.0\n",
       "2         11.0\n",
       "3          9.0\n",
       "4         12.0\n",
       "          ... \n",
       "799995    14.0\n",
       "799996     7.0\n",
       "799997     5.0\n",
       "799998    16.0\n",
       "799999     7.0\n",
       "Name: openAcc, Length: 800000, dtype: float64"
      ]
     },
     "execution_count": 359,
     "metadata": {},
     "output_type": "execute_result"
    }
   ],
   "source": [
    "Rare_Value_Impute(train_X, col ='openAcc',num = 10, method= 'extreme', value = 999999)"
   ]
  },
  {
   "cell_type": "markdown",
   "id": "a5a85c96",
   "metadata": {},
   "source": [
    "### pubRec"
   ]
  },
  {
   "cell_type": "code",
   "execution_count": 361,
   "id": "417a532a",
   "metadata": {},
   "outputs": [
    {
     "name": "stdout",
     "output_type": "stream",
     "text": [
      "完整的数值分布：\n",
      "\n",
      "0.0     664765\n",
      "1.0     113186\n",
      "2.0      14520\n",
      "3.0       4432\n",
      "4.0       1535\n",
      "5.0        757\n",
      "6.0        367\n",
      "7.0        165\n",
      "8.0        105\n",
      "9.0         51\n",
      "10.0        37\n",
      "11.0        23\n",
      "12.0        14\n",
      "15.0         7\n",
      "13.0         6\n",
      "16.0         4\n",
      "18.0         4\n",
      "22.0         2\n",
      "24.0         2\n",
      "19.0         2\n",
      "21.0         2\n",
      "20.0         2\n",
      "14.0         2\n",
      "49.0         2\n",
      "63.0         1\n",
      "46.0         1\n",
      "28.0         1\n",
      "86.0         1\n",
      "54.0         1\n",
      "40.0         1\n",
      "47.0         1\n",
      "17.0         1\n",
      "Name: pubRec, dtype: int64\n",
      "取值<=1000\n",
      "\n",
      "      counts\n",
      "5.0      757\n",
      "6.0      367\n",
      "7.0      165\n",
      "8.0      105\n",
      "9.0       51\n",
      "10.0      37\n",
      "11.0      23\n",
      "12.0      14\n",
      "15.0       7\n",
      "13.0       6\n",
      "16.0       4\n",
      "18.0       4\n",
      "22.0       2\n",
      "24.0       2\n",
      "19.0       2\n",
      "21.0       2\n",
      "20.0       2\n",
      "14.0       2\n",
      "49.0       2\n",
      "63.0       1\n",
      "46.0       1\n",
      "28.0       1\n",
      "86.0       1\n",
      "54.0       1\n",
      "40.0       1\n",
      "47.0       1\n",
      "17.0       1\n"
     ]
    }
   ],
   "source": [
    "Rare_Get_Value_Counts(train_X, col = 'pubRec', num = 1000)"
   ]
  },
  {
   "cell_type": "code",
   "execution_count": 362,
   "id": "df6a90f6",
   "metadata": {},
   "outputs": [
    {
     "data": {
      "text/plain": [
       "0         0.0\n",
       "1         0.0\n",
       "2         0.0\n",
       "3         0.0\n",
       "4         0.0\n",
       "         ... \n",
       "799995    0.0\n",
       "799996    0.0\n",
       "799997    0.0\n",
       "799998    0.0\n",
       "799999    0.0\n",
       "Name: pubRec, Length: 800000, dtype: float64"
      ]
     },
     "execution_count": 362,
     "metadata": {},
     "output_type": "execute_result"
    }
   ],
   "source": [
    "Rare_Value_Impute(train_X,col = 'pubRec', num = 1000, method='extreme',value= 999999)"
   ]
  },
  {
   "cell_type": "markdown",
   "id": "fb4680d3",
   "metadata": {},
   "source": [
    "### pubRecBankruptcies"
   ]
  },
  {
   "cell_type": "code",
   "execution_count": 363,
   "id": "c7416550",
   "metadata": {},
   "outputs": [
    {
     "name": "stdout",
     "output_type": "stream",
     "text": [
      "完整的数值分布：\n",
      "\n",
      "0.0     700481\n",
      "1.0      93639\n",
      "2.0       4566\n",
      "3.0        945\n",
      "4.0        248\n",
      "5.0         80\n",
      "6.0         23\n",
      "7.0         11\n",
      "9.0          3\n",
      "8.0          3\n",
      "12.0         1\n",
      "Name: pubRecBankruptcies, dtype: int64\n",
      "取值<=1\n",
      "\n",
      "      counts\n",
      "12.0       1\n"
     ]
    }
   ],
   "source": [
    "Rare_Get_Value_Counts(train_X, col ='pubRecBankruptcies')"
   ]
  },
  {
   "cell_type": "code",
   "execution_count": 364,
   "id": "540a830f",
   "metadata": {},
   "outputs": [
    {
     "data": {
      "text/plain": [
       "0         0.0\n",
       "1         0.0\n",
       "2         0.0\n",
       "3         0.0\n",
       "4         0.0\n",
       "         ... \n",
       "799995    0.0\n",
       "799996    0.0\n",
       "799997    0.0\n",
       "799998    0.0\n",
       "799999    0.0\n",
       "Name: pubRecBankruptcies, Length: 800000, dtype: float64"
      ]
     },
     "execution_count": 364,
     "metadata": {},
     "output_type": "execute_result"
    }
   ],
   "source": [
    "Rare_Value_Impute(train_X, col = 'pubRecBankruptcies', num = 100, method='extreme', value = 999999)"
   ]
  },
  {
   "cell_type": "markdown",
   "id": "c00f76a9",
   "metadata": {},
   "source": [
    "### revolBal"
   ]
  },
  {
   "cell_type": "code",
   "execution_count": 368,
   "id": "7a78784b",
   "metadata": {},
   "outputs": [
    {
     "name": "stdout",
     "output_type": "stream",
     "text": [
      "完整的数值分布：\n",
      "\n",
      "40420.0    47355\n",
      "0.0         3945\n",
      "4784.0        73\n",
      "6325.0        66\n",
      "5723.0        65\n",
      "           ...  \n",
      "32570.0        1\n",
      "38884.0        1\n",
      "40337.0        1\n",
      "35415.0        1\n",
      "37979.0        1\n",
      "Name: revolBal, Length: 40221, dtype: int64\n",
      "取值<=1\n",
      "\n",
      "         counts\n",
      "38268.0       1\n",
      "35500.0       1\n",
      "34520.0       1\n",
      "36380.0       1\n",
      "33633.0       1\n",
      "...         ...\n",
      "32570.0       1\n",
      "38884.0       1\n",
      "40337.0       1\n",
      "35415.0       1\n",
      "37979.0       1\n",
      "\n",
      "[662 rows x 1 columns]\n"
     ]
    }
   ],
   "source": [
    "Rare_Get_Value_Counts(train_X, col = 'revolBal', num = 1)"
   ]
  },
  {
   "cell_type": "code",
   "execution_count": 369,
   "id": "28fc262d",
   "metadata": {},
   "outputs": [
    {
     "data": {
      "text/plain": [
       "0         24178.0\n",
       "1         15096.0\n",
       "2          4606.0\n",
       "3          9948.0\n",
       "4          2942.0\n",
       "           ...   \n",
       "799995     9933.0\n",
       "799996    20472.0\n",
       "799997     6381.0\n",
       "799998    40420.0\n",
       "799999     8420.0\n",
       "Name: revolBal, Length: 800000, dtype: float64"
      ]
     },
     "execution_count": 369,
     "metadata": {},
     "output_type": "execute_result"
    }
   ],
   "source": [
    "Rare_Value_Impute(train_X, col = 'revolBal', num = 1, method='extreme', value = 999999)"
   ]
  },
  {
   "cell_type": "markdown",
   "id": "4d2aaf33",
   "metadata": {},
   "source": [
    "### revolUtil"
   ]
  },
  {
   "cell_type": "code",
   "execution_count": 370,
   "id": "7aafccd0",
   "metadata": {},
   "outputs": [
    {
     "name": "stdout",
     "output_type": "stream",
     "text": [
      "完整的数值分布：\n",
      "\n",
      "0.00      4170\n",
      "52.10     1604\n",
      "55.00     1589\n",
      "61.00     1579\n",
      "53.00     1575\n",
      "          ... \n",
      "113.10       1\n",
      "88.48        1\n",
      "17.71        1\n",
      "16.02        1\n",
      "13.56        1\n",
      "Name: revolUtil, Length: 1244, dtype: int64\n",
      "取值<=1\n",
      "\n",
      "        counts\n",
      "115.70       1\n",
      "119.00       1\n",
      "116.50       1\n",
      "112.40       1\n",
      "111.10       1\n",
      "...        ...\n",
      "113.10       1\n",
      "88.48        1\n",
      "17.71        1\n",
      "16.02        1\n",
      "13.56        1\n",
      "\n",
      "[111 rows x 1 columns]\n"
     ]
    }
   ],
   "source": [
    "Rare_Get_Value_Counts(train_X, col ='revolUtil')"
   ]
  },
  {
   "cell_type": "code",
   "execution_count": 371,
   "id": "ce533b3c",
   "metadata": {},
   "outputs": [
    {
     "data": {
      "text/plain": [
       "0         48.9\n",
       "1         38.9\n",
       "2         51.8\n",
       "3         52.6\n",
       "4         32.0\n",
       "          ... \n",
       "799995    46.4\n",
       "799996    98.4\n",
       "799997    51.9\n",
       "799998    61.3\n",
       "799999    72.6\n",
       "Name: revolUtil, Length: 800000, dtype: float64"
      ]
     },
     "execution_count": 371,
     "metadata": {},
     "output_type": "execute_result"
    }
   ],
   "source": [
    "Rare_Value_Impute(train_X, col = 'revolUtil', num = 1, method='extreme', value = 999999)"
   ]
  },
  {
   "cell_type": "markdown",
   "id": "337453a1",
   "metadata": {},
   "source": [
    "### totalAcc"
   ]
  },
  {
   "cell_type": "code",
   "execution_count": 372,
   "id": "52e3cddf",
   "metadata": {},
   "outputs": [
    {
     "name": "stdout",
     "output_type": "stream",
     "text": [
      "完整的数值分布：\n",
      "\n",
      "20.0    28956\n",
      "21.0    28820\n",
      "19.0    28697\n",
      "22.0    28671\n",
      "18.0    28188\n",
      "23.0    28108\n",
      "17.0    28061\n",
      "24.0    27446\n",
      "16.0    27124\n",
      "25.0    26441\n",
      "15.0    25639\n",
      "26.0    25408\n",
      "14.0    24391\n",
      "27.0    24357\n",
      "13.0    22912\n",
      "28.0    22843\n",
      "29.0    21799\n",
      "12.0    20929\n",
      "30.0    20622\n",
      "31.0    19285\n",
      "11.0    18993\n",
      "32.0    18346\n",
      "33.0    16798\n",
      "10.0    16617\n",
      "34.0    15616\n",
      "35.0    14456\n",
      "9.0     14171\n",
      "57.0    13446\n",
      "36.0    13316\n",
      "37.0    12346\n",
      "8.0     11606\n",
      "38.0    10978\n",
      "39.0    10277\n",
      "40.0     9327\n",
      "7.0      9266\n",
      "41.0     8453\n",
      "42.0     7807\n",
      "43.0     7035\n",
      "6.0      6852\n",
      "44.0     6486\n",
      "45.0     5778\n",
      "46.0     5054\n",
      "47.0     4684\n",
      "5.0      4674\n",
      "48.0     4121\n",
      "49.0     3753\n",
      "50.0     3383\n",
      "51.0     3058\n",
      "4.0      2889\n",
      "52.0     2685\n",
      "53.0     2350\n",
      "54.0     2128\n",
      "55.0     1909\n",
      "56.0     1676\n",
      "3.0       754\n",
      "2.0       215\n",
      "Name: totalAcc, dtype: int64\n",
      "取值<=1\n",
      "\n",
      "Empty DataFrame\n",
      "Columns: [counts]\n",
      "Index: []\n"
     ]
    }
   ],
   "source": [
    "Rare_Get_Value_Counts(train_X, col = 'totalAcc')"
   ]
  },
  {
   "cell_type": "markdown",
   "id": "01f6bd17",
   "metadata": {},
   "source": [
    "### initialListStatus"
   ]
  },
  {
   "cell_type": "code",
   "execution_count": 373,
   "id": "786bcda7",
   "metadata": {},
   "outputs": [
    {
     "name": "stdout",
     "output_type": "stream",
     "text": [
      "完整的数值分布：\n",
      "\n",
      "0    466438\n",
      "1    333562\n",
      "Name: initialListStatus, dtype: int64\n",
      "取值<=1\n",
      "\n",
      "Empty DataFrame\n",
      "Columns: [counts]\n",
      "Index: []\n"
     ]
    }
   ],
   "source": [
    "Rare_Get_Value_Counts(train_X, col = 'initialListStatus')"
   ]
  },
  {
   "cell_type": "markdown",
   "id": "f9fb17fb",
   "metadata": {},
   "source": [
    "### applicationType"
   ]
  },
  {
   "cell_type": "code",
   "execution_count": 374,
   "id": "29a69b57",
   "metadata": {},
   "outputs": [
    {
     "name": "stdout",
     "output_type": "stream",
     "text": [
      "完整的数值分布：\n",
      "\n",
      "0    784586\n",
      "1     15414\n",
      "Name: applicationType, dtype: int64\n",
      "取值<=1\n",
      "\n",
      "Empty DataFrame\n",
      "Columns: [counts]\n",
      "Index: []\n"
     ]
    }
   ],
   "source": [
    "Rare_Get_Value_Counts(train_X, col ='applicationType')"
   ]
  },
  {
   "cell_type": "markdown",
   "id": "818112e8",
   "metadata": {},
   "source": [
    "### title"
   ]
  },
  {
   "cell_type": "code",
   "execution_count": 375,
   "id": "0c004576",
   "metadata": {},
   "outputs": [
    {
     "name": "stdout",
     "output_type": "stream",
     "text": [
      "完整的数值分布：\n",
      "\n",
      "0.0     393334\n",
      "4.0     148211\n",
      "13.5    114382\n",
      "5.0      44748\n",
      "6.0      39742\n",
      "3.0      14432\n",
      "2.0       9906\n",
      "10.0      8075\n",
      "1.0       7005\n",
      "9.0       6711\n",
      "8.0       4753\n",
      "11.0      4731\n",
      "7.0       3545\n",
      "12.0       425\n",
      "Name: title, dtype: int64\n",
      "取值<=1\n",
      "\n",
      "Empty DataFrame\n",
      "Columns: [counts]\n",
      "Index: []\n"
     ]
    }
   ],
   "source": [
    "Rare_Get_Value_Counts(train_X, col ='title')"
   ]
  },
  {
   "cell_type": "markdown",
   "id": "d75ddd48",
   "metadata": {},
   "source": [
    "### policyCode"
   ]
  },
  {
   "cell_type": "code",
   "execution_count": 376,
   "id": "dd6c70c0",
   "metadata": {},
   "outputs": [
    {
     "name": "stdout",
     "output_type": "stream",
     "text": [
      "完整的数值分布：\n",
      "\n",
      "1.0    800000\n",
      "Name: policyCode, dtype: int64\n",
      "取值<=1\n",
      "\n",
      "Empty DataFrame\n",
      "Columns: [counts]\n",
      "Index: []\n"
     ]
    }
   ],
   "source": [
    "Rare_Get_Value_Counts(train_X, col='policyCode')"
   ]
  },
  {
   "cell_type": "markdown",
   "id": "5407dcd4",
   "metadata": {},
   "source": [
    "### n0-n14"
   ]
  },
  {
   "cell_type": "code",
   "execution_count": 377,
   "id": "547fad1a",
   "metadata": {
    "scrolled": true
   },
   "outputs": [
    {
     "name": "stdout",
     "output_type": "stream",
     "text": [
      "完整的数值分布：\n",
      "\n",
      "0.0    580437\n",
      "1.0     97129\n",
      "3.5     82612\n",
      "2.0     39822\n",
      "Name: n0, dtype: int64\n",
      "取值<=1\n",
      "\n",
      "Empty DataFrame\n",
      "Columns: [counts]\n",
      "Index: []\n",
      "完整的数值分布：\n",
      "\n",
      "3.0     164208\n",
      "2.0     155940\n",
      "4.0     127828\n",
      "1.0      88317\n",
      "5.0      85632\n",
      "6.0      53345\n",
      "10.5     43860\n",
      "7.0      32170\n",
      "8.0      19318\n",
      "0.0      17478\n",
      "9.0      11904\n",
      "Name: n1, dtype: int64\n",
      "取值<=1\n",
      "\n",
      "Empty DataFrame\n",
      "Columns: [counts]\n",
      "Index: []\n",
      "完整的数值分布：\n",
      "\n",
      "4.0     118020\n",
      "5.0     108927\n",
      "3.0     107437\n",
      "6.0      88965\n",
      "2.0      71431\n",
      "7.0      68888\n",
      "8.0      51179\n",
      "16.5     38337\n",
      "9.0      36548\n",
      "1.0      27370\n",
      "10.0     25908\n",
      "11.0     18248\n",
      "12.0     13130\n",
      "13.0      9382\n",
      "14.0      6928\n",
      "15.0      5176\n",
      "0.0       4126\n",
      "Name: n2, dtype: int64\n",
      "取值<=1\n",
      "\n",
      "Empty DataFrame\n",
      "Columns: [counts]\n",
      "Index: []\n",
      "完整的数值分布：\n",
      "\n",
      "4.0     118010\n",
      "5.0     108960\n",
      "3.0     107487\n",
      "6.0      88952\n",
      "2.0      71372\n",
      "7.0      68910\n",
      "8.0      51244\n",
      "16.5     38256\n",
      "9.0      36574\n",
      "1.0      27372\n",
      "10.0     25897\n",
      "11.0     18222\n",
      "12.0     13152\n",
      "13.0      9339\n",
      "14.0      6932\n",
      "15.0      5239\n",
      "0.0       4082\n",
      "Name: n3, dtype: int64\n",
      "取值<=1\n",
      "\n",
      "Empty DataFrame\n",
      "Columns: [counts]\n",
      "Index: []\n",
      "完整的数值分布：\n",
      "\n",
      "3.0     135236\n",
      "4.0     128801\n",
      "2.0     106317\n",
      "5.0     103903\n",
      "6.0      76430\n",
      "11.5     59408\n",
      "7.0      53405\n",
      "1.0      50340\n",
      "8.0      36455\n",
      "9.0      24602\n",
      "10.0     16662\n",
      "0.0       8441\n",
      "Name: n4, dtype: int64\n",
      "取值<=1\n",
      "\n",
      "Empty DataFrame\n",
      "Columns: [counts]\n",
      "Index: []\n",
      "完整的数值分布：\n",
      "\n",
      "5.0     77194\n",
      "6.0     76251\n",
      "4.0     71783\n",
      "7.0     71655\n",
      "8.0     64996\n",
      "3.0     56817\n",
      "9.0     56274\n",
      "10.0    47731\n",
      "21.0    43260\n",
      "11.0    39792\n",
      "2.0     35983\n",
      "12.0    32746\n",
      "13.0    26061\n",
      "14.0    20990\n",
      "15.0    16908\n",
      "1.0     14502\n",
      "16.0    13514\n",
      "17.0    10602\n",
      "18.0     8530\n",
      "19.0     6708\n",
      "20.0     5403\n",
      "0.0      2300\n",
      "Name: n5, dtype: int64\n",
      "取值<=1\n",
      "\n",
      "Empty DataFrame\n",
      "Columns: [counts]\n",
      "Index: []\n",
      "完整的数值分布：\n",
      "\n",
      "4.0     65087\n",
      "3.0     64485\n",
      "25.0    62256\n",
      "5.0     62226\n",
      "2.0     58385\n",
      "6.0     57632\n",
      "7.0     51684\n",
      "8.0     46240\n",
      "1.0     44414\n",
      "9.0     39871\n",
      "10.0    34644\n",
      "11.0    29765\n",
      "12.0    25426\n",
      "0.0     23004\n",
      "13.0    22148\n",
      "14.0    18812\n",
      "15.0    16189\n",
      "16.0    14150\n",
      "17.0    12314\n",
      "18.0    10570\n",
      "19.0     9155\n",
      "20.0     8067\n",
      "21.0     6879\n",
      "22.0     6283\n",
      "23.0     5477\n",
      "24.0     4837\n",
      "Name: n6, dtype: int64\n",
      "取值<=1\n",
      "\n",
      "Empty DataFrame\n",
      "Columns: [counts]\n",
      "Index: []\n",
      "完整的数值分布：\n",
      "\n",
      "6.0     83912\n",
      "5.0     81136\n",
      "7.0     79604\n",
      "8.0     71803\n",
      "4.0     68832\n",
      "9.0     61489\n",
      "10.0    51000\n",
      "3.0     47854\n",
      "21.0    43118\n",
      "11.0    41757\n",
      "12.0    33261\n",
      "13.0    26386\n",
      "2.0     24340\n",
      "14.0    20637\n",
      "15.0    16303\n",
      "16.0    12724\n",
      "17.0    10153\n",
      "18.0     7949\n",
      "19.0     6147\n",
      "1.0      5902\n",
      "20.0     4826\n",
      "0.0       867\n",
      "Name: n7, dtype: int64\n",
      "取值<=1\n",
      "\n",
      "Empty DataFrame\n",
      "Columns: [counts]\n",
      "Index: []\n",
      "完整的数值分布：\n",
      "\n",
      "11.0    45171\n",
      "10.0    45027\n",
      "9.0     44250\n",
      "12.0    43752\n",
      "8.0     42431\n",
      "13.0    41597\n",
      "37.5    40304\n",
      "7.0     39304\n",
      "14.0    38965\n",
      "15.0    36543\n",
      "6.0     34289\n",
      "16.0    33700\n",
      "17.0    30751\n",
      "5.0     27693\n",
      "18.0    27502\n",
      "19.0    25106\n",
      "20.0    22442\n",
      "4.0     20382\n",
      "21.0    19682\n",
      "22.0    17506\n",
      "23.0    15377\n",
      "24.0    13814\n",
      "3.0     12441\n",
      "25.0    12164\n",
      "26.0    10205\n",
      "27.0     9088\n",
      "28.0     8138\n",
      "29.0     7019\n",
      "30.0     6090\n",
      "2.0      5643\n",
      "31.0     5231\n",
      "32.0     4608\n",
      "33.0     4101\n",
      "34.0     3538\n",
      "35.0     3125\n",
      "36.0     2639\n",
      "1.0       382\n",
      "Name: n8, dtype: int64\n",
      "取值<=1\n",
      "\n",
      "Empty DataFrame\n",
      "Columns: [counts]\n",
      "Index: []\n",
      "完整的数值分布：\n",
      "\n",
      "4.0     119075\n",
      "5.0     109894\n",
      "3.0     108133\n",
      "6.0      89728\n",
      "2.0      71852\n",
      "7.0      69335\n",
      "8.0      51305\n",
      "9.0      36482\n",
      "16.5     35124\n",
      "1.0      27383\n",
      "10.0     25771\n",
      "11.0     17990\n",
      "12.0     12871\n",
      "13.0      9176\n",
      "14.0      6795\n",
      "15.0      4981\n",
      "0.0       4105\n",
      "Name: n9, dtype: int64\n",
      "取值<=1\n",
      "\n",
      "Empty DataFrame\n",
      "Columns: [counts]\n",
      "Index: []\n",
      "完整的数值分布：\n",
      "\n",
      "9.0     68488\n",
      "10.0    66837\n",
      "8.0     65696\n",
      "11.0    62011\n",
      "7.0     58888\n",
      "12.0    55715\n",
      "6.0     48607\n",
      "13.0    48497\n",
      "14.0    41207\n",
      "26.5    38869\n",
      "5.0     34931\n",
      "15.0    34750\n",
      "16.0    29321\n",
      "17.0    24082\n",
      "4.0     21145\n",
      "18.0    20016\n",
      "19.0    16637\n",
      "20.0    13301\n",
      "21.0    10657\n",
      "3.0      9278\n",
      "22.0     9080\n",
      "23.0     7170\n",
      "24.0     5908\n",
      "25.0     4753\n",
      "2.0      2977\n",
      "1.0       766\n",
      "0.0       413\n",
      "Name: n10, dtype: int64\n",
      "取值<=1\n",
      "\n",
      "Empty DataFrame\n",
      "Columns: [counts]\n",
      "Index: []\n",
      "完整的数值分布：\n",
      "\n",
      "0.0    764552\n",
      "1.0     35448\n",
      "Name: n11, dtype: int64\n",
      "取值<=1\n",
      "\n",
      "Empty DataFrame\n",
      "Columns: [counts]\n",
      "Index: []\n",
      "完整的数值分布：\n",
      "\n",
      "0.0    765316\n",
      "1.0     34684\n",
      "Name: n12, dtype: int64\n",
      "取值<=1\n",
      "\n",
      "Empty DataFrame\n",
      "Columns: [counts]\n",
      "Index: []\n",
      "完整的数值分布：\n",
      "\n",
      "0.0    717591\n",
      "1.0     82409\n",
      "Name: n13, dtype: int64\n",
      "取值<=1\n",
      "\n",
      "Empty DataFrame\n",
      "Columns: [counts]\n",
      "Index: []\n",
      "完整的数值分布：\n",
      "\n",
      "1.0    188769\n",
      "2.0    172991\n",
      "0.0    129310\n",
      "3.0    125933\n",
      "4.0     75116\n",
      "7.0     51838\n",
      "5.0     37351\n",
      "6.0     18692\n",
      "Name: n14, dtype: int64\n",
      "取值<=1\n",
      "\n",
      "Empty DataFrame\n",
      "Columns: [counts]\n",
      "Index: []\n"
     ]
    }
   ],
   "source": [
    "\"\"\"\n",
    "n0-n14都没有明显的rare value\n",
    "\"\"\"\n",
    "for idx in range(15):\n",
    "    Rare_Get_Value_Counts(train_X, col = 'n'+str(idx))"
   ]
  },
  {
   "cell_type": "markdown",
   "id": "0305e069",
   "metadata": {},
   "source": [
    "### issueDate_year"
   ]
  },
  {
   "cell_type": "code",
   "execution_count": 379,
   "id": "ddedb335",
   "metadata": {},
   "outputs": [
    {
     "name": "stdout",
     "output_type": "stream",
     "text": [
      "完整的数值分布：\n",
      "\n",
      "2015    223387\n",
      "2016    173907\n",
      "2014    133087\n",
      "2017    100736\n",
      "2013     79943\n",
      "2018     33415\n",
      "2012     31895\n",
      "2011     12924\n",
      "2010      6861\n",
      "2009      2781\n",
      "2008       907\n",
      "2007       157\n",
      "Name: issueDate_year, dtype: int64\n",
      "取值<=1\n",
      "\n",
      "Empty DataFrame\n",
      "Columns: [counts]\n",
      "Index: []\n"
     ]
    }
   ],
   "source": [
    "Rare_Get_Value_Counts(train_X, col = 'issueDate_year')"
   ]
  },
  {
   "cell_type": "markdown",
   "id": "eb965aab",
   "metadata": {},
   "source": [
    "### issueDate_month"
   ]
  },
  {
   "cell_type": "code",
   "execution_count": 380,
   "id": "df8f339f",
   "metadata": {},
   "outputs": [
    {
     "name": "stdout",
     "output_type": "stream",
     "text": [
      "完整的数值分布：\n",
      "\n",
      "10    81035\n",
      "7     76969\n",
      "3     74774\n",
      "11    67785\n",
      "1     67280\n",
      "8     66842\n",
      "4     65147\n",
      "5     62159\n",
      "12    62121\n",
      "2     62108\n",
      "6     59689\n",
      "9     54091\n",
      "Name: issueDate_month, dtype: int64\n",
      "取值<=1\n",
      "\n",
      "Empty DataFrame\n",
      "Columns: [counts]\n",
      "Index: []\n"
     ]
    }
   ],
   "source": [
    "Rare_Get_Value_Counts(train_X, col = 'issueDate_month')"
   ]
  },
  {
   "cell_type": "markdown",
   "id": "ba91e67a",
   "metadata": {},
   "source": [
    "### earliesCreditLine_year"
   ]
  },
  {
   "cell_type": "code",
   "execution_count": 389,
   "id": "e633325f",
   "metadata": {},
   "outputs": [
    {
     "ename": "KeyError",
     "evalue": "'earliesCreditLine_year'",
     "output_type": "error",
     "traceback": [
      "\u001b[1;31m---------------------------------------------------------------------------\u001b[0m",
      "\u001b[1;31mKeyError\u001b[0m                                  Traceback (most recent call last)",
      "File \u001b[1;32mE:\\anaconda\\envs\\kaggle\\lib\\site-packages\\pandas\\core\\indexes\\base.py:3803\u001b[0m, in \u001b[0;36mIndex.get_loc\u001b[1;34m(self, key, method, tolerance)\u001b[0m\n\u001b[0;32m   3802\u001b[0m \u001b[38;5;28;01mtry\u001b[39;00m:\n\u001b[1;32m-> 3803\u001b[0m     \u001b[38;5;28;01mreturn\u001b[39;00m \u001b[38;5;28;43mself\u001b[39;49m\u001b[38;5;241;43m.\u001b[39;49m\u001b[43m_engine\u001b[49m\u001b[38;5;241;43m.\u001b[39;49m\u001b[43mget_loc\u001b[49m\u001b[43m(\u001b[49m\u001b[43mcasted_key\u001b[49m\u001b[43m)\u001b[49m\n\u001b[0;32m   3804\u001b[0m \u001b[38;5;28;01mexcept\u001b[39;00m \u001b[38;5;167;01mKeyError\u001b[39;00m \u001b[38;5;28;01mas\u001b[39;00m err:\n",
      "File \u001b[1;32mE:\\anaconda\\envs\\kaggle\\lib\\site-packages\\pandas\\_libs\\index.pyx:138\u001b[0m, in \u001b[0;36mpandas._libs.index.IndexEngine.get_loc\u001b[1;34m()\u001b[0m\n",
      "File \u001b[1;32mE:\\anaconda\\envs\\kaggle\\lib\\site-packages\\pandas\\_libs\\index.pyx:165\u001b[0m, in \u001b[0;36mpandas._libs.index.IndexEngine.get_loc\u001b[1;34m()\u001b[0m\n",
      "File \u001b[1;32mpandas\\_libs\\hashtable_class_helper.pxi:5745\u001b[0m, in \u001b[0;36mpandas._libs.hashtable.PyObjectHashTable.get_item\u001b[1;34m()\u001b[0m\n",
      "File \u001b[1;32mpandas\\_libs\\hashtable_class_helper.pxi:5753\u001b[0m, in \u001b[0;36mpandas._libs.hashtable.PyObjectHashTable.get_item\u001b[1;34m()\u001b[0m\n",
      "\u001b[1;31mKeyError\u001b[0m: 'earliesCreditLine_year'",
      "\nThe above exception was the direct cause of the following exception:\n",
      "\u001b[1;31mKeyError\u001b[0m                                  Traceback (most recent call last)",
      "Input \u001b[1;32mIn [389]\u001b[0m, in \u001b[0;36m<cell line: 1>\u001b[1;34m()\u001b[0m\n\u001b[1;32m----> 1\u001b[0m train_X[\u001b[38;5;124m'\u001b[39m\u001b[38;5;124mearliesCreditLine_year\u001b[39m\u001b[38;5;124m'\u001b[39m] \u001b[38;5;241m=\u001b[39m \u001b[43mpd\u001b[49m\u001b[38;5;241;43m.\u001b[39;49m\u001b[43mread_csv\u001b[49m\u001b[43m(\u001b[49m\u001b[38;5;124;43m\"\u001b[39;49m\u001b[38;5;124;43m./train.csv\u001b[39;49m\u001b[38;5;124;43m\"\u001b[39;49m\u001b[43m)\u001b[49m\u001b[43m[\u001b[49m\u001b[38;5;124;43m'\u001b[39;49m\u001b[38;5;124;43mearliesCreditLine_year\u001b[39;49m\u001b[38;5;124;43m'\u001b[39;49m\u001b[43m]\u001b[49m\n",
      "File \u001b[1;32mE:\\anaconda\\envs\\kaggle\\lib\\site-packages\\pandas\\core\\frame.py:3804\u001b[0m, in \u001b[0;36mDataFrame.__getitem__\u001b[1;34m(self, key)\u001b[0m\n\u001b[0;32m   3802\u001b[0m \u001b[38;5;28;01mif\u001b[39;00m \u001b[38;5;28mself\u001b[39m\u001b[38;5;241m.\u001b[39mcolumns\u001b[38;5;241m.\u001b[39mnlevels \u001b[38;5;241m>\u001b[39m \u001b[38;5;241m1\u001b[39m:\n\u001b[0;32m   3803\u001b[0m     \u001b[38;5;28;01mreturn\u001b[39;00m \u001b[38;5;28mself\u001b[39m\u001b[38;5;241m.\u001b[39m_getitem_multilevel(key)\n\u001b[1;32m-> 3804\u001b[0m indexer \u001b[38;5;241m=\u001b[39m \u001b[38;5;28;43mself\u001b[39;49m\u001b[38;5;241;43m.\u001b[39;49m\u001b[43mcolumns\u001b[49m\u001b[38;5;241;43m.\u001b[39;49m\u001b[43mget_loc\u001b[49m\u001b[43m(\u001b[49m\u001b[43mkey\u001b[49m\u001b[43m)\u001b[49m\n\u001b[0;32m   3805\u001b[0m \u001b[38;5;28;01mif\u001b[39;00m is_integer(indexer):\n\u001b[0;32m   3806\u001b[0m     indexer \u001b[38;5;241m=\u001b[39m [indexer]\n",
      "File \u001b[1;32mE:\\anaconda\\envs\\kaggle\\lib\\site-packages\\pandas\\core\\indexes\\base.py:3805\u001b[0m, in \u001b[0;36mIndex.get_loc\u001b[1;34m(self, key, method, tolerance)\u001b[0m\n\u001b[0;32m   3803\u001b[0m     \u001b[38;5;28;01mreturn\u001b[39;00m \u001b[38;5;28mself\u001b[39m\u001b[38;5;241m.\u001b[39m_engine\u001b[38;5;241m.\u001b[39mget_loc(casted_key)\n\u001b[0;32m   3804\u001b[0m \u001b[38;5;28;01mexcept\u001b[39;00m \u001b[38;5;167;01mKeyError\u001b[39;00m \u001b[38;5;28;01mas\u001b[39;00m err:\n\u001b[1;32m-> 3805\u001b[0m     \u001b[38;5;28;01mraise\u001b[39;00m \u001b[38;5;167;01mKeyError\u001b[39;00m(key) \u001b[38;5;28;01mfrom\u001b[39;00m \u001b[38;5;21;01merr\u001b[39;00m\n\u001b[0;32m   3806\u001b[0m \u001b[38;5;28;01mexcept\u001b[39;00m \u001b[38;5;167;01mTypeError\u001b[39;00m:\n\u001b[0;32m   3807\u001b[0m     \u001b[38;5;66;03m# If we have a listlike key, _check_indexing_error will raise\u001b[39;00m\n\u001b[0;32m   3808\u001b[0m     \u001b[38;5;66;03m#  InvalidIndexError. Otherwise we fall through and re-raise\u001b[39;00m\n\u001b[0;32m   3809\u001b[0m     \u001b[38;5;66;03m#  the TypeError.\u001b[39;00m\n\u001b[0;32m   3810\u001b[0m     \u001b[38;5;28mself\u001b[39m\u001b[38;5;241m.\u001b[39m_check_indexing_error(key)\n",
      "\u001b[1;31mKeyError\u001b[0m: 'earliesCreditLine_year'"
     ]
    }
   ],
   "source": [
    "train_X['earliesCreditLine_year'] = pd.read_csv(\"./train.csv\")['earliesCreditLine_year']"
   ]
  },
  {
   "cell_type": "code",
   "execution_count": 388,
   "id": "67d11775",
   "metadata": {
    "scrolled": true
   },
   "outputs": [
    {
     "name": "stdout",
     "output_type": "stream",
     "text": [
      "完整的数值分布：\n",
      "\n",
      "2001.0    53194\n",
      "2002.0    51060\n",
      "2003.0    50649\n",
      "2000.0    50624\n",
      "2004.0    49280\n",
      "1999.0    45917\n",
      "2005.0    44046\n",
      "1998.0    38850\n",
      "2006.0    37924\n",
      "1997.0    33091\n",
      "1996.0    32465\n",
      "1995.0    30501\n",
      "2007.0    28464\n",
      "1994.0    27332\n",
      "1993.0    22395\n",
      "2008.0    18252\n",
      "1992.0    15892\n",
      "1990.0    15549\n",
      "1991.0    14687\n",
      "1989.0    14163\n",
      "1988.0    11813\n",
      "2009.0    11414\n",
      "2010.0    10613\n",
      "1987.0    10591\n",
      "2011.0     9792\n",
      "1986.0     9205\n",
      "1985.0     8059\n",
      "1984.0     7286\n",
      "2012.0     6628\n",
      "1983.0     5913\n",
      "1982.0     4535\n",
      "2013.0     3525\n",
      "1981.0     3371\n",
      "1979.0     2944\n",
      "1978.0     2872\n",
      "1980.0     2760\n",
      "1977.0     2393\n",
      "1976.0     1820\n",
      "2014.0     1475\n",
      "1975.0     1427\n",
      "1974.0     1226\n",
      "1973.0     1129\n",
      "1972.0      964\n",
      "1971.0      643\n",
      "1970.0      588\n",
      "1969.0      582\n",
      "1968.0      431\n",
      "1967.0      382\n",
      "1966.0      238\n",
      "1965.0      234\n",
      "2015.0      201\n",
      "1964.0      170\n",
      "1963.0      117\n",
      "1962.0       83\n",
      "1960.0       58\n",
      "1961.0       53\n",
      "1959.0       40\n",
      "1958.0       24\n",
      "1957.0       15\n",
      "1956.0       11\n",
      "Name: earliesCreditLine_year, dtype: int64\n",
      "取值<=10\n",
      "\n",
      "Empty DataFrame\n",
      "Columns: [counts]\n",
      "Index: []\n"
     ]
    }
   ],
   "source": [
    "Rare_Get_Value_Counts(train_X, col = 'earliesCreditLine_year', num = 10)"
   ]
  },
  {
   "cell_type": "code",
   "execution_count": 386,
   "id": "fe00b513",
   "metadata": {},
   "outputs": [
    {
     "data": {
      "text/plain": [
       "0         2001.0\n",
       "1         2002.0\n",
       "2         2006.0\n",
       "3         1999.0\n",
       "4         1977.0\n",
       "           ...  \n",
       "799995    2011.0\n",
       "799996    1989.0\n",
       "799997    2002.0\n",
       "799998    1994.0\n",
       "799999    2002.0\n",
       "Name: earliesCreditLine_year, Length: 800000, dtype: float64"
      ]
     },
     "execution_count": 386,
     "metadata": {},
     "output_type": "execute_result"
    }
   ],
   "source": [
    "Rare_Value_Impute(train_X, col = 'earliesCreditLine_year', num = 10)"
   ]
  },
  {
   "cell_type": "markdown",
   "id": "e7908cca",
   "metadata": {},
   "source": [
    "### earliesCreditLine_month"
   ]
  },
  {
   "cell_type": "code",
   "execution_count": 383,
   "id": "369f1b6b",
   "metadata": {},
   "outputs": [
    {
     "name": "stdout",
     "output_type": "stream",
     "text": [
      "完整的数值分布：\n",
      "\n",
      "8     79208\n",
      "9     77698\n",
      "10    76726\n",
      "11    70407\n",
      "3     65035\n",
      "12    64493\n",
      "7     64440\n",
      "5     62440\n",
      "6     61858\n",
      "4     61015\n",
      "1     58605\n",
      "2     58075\n",
      "Name: earliesCreditLine_month, dtype: int64\n",
      "取值<=1\n",
      "\n",
      "Empty DataFrame\n",
      "Columns: [counts]\n",
      "Index: []\n"
     ]
    }
   ],
   "source": [
    "Rare_Get_Value_Counts(train_X, col = 'earliesCreditLine_month')"
   ]
  },
  {
   "cell_type": "code",
   "execution_count": 13,
   "id": "e70d07f3",
   "metadata": {},
   "outputs": [
    {
     "data": {
      "text/plain": [
       "Index(['id', 'loanAmnt', 'term', 'interestRate', 'installment',\n",
       "       'employmentTitle', 'employmentLength', 'homeOwnership', 'annualIncome',\n",
       "       'verificationStatus', 'isDefault', 'purpose', 'postCode', 'regionCode',\n",
       "       'dti', 'delinquency_2years', 'ficoRangeLow', 'ficoRangeHigh', 'openAcc',\n",
       "       'pubRec', 'pubRecBankruptcies', 'revolBal', 'revolUtil', 'totalAcc',\n",
       "       'initialListStatus', 'applicationType', 'title', 'policyCode', 'n0',\n",
       "       'n1', 'n2', 'n3', 'n4', 'n5', 'n6', 'n7', 'n8', 'n9', 'n10', 'n11',\n",
       "       'n12', 'n13', 'n14', 'issueDate_year', 'issueDate_month',\n",
       "       'earliesCreditLine_year', 'earliesCreditLine_month'],\n",
       "      dtype='object')"
      ]
     },
     "execution_count": 13,
     "metadata": {},
     "output_type": "execute_result"
    }
   ],
   "source": [
    "train_X.columns"
   ]
  },
  {
   "cell_type": "code",
   "execution_count": null,
   "id": "dd2750b4",
   "metadata": {},
   "outputs": [],
   "source": []
  },
  {
   "cell_type": "code",
   "execution_count": null,
   "id": "43741997",
   "metadata": {},
   "outputs": [],
   "source": [
    "\n",
    "\n"
   ]
  },
  {
   "cell_type": "code",
   "execution_count": null,
   "id": "5d9fca1a",
   "metadata": {},
   "outputs": [],
   "source": []
  },
  {
   "cell_type": "code",
   "execution_count": null,
   "id": "2180f09f",
   "metadata": {},
   "outputs": [],
   "source": []
  }
 ],
 "metadata": {
  "kernelspec": {
   "display_name": "Python 3 (ipykernel)",
   "language": "python",
   "name": "python3"
  },
  "language_info": {
   "codemirror_mode": {
    "name": "ipython",
    "version": 3
   },
   "file_extension": ".py",
   "mimetype": "text/x-python",
   "name": "python",
   "nbconvert_exporter": "python",
   "pygments_lexer": "ipython3",
   "version": "3.9.13"
  }
 },
 "nbformat": 4,
 "nbformat_minor": 5
}
