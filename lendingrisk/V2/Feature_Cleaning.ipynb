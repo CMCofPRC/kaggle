{
 "cells": [
  {
   "cell_type": "code",
   "execution_count": 1,
   "id": "d494c647",
   "metadata": {},
   "outputs": [
    {
     "data": {
      "text/html": [
       "\n",
       "<style>\n",
       "    div#notebook-container    { width: 100%; }\n",
       "    div#menubar-container     { width: 90%; }\n",
       "    div#maintoolbar-container { width: 99%; }\n",
       "    div#maintoolbar{background:#e5e5e5;}\n",
       "</style>\n"
      ],
      "text/plain": [
       "<IPython.core.display.HTML object>"
      ]
     },
     "metadata": {},
     "output_type": "display_data"
    },
    {
     "data": {
      "text/html": [
       "\n",
       "<style>\n",
       "    div#notebook-container    { width: 100%; }\n",
       "    div#menubar-container     { width: 90%; }\n",
       "    div#maintoolbar-container { width: 99%; }\n",
       "    div#maintoolbar{background:#e5e5e5;}\n",
       "</style>\n"
      ],
      "text/plain": [
       "<IPython.core.display.HTML object>"
      ]
     },
     "metadata": {},
     "output_type": "display_data"
    },
    {
     "data": {
      "text/html": [
       "\n",
       "<style>\n",
       "    div#notebook-container    { width: 100%; }\n",
       "    div#menubar-container     { width: 90%; }\n",
       "    div#maintoolbar-container { width: 99%; }\n",
       "    div#maintoolbar{background:#e5e5e5;}\n",
       "</style>\n"
      ],
      "text/plain": [
       "<IPython.core.display.HTML object>"
      ]
     },
     "metadata": {},
     "output_type": "display_data"
    }
   ],
   "source": [
    "import os\n",
    "import sys\n",
    "import warnings\n",
    "import gc\n",
    "import random\n",
    "\n",
    "import pandas as pd\n",
    "import numpy as np\n",
    "import matplotlib.pyplot as plt\n",
    "import seaborn as sns\n",
    "from sklearn.preprocessing import LabelEncoder\n",
    "\n",
    "%run Feature_EDA_utils.ipynb\n",
    "%run Feature_Cleaning_utils.ipynb\n",
    "%run Page_Style.ipynb\n",
    "warnings.filterwarnings(\"ignore\")"
   ]
  },
  {
   "cell_type": "markdown",
   "id": "e96ad549",
   "metadata": {},
   "source": [
    "## load dataset"
   ]
  },
  {
   "cell_type": "code",
   "execution_count": 2,
   "id": "17c63166",
   "metadata": {},
   "outputs": [],
   "source": [
    "train_X = pd.read_csv(\"./train.csv\")"
   ]
  },
  {
   "cell_type": "code",
   "execution_count": 3,
   "id": "789d9d31",
   "metadata": {},
   "outputs": [],
   "source": [
    "cate_cols, num_cols = Get_Dtype(train_X)"
   ]
  },
  {
   "cell_type": "code",
   "execution_count": 4,
   "id": "e2c07874",
   "metadata": {},
   "outputs": [
    {
     "name": "stdout",
     "output_type": "stream",
     "text": [
      "['id', 'loanAmnt', 'term', 'interestRate', 'installment', 'employmentTitle', 'homeOwnership', 'annualIncome', 'verificationStatus', 'isDefault', 'purpose', 'postCode', 'regionCode', 'dti', 'delinquency_2years', 'ficoRangeLow', 'ficoRangeHigh', 'openAcc', 'pubRec', 'pubRecBankruptcies', 'revolBal', 'revolUtil', 'totalAcc', 'initialListStatus', 'applicationType', 'title', 'policyCode', 'n0', 'n1', 'n2', 'n3', 'n4', 'n5', 'n6', 'n7', 'n8', 'n9', 'n10', 'n11', 'n12', 'n13', 'n14']\n",
      "['grade', 'subGrade', 'employmentLength', 'issueDate', 'earliesCreditLine']\n"
     ]
    }
   ],
   "source": [
    "print(num_cols)\n",
    "print(cate_cols)"
   ]
  },
  {
   "cell_type": "code",
   "execution_count": 5,
   "id": "69826026",
   "metadata": {},
   "outputs": [
    {
     "data": {
      "text/plain": [
       "['grade', 'subGrade', 'employmentLength', 'issueDate', 'earliesCreditLine']"
      ]
     },
     "execution_count": 5,
     "metadata": {},
     "output_type": "execute_result"
    }
   ],
   "source": [
    "cate_cols"
   ]
  },
  {
   "cell_type": "code",
   "execution_count": 6,
   "id": "4d0a4d42",
   "metadata": {},
   "outputs": [
    {
     "data": {
      "text/plain": [
       "(B    233690\n",
       " C    227118\n",
       " A    139661\n",
       " D    119453\n",
       " E     55661\n",
       " F     19053\n",
       " G      5364\n",
       " Name: grade, dtype: int64,\n",
       " 0)"
      ]
     },
     "execution_count": 6,
     "metadata": {},
     "output_type": "execute_result"
    }
   ],
   "source": [
    "train_X['grade'].value_counts(), train_X['grade'].isnull().sum()"
   ]
  },
  {
   "cell_type": "code",
   "execution_count": 7,
   "id": "a90b6cc5",
   "metadata": {},
   "outputs": [],
   "source": [
    "enc_label = LabelEncoder()\n",
    "train_X['grade'] = enc_label.fit_transform(train_X[['grade']])"
   ]
  },
  {
   "cell_type": "code",
   "execution_count": 8,
   "id": "f2ec7455",
   "metadata": {
    "scrolled": true
   },
   "outputs": [
    {
     "data": {
      "text/plain": [
       "(C1    50763\n",
       " B4    49516\n",
       " B5    48965\n",
       " B3    48600\n",
       " C2    47068\n",
       " C3    44751\n",
       " C4    44272\n",
       " B2    44227\n",
       " B1    42382\n",
       " C5    40264\n",
       " A5    38045\n",
       " A4    30928\n",
       " D1    30538\n",
       " D2    26528\n",
       " A1    25909\n",
       " D3    23410\n",
       " A3    22655\n",
       " A2    22124\n",
       " D4    21139\n",
       " D5    17838\n",
       " E1    14064\n",
       " E2    12746\n",
       " E3    10925\n",
       " E4     9273\n",
       " E5     8653\n",
       " F1     5925\n",
       " F2     4340\n",
       " F3     3577\n",
       " F4     2859\n",
       " F5     2352\n",
       " G1     1759\n",
       " G2     1231\n",
       " G3      978\n",
       " G4      751\n",
       " G5      645\n",
       " Name: subGrade, dtype: int64,\n",
       " 0)"
      ]
     },
     "execution_count": 8,
     "metadata": {},
     "output_type": "execute_result"
    }
   ],
   "source": [
    "train_X['subGrade'].value_counts(), train_X['subGrade'].isnull().sum()"
   ]
  },
  {
   "cell_type": "code",
   "execution_count": 9,
   "id": "25922430",
   "metadata": {},
   "outputs": [],
   "source": [
    "enc_label = LabelEncoder()\n",
    "train_X['subGrade'] = enc_label.fit_transform(train_X[['subGrade']])"
   ]
  },
  {
   "cell_type": "code",
   "execution_count": 10,
   "id": "f3f829cf",
   "metadata": {},
   "outputs": [
    {
     "data": {
      "text/plain": [
       "2016-03-01    29066\n",
       "2015-10-01    25525\n",
       "2015-07-01    24496\n",
       "2015-12-01    23245\n",
       "2014-10-01    21461\n",
       "              ...  \n",
       "2007-08-01       23\n",
       "2007-07-01       21\n",
       "2008-09-01       19\n",
       "2007-09-01        7\n",
       "2007-06-01        1\n",
       "Name: issueDate, Length: 139, dtype: int64"
      ]
     },
     "execution_count": 10,
     "metadata": {},
     "output_type": "execute_result"
    }
   ],
   "source": [
    "train_X['issueDate'].value_counts()"
   ]
  },
  {
   "cell_type": "code",
   "execution_count": 11,
   "id": "5aeb4c39",
   "metadata": {},
   "outputs": [],
   "source": [
    "train_X['issueDate_year'] = pd.DatetimeIndex(train_X['issueDate']).year\n",
    "train_X['issueDate_month'] = pd.DatetimeIndex(train_X['issueDate']).month"
   ]
  },
  {
   "cell_type": "code",
   "execution_count": 12,
   "id": "d8a6d94f",
   "metadata": {},
   "outputs": [
    {
     "data": {
      "text/plain": [
       "Aug-2001    5567\n",
       "Sep-2003    5403\n",
       "Aug-2002    5403\n",
       "Oct-2001    5258\n",
       "Aug-2000    5246\n",
       "            ... \n",
       "Feb-1960       1\n",
       "Sep-1957       1\n",
       "Jul-1955       1\n",
       "May-1960       1\n",
       "Jan-1946       1\n",
       "Name: earliesCreditLine, Length: 720, dtype: int64"
      ]
     },
     "execution_count": 12,
     "metadata": {},
     "output_type": "execute_result"
    }
   ],
   "source": [
    "train_X['earliesCreditLine'].value_counts()"
   ]
  },
  {
   "cell_type": "code",
   "execution_count": 13,
   "id": "615d51db",
   "metadata": {},
   "outputs": [],
   "source": [
    "train_X['earliesCreditLine_year'] = pd.DatetimeIndex(train_X['earliesCreditLine']).year\n",
    "train_X['earliesCreditLine_month'] = pd.DatetimeIndex(train_X['earliesCreditLine']).month"
   ]
  },
  {
   "cell_type": "code",
   "execution_count": 14,
   "id": "25be8301",
   "metadata": {},
   "outputs": [],
   "source": [
    "label_enc = LabelEncoder()\n",
    "train_X['employmentLength'] = label_enc.fit_transform(train_X[['employmentLength']])\n",
    "train_X['employmentLength'] = train_X['employmentLength'].apply(lambda x: np.nan if x == 11 else x)"
   ]
  },
  {
   "cell_type": "code",
   "execution_count": 15,
   "id": "ad489069",
   "metadata": {},
   "outputs": [],
   "source": [
    "train_X.drop(labels = ['grade', 'subGrade', 'issueDate', 'earliesCreditLine'], axis = 1, inplace = True)"
   ]
  },
  {
   "cell_type": "markdown",
   "id": "94c50a96",
   "metadata": {},
   "source": [
    "## handle missing data \n"
   ]
  },
  {
   "cell_type": "code",
   "execution_count": 16,
   "id": "53b30a7f",
   "metadata": {
    "scrolled": true
   },
   "outputs": [
    {
     "name": "stdout",
     "output_type": "stream",
     "text": [
      "特征：n0\n",
      "缺失总数：40270\n",
      "缺失比例：5.03375%\n",
      "缺失值所在列id，如下：\n"
     ]
    },
    {
     "data": {
      "text/plain": [
       "[1,\n",
       " 30,\n",
       " 63,\n",
       " 91,\n",
       " 92,\n",
       " 120,\n",
       " 137,\n",
       " 154,\n",
       " 161,\n",
       " 174,\n",
       " 192,\n",
       " 205,\n",
       " 271,\n",
       " 280,\n",
       " 283,\n",
       " 305,\n",
       " 307,\n",
       " 318,\n",
       " 361,\n",
       " 373,\n",
       " 374,\n",
       " 375,\n",
       " 453,\n",
       " 474,\n",
       " 476,\n",
       " 509,\n",
       " 510,\n",
       " 513,\n",
       " 524,\n",
       " 531,\n",
       " 546,\n",
       " 584,\n",
       " 611,\n",
       " 662,\n",
       " 666,\n",
       " 683,\n",
       " 685,\n",
       " 689,\n",
       " 702,\n",
       " 712,\n",
       " 713,\n",
       " 805,\n",
       " 860,\n",
       " 910,\n",
       " 953,\n",
       " 1036,\n",
       " 1042,\n",
       " 1075,\n",
       " 1112,\n",
       " 1120,\n",
       " 1130,\n",
       " 1132,\n",
       " 1133,\n",
       " 1141,\n",
       " 1156,\n",
       " 1170,\n",
       " 1180,\n",
       " 1192,\n",
       " 1193,\n",
       " 1239,\n",
       " 1291,\n",
       " 1315,\n",
       " 1324,\n",
       " 1352,\n",
       " 1367,\n",
       " 1383,\n",
       " 1405,\n",
       " 1435,\n",
       " 1465,\n",
       " 1499,\n",
       " 1547,\n",
       " 1591,\n",
       " 1597,\n",
       " 1602,\n",
       " 1646,\n",
       " 1666,\n",
       " 1679,\n",
       " 1680,\n",
       " 1687,\n",
       " 1694,\n",
       " 1697,\n",
       " 1704,\n",
       " 1707,\n",
       " 1721,\n",
       " 1727,\n",
       " 1734,\n",
       " 1743,\n",
       " 1751,\n",
       " 1754,\n",
       " 1755,\n",
       " 1761,\n",
       " 1770,\n",
       " 1772,\n",
       " 1784,\n",
       " 1815,\n",
       " 1874,\n",
       " 1885,\n",
       " 1891,\n",
       " 1915,\n",
       " 1964,\n",
       " 1980,\n",
       " 2005,\n",
       " 2009,\n",
       " 2040,\n",
       " 2047,\n",
       " 2050,\n",
       " 2059,\n",
       " 2075,\n",
       " 2219,\n",
       " 2264,\n",
       " 2285,\n",
       " 2326,\n",
       " 2352,\n",
       " 2400,\n",
       " 2413,\n",
       " 2417,\n",
       " 2479,\n",
       " 2485,\n",
       " 2546,\n",
       " 2551,\n",
       " 2555,\n",
       " 2562,\n",
       " 2563,\n",
       " 2652,\n",
       " 2653,\n",
       " 2742,\n",
       " 2745,\n",
       " 2750,\n",
       " 2755,\n",
       " 2758,\n",
       " 2767,\n",
       " 2777,\n",
       " 2781,\n",
       " 2823,\n",
       " 2854,\n",
       " 2864,\n",
       " 2877,\n",
       " 2887,\n",
       " 2908,\n",
       " 2944,\n",
       " 2988,\n",
       " 3008,\n",
       " 3010,\n",
       " 3018,\n",
       " 3053,\n",
       " 3055,\n",
       " 3092,\n",
       " 3140,\n",
       " 3145,\n",
       " 3146,\n",
       " 3224,\n",
       " 3240,\n",
       " 3308,\n",
       " 3312,\n",
       " 3334,\n",
       " 3340,\n",
       " 3381,\n",
       " 3393,\n",
       " 3409,\n",
       " 3414,\n",
       " 3451,\n",
       " 3452,\n",
       " 3485,\n",
       " 3487,\n",
       " 3519,\n",
       " 3522,\n",
       " 3549,\n",
       " 3563,\n",
       " 3564,\n",
       " 3577,\n",
       " 3582,\n",
       " 3662,\n",
       " 3668,\n",
       " 3685,\n",
       " 3696,\n",
       " 3716,\n",
       " 3794,\n",
       " 3796,\n",
       " 3797,\n",
       " 3803,\n",
       " 3809,\n",
       " 3823,\n",
       " 3828,\n",
       " 3837,\n",
       " 3846,\n",
       " 3869,\n",
       " 3875,\n",
       " 3899,\n",
       " 3909,\n",
       " 3915,\n",
       " 4006,\n",
       " 4038,\n",
       " 4073,\n",
       " 4079,\n",
       " 4093,\n",
       " 4130,\n",
       " 4145,\n",
       " 4177,\n",
       " 4181,\n",
       " 4225,\n",
       " 4238,\n",
       " 4242,\n",
       " 4255,\n",
       " 4265,\n",
       " 4271,\n",
       " 4290,\n",
       " 4295,\n",
       " 4317,\n",
       " 4336,\n",
       " 4340,\n",
       " 4345,\n",
       " 4358,\n",
       " 4360,\n",
       " 4396,\n",
       " 4415,\n",
       " 4427,\n",
       " 4440,\n",
       " 4444,\n",
       " 4508,\n",
       " 4538,\n",
       " 4542,\n",
       " 4545,\n",
       " 4551,\n",
       " 4621,\n",
       " 4622,\n",
       " 4623,\n",
       " 4663,\n",
       " 4672,\n",
       " 4681,\n",
       " 4684,\n",
       " 4743,\n",
       " 4767,\n",
       " 4773,\n",
       " 4781,\n",
       " 4809,\n",
       " 4818,\n",
       " 4824,\n",
       " 4840,\n",
       " 4844,\n",
       " 4853,\n",
       " 4854,\n",
       " 4883,\n",
       " 4893,\n",
       " 4901,\n",
       " 4956,\n",
       " 5043,\n",
       " 5058,\n",
       " 5077,\n",
       " 5107,\n",
       " 5109,\n",
       " 5134,\n",
       " 5135,\n",
       " 5176,\n",
       " 5188,\n",
       " 5190,\n",
       " 5205,\n",
       " 5210,\n",
       " 5237,\n",
       " 5248,\n",
       " 5278,\n",
       " 5280,\n",
       " 5343,\n",
       " 5347,\n",
       " 5364,\n",
       " 5379,\n",
       " 5392,\n",
       " 5395,\n",
       " 5421,\n",
       " 5452,\n",
       " 5461,\n",
       " 5481,\n",
       " 5503,\n",
       " 5537,\n",
       " 5601,\n",
       " 5603,\n",
       " 5626,\n",
       " 5635,\n",
       " 5653,\n",
       " 5656,\n",
       " 5665,\n",
       " 5667,\n",
       " 5687,\n",
       " 5702,\n",
       " 5705,\n",
       " 5807,\n",
       " 5822,\n",
       " 5865,\n",
       " 5868,\n",
       " 5884,\n",
       " 5925,\n",
       " 5940,\n",
       " 5999,\n",
       " 6001,\n",
       " 6016,\n",
       " 6035,\n",
       " 6097,\n",
       " 6117,\n",
       " 6128,\n",
       " 6145,\n",
       " 6146,\n",
       " 6162,\n",
       " 6188,\n",
       " 6191,\n",
       " 6205,\n",
       " 6244,\n",
       " 6281,\n",
       " 6311,\n",
       " 6347,\n",
       " 6371,\n",
       " 6390,\n",
       " 6427,\n",
       " 6432,\n",
       " 6472,\n",
       " 6506,\n",
       " 6507,\n",
       " 6513,\n",
       " 6522,\n",
       " 6550,\n",
       " 6558,\n",
       " 6574,\n",
       " 6615,\n",
       " 6657,\n",
       " 6674,\n",
       " 6725,\n",
       " 6734,\n",
       " 6752,\n",
       " 6765,\n",
       " 6768,\n",
       " 6771,\n",
       " 6780,\n",
       " 6791,\n",
       " 6835,\n",
       " 6859,\n",
       " 6901,\n",
       " 6927,\n",
       " 6935,\n",
       " 6941,\n",
       " 6963,\n",
       " 6966,\n",
       " 6976,\n",
       " 6998,\n",
       " 7003,\n",
       " 7019,\n",
       " 7059,\n",
       " 7067,\n",
       " 7093,\n",
       " 7101,\n",
       " 7141,\n",
       " 7143,\n",
       " 7160,\n",
       " 7181,\n",
       " 7184,\n",
       " 7203,\n",
       " 7216,\n",
       " 7272,\n",
       " 7276,\n",
       " 7318,\n",
       " 7349,\n",
       " 7359,\n",
       " 7366,\n",
       " 7421,\n",
       " 7472,\n",
       " 7508,\n",
       " 7512,\n",
       " 7534,\n",
       " 7540,\n",
       " 7594,\n",
       " 7628,\n",
       " 7630,\n",
       " 7637,\n",
       " 7653,\n",
       " 7679,\n",
       " 7685,\n",
       " 7689,\n",
       " 7707,\n",
       " 7737,\n",
       " 7758,\n",
       " 7763,\n",
       " 7782,\n",
       " 7790,\n",
       " 7796,\n",
       " 7801,\n",
       " 7827,\n",
       " 7854,\n",
       " 7882,\n",
       " 7893,\n",
       " 7905,\n",
       " 7906,\n",
       " 7936,\n",
       " 8044,\n",
       " 8053,\n",
       " 8062,\n",
       " 8089,\n",
       " 8104,\n",
       " 8139,\n",
       " 8145,\n",
       " 8148,\n",
       " 8158,\n",
       " 8172,\n",
       " 8189,\n",
       " 8199,\n",
       " 8231,\n",
       " 8275,\n",
       " 8279,\n",
       " 8293,\n",
       " 8308,\n",
       " 8320,\n",
       " 8325,\n",
       " 8350,\n",
       " 8391,\n",
       " 8408,\n",
       " 8419,\n",
       " 8429,\n",
       " 8445,\n",
       " 8483,\n",
       " 8489,\n",
       " 8503,\n",
       " 8517,\n",
       " 8529,\n",
       " 8533,\n",
       " 8540,\n",
       " 8557,\n",
       " 8666,\n",
       " 8702,\n",
       " 8703,\n",
       " 8707,\n",
       " 8757,\n",
       " 8758,\n",
       " 8761,\n",
       " 8763,\n",
       " 8773,\n",
       " 8782,\n",
       " 8828,\n",
       " 8840,\n",
       " 8866,\n",
       " 8874,\n",
       " 8875,\n",
       " 8938,\n",
       " 8939,\n",
       " 8952,\n",
       " 8993,\n",
       " 9023,\n",
       " 9037,\n",
       " 9049,\n",
       " 9051,\n",
       " 9052,\n",
       " 9090,\n",
       " 9106,\n",
       " 9154,\n",
       " 9184,\n",
       " 9190,\n",
       " 9203,\n",
       " 9206,\n",
       " 9216,\n",
       " 9290,\n",
       " 9291,\n",
       " 9296,\n",
       " 9318,\n",
       " 9330,\n",
       " 9334,\n",
       " 9352,\n",
       " 9359,\n",
       " 9361,\n",
       " 9395,\n",
       " 9418,\n",
       " 9436,\n",
       " 9452,\n",
       " 9460,\n",
       " 9465,\n",
       " 9483,\n",
       " 9487,\n",
       " 9492,\n",
       " 9521,\n",
       " 9522,\n",
       " 9530,\n",
       " 9586,\n",
       " 9597,\n",
       " 9657,\n",
       " 9682,\n",
       " 9706,\n",
       " 9769,\n",
       " 9771,\n",
       " 9798,\n",
       " 9822,\n",
       " 9825,\n",
       " 9847,\n",
       " 9861,\n",
       " 9868,\n",
       " 9898,\n",
       " 9945,\n",
       " 9958,\n",
       " 9998,\n",
       " 10019,\n",
       " 10023,\n",
       " 10032,\n",
       " 10034,\n",
       " 10036,\n",
       " 10042,\n",
       " 10049,\n",
       " 10052,\n",
       " 10063,\n",
       " 10073,\n",
       " 10103,\n",
       " 10115,\n",
       " 10156,\n",
       " 10176,\n",
       " 10181,\n",
       " 10211,\n",
       " 10232,\n",
       " 10271,\n",
       " 10275,\n",
       " 10285,\n",
       " 10292,\n",
       " 10314,\n",
       " 10323,\n",
       " 10355,\n",
       " 10371,\n",
       " 10375,\n",
       " 10378,\n",
       " 10403,\n",
       " 10415,\n",
       " 10436,\n",
       " 10461,\n",
       " 10464,\n",
       " 10473,\n",
       " 10481,\n",
       " 10493,\n",
       " 10494,\n",
       " 10510,\n",
       " 10524,\n",
       " 10581,\n",
       " 10583,\n",
       " 10587,\n",
       " 10593,\n",
       " 10606,\n",
       " 10697,\n",
       " 10711,\n",
       " 10737,\n",
       " 10816,\n",
       " 10825,\n",
       " 10831,\n",
       " 10856,\n",
       " 10872,\n",
       " 10874,\n",
       " 10936,\n",
       " 10962,\n",
       " 10965,\n",
       " 10975,\n",
       " 10976,\n",
       " 10983,\n",
       " 11020,\n",
       " 11027,\n",
       " 11029,\n",
       " 11070,\n",
       " 11071,\n",
       " 11083,\n",
       " 11100,\n",
       " 11132,\n",
       " 11164,\n",
       " 11168,\n",
       " 11171,\n",
       " 11197,\n",
       " 11211,\n",
       " 11237,\n",
       " 11239,\n",
       " 11254,\n",
       " 11317,\n",
       " 11339,\n",
       " 11342,\n",
       " 11356,\n",
       " 11391,\n",
       " 11408,\n",
       " 11461,\n",
       " 11470,\n",
       " 11475,\n",
       " 11507,\n",
       " 11530,\n",
       " 11567,\n",
       " 11570,\n",
       " 11579,\n",
       " 11582,\n",
       " 11616,\n",
       " 11632,\n",
       " 11645,\n",
       " 11653,\n",
       " 11659,\n",
       " 11669,\n",
       " 11678,\n",
       " 11799,\n",
       " 11831,\n",
       " 11861,\n",
       " 11889,\n",
       " 11914,\n",
       " 11920,\n",
       " 11930,\n",
       " 11950,\n",
       " 11989,\n",
       " 11998,\n",
       " 12005,\n",
       " 12038,\n",
       " 12064,\n",
       " 12084,\n",
       " 12091,\n",
       " 12125,\n",
       " 12136,\n",
       " 12170,\n",
       " 12197,\n",
       " 12249,\n",
       " 12260,\n",
       " 12277,\n",
       " 12284,\n",
       " 12286,\n",
       " 12308,\n",
       " 12309,\n",
       " 12324,\n",
       " 12368,\n",
       " 12381,\n",
       " 12402,\n",
       " 12412,\n",
       " 12422,\n",
       " 12425,\n",
       " 12431,\n",
       " 12435,\n",
       " 12455,\n",
       " 12487,\n",
       " 12489,\n",
       " 12522,\n",
       " 12525,\n",
       " 12539,\n",
       " 12540,\n",
       " 12548,\n",
       " 12561,\n",
       " 12580,\n",
       " 12592,\n",
       " 12596,\n",
       " 12611,\n",
       " 12630,\n",
       " 12651,\n",
       " 12656,\n",
       " 12667,\n",
       " 12694,\n",
       " 12696,\n",
       " 12704,\n",
       " 12706,\n",
       " 12715,\n",
       " 12716,\n",
       " 12727,\n",
       " 12781,\n",
       " 12832,\n",
       " 12833,\n",
       " 12861,\n",
       " 12863,\n",
       " 12871,\n",
       " 12889,\n",
       " 12904,\n",
       " 12928,\n",
       " 12957,\n",
       " 12969,\n",
       " 12970,\n",
       " 13003,\n",
       " 13004,\n",
       " 13056,\n",
       " 13057,\n",
       " 13074,\n",
       " 13096,\n",
       " 13108,\n",
       " 13111,\n",
       " 13131,\n",
       " 13163,\n",
       " 13191,\n",
       " 13208,\n",
       " 13253,\n",
       " 13308,\n",
       " 13329,\n",
       " 13358,\n",
       " 13361,\n",
       " 13375,\n",
       " 13387,\n",
       " 13400,\n",
       " 13417,\n",
       " 13419,\n",
       " 13435,\n",
       " 13441,\n",
       " 13459,\n",
       " 13478,\n",
       " 13486,\n",
       " 13551,\n",
       " 13592,\n",
       " 13599,\n",
       " 13612,\n",
       " 13626,\n",
       " 13638,\n",
       " 13703,\n",
       " 13723,\n",
       " 13755,\n",
       " 13766,\n",
       " 13817,\n",
       " 13833,\n",
       " 13835,\n",
       " 13838,\n",
       " 13847,\n",
       " 13859,\n",
       " 13898,\n",
       " 13902,\n",
       " 13914,\n",
       " 13918,\n",
       " 13937,\n",
       " 13957,\n",
       " 13998,\n",
       " 14013,\n",
       " 14026,\n",
       " 14098,\n",
       " 14129,\n",
       " 14137,\n",
       " 14172,\n",
       " 14173,\n",
       " 14187,\n",
       " 14202,\n",
       " 14207,\n",
       " 14224,\n",
       " 14233,\n",
       " 14237,\n",
       " 14242,\n",
       " 14251,\n",
       " 14269,\n",
       " 14272,\n",
       " 14278,\n",
       " 14359,\n",
       " 14377,\n",
       " 14386,\n",
       " 14393,\n",
       " 14410,\n",
       " 14430,\n",
       " 14434,\n",
       " 14464,\n",
       " 14487,\n",
       " 14528,\n",
       " 14529,\n",
       " 14541,\n",
       " 14548,\n",
       " 14575,\n",
       " 14576,\n",
       " 14594,\n",
       " 14599,\n",
       " 14605,\n",
       " 14610,\n",
       " 14613,\n",
       " 14652,\n",
       " 14653,\n",
       " 14655,\n",
       " 14658,\n",
       " 14709,\n",
       " 14743,\n",
       " 14748,\n",
       " 14779,\n",
       " 14798,\n",
       " 14804,\n",
       " 14845,\n",
       " 14849,\n",
       " 14865,\n",
       " 14896,\n",
       " 14919,\n",
       " 14929,\n",
       " 14949,\n",
       " 14952,\n",
       " 14959,\n",
       " 14968,\n",
       " 14978,\n",
       " 14980,\n",
       " 14987,\n",
       " 14990,\n",
       " 14995,\n",
       " 15026,\n",
       " 15072,\n",
       " 15080,\n",
       " 15088,\n",
       " 15193,\n",
       " 15250,\n",
       " 15252,\n",
       " 15269,\n",
       " 15276,\n",
       " 15290,\n",
       " 15294,\n",
       " 15311,\n",
       " 15402,\n",
       " 15420,\n",
       " 15425,\n",
       " 15428,\n",
       " 15448,\n",
       " 15490,\n",
       " 15493,\n",
       " 15511,\n",
       " 15518,\n",
       " 15529,\n",
       " 15538,\n",
       " 15552,\n",
       " 15558,\n",
       " 15559,\n",
       " 15583,\n",
       " 15608,\n",
       " 15627,\n",
       " 15636,\n",
       " 15648,\n",
       " 15659,\n",
       " 15695,\n",
       " 15726,\n",
       " 15727,\n",
       " 15732,\n",
       " 15745,\n",
       " 15768,\n",
       " 15783,\n",
       " 15815,\n",
       " 15817,\n",
       " 15842,\n",
       " 15874,\n",
       " 15907,\n",
       " 15909,\n",
       " 15930,\n",
       " 15955,\n",
       " 15967,\n",
       " 15982,\n",
       " 16102,\n",
       " 16123,\n",
       " 16129,\n",
       " 16142,\n",
       " 16153,\n",
       " 16158,\n",
       " 16180,\n",
       " 16211,\n",
       " 16221,\n",
       " 16257,\n",
       " 16282,\n",
       " 16298,\n",
       " 16317,\n",
       " 16355,\n",
       " 16356,\n",
       " 16380,\n",
       " 16425,\n",
       " 16463,\n",
       " 16471,\n",
       " 16500,\n",
       " 16522,\n",
       " 16541,\n",
       " 16575,\n",
       " 16580,\n",
       " 16613,\n",
       " 16621,\n",
       " 16634,\n",
       " 16635,\n",
       " 16656,\n",
       " 16658,\n",
       " 16668,\n",
       " 16691,\n",
       " 16695,\n",
       " 16698,\n",
       " 16772,\n",
       " 16777,\n",
       " 16803,\n",
       " 16810,\n",
       " 16827,\n",
       " 16828,\n",
       " 16875,\n",
       " 16882,\n",
       " 16886,\n",
       " 16897,\n",
       " 16903,\n",
       " 16916,\n",
       " 16922,\n",
       " 16926,\n",
       " 16969,\n",
       " 17007,\n",
       " 17008,\n",
       " 17054,\n",
       " 17058,\n",
       " 17060,\n",
       " 17066,\n",
       " 17067,\n",
       " 17077,\n",
       " 17085,\n",
       " 17113,\n",
       " 17162,\n",
       " 17163,\n",
       " 17221,\n",
       " 17233,\n",
       " 17234,\n",
       " 17258,\n",
       " 17264,\n",
       " 17268,\n",
       " 17276,\n",
       " 17303,\n",
       " 17335,\n",
       " 17336,\n",
       " 17355,\n",
       " 17383,\n",
       " 17394,\n",
       " 17395,\n",
       " 17404,\n",
       " 17410,\n",
       " 17445,\n",
       " 17534,\n",
       " 17539,\n",
       " 17555,\n",
       " 17559,\n",
       " 17581,\n",
       " 17585,\n",
       " 17598,\n",
       " 17607,\n",
       " 17664,\n",
       " 17669,\n",
       " 17705,\n",
       " 17719,\n",
       " 17741,\n",
       " 17742,\n",
       " 17744,\n",
       " 17786,\n",
       " 17794,\n",
       " 17831,\n",
       " 17891,\n",
       " 17908,\n",
       " 17910,\n",
       " 17932,\n",
       " 17951,\n",
       " 18003,\n",
       " 18021,\n",
       " 18040,\n",
       " 18068,\n",
       " 18072,\n",
       " 18090,\n",
       " 18097,\n",
       " 18110,\n",
       " 18126,\n",
       " 18157,\n",
       " 18160,\n",
       " 18170,\n",
       " 18171,\n",
       " 18298,\n",
       " 18314,\n",
       " 18322,\n",
       " 18373,\n",
       " 18404,\n",
       " 18437,\n",
       " 18445,\n",
       " 18475,\n",
       " 18495,\n",
       " 18504,\n",
       " 18510,\n",
       " 18546,\n",
       " 18550,\n",
       " 18554,\n",
       " 18585,\n",
       " 18609,\n",
       " 18610,\n",
       " 18681,\n",
       " 18692,\n",
       " 18747,\n",
       " 18754,\n",
       " 18783,\n",
       " 18815,\n",
       " 18821,\n",
       " 18839,\n",
       " 18855,\n",
       " 18862,\n",
       " 18873,\n",
       " 18907,\n",
       " 18910,\n",
       " 18958,\n",
       " 18982,\n",
       " 18989,\n",
       " 18997,\n",
       " 19066,\n",
       " 19070,\n",
       " 19110,\n",
       " 19146,\n",
       " 19148,\n",
       " 19149,\n",
       " 19155,\n",
       " 19164,\n",
       " 19173,\n",
       " 19187,\n",
       " 19192,\n",
       " 19199,\n",
       " 19209,\n",
       " 19212,\n",
       " 19268,\n",
       " 19269,\n",
       " 19279,\n",
       " 19315,\n",
       " 19335,\n",
       " 19374,\n",
       " 19382,\n",
       " 19386,\n",
       " 19393,\n",
       " 19459,\n",
       " 19462,\n",
       " 19493,\n",
       " 19521,\n",
       " 19560,\n",
       " 19569,\n",
       " 19607,\n",
       " 19641,\n",
       " ...]"
      ]
     },
     "execution_count": 16,
     "metadata": {},
     "output_type": "execute_result"
    }
   ],
   "source": [
    "Missing_Col_Detect(train_X,'n0')"
   ]
  },
  {
   "cell_type": "code",
   "execution_count": 17,
   "id": "e3027a7d",
   "metadata": {
    "scrolled": true
   },
   "outputs": [
    {
     "data": {
      "text/html": [
       "<div>\n",
       "<style scoped>\n",
       "    .dataframe tbody tr th:only-of-type {\n",
       "        vertical-align: middle;\n",
       "    }\n",
       "\n",
       "    .dataframe tbody tr th {\n",
       "        vertical-align: top;\n",
       "    }\n",
       "\n",
       "    .dataframe thead th {\n",
       "        text-align: right;\n",
       "    }\n",
       "</style>\n",
       "<table border=\"1\" class=\"dataframe\">\n",
       "  <thead>\n",
       "    <tr style=\"text-align: right;\">\n",
       "      <th></th>\n",
       "      <th>missing_total</th>\n",
       "      <th>missing_per</th>\n",
       "    </tr>\n",
       "  </thead>\n",
       "  <tbody>\n",
       "    <tr>\n",
       "      <th>id</th>\n",
       "      <td>0</td>\n",
       "      <td>0.000000</td>\n",
       "    </tr>\n",
       "    <tr>\n",
       "      <th>loanAmnt</th>\n",
       "      <td>0</td>\n",
       "      <td>0.000000</td>\n",
       "    </tr>\n",
       "    <tr>\n",
       "      <th>term</th>\n",
       "      <td>0</td>\n",
       "      <td>0.000000</td>\n",
       "    </tr>\n",
       "    <tr>\n",
       "      <th>interestRate</th>\n",
       "      <td>0</td>\n",
       "      <td>0.000000</td>\n",
       "    </tr>\n",
       "    <tr>\n",
       "      <th>installment</th>\n",
       "      <td>0</td>\n",
       "      <td>0.000000</td>\n",
       "    </tr>\n",
       "    <tr>\n",
       "      <th>employmentTitle</th>\n",
       "      <td>1</td>\n",
       "      <td>0.000001</td>\n",
       "    </tr>\n",
       "    <tr>\n",
       "      <th>employmentLength</th>\n",
       "      <td>46799</td>\n",
       "      <td>0.058499</td>\n",
       "    </tr>\n",
       "    <tr>\n",
       "      <th>homeOwnership</th>\n",
       "      <td>0</td>\n",
       "      <td>0.000000</td>\n",
       "    </tr>\n",
       "    <tr>\n",
       "      <th>annualIncome</th>\n",
       "      <td>0</td>\n",
       "      <td>0.000000</td>\n",
       "    </tr>\n",
       "    <tr>\n",
       "      <th>verificationStatus</th>\n",
       "      <td>0</td>\n",
       "      <td>0.000000</td>\n",
       "    </tr>\n",
       "    <tr>\n",
       "      <th>isDefault</th>\n",
       "      <td>0</td>\n",
       "      <td>0.000000</td>\n",
       "    </tr>\n",
       "    <tr>\n",
       "      <th>purpose</th>\n",
       "      <td>0</td>\n",
       "      <td>0.000000</td>\n",
       "    </tr>\n",
       "    <tr>\n",
       "      <th>postCode</th>\n",
       "      <td>1</td>\n",
       "      <td>0.000001</td>\n",
       "    </tr>\n",
       "    <tr>\n",
       "      <th>regionCode</th>\n",
       "      <td>0</td>\n",
       "      <td>0.000000</td>\n",
       "    </tr>\n",
       "    <tr>\n",
       "      <th>dti</th>\n",
       "      <td>239</td>\n",
       "      <td>0.000299</td>\n",
       "    </tr>\n",
       "    <tr>\n",
       "      <th>delinquency_2years</th>\n",
       "      <td>0</td>\n",
       "      <td>0.000000</td>\n",
       "    </tr>\n",
       "    <tr>\n",
       "      <th>ficoRangeLow</th>\n",
       "      <td>0</td>\n",
       "      <td>0.000000</td>\n",
       "    </tr>\n",
       "    <tr>\n",
       "      <th>ficoRangeHigh</th>\n",
       "      <td>0</td>\n",
       "      <td>0.000000</td>\n",
       "    </tr>\n",
       "    <tr>\n",
       "      <th>openAcc</th>\n",
       "      <td>0</td>\n",
       "      <td>0.000000</td>\n",
       "    </tr>\n",
       "    <tr>\n",
       "      <th>pubRec</th>\n",
       "      <td>0</td>\n",
       "      <td>0.000000</td>\n",
       "    </tr>\n",
       "    <tr>\n",
       "      <th>pubRecBankruptcies</th>\n",
       "      <td>405</td>\n",
       "      <td>0.000506</td>\n",
       "    </tr>\n",
       "    <tr>\n",
       "      <th>revolBal</th>\n",
       "      <td>0</td>\n",
       "      <td>0.000000</td>\n",
       "    </tr>\n",
       "    <tr>\n",
       "      <th>revolUtil</th>\n",
       "      <td>531</td>\n",
       "      <td>0.000664</td>\n",
       "    </tr>\n",
       "    <tr>\n",
       "      <th>totalAcc</th>\n",
       "      <td>0</td>\n",
       "      <td>0.000000</td>\n",
       "    </tr>\n",
       "    <tr>\n",
       "      <th>initialListStatus</th>\n",
       "      <td>0</td>\n",
       "      <td>0.000000</td>\n",
       "    </tr>\n",
       "    <tr>\n",
       "      <th>applicationType</th>\n",
       "      <td>0</td>\n",
       "      <td>0.000000</td>\n",
       "    </tr>\n",
       "    <tr>\n",
       "      <th>title</th>\n",
       "      <td>1</td>\n",
       "      <td>0.000001</td>\n",
       "    </tr>\n",
       "    <tr>\n",
       "      <th>policyCode</th>\n",
       "      <td>0</td>\n",
       "      <td>0.000000</td>\n",
       "    </tr>\n",
       "    <tr>\n",
       "      <th>n0</th>\n",
       "      <td>40270</td>\n",
       "      <td>0.050338</td>\n",
       "    </tr>\n",
       "    <tr>\n",
       "      <th>n1</th>\n",
       "      <td>40270</td>\n",
       "      <td>0.050338</td>\n",
       "    </tr>\n",
       "    <tr>\n",
       "      <th>n2</th>\n",
       "      <td>40270</td>\n",
       "      <td>0.050338</td>\n",
       "    </tr>\n",
       "    <tr>\n",
       "      <th>n3</th>\n",
       "      <td>40270</td>\n",
       "      <td>0.050338</td>\n",
       "    </tr>\n",
       "    <tr>\n",
       "      <th>n4</th>\n",
       "      <td>33239</td>\n",
       "      <td>0.041549</td>\n",
       "    </tr>\n",
       "    <tr>\n",
       "      <th>n5</th>\n",
       "      <td>40270</td>\n",
       "      <td>0.050338</td>\n",
       "    </tr>\n",
       "    <tr>\n",
       "      <th>n6</th>\n",
       "      <td>40270</td>\n",
       "      <td>0.050338</td>\n",
       "    </tr>\n",
       "    <tr>\n",
       "      <th>n7</th>\n",
       "      <td>40270</td>\n",
       "      <td>0.050338</td>\n",
       "    </tr>\n",
       "    <tr>\n",
       "      <th>n8</th>\n",
       "      <td>40271</td>\n",
       "      <td>0.050339</td>\n",
       "    </tr>\n",
       "    <tr>\n",
       "      <th>n9</th>\n",
       "      <td>40270</td>\n",
       "      <td>0.050338</td>\n",
       "    </tr>\n",
       "    <tr>\n",
       "      <th>n10</th>\n",
       "      <td>33239</td>\n",
       "      <td>0.041549</td>\n",
       "    </tr>\n",
       "    <tr>\n",
       "      <th>n11</th>\n",
       "      <td>69752</td>\n",
       "      <td>0.087190</td>\n",
       "    </tr>\n",
       "    <tr>\n",
       "      <th>n12</th>\n",
       "      <td>40270</td>\n",
       "      <td>0.050338</td>\n",
       "    </tr>\n",
       "    <tr>\n",
       "      <th>n13</th>\n",
       "      <td>40270</td>\n",
       "      <td>0.050338</td>\n",
       "    </tr>\n",
       "    <tr>\n",
       "      <th>n14</th>\n",
       "      <td>40270</td>\n",
       "      <td>0.050338</td>\n",
       "    </tr>\n",
       "    <tr>\n",
       "      <th>issueDate_year</th>\n",
       "      <td>0</td>\n",
       "      <td>0.000000</td>\n",
       "    </tr>\n",
       "    <tr>\n",
       "      <th>issueDate_month</th>\n",
       "      <td>0</td>\n",
       "      <td>0.000000</td>\n",
       "    </tr>\n",
       "    <tr>\n",
       "      <th>earliesCreditLine_year</th>\n",
       "      <td>0</td>\n",
       "      <td>0.000000</td>\n",
       "    </tr>\n",
       "    <tr>\n",
       "      <th>earliesCreditLine_month</th>\n",
       "      <td>0</td>\n",
       "      <td>0.000000</td>\n",
       "    </tr>\n",
       "  </tbody>\n",
       "</table>\n",
       "</div>"
      ],
      "text/plain": [
       "                         missing_total  missing_per\n",
       "id                                   0     0.000000\n",
       "loanAmnt                             0     0.000000\n",
       "term                                 0     0.000000\n",
       "interestRate                         0     0.000000\n",
       "installment                          0     0.000000\n",
       "employmentTitle                      1     0.000001\n",
       "employmentLength                 46799     0.058499\n",
       "homeOwnership                        0     0.000000\n",
       "annualIncome                         0     0.000000\n",
       "verificationStatus                   0     0.000000\n",
       "isDefault                            0     0.000000\n",
       "purpose                              0     0.000000\n",
       "postCode                             1     0.000001\n",
       "regionCode                           0     0.000000\n",
       "dti                                239     0.000299\n",
       "delinquency_2years                   0     0.000000\n",
       "ficoRangeLow                         0     0.000000\n",
       "ficoRangeHigh                        0     0.000000\n",
       "openAcc                              0     0.000000\n",
       "pubRec                               0     0.000000\n",
       "pubRecBankruptcies                 405     0.000506\n",
       "revolBal                             0     0.000000\n",
       "revolUtil                          531     0.000664\n",
       "totalAcc                             0     0.000000\n",
       "initialListStatus                    0     0.000000\n",
       "applicationType                      0     0.000000\n",
       "title                                1     0.000001\n",
       "policyCode                           0     0.000000\n",
       "n0                               40270     0.050338\n",
       "n1                               40270     0.050338\n",
       "n2                               40270     0.050338\n",
       "n3                               40270     0.050338\n",
       "n4                               33239     0.041549\n",
       "n5                               40270     0.050338\n",
       "n6                               40270     0.050338\n",
       "n7                               40270     0.050338\n",
       "n8                               40271     0.050339\n",
       "n9                               40270     0.050338\n",
       "n10                              33239     0.041549\n",
       "n11                              69752     0.087190\n",
       "n12                              40270     0.050338\n",
       "n13                              40270     0.050338\n",
       "n14                              40270     0.050338\n",
       "issueDate_year                       0     0.000000\n",
       "issueDate_month                      0     0.000000\n",
       "earliesCreditLine_year               0     0.000000\n",
       "earliesCreditLine_month              0     0.000000"
      ]
     },
     "execution_count": 17,
     "metadata": {},
     "output_type": "execute_result"
    }
   ],
   "source": [
    "Missing_All_Col_Detect(train_X)"
   ]
  },
  {
   "cell_type": "code",
   "execution_count": 18,
   "id": "cddc4e02",
   "metadata": {},
   "outputs": [
    {
     "data": {
      "text/plain": [
       "Index(['employmentTitle', 'employmentLength', 'postCode', 'dti',\n",
       "       'pubRecBankruptcies', 'revolUtil', 'title', 'n0', 'n1', 'n2', 'n3',\n",
       "       'n4', 'n5', 'n6', 'n7', 'n8', 'n9', 'n10', 'n11', 'n12', 'n13', 'n14'],\n",
       "      dtype='object')"
      ]
     },
     "execution_count": 18,
     "metadata": {},
     "output_type": "execute_result"
    }
   ],
   "source": [
    "train_X.columns[train_X.isnull().sum() > 0]"
   ]
  },
  {
   "cell_type": "code",
   "execution_count": 19,
   "id": "a58ff694",
   "metadata": {},
   "outputs": [
    {
     "name": "stdout",
     "output_type": "stream",
     "text": [
      "特征：employmentTitle\n",
      "缺失总数：1\n",
      "缺失比例：0.000125%\n"
     ]
    },
    {
     "data": {
      "image/png": "[encoded data removed]",
      "text/plain": [
       "<Figure size 1080x720 with 1 Axes>"
      ]
     },
     "metadata": {
      "needs_background": "light"
     },
     "output_type": "display_data"
    }
   ],
   "source": [
    "Plot_Col_Distribution(train_X,'employmentTitle')"
   ]
  },
  {
   "cell_type": "code",
   "execution_count": 20,
   "id": "4df27666",
   "metadata": {},
   "outputs": [],
   "source": [
    "#根据图示采用众数填充 employmentTitle\n",
    "train_X['employmentTitle'] = Missing_Imputer_Medthod(train_X,col = 'employmentTitle',method= 'most_frequent')"
   ]
  },
  {
   "cell_type": "code",
   "execution_count": 21,
   "id": "632c35f4",
   "metadata": {},
   "outputs": [
    {
     "name": "stdout",
     "output_type": "stream",
     "text": [
      "特征：employmentLength\n",
      "缺失总数：46799\n",
      "缺失比例：5.849875%\n"
     ]
    },
    {
     "data": {
      "image/png": "[encoded data removed]",
      "text/plain": [
       "<Figure size 1080x720 with 1 Axes>"
      ]
     },
     "metadata": {
      "needs_background": "light"
     },
     "output_type": "display_data"
    }
   ],
   "source": [
    "Plot_Col_Distribution(train_X,'employmentLength')"
   ]
  },
  {
   "cell_type": "code",
   "execution_count": 24,
   "id": "4a0a3a1a",
   "metadata": {},
   "outputs": [],
   "source": [
    "#采用已有特征取值随机填充 employmentLength\n",
    "train_X['employmentLength'] = Missing_Imputer_Medthod(train_X,col= 'employmentLength',method='random')"
   ]
  },
  {
   "cell_type": "code",
   "execution_count": 25,
   "id": "fb9f3c78",
   "metadata": {},
   "outputs": [
    {
     "name": "stdout",
     "output_type": "stream",
     "text": [
      "特征：postCode\n",
      "缺失总数：1\n",
      "缺失比例：0.000125%\n"
     ]
    },
    {
     "data": {
      "image/png": "[encoded data removed]",
      "text/plain": [
       "<Figure size 1080x720 with 1 Axes>"
      ]
     },
     "metadata": {
      "needs_background": "light"
     },
     "output_type": "display_data"
    }
   ],
   "source": [
    "Plot_Col_Distribution(train_X,'postCode')"
   ]
  },
  {
   "cell_type": "code",
   "execution_count": 26,
   "id": "04f75105",
   "metadata": {},
   "outputs": [],
   "source": [
    "#采用随机填充 postCode\n",
    "train_X['postCode'] = Missing_Imputer_Medthod(train_X, col='postCode',method = 'random')"
   ]
  },
  {
   "cell_type": "code",
   "execution_count": 27,
   "id": "7e34eb35",
   "metadata": {},
   "outputs": [
    {
     "name": "stdout",
     "output_type": "stream",
     "text": [
      "特征：dti\n",
      "缺失总数：239\n",
      "缺失比例：0.029875000000000002%\n"
     ]
    },
    {
     "data": {
      "image/png": "[encoded data removed]",
      "text/plain": [
       "<Figure size 1080x720 with 1 Axes>"
      ]
     },
     "metadata": {
      "needs_background": "light"
     },
     "output_type": "display_data"
    }
   ],
   "source": [
    "Plot_Col_Distribution(train_X, 'dti')"
   ]
  },
  {
   "cell_type": "code",
   "execution_count": 28,
   "id": "983f11c8",
   "metadata": {},
   "outputs": [],
   "source": [
    "#dti 的分布近似正太分布，采用中位数填充\n",
    "train_X['dti'] = Missing_Imputer_Medthod(train_X, col='dti',method='median')"
   ]
  },
  {
   "cell_type": "code",
   "execution_count": 30,
   "id": "a5295585",
   "metadata": {},
   "outputs": [
    {
     "name": "stdout",
     "output_type": "stream",
     "text": [
      "特征：pubRecBankruptcies\n",
      "缺失总数：405\n",
      "缺失比例：0.050624999999999996%\n"
     ]
    },
    {
     "data": {
      "image/png": "[encoded data removed]",
      "text/plain": [
       "<Figure size 1080x720 with 1 Axes>"
      ]
     },
     "metadata": {
      "needs_background": "light"
     },
     "output_type": "display_data"
    }
   ],
   "source": [
    "Plot_Col_Distribution(train_X, 'pubRecBankruptcies')"
   ]
  },
  {
   "cell_type": "code",
   "execution_count": 31,
   "id": "b3bafaf1",
   "metadata": {},
   "outputs": [],
   "source": [
    "#采用众数，填充\n",
    "train_X['pubRecBankruptcies'] = Missing_Imputer_Medthod(train_X,col='pubRecBankruptcies',method='most_frequent')"
   ]
  },
  {
   "cell_type": "code",
   "execution_count": 32,
   "id": "806ab15d",
   "metadata": {},
   "outputs": [
    {
     "name": "stdout",
     "output_type": "stream",
     "text": [
      "特征：revolUtil\n",
      "缺失总数：531\n",
      "缺失比例：0.06637499999999999%\n"
     ]
    },
    {
     "data": {
      "image/png": "[encoded data removed]",
      "text/plain": [
       "<Figure size 1080x720 with 1 Axes>"
      ]
     },
     "metadata": {
      "needs_background": "light"
     },
     "output_type": "display_data"
    }
   ],
   "source": [
    "Plot_Col_Distribution(train_X,col = 'revolUtil')"
   ]
  },
  {
   "cell_type": "code",
   "execution_count": 33,
   "id": "479ef985",
   "metadata": {},
   "outputs": [],
   "source": [
    "#revolUtil 近似正太分布，采用中位数填充\n",
    "train_X['revolUtil'] = Missing_Imputer_Medthod(train_X,col = 'revolUtil',method='median')"
   ]
  },
  {
   "cell_type": "code",
   "execution_count": 34,
   "id": "94e128d5",
   "metadata": {},
   "outputs": [
    {
     "name": "stdout",
     "output_type": "stream",
     "text": [
      "特征：title\n",
      "缺失总数：1\n",
      "缺失比例：0.000125%\n",
      "缺失值所在列id，如下：\n"
     ]
    },
    {
     "data": {
      "text/plain": [
       "[531009]"
      ]
     },
     "execution_count": 34,
     "metadata": {},
     "output_type": "execute_result"
    }
   ],
   "source": [
    "Missing_Col_Detect(train_X, col = 'title')"
   ]
  },
  {
   "cell_type": "code",
   "execution_count": 35,
   "id": "21a7359b",
   "metadata": {},
   "outputs": [],
   "source": [
    "#title只缺失了1一个，采用随机填充\n",
    "train_X['title'] = Missing_Imputer_Medthod(train_X, col = 'title', method = 'random')"
   ]
  },
  {
   "cell_type": "code",
   "execution_count": 39,
   "id": "60627d52",
   "metadata": {
    "scrolled": true
   },
   "outputs": [
    {
     "name": "stdout",
     "output_type": "stream",
     "text": [
      "特征：n0\n",
      "缺失总数：40270\n",
      "缺失比例：5.03375%\n"
     ]
    },
    {
     "data": {
      "image/png": "[encoded data removed]",
      "text/plain": [
       "<Figure size 1080x720 with 1 Axes>"
      ]
     },
     "metadata": {
      "needs_background": "light"
     },
     "output_type": "display_data"
    },
    {
     "name": "stdout",
     "output_type": "stream",
     "text": [
      "特征：n1\n",
      "缺失总数：40270\n",
      "缺失比例：5.03375%\n"
     ]
    },
    {
     "data": {
      "image/png": "[encoded data removed]",
      "text/plain": [
       "<Figure size 1080x720 with 1 Axes>"
      ]
     },
     "metadata": {
      "needs_background": "light"
     },
     "output_type": "display_data"
    },
    {
     "name": "stdout",
     "output_type": "stream",
     "text": [
      "特征：n2\n",
      "缺失总数：40270\n",
      "缺失比例：5.03375%\n"
     ]
    },
    {
     "data": {
      "image/png": "[encoded data removed]",
      "text/plain": [
       "<Figure size 1080x720 with 1 Axes>"
      ]
     },
     "metadata": {
      "needs_background": "light"
     },
     "output_type": "display_data"
    },
    {
     "name": "stdout",
     "output_type": "stream",
     "text": [
      "特征：n3\n",
      "缺失总数：40270\n",
      "缺失比例：5.03375%\n"
     ]
    },
    {
     "data": {
      "image/png": "[encoded data removed]",
      "text/plain": [
       "<Figure size 1080x720 with 1 Axes>"
      ]
     },
     "metadata": {
      "needs_background": "light"
     },
     "output_type": "display_data"
    },
    {
     "name": "stdout",
     "output_type": "stream",
     "text": [
      "特征：n4\n",
      "缺失总数：33239\n",
      "缺失比例：4.1548750000000005%\n"
     ]
    },
    {
     "data": {
      "image/png": "[encoded data removed]",
      "text/plain": [
       "<Figure size 1080x720 with 1 Axes>"
      ]
     },
     "metadata": {
      "needs_background": "light"
     },
     "output_type": "display_data"
    },
    {
     "name": "stdout",
     "output_type": "stream",
     "text": [
      "特征：n5\n",
      "缺失总数：40270\n",
      "缺失比例：5.03375%\n"
     ]
    },
    {
     "data": {
      "image/png": "[encoded data removed]",
      "text/plain": [
       "<Figure size 1080x720 with 1 Axes>"
      ]
     },
     "metadata": {
      "needs_background": "light"
     },
     "output_type": "display_data"
    },
    {
     "name": "stdout",
     "output_type": "stream",
     "text": [
      "特征：n6\n",
      "缺失总数：40270\n",
      "缺失比例：5.03375%\n"
     ]
    },
    {
     "data": {
      "image/png": "[encoded data removed]",
      "text/plain": [
       "<Figure size 1080x720 with 1 Axes>"
      ]
     },
     "metadata": {
      "needs_background": "light"
     },
     "output_type": "display_data"
    },
    {
     "name": "stdout",
     "output_type": "stream",
     "text": [
      "特征：n7\n",
      "缺失总数：40270\n",
      "缺失比例：5.03375%\n"
     ]
    },
    {
     "data": {
      "image/png": "[encoded data removed]",
      "text/plain": [
       "<Figure size 1080x720 with 1 Axes>"
      ]
     },
     "metadata": {
      "needs_background": "light"
     },
     "output_type": "display_data"
    },
    {
     "name": "stdout",
     "output_type": "stream",
     "text": [
      "特征：n8\n",
      "缺失总数：40271\n",
      "缺失比例：5.033875%\n"
     ]
    },
    {
     "data": {
      "image/png": "[encoded data removed]",
      "text/plain": [
       "<Figure size 1080x720 with 1 Axes>"
      ]
     },
     "metadata": {
      "needs_background": "light"
     },
     "output_type": "display_data"
    },
    {
     "name": "stdout",
     "output_type": "stream",
     "text": [
      "特征：n9\n",
      "缺失总数：40270\n",
      "缺失比例：5.03375%\n"
     ]
    },
    {
     "data": {
      "image/png": "[encoded data removed]",
      "text/plain": [
       "<Figure size 1080x720 with 1 Axes>"
      ]
     },
     "metadata": {
      "needs_background": "light"
     },
     "output_type": "display_data"
    },
    {
     "name": "stdout",
     "output_type": "stream",
     "text": [
      "特征：n10\n",
      "缺失总数：33239\n",
      "缺失比例：4.1548750000000005%\n"
     ]
    },
    {
     "data": {
      "image/png": "[encoded data removed]",
      "text/plain": [
       "<Figure size 1080x720 with 1 Axes>"
      ]
     },
     "metadata": {
      "needs_background": "light"
     },
     "output_type": "display_data"
    },
    {
     "name": "stdout",
     "output_type": "stream",
     "text": [
      "特征：n11\n",
      "缺失总数：69752\n",
      "缺失比例：8.719000000000001%\n"
     ]
    },
    {
     "data": {
      "image/png": "[encoded data removed]",
      "text/plain": [
       "<Figure size 1080x720 with 1 Axes>"
      ]
     },
     "metadata": {
      "needs_background": "light"
     },
     "output_type": "display_data"
    },
    {
     "name": "stdout",
     "output_type": "stream",
     "text": [
      "特征：n12\n",
      "缺失总数：40270\n",
      "缺失比例：5.03375%\n"
     ]
    },
    {
     "data": {
      "image/png": "[encoded data removed]",
      "text/plain": [
       "<Figure size 1080x720 with 1 Axes>"
      ]
     },
     "metadata": {
      "needs_background": "light"
     },
     "output_type": "display_data"
    },
    {
     "name": "stdout",
     "output_type": "stream",
     "text": [
      "特征：n13\n",
      "缺失总数：40270\n",
      "缺失比例：5.03375%\n"
     ]
    },
    {
     "data": {
      "image/png": "[encoded data removed]",
      "text/plain": [
       "<Figure size 1080x720 with 1 Axes>"
      ]
     },
     "metadata": {
      "needs_background": "light"
     },
     "output_type": "display_data"
    },
    {
     "name": "stdout",
     "output_type": "stream",
     "text": [
      "特征：n14\n",
      "缺失总数：40270\n",
      "缺失比例：5.03375%\n"
     ]
    },
    {
     "data": {
      "image/png": "[encoded data removed]",
      "text/plain": [
       "<Figure size 1080x720 with 1 Axes>"
      ]
     },
     "metadata": {
      "needs_background": "light"
     },
     "output_type": "display_data"
    }
   ],
   "source": [
    "#n0-n14 大多近似正太分布，个别为离散变量，采用随机值\n",
    "for idx in range(15):\n",
    "    Plot_Col_Distribution(train_X,col = 'n'+str(idx))\n",
    "for idx in range(15):\n",
    "    train_X['n' +str(idx)] = Missing_Imputer_Medthod(train_X,col='n'+str(idx),method='random')"
   ]
  },
  {
   "cell_type": "code",
   "execution_count": 41,
   "id": "d9438998",
   "metadata": {},
   "outputs": [],
   "source": [
    "#存储\n",
    "train_X.to_csv(\"./train_filled.csv\", index = False)"
   ]
  },
  {
   "cell_type": "code",
   "execution_count": null,
   "id": "6de1b787",
   "metadata": {},
   "outputs": [],
   "source": []
  },
  {
   "cell_type": "markdown",
   "id": "30296a05",
   "metadata": {},
   "source": [
    "# Outliers "
   ]
  },
  {
   "cell_type": "code",
   "execution_count": 46,
   "id": "8d6ca0e2",
   "metadata": {},
   "outputs": [
    {
     "data": {
      "text/html": [
       "\n",
       "<style>\n",
       "    div#notebook-container    { width: 100%; }\n",
       "    div#menubar-container     { width: 90%; }\n",
       "    div#maintoolbar-container { width: 99%; }\n",
       "    div#maintoolbar{background:#e5e5e5;}\n",
       "</style>\n"
      ],
      "text/plain": [
       "<IPython.core.display.HTML object>"
      ]
     },
     "metadata": {},
     "output_type": "display_data"
    },
    {
     "data": {
      "text/html": [
       "\n",
       "<style>\n",
       "    div#notebook-container    { width: 100%; }\n",
       "    div#menubar-container     { width: 90%; }\n",
       "    div#maintoolbar-container { width: 99%; }\n",
       "    div#maintoolbar{background:#e5e5e5;}\n",
       "</style>\n"
      ],
      "text/plain": [
       "<IPython.core.display.HTML object>"
      ]
     },
     "metadata": {},
     "output_type": "display_data"
    }
   ],
   "source": [
    "%run Page_Style.ipynb\n",
    "%run Feature_Cleaning_utils.ipynb"
   ]
  },
  {
   "cell_type": "markdown",
   "id": "0509ca54",
   "metadata": {},
   "source": [
    "## loanAmnt"
   ]
  },
  {
   "cell_type": "code",
   "execution_count": 48,
   "id": "7445197c",
   "metadata": {
    "scrolled": true
   },
   "outputs": [
    {
     "data": {
      "image/png": "[encoded data removed]",
      "text/plain": [
       "<Figure size 1080x720 with 1 Axes>"
      ]
     },
     "metadata": {
      "needs_background": "light"
     },
     "output_type": "display_data"
    }
   ],
   "source": [
    "Outliers_Detect_Plot(train_X, col = 'loanAmnt')"
   ]
  },
  {
   "cell_type": "code",
   "execution_count": 72,
   "id": "fa6bdd31",
   "metadata": {},
   "outputs": [],
   "source": [
    "train_X['loanAmnt'] = Outliers_Handle_IQR(train_X,col = 'loanAmnt')"
   ]
  },
  {
   "cell_type": "markdown",
   "id": "1343af3c",
   "metadata": {},
   "source": [
    "## term"
   ]
  },
  {
   "cell_type": "code",
   "execution_count": 77,
   "id": "9f9867c7",
   "metadata": {},
   "outputs": [
    {
     "name": "stdout",
     "output_type": "stream",
     "text": [
      "3    606902\n",
      "5    193098\n",
      "Name: term, dtype: int64\n"
     ]
    },
    {
     "data": {
      "image/png": "[encoded data removed]",
      "text/plain": [
       "<Figure size 1080x720 with 1 Axes>"
      ]
     },
     "metadata": {
      "needs_background": "light"
     },
     "output_type": "display_data"
    }
   ],
   "source": [
    "Outliers_Detect_Plot(train_X,col = 'term')\n",
    "#根据取值，和业务常识，确认term=5 不属于异常值，不做处理"
   ]
  },
  {
   "cell_type": "markdown",
   "id": "37464989",
   "metadata": {},
   "source": [
    "## interestRate"
   ]
  },
  {
   "cell_type": "code",
   "execution_count": 121,
   "id": "de1174d9",
   "metadata": {
    "scrolled": false
   },
   "outputs": [
    {
     "data": {
      "image/png": "[encoded data removed]",
      "text/plain": [
       "<Figure size 1080x720 with 1 Axes>"
      ]
     },
     "metadata": {
      "needs_background": "light"
     },
     "output_type": "display_data"
    },
    {
     "name": "stdout",
     "output_type": "stream",
     "text": [
      "count    800000.000000\n",
      "mean         13.238391\n",
      "std           4.765757\n",
      "min           5.310000\n",
      "25%           9.750000\n",
      "50%          12.740000\n",
      "75%          15.990000\n",
      "max          30.990000\n",
      "Name: interestRate, dtype: float64\n"
     ]
    }
   ],
   "source": [
    "Outliers_Detect_Plot(train_X,col = 'interestRate')"
   ]
  },
  {
   "cell_type": "code",
   "execution_count": 167,
   "id": "248cbd92",
   "metadata": {},
   "outputs": [
    {
     "name": "stdout",
     "output_type": "stream",
     "text": [
      "high: 25.35\n",
      "low: 0.39000000000000057\n",
      "over_high总数：14803, below_low总数：0\n"
     ]
    }
   ],
   "source": [
    "Outliers_Detect_IQR_Count_Plot(train_X,col = 'interestRate')"
   ]
  },
  {
   "cell_type": "code",
   "execution_count": 123,
   "id": "06c3d5b5",
   "metadata": {},
   "outputs": [],
   "source": [
    "train_X['interestRate'] = Outliers_Handle_IQR(train_X,col = 'interestRate')"
   ]
  },
  {
   "cell_type": "markdown",
   "id": "d4a263c1",
   "metadata": {},
   "source": [
    "## installment"
   ]
  },
  {
   "cell_type": "code",
   "execution_count": 125,
   "id": "8400ff12",
   "metadata": {},
   "outputs": [
    {
     "data": {
      "image/png": "[encoded data removed]",
      "text/plain": [
       "<Figure size 1080x720 with 1 Axes>"
      ]
     },
     "metadata": {
      "needs_background": "light"
     },
     "output_type": "display_data"
    },
    {
     "name": "stdout",
     "output_type": "stream",
     "text": [
      "count    800000.000000\n",
      "mean        437.947723\n",
      "std         261.460393\n",
      "min          15.690000\n",
      "25%         248.450000\n",
      "50%         375.135000\n",
      "75%         580.710000\n",
      "max        1715.420000\n",
      "Name: installment, dtype: float64\n"
     ]
    }
   ],
   "source": [
    "Outliers_Detect_Plot(train_X,'installment')"
   ]
  },
  {
   "cell_type": "code",
   "execution_count": 168,
   "id": "db06eb57",
   "metadata": {},
   "outputs": [
    {
     "name": "stdout",
     "output_type": "stream",
     "text": [
      "high: 1079.1000000000001\n",
      "low: -249.9400000000001\n",
      "over_high总数：24992, below_low总数：0\n"
     ]
    }
   ],
   "source": [
    "Outliers_Detect_IQR_Count_Plot(train_X,col = 'installment')"
   ]
  },
  {
   "cell_type": "code",
   "execution_count": 127,
   "id": "b29e03e7",
   "metadata": {},
   "outputs": [
    {
     "data": {
      "text/plain": [
       "'最大分期还款额度为1715，可以认为没有异常'"
      ]
     },
     "execution_count": 127,
     "metadata": {},
     "output_type": "execute_result"
    }
   ],
   "source": [
    "\"\"\"最大分期还款额度为1715，可以认为没有异常\"\"\""
   ]
  },
  {
   "cell_type": "markdown",
   "id": "42074eea",
   "metadata": {},
   "source": [
    "## employmentTitle"
   ]
  },
  {
   "cell_type": "code",
   "execution_count": 128,
   "id": "fc4ce7e0",
   "metadata": {},
   "outputs": [
    {
     "data": {
      "image/png": "[encoded data removed]",
      "text/plain": [
       "<Figure size 1080x720 with 1 Axes>"
      ]
     },
     "metadata": {
      "needs_background": "light"
     },
     "output_type": "display_data"
    },
    {
     "name": "stdout",
     "output_type": "stream",
     "text": [
      "count    800000.000000\n",
      "mean      72005.261775\n",
      "std      106585.603945\n",
      "min           0.000000\n",
      "25%         427.000000\n",
      "50%        7755.000000\n",
      "75%      117663.250000\n",
      "max      378351.000000\n",
      "Name: employmentTitle, dtype: float64\n"
     ]
    }
   ],
   "source": [
    "Outliers_Detect_Plot(train_X,'employmentTitle')"
   ]
  },
  {
   "cell_type": "code",
   "execution_count": 169,
   "id": "eafbc72a",
   "metadata": {},
   "outputs": [
    {
     "name": "stdout",
     "output_type": "stream",
     "text": [
      "high: 293517.625\n",
      "low: -175427.375\n",
      "over_high总数：53171, below_low总数：0\n"
     ]
    }
   ],
   "source": [
    "Outliers_Detect_IQR_Count_Plot(train_X,col = 'employmentTitle')"
   ]
  },
  {
   "cell_type": "code",
   "execution_count": 171,
   "id": "bba4dd75",
   "metadata": {},
   "outputs": [],
   "source": [
    "\"\"\"employmentTitle的取值有很多属于rare value，采用极值填充\"\"\"\n",
    "train_X['employmentTitle'] = Outliers_Handle_IQR(train_X,col = 'employmentTitle')"
   ]
  },
  {
   "cell_type": "markdown",
   "id": "68fc1d9f",
   "metadata": {},
   "source": [
    "## employmentLength"
   ]
  },
  {
   "cell_type": "code",
   "execution_count": 149,
   "id": "1dd565e8",
   "metadata": {},
   "outputs": [
    {
     "data": {
      "image/png": "[encoded data removed]",
      "text/plain": [
       "<Figure size 1080x720 with 1 Axes>"
      ]
     },
     "metadata": {
      "needs_background": "light"
     },
     "output_type": "display_data"
    },
    {
     "name": "stdout",
     "output_type": "stream",
     "text": [
      "count    800000.000000\n",
      "mean          3.689571\n",
      "std           3.194188\n",
      "min           0.000000\n",
      "25%           1.000000\n",
      "50%           2.000000\n",
      "75%           6.000000\n",
      "max          10.000000\n",
      "Name: employmentLength, dtype: float64\n"
     ]
    }
   ],
   "source": [
    "Outliers_Detect_Plot(train_X, col = 'employmentLength')"
   ]
  },
  {
   "cell_type": "code",
   "execution_count": 150,
   "id": "b0c36b52",
   "metadata": {},
   "outputs": [
    {
     "data": {
      "text/plain": [
       "'employmentLength没有异常'"
      ]
     },
     "execution_count": 150,
     "metadata": {},
     "output_type": "execute_result"
    }
   ],
   "source": [
    "\"\"\"employmentLength没有异常\"\"\""
   ]
  },
  {
   "cell_type": "markdown",
   "id": "f32c215f",
   "metadata": {},
   "source": [
    "## homeOwnership"
   ]
  },
  {
   "cell_type": "code",
   "execution_count": 151,
   "id": "cf0daca0",
   "metadata": {},
   "outputs": [
    {
     "data": {
      "image/png": "[encoded data removed]",
      "text/plain": [
       "<Figure size 1080x720 with 1 Axes>"
      ]
     },
     "metadata": {
      "needs_background": "light"
     },
     "output_type": "display_data"
    },
    {
     "name": "stdout",
     "output_type": "stream",
     "text": [
      "count    800000.000000\n",
      "mean          0.614213\n",
      "std           0.675749\n",
      "min           0.000000\n",
      "25%           0.000000\n",
      "50%           1.000000\n",
      "75%           1.000000\n",
      "max           5.000000\n",
      "Name: homeOwnership, dtype: float64\n"
     ]
    }
   ],
   "source": [
    "Outliers_Detect_Plot(train_X, col = 'homeOwnership')"
   ]
  },
  {
   "cell_type": "code",
   "execution_count": 172,
   "id": "656cda9d",
   "metadata": {},
   "outputs": [
    {
     "name": "stdout",
     "output_type": "stream",
     "text": [
      "high: 2.5\n",
      "low: -1.5\n",
      "over_high总数：299, below_low总数：0\n"
     ]
    }
   ],
   "source": [
    "Outliers_Detect_IQR_Count_Plot(train_X, col = 'homeOwnership')"
   ]
  },
  {
   "cell_type": "code",
   "execution_count": 173,
   "id": "dd4cc001",
   "metadata": {},
   "outputs": [],
   "source": [
    "\"\"\"homeOwnership > 1,属于可存在情况，少数人确实会有多余1套房的情况，可以认为是rare value的情况，\n",
    "采用极值处理\"\"\"\n",
    "train_X['homeOwnership'] = Outliers_Handle_IQR(train_X,col='homeOwnership')"
   ]
  },
  {
   "cell_type": "markdown",
   "id": "05f04cb9",
   "metadata": {},
   "source": [
    "## annualIncome"
   ]
  },
  {
   "cell_type": "code",
   "execution_count": 155,
   "id": "30f23b6f",
   "metadata": {},
   "outputs": [
    {
     "data": {
      "image/png": "[encoded data removed]",
      "text/plain": [
       "<Figure size 1080x720 with 1 Axes>"
      ]
     },
     "metadata": {
      "needs_background": "light"
     },
     "output_type": "display_data"
    },
    {
     "name": "stdout",
     "output_type": "stream",
     "text": [
      "count    8.000000e+05\n",
      "mean     7.613391e+04\n",
      "std      6.894751e+04\n",
      "min      0.000000e+00\n",
      "25%      4.560000e+04\n",
      "50%      6.500000e+04\n",
      "75%      9.000000e+04\n",
      "max      1.099920e+07\n",
      "Name: annualIncome, dtype: float64\n"
     ]
    }
   ],
   "source": [
    "Outliers_Detect_Plot(train_X, col = 'annualIncome')"
   ]
  },
  {
   "cell_type": "code",
   "execution_count": 162,
   "id": "2905a6f0",
   "metadata": {},
   "outputs": [
    {
     "name": "stdout",
     "output_type": "stream",
     "text": [
      "high: 156600.0\n",
      "low: -21000.0\n",
      "over_high总数：39014, below_low总数：0\n"
     ]
    }
   ],
   "source": [
    "Outliers_Detect_IQR_Count_Plot(train_X, col = 'annualIncome')"
   ]
  },
  {
   "cell_type": "code",
   "execution_count": 174,
   "id": "7f9e8724",
   "metadata": {},
   "outputs": [
    {
     "data": {
      "text/plain": [
       "0         110000.0\n",
       "1          46000.0\n",
       "2          74000.0\n",
       "3         118000.0\n",
       "4          29000.0\n",
       "            ...   \n",
       "799995     72000.0\n",
       "799996     99000.0\n",
       "799997     65000.0\n",
       "799998     96000.0\n",
       "799999    120000.0\n",
       "Name: annualIncome, Length: 800000, dtype: float64"
      ]
     },
     "execution_count": 174,
     "metadata": {},
     "output_type": "execute_result"
    }
   ],
   "source": [
    "\"\"\"年收入在15w以上的占比较少，可以看着rare value,采用极值处理\"\"\"\n",
    "Outliers_Handle_IQR(train_X,col = 'annualIncome')"
   ]
  },
  {
   "cell_type": "markdown",
   "id": "cf0aee51",
   "metadata": {},
   "source": [
    "## verificationStatus"
   ]
  },
  {
   "cell_type": "code",
   "execution_count": 164,
   "id": "b935e8bc",
   "metadata": {},
   "outputs": [
    {
     "data": {
      "image/png": "[encoded data removed]",
      "text/plain": [
       "<Figure size 1080x720 with 1 Axes>"
      ]
     },
     "metadata": {
      "needs_background": "light"
     },
     "output_type": "display_data"
    },
    {
     "name": "stdout",
     "output_type": "stream",
     "text": [
      "count    800000.000000\n",
      "mean          1.009683\n",
      "std           0.782716\n",
      "min           0.000000\n",
      "25%           0.000000\n",
      "50%           1.000000\n",
      "75%           2.000000\n",
      "max           2.000000\n",
      "Name: verificationStatus, dtype: float64\n"
     ]
    }
   ],
   "source": [
    "Outliers_Detect_Plot(train_X, 'verificationStatus')"
   ]
  },
  {
   "cell_type": "markdown",
   "id": "cde644cc",
   "metadata": {},
   "source": [
    "## purpose"
   ]
  },
  {
   "cell_type": "code",
   "execution_count": 165,
   "id": "573a8342",
   "metadata": {},
   "outputs": [
    {
     "data": {
      "image/png": "[encoded data removed]",
      "text/plain": [
       "<Figure size 1080x720 with 1 Axes>"
      ]
     },
     "metadata": {
      "needs_background": "light"
     },
     "output_type": "display_data"
    },
    {
     "name": "stdout",
     "output_type": "stream",
     "text": [
      "count    800000.000000\n",
      "mean          1.745982\n",
      "std           2.367453\n",
      "min           0.000000\n",
      "25%           0.000000\n",
      "50%           0.000000\n",
      "75%           4.000000\n",
      "max          13.000000\n",
      "Name: purpose, dtype: float64\n"
     ]
    }
   ],
   "source": [
    "Outliers_Detect_Plot(train_X, col = 'purpose')"
   ]
  },
  {
   "cell_type": "code",
   "execution_count": 166,
   "id": "961bdba2",
   "metadata": {},
   "outputs": [
    {
     "name": "stdout",
     "output_type": "stream",
     "text": [
      "high: 10.0\n",
      "low: -6.0\n",
      "over_high总数：2107, below_low总数：0\n"
     ]
    }
   ],
   "source": [
    "Outliers_Detect_IQR_Count_Plot(train_X,col = 'purpose')"
   ]
  },
  {
   "cell_type": "code",
   "execution_count": 175,
   "id": "d139e545",
   "metadata": {},
   "outputs": [],
   "source": [
    "train_X['purpose'] = Outliers_Handle_IQR(train_X,col = 'purpose')"
   ]
  },
  {
   "cell_type": "markdown",
   "id": "ce9da861",
   "metadata": {},
   "source": [
    "## postCode"
   ]
  },
  {
   "cell_type": "code",
   "execution_count": 176,
   "id": "a258ee20",
   "metadata": {},
   "outputs": [
    {
     "data": {
      "image/png": "[encoded data removed]",
      "text/plain": [
       "<Figure size 1080x720 with 1 Axes>"
      ]
     },
     "metadata": {
      "needs_background": "light"
     },
     "output_type": "display_data"
    },
    {
     "name": "stdout",
     "output_type": "stream",
     "text": [
      "count    800000.000000\n",
      "mean        258.535675\n",
      "std         200.037323\n",
      "min           0.000000\n",
      "25%         103.000000\n",
      "50%         203.000000\n",
      "75%         395.000000\n",
      "max         940.000000\n",
      "Name: postCode, dtype: float64\n"
     ]
    }
   ],
   "source": [
    "Outliers_Detect_Plot(train_X, col = 'postCode')"
   ]
  },
  {
   "cell_type": "code",
   "execution_count": 177,
   "id": "e5b38ba8",
   "metadata": {},
   "outputs": [
    {
     "name": "stdout",
     "output_type": "stream",
     "text": [
      "high: 833.0\n",
      "low: -335.0\n",
      "over_high总数：2715, below_low总数：0\n"
     ]
    }
   ],
   "source": [
    "Outliers_Detect_IQR_Count_Plot(train_X, col = 'postCode')"
   ]
  },
  {
   "cell_type": "code",
   "execution_count": 178,
   "id": "78925187",
   "metadata": {},
   "outputs": [
    {
     "data": {
      "text/plain": [
       "0         137.0\n",
       "1         156.0\n",
       "2         337.0\n",
       "3         148.0\n",
       "4         301.0\n",
       "          ...  \n",
       "799995    242.0\n",
       "799996    563.0\n",
       "799997     47.0\n",
       "799998     34.0\n",
       "799999     62.0\n",
       "Name: postCode, Length: 800000, dtype: float64"
      ]
     },
     "execution_count": 178,
     "metadata": {},
     "output_type": "execute_result"
    }
   ],
   "source": [
    "Outliers_Handle_IQR(train_X, col = 'postCode')"
   ]
  },
  {
   "cell_type": "markdown",
   "id": "6f9d913c",
   "metadata": {},
   "source": [
    "## regionCode"
   ]
  },
  {
   "cell_type": "code",
   "execution_count": 179,
   "id": "adae351f",
   "metadata": {},
   "outputs": [
    {
     "data": {
      "image/png": "[encoded data removed]",
      "text/plain": [
       "<Figure size 1080x720 with 1 Axes>"
      ]
     },
     "metadata": {
      "needs_background": "light"
     },
     "output_type": "display_data"
    },
    {
     "name": "stdout",
     "output_type": "stream",
     "text": [
      "count    800000.000000\n",
      "mean         16.385758\n",
      "std          11.036679\n",
      "min           0.000000\n",
      "25%           8.000000\n",
      "50%          14.000000\n",
      "75%          22.000000\n",
      "max          50.000000\n",
      "Name: regionCode, dtype: float64\n"
     ]
    }
   ],
   "source": [
    "Outliers_Detect_Plot(train_X, 'regionCode')"
   ]
  },
  {
   "cell_type": "code",
   "execution_count": 180,
   "id": "8e17d842",
   "metadata": {},
   "outputs": [
    {
     "name": "stdout",
     "output_type": "stream",
     "text": [
      "high: 43.0\n",
      "low: -13.0\n",
      "over_high总数：14948, below_low总数：0\n"
     ]
    }
   ],
   "source": [
    "Outliers_Detect_IQR_Count_Plot(train_X, col = 'regionCode')"
   ]
  },
  {
   "cell_type": "code",
   "execution_count": 181,
   "id": "bcb5c133",
   "metadata": {},
   "outputs": [],
   "source": [
    "train_X['regionCode'] = Outliers_Handle_IQR(train_X,col = 'regionCode')"
   ]
  },
  {
   "cell_type": "markdown",
   "id": "c478b817",
   "metadata": {},
   "source": [
    "## dti"
   ]
  },
  {
   "cell_type": "code",
   "execution_count": 182,
   "id": "0717cc43",
   "metadata": {},
   "outputs": [
    {
     "data": {
      "image/png": "[encoded data removed]",
      "text/plain": [
       "<Figure size 1080x720 with 1 Axes>"
      ]
     },
     "metadata": {
      "needs_background": "light"
     },
     "output_type": "display_data"
    },
    {
     "name": "stdout",
     "output_type": "stream",
     "text": [
      "count    800000.000000\n",
      "mean         18.284356\n",
      "std          11.148495\n",
      "min          -1.000000\n",
      "25%          11.800000\n",
      "50%          17.610000\n",
      "75%          24.060000\n",
      "max         999.000000\n",
      "Name: dti, dtype: float64\n"
     ]
    }
   ],
   "source": [
    "Outliers_Detect_Plot(train_X,'dti')"
   ]
  },
  {
   "cell_type": "code",
   "execution_count": 183,
   "id": "ce2082da",
   "metadata": {},
   "outputs": [
    {
     "name": "stdout",
     "output_type": "stream",
     "text": [
      "high: 42.449999999999996\n",
      "low: -6.589999999999996\n",
      "over_high总数：3271, below_low总数：0\n"
     ]
    }
   ],
   "source": [
    "Outliers_Detect_IQR_Count_Plot(train_X, 'dti')"
   ]
  },
  {
   "cell_type": "code",
   "execution_count": 185,
   "id": "171616fa",
   "metadata": {},
   "outputs": [],
   "source": [
    "\"\"\"dti为债务收入比，从业务角度看，比率过高可能是异常值\"\"\"\n",
    "train_X['dti'] = Outliers_Handle_IQR(train_X,'dti')"
   ]
  },
  {
   "cell_type": "markdown",
   "id": "8a0bcbe3",
   "metadata": {},
   "source": [
    "## delinquency_2years"
   ]
  },
  {
   "cell_type": "code",
   "execution_count": 186,
   "id": "c42b6a40",
   "metadata": {},
   "outputs": [
    {
     "data": {
      "image/png": "[encoded data removed]",
      "text/plain": [
       "<Figure size 1080x720 with 1 Axes>"
      ]
     },
     "metadata": {
      "needs_background": "light"
     },
     "output_type": "display_data"
    },
    {
     "name": "stdout",
     "output_type": "stream",
     "text": [
      "count    800000.000000\n",
      "mean          0.318239\n",
      "std           0.880325\n",
      "min           0.000000\n",
      "25%           0.000000\n",
      "50%           0.000000\n",
      "75%           0.000000\n",
      "max          39.000000\n",
      "Name: delinquency_2years, dtype: float64\n"
     ]
    }
   ],
   "source": [
    "Outliers_Detect_Plot(train_X, col = 'delinquency_2years')"
   ]
  },
  {
   "cell_type": "code",
   "execution_count": 188,
   "id": "93a84db3",
   "metadata": {},
   "outputs": [
    {
     "name": "stdout",
     "output_type": "stream",
     "text": [
      "high: 0.0\n",
      "low: 0.0\n",
      "over_high总数：154285, below_low总数：0\n"
     ]
    }
   ],
   "source": [
    "Outliers_Detect_IQR_Count_Plot(train_X, col = 'delinquency_2years')"
   ]
  },
  {
   "cell_type": "code",
   "execution_count": 191,
   "id": "d602c83e",
   "metadata": {},
   "outputs": [
    {
     "data": {
      "text/plain": [
       "'从业务角度看，肯定会有违约的情况发生，但是数据特别高的应当注意，根据其取值，可以在编码时处理一下'"
      ]
     },
     "execution_count": 191,
     "metadata": {},
     "output_type": "execute_result"
    }
   ],
   "source": [
    "\"\"\"从业务角度看，肯定会有违约的情况发生，但是数据特别高的应当注意，根据其取值，可以在编码时处理一下\"\"\""
   ]
  },
  {
   "cell_type": "code",
   "execution_count": 190,
   "id": "5d6a6441",
   "metadata": {},
   "outputs": [
    {
     "data": {
      "text/plain": [
       "0.0     645715\n",
       "1.0     102586\n",
       "2.0      29944\n",
       "3.0      10919\n",
       "4.0       4808\n",
       "5.0       2504\n",
       "6.0       1399\n",
       "7.0        770\n",
       "8.0        443\n",
       "9.0        293\n",
       "10.0       192\n",
       "11.0       144\n",
       "12.0        86\n",
       "14.0        53\n",
       "13.0        50\n",
       "15.0        23\n",
       "16.0        20\n",
       "18.0        13\n",
       "19.0        10\n",
       "20.0         7\n",
       "17.0         6\n",
       "22.0         3\n",
       "21.0         3\n",
       "29.0         2\n",
       "26.0         2\n",
       "25.0         1\n",
       "27.0         1\n",
       "39.0         1\n",
       "30.0         1\n",
       "24.0         1\n",
       "Name: delinquency_2years, dtype: int64"
      ]
     },
     "execution_count": 190,
     "metadata": {},
     "output_type": "execute_result"
    }
   ],
   "source": [
    "train_X['delinquency_2years'].value_counts()"
   ]
  },
  {
   "cell_type": "markdown",
   "id": "579f3174",
   "metadata": {},
   "source": [
    "## ficoRangeLow"
   ]
  },
  {
   "cell_type": "code",
   "execution_count": 192,
   "id": "4aaec744",
   "metadata": {},
   "outputs": [
    {
     "data": {
      "image/png": "[encoded data removed]",
      "text/plain": [
       "<Figure size 1080x720 with 1 Axes>"
      ]
     },
     "metadata": {
      "needs_background": "light"
     },
     "output_type": "display_data"
    },
    {
     "name": "stdout",
     "output_type": "stream",
     "text": [
      "count    800000.000000\n",
      "mean        696.204081\n",
      "std          31.865995\n",
      "min         630.000000\n",
      "25%         670.000000\n",
      "50%         690.000000\n",
      "75%         710.000000\n",
      "max         845.000000\n",
      "Name: ficoRangeLow, dtype: float64\n"
     ]
    }
   ],
   "source": [
    "Outliers_Detect_Plot(train_X, 'ficoRangeLow')"
   ]
  },
  {
   "cell_type": "code",
   "execution_count": 194,
   "id": "6289a462",
   "metadata": {},
   "outputs": [
    {
     "name": "stdout",
     "output_type": "stream",
     "text": [
      "high: 770.0\n",
      "low: 610.0\n",
      "over_high总数：27667, below_low总数：0\n"
     ]
    }
   ],
   "source": [
    "Outliers_Detect_IQR_Count_Plot(train_X,col = 'ficoRangeLow')"
   ]
  },
  {
   "cell_type": "code",
   "execution_count": 195,
   "id": "053f6345",
   "metadata": {},
   "outputs": [
    {
     "data": {
      "text/plain": [
       "\"'ficoRangeLow', 'ficoRangeHigh' 成线性关系，可在编码时处理\\n\""
      ]
     },
     "execution_count": 195,
     "metadata": {},
     "output_type": "execute_result"
    }
   ],
   "source": [
    "\"\"\"'ficoRangeLow', 'ficoRangeHigh' 成线性关系，可在编码时处理\n",
    "\"\"\""
   ]
  },
  {
   "cell_type": "markdown",
   "id": "a02f092c",
   "metadata": {},
   "source": [
    "## openAcc"
   ]
  },
  {
   "cell_type": "code",
   "execution_count": 196,
   "id": "242ef18b",
   "metadata": {},
   "outputs": [
    {
     "data": {
      "image/png": "[encoded data removed]",
      "text/plain": [
       "<Figure size 1080x720 with 1 Axes>"
      ]
     },
     "metadata": {
      "needs_background": "light"
     },
     "output_type": "display_data"
    },
    {
     "name": "stdout",
     "output_type": "stream",
     "text": [
      "count    800000.000000\n",
      "mean         11.598020\n",
      "std           5.475286\n",
      "min           0.000000\n",
      "25%           8.000000\n",
      "50%          11.000000\n",
      "75%          14.000000\n",
      "max          86.000000\n",
      "Name: openAcc, dtype: float64\n"
     ]
    }
   ],
   "source": [
    "Outliers_Detect_Plot(train_X,col = 'openAcc')"
   ]
  },
  {
   "cell_type": "code",
   "execution_count": 198,
   "id": "7069d2c6",
   "metadata": {},
   "outputs": [
    {
     "name": "stdout",
     "output_type": "stream",
     "text": [
      "high: 23.0\n",
      "low: -1.0\n",
      "over_high总数：27439, below_low总数：0\n"
     ]
    }
   ],
   "source": [
    "Outliers_Detect_IQR_Count_Plot(train_X,col = 'openAcc')"
   ]
  },
  {
   "cell_type": "code",
   "execution_count": 199,
   "id": "e0c9c8c8",
   "metadata": {},
   "outputs": [
    {
     "data": {
      "text/plain": [
       "'openAcc, 部分数值过大，同样可以在编码阶段做处理'"
      ]
     },
     "execution_count": 199,
     "metadata": {},
     "output_type": "execute_result"
    }
   ],
   "source": [
    "\"\"\"openAcc, 部分数值过大，同样可以在编码阶段做处理\"\"\""
   ]
  },
  {
   "cell_type": "code",
   "execution_count": 200,
   "id": "a2198421",
   "metadata": {},
   "outputs": [
    {
     "data": {
      "image/png": "[encoded data removed]",
      "text/plain": [
       "<Figure size 1080x720 with 1 Axes>"
      ]
     },
     "metadata": {
      "needs_background": "light"
     },
     "output_type": "display_data"
    },
    {
     "name": "stdout",
     "output_type": "stream",
     "text": [
      "count    800000.000000\n",
      "mean          0.214915\n",
      "std           0.606467\n",
      "min           0.000000\n",
      "25%           0.000000\n",
      "50%           0.000000\n",
      "75%           0.000000\n",
      "max          86.000000\n",
      "Name: pubRec, dtype: float64\n"
     ]
    }
   ],
   "source": [
    "Outliers_Detect_Plot(train_X, col = 'pubRec')"
   ]
  },
  {
   "cell_type": "code",
   "execution_count": 201,
   "id": "0ae7cbc0",
   "metadata": {},
   "outputs": [
    {
     "name": "stdout",
     "output_type": "stream",
     "text": [
      "high: 0.0\n",
      "low: 0.0\n",
      "over_high总数：135235, below_low总数：0\n"
     ]
    }
   ],
   "source": [
    "Outliers_Detect_IQR_Count_Plot(train_X, col = 'pubRec')"
   ]
  },
  {
   "cell_type": "code",
   "execution_count": 202,
   "id": "61e04af2",
   "metadata": {},
   "outputs": [
    {
     "data": {
      "text/plain": [
       "'同openAcc ，在编码阶段做处理'"
      ]
     },
     "execution_count": 202,
     "metadata": {},
     "output_type": "execute_result"
    }
   ],
   "source": [
    "\"\"\"同openAcc ，在编码阶段做处理\"\"\""
   ]
  },
  {
   "cell_type": "code",
   "execution_count": null,
   "id": "67ad54bb",
   "metadata": {},
   "outputs": [],
   "source": []
  },
  {
   "cell_type": "markdown",
   "id": "5a5877fc",
   "metadata": {},
   "source": [
    "## pubRecBankruptcies"
   ]
  },
  {
   "cell_type": "code",
   "execution_count": 204,
   "id": "fa52eee9",
   "metadata": {},
   "outputs": [
    {
     "data": {
      "image/png": "[encoded data removed]",
      "text/plain": [
       "<Figure size 1080x720 with 1 Axes>"
      ]
     },
     "metadata": {
      "needs_background": "light"
     },
     "output_type": "display_data"
    },
    {
     "name": "stdout",
     "output_type": "stream",
     "text": [
      "count    800000.000000\n",
      "mean          0.134095\n",
      "std           0.377387\n",
      "min           0.000000\n",
      "25%           0.000000\n",
      "50%           0.000000\n",
      "75%           0.000000\n",
      "max          12.000000\n",
      "Name: pubRecBankruptcies, dtype: float64\n"
     ]
    }
   ],
   "source": [
    "Outliers_Detect_Plot(train_X, col = 'pubRecBankruptcies')"
   ]
  },
  {
   "cell_type": "code",
   "execution_count": 206,
   "id": "d3a18909",
   "metadata": {},
   "outputs": [
    {
     "name": "stdout",
     "output_type": "stream",
     "text": [
      "high: 0.0\n",
      "low: 0.0\n",
      "over_high总数：99519, below_low总数：0\n"
     ]
    }
   ],
   "source": [
    "Outliers_Detect_IQR_Count_Plot(train_X, col = 'pubRecBankruptcies')"
   ]
  },
  {
   "cell_type": "code",
   "execution_count": 207,
   "id": "05c1baff",
   "metadata": {},
   "outputs": [
    {
     "data": {
      "text/plain": [
       "'pubRecBankruptcies 编码阶段处理'"
      ]
     },
     "execution_count": 207,
     "metadata": {},
     "output_type": "execute_result"
    }
   ],
   "source": [
    "\"\"\"pubRecBankruptcies 编码阶段处理\"\"\""
   ]
  },
  {
   "cell_type": "markdown",
   "id": "dc07110f",
   "metadata": {},
   "source": [
    "## revolBal"
   ]
  },
  {
   "cell_type": "code",
   "execution_count": 208,
   "id": "0ffa06cf",
   "metadata": {},
   "outputs": [
    {
     "data": {
      "image/png": "[encoded data removed]",
      "text/plain": [
       "<Figure size 1080x720 with 1 Axes>"
      ]
     },
     "metadata": {
      "needs_background": "light"
     },
     "output_type": "display_data"
    },
    {
     "name": "stdout",
     "output_type": "stream",
     "text": [
      "count    8.000000e+05\n",
      "mean     1.622871e+04\n",
      "std      2.245802e+04\n",
      "min      0.000000e+00\n",
      "25%      5.944000e+03\n",
      "50%      1.113200e+04\n",
      "75%      1.973400e+04\n",
      "max      2.904836e+06\n",
      "Name: revolBal, dtype: float64\n"
     ]
    }
   ],
   "source": [
    "Outliers_Detect_Plot(train_X, col = 'revolBal')"
   ]
  },
  {
   "cell_type": "code",
   "execution_count": 209,
   "id": "2adc5d3c",
   "metadata": {},
   "outputs": [
    {
     "name": "stdout",
     "output_type": "stream",
     "text": [
      "high: 40419.0\n",
      "low: -14741.0\n",
      "over_high总数：47355, below_low总数：0\n"
     ]
    }
   ],
   "source": [
    "Outliers_Detect_IQR_Count_Plot(train_X, col = 'revolBal')"
   ]
  },
  {
   "cell_type": "code",
   "execution_count": 210,
   "id": "2cdfc291",
   "metadata": {},
   "outputs": [],
   "source": [
    "train_X['revolBal'] = Outliers_Handle_IQR(train_X,col = 'revolBal')"
   ]
  },
  {
   "cell_type": "markdown",
   "id": "20b7fc97",
   "metadata": {},
   "source": [
    "## revolBal\n"
   ]
  },
  {
   "cell_type": "code",
   "execution_count": 213,
   "id": "429f0ae9",
   "metadata": {},
   "outputs": [
    {
     "data": {
      "image/png": "[encoded data removed]",
      "text/plain": [
       "<Figure size 1080x720 with 1 Axes>"
      ]
     },
     "metadata": {
      "needs_background": "light"
     },
     "output_type": "display_data"
    },
    {
     "name": "stdout",
     "output_type": "stream",
     "text": [
      "count    800000.000000\n",
      "mean         51.790939\n",
      "std          24.507990\n",
      "min           0.000000\n",
      "25%          33.500000\n",
      "50%          52.100000\n",
      "75%          70.700000\n",
      "max         892.300000\n",
      "Name: revolUtil, dtype: float64\n"
     ]
    }
   ],
   "source": [
    "Outliers_Detect_Plot(train_X,col = 'revolUtil')"
   ]
  },
  {
   "cell_type": "code",
   "execution_count": 214,
   "id": "9d876f76",
   "metadata": {},
   "outputs": [
    {
     "name": "stdout",
     "output_type": "stream",
     "text": [
      "high: 126.5\n",
      "low: -22.300000000000004\n",
      "over_high总数：47, below_low总数：0\n"
     ]
    }
   ],
   "source": [
    "Outliers_Detect_IQR_Count_Plot(train_X, col ='revolUtil')"
   ]
  },
  {
   "cell_type": "code",
   "execution_count": 215,
   "id": "146d9986",
   "metadata": {},
   "outputs": [],
   "source": [
    "train_X['revolUtil'] = Outliers_Handle_IQR(train_X,col = 'revolUtil')"
   ]
  },
  {
   "cell_type": "markdown",
   "id": "02528c9b",
   "metadata": {},
   "source": [
    "## totalAcc"
   ]
  },
  {
   "cell_type": "code",
   "execution_count": 216,
   "id": "66110d3e",
   "metadata": {},
   "outputs": [
    {
     "data": {
      "image/png": "[encoded data removed]",
      "text/plain": [
       "<Figure size 1080x720 with 1 Axes>"
      ]
     },
     "metadata": {
      "needs_background": "light"
     },
     "output_type": "display_data"
    },
    {
     "name": "stdout",
     "output_type": "stream",
     "text": [
      "count    800000.000000\n",
      "mean         24.998861\n",
      "std          11.999201\n",
      "min           2.000000\n",
      "25%          16.000000\n",
      "50%          23.000000\n",
      "75%          32.000000\n",
      "max         162.000000\n",
      "Name: totalAcc, dtype: float64\n"
     ]
    }
   ],
   "source": [
    "Outliers_Detect_Plot(train_X, col ='totalAcc')"
   ]
  },
  {
   "cell_type": "code",
   "execution_count": 217,
   "id": "21aaddb9",
   "metadata": {},
   "outputs": [
    {
     "name": "stdout",
     "output_type": "stream",
     "text": [
      "high: 56.0\n",
      "low: -8.0\n",
      "over_high总数：13446, below_low总数：0\n"
     ]
    }
   ],
   "source": [
    "Outliers_Detect_IQR_Count_Plot(train_X, col = 'totalAcc')"
   ]
  },
  {
   "cell_type": "code",
   "execution_count": 219,
   "id": "e248e94b",
   "metadata": {},
   "outputs": [],
   "source": [
    "train_X['totalAcc'] = Outliers_Handle_IQR(train_X, col = 'totalAcc')"
   ]
  },
  {
   "cell_type": "markdown",
   "id": "4264d29d",
   "metadata": {},
   "source": [
    "## initialListStatus"
   ]
  },
  {
   "cell_type": "code",
   "execution_count": 220,
   "id": "87c1e29d",
   "metadata": {},
   "outputs": [
    {
     "data": {
      "image/png": "[encoded data removed]",
      "text/plain": [
       "<Figure size 1080x720 with 1 Axes>"
      ]
     },
     "metadata": {
      "needs_background": "light"
     },
     "output_type": "display_data"
    },
    {
     "name": "stdout",
     "output_type": "stream",
     "text": [
      "count    800000.000000\n",
      "mean          0.416953\n",
      "std           0.493055\n",
      "min           0.000000\n",
      "25%           0.000000\n",
      "50%           0.000000\n",
      "75%           1.000000\n",
      "max           1.000000\n",
      "Name: initialListStatus, dtype: float64\n"
     ]
    }
   ],
   "source": [
    "Outliers_Detect_Plot(train_X, col = 'initialListStatus')"
   ]
  },
  {
   "cell_type": "code",
   "execution_count": 221,
   "id": "581b401a",
   "metadata": {},
   "outputs": [
    {
     "data": {
      "text/plain": [
       "'initialListStatus 无明显异常'"
      ]
     },
     "execution_count": 221,
     "metadata": {},
     "output_type": "execute_result"
    }
   ],
   "source": [
    "\"\"\"initialListStatus 无明显异常\"\"\""
   ]
  },
  {
   "cell_type": "markdown",
   "id": "ce1bee2f",
   "metadata": {},
   "source": [
    "## applicationType"
   ]
  },
  {
   "cell_type": "code",
   "execution_count": 222,
   "id": "7907c084",
   "metadata": {},
   "outputs": [
    {
     "data": {
      "image/png": "[encoded data removed]",
      "text/plain": [
       "<Figure size 1080x720 with 1 Axes>"
      ]
     },
     "metadata": {
      "needs_background": "light"
     },
     "output_type": "display_data"
    },
    {
     "name": "stdout",
     "output_type": "stream",
     "text": [
      "count    800000.000000\n",
      "mean          0.019267\n",
      "std           0.137464\n",
      "min           0.000000\n",
      "25%           0.000000\n",
      "50%           0.000000\n",
      "75%           0.000000\n",
      "max           1.000000\n",
      "Name: applicationType, dtype: float64\n"
     ]
    }
   ],
   "source": [
    "Outliers_Detect_Plot(train_X,col = 'applicationType')"
   ]
  },
  {
   "cell_type": "code",
   "execution_count": 223,
   "id": "00e12b66",
   "metadata": {},
   "outputs": [
    {
     "name": "stdout",
     "output_type": "stream",
     "text": [
      "high: 0.0\n",
      "low: 0.0\n",
      "over_high总数：15414, below_low总数：0\n"
     ]
    }
   ],
   "source": [
    "Outliers_Detect_IQR_Count_Plot(train_X, col = 'applicationType')"
   ]
  },
  {
   "cell_type": "code",
   "execution_count": 226,
   "id": "b4a8f23b",
   "metadata": {},
   "outputs": [
    {
     "data": {
      "text/plain": [
       "0    784586\n",
       "1     15414\n",
       "Name: applicationType, dtype: int64"
      ]
     },
     "execution_count": 226,
     "metadata": {},
     "output_type": "execute_result"
    }
   ],
   "source": [
    "\"\"\"根据数值统计，可以看出，applicationType=1 在业务上是可能的，因此不认定为异常值\"\"\"\n",
    "train_X['applicationType'].value_counts()"
   ]
  },
  {
   "cell_type": "markdown",
   "id": "4ea5b8ea",
   "metadata": {},
   "source": [
    "## title"
   ]
  },
  {
   "cell_type": "code",
   "execution_count": 227,
   "id": "d2417bde",
   "metadata": {},
   "outputs": [
    {
     "data": {
      "image/png": "[encoded data removed]",
      "text/plain": [
       "<Figure size 1080x720 with 1 Axes>"
      ]
     },
     "metadata": {
      "needs_background": "light"
     },
     "output_type": "display_data"
    },
    {
     "name": "stdout",
     "output_type": "stream",
     "text": [
      "count    800000.000000\n",
      "mean       1754.156596\n",
      "std        7941.562240\n",
      "min           0.000000\n",
      "25%           0.000000\n",
      "50%           1.000000\n",
      "75%           5.000000\n",
      "max       61680.000000\n",
      "Name: title, dtype: float64\n"
     ]
    }
   ],
   "source": [
    "Outliers_Detect_Plot(train_X, col = 'title')"
   ]
  },
  {
   "cell_type": "code",
   "execution_count": 228,
   "id": "86e8dbbc",
   "metadata": {},
   "outputs": [
    {
     "name": "stdout",
     "output_type": "stream",
     "text": [
      "high: 12.5\n",
      "low: -7.5\n",
      "over_high总数：114382, below_low总数：0\n"
     ]
    }
   ],
   "source": [
    "Outliers_Detect_IQR_Count_Plot(train_X, col = 'title')"
   ]
  },
  {
   "cell_type": "code",
   "execution_count": 230,
   "id": "6c079b9e",
   "metadata": {},
   "outputs": [],
   "source": [
    "train_X['title'] = Outliers_Handle_IQR(train_X, col = 'title')"
   ]
  },
  {
   "cell_type": "markdown",
   "id": "47fb111f",
   "metadata": {},
   "source": [
    "## policyCode"
   ]
  },
  {
   "cell_type": "code",
   "execution_count": 231,
   "id": "7a4d4d44",
   "metadata": {},
   "outputs": [
    {
     "data": {
      "image/png": "[encoded data removed]",
      "text/plain": [
       "<Figure size 1080x720 with 1 Axes>"
      ]
     },
     "metadata": {
      "needs_background": "light"
     },
     "output_type": "display_data"
    },
    {
     "name": "stdout",
     "output_type": "stream",
     "text": [
      "count    800000.0\n",
      "mean          1.0\n",
      "std           0.0\n",
      "min           1.0\n",
      "25%           1.0\n",
      "50%           1.0\n",
      "75%           1.0\n",
      "max           1.0\n",
      "Name: policyCode, dtype: float64\n"
     ]
    }
   ],
   "source": [
    "Outliers_Detect_Plot(train_X,col ='policyCode')"
   ]
  },
  {
   "cell_type": "code",
   "execution_count": 232,
   "id": "fdeeb623",
   "metadata": {},
   "outputs": [
    {
     "data": {
      "text/plain": [
       "'policyCode 取值一样，没有异常'"
      ]
     },
     "execution_count": 232,
     "metadata": {},
     "output_type": "execute_result"
    }
   ],
   "source": [
    "\"\"\"policyCode 取值一样，没有异常\"\"\""
   ]
  },
  {
   "cell_type": "markdown",
   "id": "710ee35f",
   "metadata": {},
   "source": [
    "## n0"
   ]
  },
  {
   "cell_type": "code",
   "execution_count": 240,
   "id": "8bd5acf1",
   "metadata": {},
   "outputs": [
    {
     "data": {
      "image/png": "[encoded data removed]",
      "text/plain": [
       "<Figure size 1080x720 with 1 Axes>"
      ]
     },
     "metadata": {
      "needs_background": "light"
     },
     "output_type": "display_data"
    },
    {
     "name": "stdout",
     "output_type": "stream",
     "text": [
      "count    800000.000000\n",
      "mean          1.465745\n",
      "std           5.129754\n",
      "min           0.000000\n",
      "25%           0.000000\n",
      "50%           0.000000\n",
      "75%           1.000000\n",
      "max          51.000000\n",
      "Name: n0, dtype: float64 \n",
      "\n",
      "四分位high: 2.5\n",
      "四分位low: -1.5\n",
      "over_high总数：82612, below_low总数：0\n"
     ]
    }
   ],
   "source": [
    "Outliers_Detect_Plot(train_X, col ='n0')"
   ]
  },
  {
   "cell_type": "code",
   "execution_count": 241,
   "id": "3fd93629",
   "metadata": {},
   "outputs": [
    {
     "data": {
      "text/plain": [
       "0         0.0\n",
       "1         3.5\n",
       "2         0.0\n",
       "3         3.5\n",
       "4         1.0\n",
       "         ... \n",
       "799995    0.0\n",
       "799996    0.0\n",
       "799997    2.0\n",
       "799998    0.0\n",
       "799999    2.0\n",
       "Name: n0, Length: 800000, dtype: float64"
      ]
     },
     "execution_count": 241,
     "metadata": {},
     "output_type": "execute_result"
    }
   ],
   "source": [
    "Outliers_Handle_IQR(train_X,col = 'n0')"
   ]
  },
  {
   "cell_type": "markdown",
   "id": "bfe35276",
   "metadata": {},
   "source": [
    "## n1"
   ]
  },
  {
   "cell_type": "code",
   "execution_count": 242,
   "id": "23ab4297",
   "metadata": {},
   "outputs": [
    {
     "data": {
      "image/png": "[encoded data removed]",
      "text/plain": [
       "<Figure size 1080x720 with 1 Axes>"
      ]
     },
     "metadata": {
      "needs_background": "light"
     },
     "output_type": "display_data"
    },
    {
     "name": "stdout",
     "output_type": "stream",
     "text": [
      "count    800000.000000\n",
      "mean          4.266936\n",
      "std           4.099039\n",
      "min           0.000000\n",
      "25%           2.000000\n",
      "50%           3.000000\n",
      "75%           5.000000\n",
      "max          33.000000\n",
      "Name: n1, dtype: float64 \n",
      "\n",
      "四分位high: 9.5\n",
      "四分位low: -2.5\n",
      "over_high总数：43860, below_low总数：0\n"
     ]
    }
   ],
   "source": [
    "Outliers_Detect_Plot(train_X, col = 'n1')"
   ]
  },
  {
   "cell_type": "code",
   "execution_count": 244,
   "id": "cf07d1e0",
   "metadata": {},
   "outputs": [],
   "source": [
    "train_X['n1'] = Outliers_Handle_IQR(train_X, col = 'n1')"
   ]
  },
  {
   "cell_type": "markdown",
   "id": "c7efd2b1",
   "metadata": {},
   "source": [
    "## n2"
   ]
  },
  {
   "cell_type": "code",
   "execution_count": 245,
   "id": "d3e21628",
   "metadata": {},
   "outputs": [
    {
     "data": {
      "image/png": "[encoded data removed]",
      "text/plain": [
       "<Figure size 1080x720 with 1 Axes>"
      ]
     },
     "metadata": {
      "needs_background": "light"
     },
     "output_type": "display_data"
    },
    {
     "name": "stdout",
     "output_type": "stream",
     "text": [
      "count    800000.000000\n",
      "mean          6.636097\n",
      "std           6.487585\n",
      "min           0.000000\n",
      "25%           3.000000\n",
      "50%           5.000000\n",
      "75%           8.000000\n",
      "max          63.000000\n",
      "Name: n2, dtype: float64 \n",
      "\n",
      "四分位high: 15.5\n",
      "四分位low: -4.5\n",
      "over_high总数：38337, below_low总数：0\n"
     ]
    }
   ],
   "source": [
    "Outliers_Detect_Plot(train_X, col = 'n2')"
   ]
  },
  {
   "cell_type": "code",
   "execution_count": 247,
   "id": "61e029bf",
   "metadata": {},
   "outputs": [],
   "source": [
    "train_X['n2'] = Outliers_Handle_IQR(train_X, col = 'n2')"
   ]
  },
  {
   "cell_type": "markdown",
   "id": "09991b39",
   "metadata": {},
   "source": [
    "## n3"
   ]
  },
  {
   "cell_type": "code",
   "execution_count": 248,
   "id": "953e960d",
   "metadata": {},
   "outputs": [
    {
     "data": {
      "image/png": "[encoded data removed]",
      "text/plain": [
       "<Figure size 1080x720 with 1 Axes>"
      ]
     },
     "metadata": {
      "needs_background": "light"
     },
     "output_type": "display_data"
    },
    {
     "name": "stdout",
     "output_type": "stream",
     "text": [
      "count    800000.000000\n",
      "mean          6.627741\n",
      "std           6.448117\n",
      "min           0.000000\n",
      "25%           3.000000\n",
      "50%           5.000000\n",
      "75%           8.000000\n",
      "max          63.000000\n",
      "Name: n3, dtype: float64 \n",
      "\n",
      "四分位high: 15.5\n",
      "四分位low: -4.5\n",
      "over_high总数：38256, below_low总数：0\n"
     ]
    }
   ],
   "source": [
    "Outliers_Detect_Plot(train_X, col = 'n3')"
   ]
  },
  {
   "cell_type": "code",
   "execution_count": 249,
   "id": "c7ee3879",
   "metadata": {},
   "outputs": [],
   "source": [
    "train_X['n3'] = Outliers_Handle_IQR(train_X,col = 'n3')"
   ]
  },
  {
   "cell_type": "markdown",
   "id": "e7b55436",
   "metadata": {},
   "source": [
    "## n4"
   ]
  },
  {
   "cell_type": "code",
   "execution_count": 251,
   "id": "65c7e72c",
   "metadata": {},
   "outputs": [
    {
     "data": {
      "image/png": "[encoded data removed]",
      "text/plain": [
       "<Figure size 1080x720 with 1 Axes>"
      ]
     },
     "metadata": {
      "needs_background": "light"
     },
     "output_type": "display_data"
    },
    {
     "name": "stdout",
     "output_type": "stream",
     "text": [
      "count    800000.000000\n",
      "mean          5.483682\n",
      "std           5.358346\n",
      "min           0.000000\n",
      "25%           3.000000\n",
      "50%           4.000000\n",
      "75%           6.000000\n",
      "max          49.000000\n",
      "Name: n4, dtype: float64 \n",
      "\n",
      "四分位high: 10.5\n",
      "四分位low: -1.5\n",
      "over_high总数：59408, below_low总数：0\n"
     ]
    }
   ],
   "source": [
    "Outliers_Detect_Plot(train_X, col = 'n4')"
   ]
  },
  {
   "cell_type": "code",
   "execution_count": 254,
   "id": "dbbda752",
   "metadata": {},
   "outputs": [],
   "source": [
    "train_X['n4'] = Outliers_Handle_IQR(train_X, col = 'n4')"
   ]
  },
  {
   "cell_type": "markdown",
   "id": "9d5a370b",
   "metadata": {},
   "source": [
    "## n5"
   ]
  },
  {
   "cell_type": "code",
   "execution_count": 255,
   "id": "69b9ab62",
   "metadata": {},
   "outputs": [
    {
     "data": {
      "image/png": "[encoded data removed]",
      "text/plain": [
       "<Figure size 1080x720 with 1 Axes>"
      ]
     },
     "metadata": {
      "needs_background": "light"
     },
     "output_type": "display_data"
    },
    {
     "name": "stdout",
     "output_type": "stream",
     "text": [
      "count    800000.000000\n",
      "mean          9.319463\n",
      "std           8.261640\n",
      "min           0.000000\n",
      "25%           5.000000\n",
      "50%           7.000000\n",
      "75%          11.000000\n",
      "max          70.000000\n",
      "Name: n5, dtype: float64 \n",
      "\n",
      "四分位high: 20.0\n",
      "四分位low: -4.0\n",
      "over_high总数：43260, below_low总数：0\n"
     ]
    }
   ],
   "source": [
    "Outliers_Detect_Plot(train_X, col = 'n5')"
   ]
  },
  {
   "cell_type": "code",
   "execution_count": 256,
   "id": "65eca45d",
   "metadata": {},
   "outputs": [],
   "source": [
    "train_X['n5'] = Outliers_Handle_IQR(train_X, col = 'n5')"
   ]
  },
  {
   "cell_type": "markdown",
   "id": "83059713",
   "metadata": {},
   "source": [
    "## n6"
   ]
  },
  {
   "cell_type": "code",
   "execution_count": 257,
   "id": "36dbb55f",
   "metadata": {},
   "outputs": [
    {
     "data": {
      "image/png": "[encoded data removed]",
      "text/plain": [
       "<Figure size 1080x720 with 1 Axes>"
      ]
     },
     "metadata": {
      "needs_background": "light"
     },
     "output_type": "display_data"
    },
    {
     "name": "stdout",
     "output_type": "stream",
     "text": [
      "count    800000.000000\n",
      "mean         10.885224\n",
      "std          14.442949\n",
      "min           0.000000\n",
      "25%           4.000000\n",
      "50%           7.000000\n",
      "75%          12.000000\n",
      "max         132.000000\n",
      "Name: n6, dtype: float64 \n",
      "\n",
      "四分位high: 24.0\n",
      "四分位low: -8.0\n",
      "over_high总数：62256, below_low总数：0\n"
     ]
    }
   ],
   "source": [
    "Outliers_Detect_Plot(train_X, col = 'n6')"
   ]
  },
  {
   "cell_type": "code",
   "execution_count": 258,
   "id": "24b988bc",
   "metadata": {},
   "outputs": [],
   "source": [
    "train_X['n6'] = Outliers_Handle_IQR(train_X, col = 'n6')"
   ]
  },
  {
   "cell_type": "markdown",
   "id": "9bcbdd5e",
   "metadata": {},
   "source": [
    "## n7"
   ]
  },
  {
   "cell_type": "code",
   "execution_count": 259,
   "id": "378e0e8b",
   "metadata": {},
   "outputs": [
    {
     "data": {
      "image/png": "[encoded data removed]",
      "text/plain": [
       "<Figure size 1080x720 with 1 Axes>"
      ]
     },
     "metadata": {
      "needs_background": "light"
     },
     "output_type": "display_data"
    },
    {
     "name": "stdout",
     "output_type": "stream",
     "text": [
      "count    800000.000000\n",
      "mean          9.639178\n",
      "std           8.795371\n",
      "min           0.000000\n",
      "25%           5.000000\n",
      "50%           8.000000\n",
      "75%          11.000000\n",
      "max          79.000000\n",
      "Name: n7, dtype: float64 \n",
      "\n",
      "四分位high: 20.0\n",
      "四分位low: -4.0\n",
      "over_high总数：43118, below_low总数：0\n"
     ]
    }
   ],
   "source": [
    "Outliers_Detect_Plot(train_X, col = 'n7')"
   ]
  },
  {
   "cell_type": "code",
   "execution_count": 260,
   "id": "0aa68a2b",
   "metadata": {},
   "outputs": [],
   "source": [
    "train_X['n7'] = Outliers_Handle_IQR(train_X, col = 'n7')"
   ]
  },
  {
   "cell_type": "markdown",
   "id": "ea11d2a8",
   "metadata": {},
   "source": [
    "## n8"
   ]
  },
  {
   "cell_type": "code",
   "execution_count": 261,
   "id": "010a60cb",
   "metadata": {},
   "outputs": [
    {
     "data": {
      "image/png": "[encoded data removed]",
      "text/plain": [
       "<Figure size 1080x720 with 1 Axes>"
      ]
     },
     "metadata": {
      "needs_background": "light"
     },
     "output_type": "display_data"
    },
    {
     "name": "stdout",
     "output_type": "stream",
     "text": [
      "count    800000.000000\n",
      "mean         16.535215\n",
      "std          13.444494\n",
      "min           1.000000\n",
      "25%           9.000000\n",
      "50%          13.000000\n",
      "75%          20.000000\n",
      "max         128.000000\n",
      "Name: n8, dtype: float64 \n",
      "\n",
      "四分位high: 36.5\n",
      "四分位low: -7.5\n",
      "over_high总数：40304, below_low总数：0\n"
     ]
    }
   ],
   "source": [
    "Outliers_Detect_Plot(train_X, col = 'n8')"
   ]
  },
  {
   "cell_type": "code",
   "execution_count": 262,
   "id": "5e3d00ff",
   "metadata": {},
   "outputs": [],
   "source": [
    "train_X['n8'] = Outliers_Handle_IQR(train_X, col = 'n8')"
   ]
  },
  {
   "cell_type": "markdown",
   "id": "ef40245d",
   "metadata": {},
   "source": [
    "## n9"
   ]
  },
  {
   "cell_type": "code",
   "execution_count": 263,
   "id": "513cc6fd",
   "metadata": {},
   "outputs": [
    {
     "data": {
      "image/png": "[encoded data removed]",
      "text/plain": [
       "<Figure size 1080x720 with 1 Axes>"
      ]
     },
     "metadata": {
      "needs_background": "light"
     },
     "output_type": "display_data"
    },
    {
     "name": "stdout",
     "output_type": "stream",
     "text": [
      "count    800000.000000\n",
      "mean          6.401205\n",
      "std           5.537482\n",
      "min           0.000000\n",
      "25%           3.000000\n",
      "50%           5.000000\n",
      "75%           8.000000\n",
      "max          45.000000\n",
      "Name: n9, dtype: float64 \n",
      "\n",
      "四分位high: 15.5\n",
      "四分位low: -4.5\n",
      "over_high总数：35124, below_low总数：0\n"
     ]
    }
   ],
   "source": [
    "Outliers_Detect_Plot(train_X, col = 'n9')"
   ]
  },
  {
   "cell_type": "code",
   "execution_count": 264,
   "id": "9c6ee578",
   "metadata": {},
   "outputs": [],
   "source": [
    "train_X['n9'] = Outliers_Handle_IQR(train_X,col ='n9')"
   ]
  },
  {
   "cell_type": "markdown",
   "id": "4ee2a952",
   "metadata": {},
   "source": [
    "## n10"
   ]
  },
  {
   "cell_type": "code",
   "execution_count": 265,
   "id": "67cbbc71",
   "metadata": {},
   "outputs": [
    {
     "data": {
      "image/png": "[encoded data removed]",
      "text/plain": [
       "<Figure size 1080x720 with 1 Axes>"
      ]
     },
     "metadata": {
      "needs_background": "light"
     },
     "output_type": "display_data"
    },
    {
     "name": "stdout",
     "output_type": "stream",
     "text": [
      "count    800000.000000\n",
      "mean         12.745850\n",
      "std           8.875374\n",
      "min           0.000000\n",
      "25%           8.000000\n",
      "50%          11.000000\n",
      "75%          15.000000\n",
      "max          82.000000\n",
      "Name: n10, dtype: float64 \n",
      "\n",
      "四分位high: 25.5\n",
      "四分位low: -2.5\n",
      "over_high总数：38869, below_low总数：0\n"
     ]
    }
   ],
   "source": [
    "Outliers_Detect_Plot(train_X,col = 'n10')"
   ]
  },
  {
   "cell_type": "code",
   "execution_count": 266,
   "id": "3b631334",
   "metadata": {},
   "outputs": [],
   "source": [
    "train_X['n10'] = Outliers_Handle_IQR(train_X, col ='n10')"
   ]
  },
  {
   "cell_type": "markdown",
   "id": "2904f35c",
   "metadata": {},
   "source": [
    "## n11"
   ]
  },
  {
   "cell_type": "code",
   "execution_count": 270,
   "id": "39164b7b",
   "metadata": {},
   "outputs": [
    {
     "data": {
      "image/png": "[encoded data removed]",
      "text/plain": [
       "<Figure size 1080x720 with 1 Axes>"
      ]
     },
     "metadata": {
      "needs_background": "light"
     },
     "output_type": "display_data"
    },
    {
     "name": "stdout",
     "output_type": "stream",
     "text": [
      "count    730248.000000\n",
      "mean          0.000815\n",
      "std           0.030075\n",
      "min           0.000000\n",
      "25%           0.000000\n",
      "50%           0.000000\n",
      "75%           0.000000\n",
      "max           4.000000\n",
      "Name: n11, dtype: float64 \n",
      "\n",
      "四分位high: 0.0\n",
      "四分位low: 0.0\n",
      "over_high总数：566, below_low总数：0\n"
     ]
    }
   ],
   "source": [
    "Outliers_Detect_Plot(train_X,col = 'n11')"
   ]
  },
  {
   "cell_type": "code",
   "execution_count": 271,
   "id": "800fc186",
   "metadata": {},
   "outputs": [],
   "source": [
    "train_X['n11'] = Outliers_Handle_IQR(train_X, col = 'n11')"
   ]
  },
  {
   "cell_type": "markdown",
   "id": "c82ec15b",
   "metadata": {},
   "source": [
    "## n12"
   ]
  },
  {
   "cell_type": "code",
   "execution_count": 272,
   "id": "a29e9fe8",
   "metadata": {},
   "outputs": [
    {
     "data": {
      "image/png": "[encoded data removed]",
      "text/plain": [
       "<Figure size 1080x720 with 1 Axes>"
      ]
     },
     "metadata": {
      "needs_background": "light"
     },
     "output_type": "display_data"
    },
    {
     "name": "stdout",
     "output_type": "stream",
     "text": [
      "count    800000.000000\n",
      "mean          0.104347\n",
      "std           0.544600\n",
      "min           0.000000\n",
      "25%           0.000000\n",
      "50%           0.000000\n",
      "75%           0.000000\n",
      "max           4.000000\n",
      "Name: n12, dtype: float64 \n",
      "\n",
      "四分位high: 0.0\n",
      "四分位low: 0.0\n",
      "over_high总数：34684, below_low总数：0\n"
     ]
    }
   ],
   "source": [
    "Outliers_Detect_Plot(train_X,col='n12')"
   ]
  },
  {
   "cell_type": "code",
   "execution_count": 274,
   "id": "74363833",
   "metadata": {},
   "outputs": [],
   "source": [
    "train_X['n12'] = Outliers_Handle_IQR(train_X,col ='n12')"
   ]
  },
  {
   "cell_type": "markdown",
   "id": "3174ad9a",
   "metadata": {},
   "source": [
    "## n13"
   ]
  },
  {
   "cell_type": "code",
   "execution_count": 275,
   "id": "f45bbcf1",
   "metadata": {},
   "outputs": [
    {
     "data": {
      "image/png": "[encoded data removed]",
      "text/plain": [
       "<Figure size 1080x720 with 1 Axes>"
      ]
     },
     "metadata": {
      "needs_background": "light"
     },
     "output_type": "display_data"
    },
    {
     "name": "stdout",
     "output_type": "stream",
     "text": [
      "count    800000.000000\n",
      "mean          0.806239\n",
      "std           3.814902\n",
      "min           0.000000\n",
      "25%           0.000000\n",
      "50%           0.000000\n",
      "75%           0.000000\n",
      "max          39.000000\n",
      "Name: n13, dtype: float64 \n",
      "\n",
      "四分位high: 0.0\n",
      "四分位low: 0.0\n",
      "over_high总数：82409, below_low总数：0\n"
     ]
    }
   ],
   "source": [
    "Outliers_Detect_Plot(train_X, col = 'n13')"
   ]
  },
  {
   "cell_type": "code",
   "execution_count": 276,
   "id": "1a281e7f",
   "metadata": {},
   "outputs": [],
   "source": [
    "train_X['n13'] = Outliers_Handle_IQR(train_X,col ='n13')"
   ]
  },
  {
   "cell_type": "markdown",
   "id": "5eb10c9c",
   "metadata": {},
   "source": [
    "## n14"
   ]
  },
  {
   "cell_type": "code",
   "execution_count": 277,
   "id": "a1fd4314",
   "metadata": {},
   "outputs": [
    {
     "data": {
      "image/png": "[encoded data removed]",
      "text/plain": [
       "<Figure size 1080x720 with 1 Axes>"
      ]
     },
     "metadata": {
      "needs_background": "light"
     },
     "output_type": "display_data"
    },
    {
     "name": "stdout",
     "output_type": "stream",
     "text": [
      "count    800000.000000\n",
      "mean          2.825500\n",
      "std           3.889121\n",
      "min           0.000000\n",
      "25%           1.000000\n",
      "50%           2.000000\n",
      "75%           3.000000\n",
      "max          30.000000\n",
      "Name: n14, dtype: float64 \n",
      "\n",
      "四分位high: 6.0\n",
      "四分位low: -2.0\n",
      "over_high总数：51838, below_low总数：0\n"
     ]
    }
   ],
   "source": [
    "Outliers_Detect_Plot(train_X,col = 'n14')"
   ]
  },
  {
   "cell_type": "code",
   "execution_count": 278,
   "id": "7c5c9c61",
   "metadata": {},
   "outputs": [],
   "source": [
    "train_X['n14'] = Outliers_Handle_IQR(train_X,col ='n14')"
   ]
  },
  {
   "cell_type": "code",
   "execution_count": 279,
   "id": "39882b6c",
   "metadata": {},
   "outputs": [],
   "source": [
    "train_X.to_csv(\"./train_filled_Outliers.csv\", index = False)"
   ]
  },
  {
   "cell_type": "code",
   "execution_count": null,
   "id": "4c57bd24",
   "metadata": {},
   "outputs": [],
   "source": []
  }
 ],
 "metadata": {
  "kernelspec": {
   "display_name": "Python 3 (ipykernel)",
   "language": "python",
   "name": "python3"
  },
  "language_info": {
   "codemirror_mode": {
    "name": "ipython",
    "version": 3
   },
   "file_extension": ".py",
   "mimetype": "text/x-python",
   "name": "python",
   "nbconvert_exporter": "python",
   "pygments_lexer": "ipython3",
   "version": "3.9.13"
  }
 },
 "nbformat": 4,
 "nbformat_minor": 5
}
