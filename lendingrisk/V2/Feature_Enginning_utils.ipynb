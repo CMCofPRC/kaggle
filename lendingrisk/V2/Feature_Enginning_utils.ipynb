{
 "cells": [
  {
   "cell_type": "code",
   "execution_count": 1,
   "id": "64cab989",
   "metadata": {},
   "outputs": [
    {
     "data": {
      "text/html": [
       "\n",
       "<style>\n",
       "    div#notebook-container    { width: 100%; }\n",
       "    div#menubar-container     { width: 90%; }\n",
       "    div#maintoolbar-container { width: 99%; }\n",
       "    div#maintoolbar{background:#e5e5e5;}\n",
       "</style>\n"
      ],
      "text/plain": [
       "<IPython.core.display.HTML object>"
      ]
     },
     "metadata": {},
     "output_type": "display_data"
    }
   ],
   "source": [
    "import os\n",
    "import gc\n",
    "import warnings\n",
    "import random\n",
    "\n",
    "import pandas as pd\n",
    "import numpy as np\n",
    " \n",
    "%run Page_Style.ipynb\n",
    "warnings.filterwarnings(action='ignore')"
   ]
  },
  {
   "cell_type": "code",
   "execution_count": null,
   "id": "8ac6d08a",
   "metadata": {},
   "outputs": [],
   "source": []
  },
  {
   "cell_type": "code",
   "execution_count": 12,
   "id": "7772833c",
   "metadata": {},
   "outputs": [],
   "source": [
    "def Encoding_Get_Value_Counts(data, col = None, num = 1):\n",
    "    \"\"\"\n",
    "    返回data[col]的取值统计，有助于检测rare value\n",
    "    \"\"\"\n",
    "    print(\"完整的数值分布：\\n\")\n",
    "    print(data[col].value_counts())\n",
    "    indexs = data[col].value_counts().index[data[col].value_counts() <= num]\n",
    "    df = pd.DataFrame(data[col].value_counts()[indexs])\n",
    "    df = df.rename(columns={col:'counts'})\n",
    "    df.sort_values(by = 'counts', ascending = False)\n",
    "    print(\"取值少于{}\\n\".format(num))\n",
    "    print(df)\n",
    "    del df\n",
    "    gc.collect()"
   ]
  }
 ],
 "metadata": {
  "kernelspec": {
   "display_name": "Python 3 (ipykernel)",
   "language": "python",
   "name": "python3"
  },
  "language_info": {
   "codemirror_mode": {
    "name": "ipython",
    "version": 3
   },
   "file_extension": ".py",
   "mimetype": "text/x-python",
   "name": "python",
   "nbconvert_exporter": "python",
   "pygments_lexer": "ipython3",
   "version": "3.9.13"
  }
 },
 "nbformat": 4,
 "nbformat_minor": 5
}
