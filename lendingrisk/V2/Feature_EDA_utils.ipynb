{
 "cells": [
  {
   "cell_type": "code",
   "execution_count": 2,
   "id": "e9347c27",
   "metadata": {},
   "outputs": [],
   "source": [
    "import os\n",
    "import sys\n",
    "import warnings\n",
    "import gc\n",
    "\n",
    "import pandas as pd\n",
    "import numpy as np\n",
    "import matplotlib.pyplot as plt\n",
    "import seaborn as sns\n",
    "\n",
    "\n",
    "warnings.filterwarnings(\"ignore\")"
   ]
  },
  {
   "cell_type": "code",
   "execution_count": 9,
   "id": "c6c90c66",
   "metadata": {},
   "outputs": [],
   "source": [
    "def Get_Dtype(df):\n",
    "    \"\"\"\n",
    "    user-defined function,\n",
    "    Reuturn the data type of DataFrame\n",
    "    \n",
    "    parameters:\n",
    "        df:DataFrame\n",
    "    \"\"\"\n",
    "    str_cols = []\n",
    "    num_cols = []\n",
    "    for col in df.columns:\n",
    "        if df[col].dtype in (np.int, np.int64, np.uint, np.int32, np.float,\n",
    "                               np.float64, np.float32, np.double):\n",
    "            num_cols.append(col)\n",
    "        else:\n",
    "            str_cols.append(col)\n",
    "    return str_cols, num_cols"
   ]
  },
  {
   "cell_type": "code",
   "execution_count": 12,
   "id": "61a62a70",
   "metadata": {},
   "outputs": [],
   "source": [
    "def Category_BoxPlot(df,col,hue = None):\n",
    "    \"\"\"\n",
    "    plot the count and boxplot of category feature\n",
    "    \"\"\"\n",
    "    fig, ax = plt.subplots(1,2,figsize = (15,10))\n",
    "    sns.countplot(data=df,x = col,hue=hue, ax = ax[0])\n",
    "    ax[0].set_title(label = \"the counts of {}\".format(col))\n",
    "    \n",
    "    sns.boxplot(data= df,y = col, ax=ax[1])\n",
    "    plt.show()\n",
    "    plt.close()"
   ]
  },
  {
   "cell_type": "code",
   "execution_count": 15,
   "id": "cdc840d0",
   "metadata": {},
   "outputs": [],
   "source": [
    "def Numerical_BoxPlot(df,col,hue = None):\n",
    "    \"\"\"\n",
    "    plot the count and boxplot of category feature\n",
    "    \"\"\"\n",
    "    fig, ax = plt.subplots(1,2,figsize = (15,10))\n",
    "    sns.histplot(data=df,x = col,hue=hue, ax = ax[0])\n",
    "    ax[0].set_title(label = \"the distribution of {}\".format(col))\n",
    "    \n",
    "    sns.boxplot(data= df,y = col, ax=ax[1])\n",
    "    plt.show()\n",
    "    plt.close()"
   ]
  },
  {
   "cell_type": "code",
   "execution_count": null,
   "id": "98d1a18d",
   "metadata": {},
   "outputs": [],
   "source": []
  },
  {
   "cell_type": "code",
   "execution_count": null,
   "id": "b9102829",
   "metadata": {},
   "outputs": [],
   "source": []
  },
  {
   "cell_type": "code",
   "execution_count": null,
   "id": "53019fc1",
   "metadata": {},
   "outputs": [],
   "source": []
  },
  {
   "cell_type": "code",
   "execution_count": null,
   "id": "6568d231",
   "metadata": {},
   "outputs": [],
   "source": []
  }
 ],
 "metadata": {
  "kernelspec": {
   "display_name": "Python 3 (ipykernel)",
   "language": "python",
   "name": "python3"
  },
  "language_info": {
   "codemirror_mode": {
    "name": "ipython",
    "version": 3
   },
   "file_extension": ".py",
   "mimetype": "text/x-python",
   "name": "python",
   "nbconvert_exporter": "python",
   "pygments_lexer": "ipython3",
   "version": "3.9.13"
  }
 },
 "nbformat": 4,
 "nbformat_minor": 5
}
