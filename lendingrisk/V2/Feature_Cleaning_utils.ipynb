{
 "cells": [
  {
   "cell_type": "code",
   "execution_count": 2,
   "id": "0df116cc",
   "metadata": {},
   "outputs": [
    {
     "data": {
      "text/html": [
       "\n",
       "<style>\n",
       "    div#notebook-container    { width: 100%; }\n",
       "    div#menubar-container     { width: 90%; }\n",
       "    div#maintoolbar-container { width: 99%; }\n",
       "    div#maintoolbar{background:#e5e5e5;}\n",
       "</style>\n"
      ],
      "text/plain": [
       "<IPython.core.display.HTML object>"
      ]
     },
     "metadata": {},
     "output_type": "display_data"
    }
   ],
   "source": [
    "import os\n",
    "import sys\n",
    "import warnings\n",
    "import gc\n",
    "import random\n",
    "import itertools\n",
    "import pandas as pd\n",
    "import numpy as np\n",
    "import matplotlib.pyplot as plt\n",
    "import seaborn as sns\n",
    "from sklearn.impute import SimpleImputer\n",
    "from sklearn.ensemble import RandomForestClassifier\n",
    "\n",
    "\n",
    "%run Page_Style.ipynb\n",
    "warnings.filterwarnings(\"ignore\")"
   ]
  },
  {
   "cell_type": "code",
   "execution_count": 4,
   "id": "91b40f7a",
   "metadata": {},
   "outputs": [],
   "source": [
    "def Missing_Col_Detect(data,col = None):\n",
    "    \"\"\"\n",
    "    return the counts and percentage of missing value of col\n",
    "    \"\"\"\n",
    "    \n",
    "    missing_count = data[col].isnull().sum()\n",
    "    missing_id_list = list(data[data[col].isnull()]['id'])\n",
    "    missing_percentage = data[col].isnull().mean()\n",
    "    print('特征：{}'.format(col))\n",
    "    print(\"缺失总数：{}\".format(missing_count))\n",
    "    print(\"缺失比例：{}%\".format(missing_percentage * 100))\n",
    "    print(\"缺失值所在列id，如下：\")\n",
    "    return missing_id_list\n",
    "    \n",
    "    "
   ]
  },
  {
   "cell_type": "code",
   "execution_count": 3,
   "id": "431e864c",
   "metadata": {},
   "outputs": [],
   "source": [
    "def Missing_All_Col_Detect(data,col = None):\n",
    "    \"\"\"\n",
    "    return the counts and percentage of missing value of all features\n",
    "    \"\"\"\n",
    "    \n",
    "    missing_df = pd.concat([data.isnull().sum(), data.isnull().mean()], axis = 1)\n",
    "    missing_df = missing_df.rename(index = str,columns = {0:'missing_total', 1:'missing_per'})\n",
    "    return missing_df\n",
    "    \n",
    "    "
   ]
  },
  {
   "cell_type": "code",
   "execution_count": 5,
   "id": "bca16201",
   "metadata": {},
   "outputs": [],
   "source": [
    "def Missing_Imputer_Medthod(data, col = None, method = None,fill_value = None):\n",
    "    \"\"\"\n",
    "    根据不同方法，填充缺失值\n",
    "    \"\"\"\n",
    "    filled_data = []\n",
    "    if method == 'random':\n",
    "        choice_list = data[col].value_counts().index.to_list()\n",
    "        filled_data = data[col].apply(lambda x: random.choice(choice_list) if pd.isna(x) else x) \n",
    "    elif method != 'constant':\n",
    "        imputer = SimpleImputer(strategy = method)\n",
    "        filled_data = imputer.fit_transform(data[[col]])\n",
    "    else:\n",
    "        imputer = SimpleImputer(strategy = method, fill_value=fill_value)\n",
    "        filled_data = imputer.fit_transform(data[[col]])\n",
    "        \n",
    "    return filled_data"
   ]
  },
  {
   "cell_type": "code",
   "execution_count": 7,
   "id": "38ea9f19",
   "metadata": {},
   "outputs": [],
   "source": [
    "def Outliers_Detect_Plot(data,col = None):\n",
    "    \"\"\"\n",
    "    检测某一个特征列的异常值, 根据1.5倍IQR原理，统计异常值数量\n",
    "    \"\"\"\n",
    "    fig = plt.figure(figsize = (15, 10))\n",
    "    sns.boxplot(data=data,y = col)\n",
    "    plt.show()\n",
    "    plt.close()\n",
    "    \n",
    "    print(data[col].describe(),'\\n')\n",
    "    \n",
    "    Q1 = data[col].describe()['25%']\n",
    "    Q3 = data[col].describe()['75%']\n",
    "    IQR = Q3 - Q1\n",
    "    high = Q3 + IQR * 1.5\n",
    "    low = Q1 - IQR * 1.5\n",
    "    print(\"四分位high: {}\".format(high))\n",
    "    print(\"四分位low: {}\".format(low))\n",
    "    over_high = [x for x in data[col].values if x > high]\n",
    "    below_low = [x for x in data[col].values if x < low]\n",
    "\n",
    "    print(\"over_high总数：{}, below_low总数：{}\".format(len(over_high), len(below_low)))"
   ]
  },
  {
   "cell_type": "code",
   "execution_count": 9,
   "id": "0948feff",
   "metadata": {},
   "outputs": [],
   "source": [
    "def Outliers_Handle_IQR(data, col = None):\n",
    "    \"\"\"\n",
    "    根据IQR对异常值进行处理\n",
    "    \"\"\"\n",
    "    Q3 = data[col].describe()['75%']\n",
    "    Q1 = data[col].describe()['25%']\n",
    "    IQR = Q3 - Q1\n",
    "    high = Q3 + IQR * 1.5\n",
    "    low = Q1 - IQR * 1.5\n",
    "\n",
    "    data[col] = data[col].apply(lambda x: high + 1 if x > high else x)\n",
    "    data[col] = data[col].apply(lambda x: low - 1 if x < low else x)\n",
    "    return data[col]"
   ]
  },
  {
   "cell_type": "code",
   "execution_count": 1,
   "id": "807116fd",
   "metadata": {},
   "outputs": [],
   "source": [
    "def Rare_Value_Impute(data, col= None, num = 1,method = 'extreme', value = -1):\n",
    "    \"\"\"\n",
    "    对取值少的特征进行处理, \n",
    "    可以采用众数重赋值，\n",
    "    也可以使用极值重赋值\n",
    "    \"\"\"\n",
    "    data_value_counts = data[col].value_counts()\n",
    "    value_list = list(data_value_counts.index[data_value_counts <= num])\n",
    "    index_list = []\n",
    "    for i in value_list:\n",
    "        index_list.append(list(data[col][data[col].values == i].index))\n",
    "    index_list = itertools.chain(*index_list)\n",
    "    \n",
    "    if(method == 'extreme'):\n",
    "        data[col].loc[index_list] = value\n",
    "    elif method == 'mode':\n",
    "        value = data[col].mode()\n",
    "        data[col].loc[index_list] = value\n",
    "    elif method == 'median':\n",
    "        value = data[col].method()\n",
    "        data[col].loc[index_list] = value\n",
    "    elif method == 'mean':\n",
    "        value = data[col].mean()\n",
    "        data[col].loc[index_list] = value\n",
    "    return data[col]"
   ]
  },
  {
   "cell_type": "code",
   "execution_count": 3,
   "id": "bde0814f",
   "metadata": {},
   "outputs": [],
   "source": [
    "def Rare_Get_Value_Counts(data, col = None, num = 1):\n",
    "    \"\"\"\n",
    "    返回data[col]的取值统计，有助于检测rare value\n",
    "    \"\"\"\n",
    "    print(\"完整的数值分布：\\n\")\n",
    "    print(data[col].value_counts())\n",
    "    indexs = data[col].value_counts().index[data[col].value_counts() <= num]\n",
    "    df = pd.DataFrame(data[col].value_counts()[indexs])\n",
    "    df = df.rename(columns={col:'counts'})\n",
    "    df.sort_values(by = 'counts', ascending = False)\n",
    "    print(\"取值<={}\\n\".format(num))\n",
    "    print(df)\n",
    "    del df\n",
    "    gc.collect()"
   ]
  }
 ],
 "metadata": {
  "kernelspec": {
   "display_name": "Python 3 (ipykernel)",
   "language": "python",
   "name": "python3"
  },
  "language_info": {
   "codemirror_mode": {
    "name": "ipython",
    "version": 3
   },
   "file_extension": ".py",
   "mimetype": "text/x-python",
   "name": "python",
   "nbconvert_exporter": "python",
   "pygments_lexer": "ipython3",
   "version": "3.7.0"
  }
 },
 "nbformat": 4,
 "nbformat_minor": 5
}
