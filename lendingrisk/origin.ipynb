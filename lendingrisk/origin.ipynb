{
 "cells": [
  {
   "cell_type": "code",
   "execution_count": 1,
   "id": "babcee29",
   "metadata": {},
   "outputs": [],
   "source": [
    "import pandas as pd\n",
    "import gc\n",
    "import numpy as np\n",
    "from sklearn.tree import DecisionTreeClassifier\n",
    "from sklearn.ensemble import RandomForestClassifier\n",
    "from sklearn.metrics import roc_auc_score\n",
    "from sklearn.model_selection import StratifiedKFold\n",
    "import xgboost\n",
    "import lightgbm\n",
    "seed_state = 2022"
   ]
  },
  {
   "cell_type": "code",
   "execution_count": 2,
   "id": "771756e3",
   "metadata": {},
   "outputs": [],
   "source": [
    "train_df = pd.read_pickle(\"./train_df.pkl\")\n",
    "test_df = pd.read_pickle(\"./test_df.pkl\")"
   ]
  },
  {
   "cell_type": "code",
   "execution_count": 3,
   "id": "e44ab6c6",
   "metadata": {},
   "outputs": [
    {
     "name": "stdout",
     "output_type": "stream",
     "text": [
      "<class 'pandas.core.frame.DataFrame'>\n",
      "RangeIndex: 800000 entries, 0 to 799999\n",
      "Data columns (total 50 columns):\n",
      " #   Column                   Non-Null Count   Dtype  \n",
      "---  ------                   --------------   -----  \n",
      " 0   id                       800000 non-null  int64  \n",
      " 1   loanAmnt                 800000 non-null  float64\n",
      " 2   term                     800000 non-null  int64  \n",
      " 3   interestRate             800000 non-null  float64\n",
      " 4   installment              800000 non-null  float64\n",
      " 5   grade                    800000 non-null  int32  \n",
      " 6   subGrade                 800000 non-null  int32  \n",
      " 7   employmentTitle          800000 non-null  float64\n",
      " 8   employmentLength         800000 non-null  int32  \n",
      " 9   homeOwnership            800000 non-null  int64  \n",
      " 10  annualIncome             800000 non-null  float64\n",
      " 11  verificationStatus       800000 non-null  int64  \n",
      " 12  isDefault                800000 non-null  int64  \n",
      " 13  purpose                  800000 non-null  int64  \n",
      " 14  postCode                 800000 non-null  float64\n",
      " 15  regionCode               800000 non-null  int64  \n",
      " 16  dti                      800000 non-null  float64\n",
      " 17  delinquency_2years       800000 non-null  float64\n",
      " 18  ficoRangeLow             800000 non-null  float64\n",
      " 19  ficoRangeHigh            800000 non-null  float64\n",
      " 20  openAcc                  800000 non-null  float64\n",
      " 21  pubRec                   800000 non-null  float64\n",
      " 22  pubRecBankruptcies       800000 non-null  float64\n",
      " 23  revolBal                 800000 non-null  float64\n",
      " 24  revolUtil                800000 non-null  float64\n",
      " 25  totalAcc                 800000 non-null  float64\n",
      " 26  initialListStatus        800000 non-null  int64  \n",
      " 27  applicationType          800000 non-null  int64  \n",
      " 28  title                    800000 non-null  float64\n",
      " 29  policyCode               800000 non-null  float64\n",
      " 30  n0                       800000 non-null  float64\n",
      " 31  n1                       800000 non-null  float64\n",
      " 32  n2                       800000 non-null  float64\n",
      " 33  n3                       800000 non-null  float64\n",
      " 34  n4                       800000 non-null  float64\n",
      " 35  n5                       800000 non-null  float64\n",
      " 36  n6                       800000 non-null  float64\n",
      " 37  n7                       800000 non-null  float64\n",
      " 38  n8                       800000 non-null  float64\n",
      " 39  n9                       800000 non-null  float64\n",
      " 40  n10                      800000 non-null  float64\n",
      " 41  n11                      800000 non-null  float64\n",
      " 42  n12                      800000 non-null  float64\n",
      " 43  n13                      800000 non-null  float64\n",
      " 44  n14                      800000 non-null  float64\n",
      " 45  issueDate_year           800000 non-null  int64  \n",
      " 46  issueDate_month          800000 non-null  int64  \n",
      " 47  issueDate_day            800000 non-null  int64  \n",
      " 48  earliesCreditLine_month  800000 non-null  int64  \n",
      " 49  earliesCreditLine_year   800000 non-null  int64  \n",
      "dtypes: float64(33), int32(3), int64(14)\n",
      "memory usage: 296.0 MB\n"
     ]
    }
   ],
   "source": [
    "train_df.info()"
   ]
  },
  {
   "cell_type": "code",
   "execution_count": 4,
   "id": "2e2791ca",
   "metadata": {},
   "outputs": [],
   "source": [
    "train_X = train_df.copy()\n",
    "train_y = train_X['isDefault']\n",
    "\n",
    "train_X.drop(labels = ['isDefault'], axis = 1, inplace = True)"
   ]
  },
  {
   "cell_type": "code",
   "execution_count": 5,
   "id": "cdece25b",
   "metadata": {},
   "outputs": [
    {
     "data": {
      "text/plain": [
       "Index(['id', 'loanAmnt', 'term', 'interestRate', 'installment', 'grade',\n",
       "       'subGrade', 'employmentTitle', 'employmentLength', 'homeOwnership',\n",
       "       'annualIncome', 'verificationStatus', 'purpose', 'postCode',\n",
       "       'regionCode', 'dti', 'delinquency_2years', 'ficoRangeLow',\n",
       "       'ficoRangeHigh', 'openAcc', 'pubRec', 'pubRecBankruptcies', 'revolBal',\n",
       "       'revolUtil', 'totalAcc', 'initialListStatus', 'applicationType',\n",
       "       'title', 'policyCode', 'n0', 'n1', 'n2', 'n3', 'n4', 'n5', 'n6', 'n7',\n",
       "       'n8', 'n9', 'n10', 'n11', 'n12', 'n13', 'n14', 'issueDate_year',\n",
       "       'issueDate_month', 'issueDate_day', 'earliesCreditLine_month',\n",
       "       'earliesCreditLine_year'],\n",
       "      dtype='object')"
      ]
     },
     "execution_count": 5,
     "metadata": {},
     "output_type": "execute_result"
    }
   ],
   "source": [
    "train_X.columns"
   ]
  },
  {
   "cell_type": "code",
   "execution_count": 6,
   "id": "aac448f0",
   "metadata": {},
   "outputs": [
    {
     "data": {
      "text/plain": [
       "Index(['id', 'loanAmnt', 'term', 'interestRate', 'installment', 'grade',\n",
       "       'subGrade', 'employmentTitle', 'employmentLength', 'homeOwnership',\n",
       "       'annualIncome', 'verificationStatus', 'purpose', 'postCode',\n",
       "       'regionCode', 'dti', 'delinquency_2years', 'ficoRangeLow',\n",
       "       'ficoRangeHigh', 'openAcc', 'pubRec', 'pubRecBankruptcies', 'revolBal',\n",
       "       'revolUtil', 'totalAcc', 'initialListStatus', 'applicationType',\n",
       "       'title', 'policyCode', 'n0', 'n1', 'n2', 'n3', 'n4', 'n5', 'n6', 'n7',\n",
       "       'n8', 'n9', 'n10', 'n11', 'n12', 'n13', 'n14', 'issueDate_year',\n",
       "       'issueDate_month', 'issueDate_day', 'earliesCreditLine_month',\n",
       "       'earliesCreditLine_year'],\n",
       "      dtype='object')"
      ]
     },
     "execution_count": 6,
     "metadata": {},
     "output_type": "execute_result"
    }
   ],
   "source": [
    "test_df.columns"
   ]
  },
  {
   "cell_type": "code",
   "execution_count": 7,
   "id": "a4993cca",
   "metadata": {
    "scrolled": true
   },
   "outputs": [
    {
     "name": "stderr",
     "output_type": "stream",
     "text": [
      "C:\\Users\\Mr.Li\\AppData\\Local\\Temp\\ipykernel_17156\\1412807090.py:10: SettingWithCopyWarning: \n",
      "A value is trying to be set on a copy of a slice from a DataFrame.\n",
      "Try using .loc[row_indexer,col_indexer] = value instead\n",
      "\n",
      "See the caveats in the documentation: https://pandas.pydata.org/pandas-docs/stable/user_guide/indexing.html#returning-a-view-versus-a-copy\n",
      "  prediction['prob'] = 0\n"
     ]
    },
    {
     "name": "stdout",
     "output_type": "stream",
     "text": [
      "\n",
      "Fold_1 Training ========================\n",
      "\n"
     ]
    },
    {
     "name": "stderr",
     "output_type": "stream",
     "text": [
      "E:\\anaconda\\envs\\kaggle\\lib\\site-packages\\xgboost\\sklearn.py:793: UserWarning: `eval_metric` in `fit` method is deprecated for better compatibility with scikit-learn, use `eval_metric` in constructor or`set_params` instead.\n",
      "  warnings.warn(\n",
      "E:\\anaconda\\envs\\kaggle\\lib\\site-packages\\xgboost\\sklearn.py:793: UserWarning: `early_stopping_rounds` in `fit` method is deprecated for better compatibility with scikit-learn, use `early_stopping_rounds` in constructor or`set_params` instead.\n",
      "  warnings.warn(\n"
     ]
    },
    {
     "name": "stdout",
     "output_type": "stream",
     "text": [
      "[0]\tvalidation_0-auc:0.70479\tvalidation_1-auc:0.70244\n",
      "[100]\tvalidation_0-auc:0.73289\tvalidation_1-auc:0.72533\n",
      "[200]\tvalidation_0-auc:0.74383\tvalidation_1-auc:0.73026\n",
      "[300]\tvalidation_0-auc:0.75104\tvalidation_1-auc:0.73218\n",
      "[400]\tvalidation_0-auc:0.75678\tvalidation_1-auc:0.73322\n",
      "[499]\tvalidation_0-auc:0.76206\tvalidation_1-auc:0.73395\n"
     ]
    },
    {
     "name": "stderr",
     "output_type": "stream",
     "text": [
      "C:\\Users\\Mr.Li\\AppData\\Local\\Temp\\ipykernel_17156\\1412807090.py:49: SettingWithCopyWarning: \n",
      "A value is trying to be set on a copy of a slice from a DataFrame.\n",
      "Try using .loc[row_indexer,col_indexer] = value instead\n",
      "\n",
      "See the caveats in the documentation: https://pandas.pydata.org/pandas-docs/stable/user_guide/indexing.html#returning-a-view-versus-a-copy\n",
      "  prediction['prob'] += pred_test / kfold.n_splits\n"
     ]
    },
    {
     "name": "stdout",
     "output_type": "stream",
     "text": [
      "\n",
      "Fold_2 Training ========================\n",
      "\n"
     ]
    },
    {
     "name": "stderr",
     "output_type": "stream",
     "text": [
      "E:\\anaconda\\envs\\kaggle\\lib\\site-packages\\xgboost\\sklearn.py:793: UserWarning: `eval_metric` in `fit` method is deprecated for better compatibility with scikit-learn, use `eval_metric` in constructor or`set_params` instead.\n",
      "  warnings.warn(\n",
      "E:\\anaconda\\envs\\kaggle\\lib\\site-packages\\xgboost\\sklearn.py:793: UserWarning: `early_stopping_rounds` in `fit` method is deprecated for better compatibility with scikit-learn, use `early_stopping_rounds` in constructor or`set_params` instead.\n",
      "  warnings.warn(\n"
     ]
    },
    {
     "name": "stdout",
     "output_type": "stream",
     "text": [
      "[0]\tvalidation_0-auc:0.70529\tvalidation_1-auc:0.70377\n",
      "[100]\tvalidation_0-auc:0.73243\tvalidation_1-auc:0.72665\n",
      "[200]\tvalidation_0-auc:0.74346\tvalidation_1-auc:0.73225\n",
      "[300]\tvalidation_0-auc:0.75063\tvalidation_1-auc:0.73430\n",
      "[400]\tvalidation_0-auc:0.75640\tvalidation_1-auc:0.73526\n",
      "[499]\tvalidation_0-auc:0.76140\tvalidation_1-auc:0.73599\n"
     ]
    },
    {
     "name": "stderr",
     "output_type": "stream",
     "text": [
      "C:\\Users\\Mr.Li\\AppData\\Local\\Temp\\ipykernel_17156\\1412807090.py:49: SettingWithCopyWarning: \n",
      "A value is trying to be set on a copy of a slice from a DataFrame.\n",
      "Try using .loc[row_indexer,col_indexer] = value instead\n",
      "\n",
      "See the caveats in the documentation: https://pandas.pydata.org/pandas-docs/stable/user_guide/indexing.html#returning-a-view-versus-a-copy\n",
      "  prediction['prob'] += pred_test / kfold.n_splits\n"
     ]
    },
    {
     "name": "stdout",
     "output_type": "stream",
     "text": [
      "\n",
      "Fold_3 Training ========================\n",
      "\n"
     ]
    },
    {
     "name": "stderr",
     "output_type": "stream",
     "text": [
      "E:\\anaconda\\envs\\kaggle\\lib\\site-packages\\xgboost\\sklearn.py:793: UserWarning: `eval_metric` in `fit` method is deprecated for better compatibility with scikit-learn, use `eval_metric` in constructor or`set_params` instead.\n",
      "  warnings.warn(\n",
      "E:\\anaconda\\envs\\kaggle\\lib\\site-packages\\xgboost\\sklearn.py:793: UserWarning: `early_stopping_rounds` in `fit` method is deprecated for better compatibility with scikit-learn, use `early_stopping_rounds` in constructor or`set_params` instead.\n",
      "  warnings.warn(\n"
     ]
    },
    {
     "name": "stdout",
     "output_type": "stream",
     "text": [
      "[0]\tvalidation_0-auc:0.70510\tvalidation_1-auc:0.70513\n",
      "[100]\tvalidation_0-auc:0.73231\tvalidation_1-auc:0.72761\n",
      "[200]\tvalidation_0-auc:0.74320\tvalidation_1-auc:0.73276\n",
      "[300]\tvalidation_0-auc:0.75037\tvalidation_1-auc:0.73488\n",
      "[400]\tvalidation_0-auc:0.75611\tvalidation_1-auc:0.73596\n",
      "[499]\tvalidation_0-auc:0.76122\tvalidation_1-auc:0.73653\n"
     ]
    },
    {
     "name": "stderr",
     "output_type": "stream",
     "text": [
      "C:\\Users\\Mr.Li\\AppData\\Local\\Temp\\ipykernel_17156\\1412807090.py:49: SettingWithCopyWarning: \n",
      "A value is trying to be set on a copy of a slice from a DataFrame.\n",
      "Try using .loc[row_indexer,col_indexer] = value instead\n",
      "\n",
      "See the caveats in the documentation: https://pandas.pydata.org/pandas-docs/stable/user_guide/indexing.html#returning-a-view-versus-a-copy\n",
      "  prediction['prob'] += pred_test / kfold.n_splits\n"
     ]
    },
    {
     "name": "stdout",
     "output_type": "stream",
     "text": [
      "\n",
      "Fold_4 Training ========================\n",
      "\n"
     ]
    },
    {
     "name": "stderr",
     "output_type": "stream",
     "text": [
      "E:\\anaconda\\envs\\kaggle\\lib\\site-packages\\xgboost\\sklearn.py:793: UserWarning: `eval_metric` in `fit` method is deprecated for better compatibility with scikit-learn, use `eval_metric` in constructor or`set_params` instead.\n",
      "  warnings.warn(\n",
      "E:\\anaconda\\envs\\kaggle\\lib\\site-packages\\xgboost\\sklearn.py:793: UserWarning: `early_stopping_rounds` in `fit` method is deprecated for better compatibility with scikit-learn, use `early_stopping_rounds` in constructor or`set_params` instead.\n",
      "  warnings.warn(\n"
     ]
    },
    {
     "name": "stdout",
     "output_type": "stream",
     "text": [
      "[0]\tvalidation_0-auc:0.70520\tvalidation_1-auc:0.70393\n",
      "[100]\tvalidation_0-auc:0.73300\tvalidation_1-auc:0.72560\n",
      "[200]\tvalidation_0-auc:0.74370\tvalidation_1-auc:0.73065\n",
      "[300]\tvalidation_0-auc:0.75101\tvalidation_1-auc:0.73270\n",
      "[400]\tvalidation_0-auc:0.75682\tvalidation_1-auc:0.73360\n",
      "[499]\tvalidation_0-auc:0.76207\tvalidation_1-auc:0.73429\n"
     ]
    },
    {
     "name": "stderr",
     "output_type": "stream",
     "text": [
      "C:\\Users\\Mr.Li\\AppData\\Local\\Temp\\ipykernel_17156\\1412807090.py:49: SettingWithCopyWarning: \n",
      "A value is trying to be set on a copy of a slice from a DataFrame.\n",
      "Try using .loc[row_indexer,col_indexer] = value instead\n",
      "\n",
      "See the caveats in the documentation: https://pandas.pydata.org/pandas-docs/stable/user_guide/indexing.html#returning-a-view-versus-a-copy\n",
      "  prediction['prob'] += pred_test / kfold.n_splits\n"
     ]
    },
    {
     "name": "stdout",
     "output_type": "stream",
     "text": [
      "\n",
      "Fold_5 Training ========================\n",
      "\n"
     ]
    },
    {
     "name": "stderr",
     "output_type": "stream",
     "text": [
      "E:\\anaconda\\envs\\kaggle\\lib\\site-packages\\xgboost\\sklearn.py:793: UserWarning: `eval_metric` in `fit` method is deprecated for better compatibility with scikit-learn, use `eval_metric` in constructor or`set_params` instead.\n",
      "  warnings.warn(\n",
      "E:\\anaconda\\envs\\kaggle\\lib\\site-packages\\xgboost\\sklearn.py:793: UserWarning: `early_stopping_rounds` in `fit` method is deprecated for better compatibility with scikit-learn, use `early_stopping_rounds` in constructor or`set_params` instead.\n",
      "  warnings.warn(\n"
     ]
    },
    {
     "name": "stdout",
     "output_type": "stream",
     "text": [
      "[0]\tvalidation_0-auc:0.70525\tvalidation_1-auc:0.70229\n",
      "[100]\tvalidation_0-auc:0.73277\tvalidation_1-auc:0.72518\n",
      "[200]\tvalidation_0-auc:0.74332\tvalidation_1-auc:0.73035\n",
      "[300]\tvalidation_0-auc:0.75053\tvalidation_1-auc:0.73259\n",
      "[400]\tvalidation_0-auc:0.75635\tvalidation_1-auc:0.73365\n",
      "[499]\tvalidation_0-auc:0.76164\tvalidation_1-auc:0.73438\n"
     ]
    },
    {
     "name": "stderr",
     "output_type": "stream",
     "text": [
      "C:\\Users\\Mr.Li\\AppData\\Local\\Temp\\ipykernel_17156\\1412807090.py:49: SettingWithCopyWarning: \n",
      "A value is trying to be set on a copy of a slice from a DataFrame.\n",
      "Try using .loc[row_indexer,col_indexer] = value instead\n",
      "\n",
      "See the caveats in the documentation: https://pandas.pydata.org/pandas-docs/stable/user_guide/indexing.html#returning-a-view-versus-a-copy\n",
      "  prediction['prob'] += pred_test / kfold.n_splits\n"
     ]
    }
   ],
   "source": [
    "feature_names = list(train_X.columns)\n",
    "\n",
    "#包外验证\n",
    "df_oof = train_X[['id']].copy()\n",
    "df_oof['label'] = train_y\n",
    "df_oof['prob'] = 0\n",
    "\n",
    "#存放测试结果\n",
    "prediction = test_df[['id']]\n",
    "prediction['prob'] = 0\n",
    "\n",
    "#重要特征列表\n",
    "df_importance_list = []\n",
    "\n",
    "model = xgboost.XGBClassifier(\n",
    "                            n_estimators = 500,\n",
    "                            n_jobs = -1,\n",
    "                            max_depth = 6,\n",
    "                            learning_rate = 0.05,\n",
    "                            subsample = 0.8,\n",
    "                            gamma = 0.5,\n",
    "                            reg_alpha = 3,\n",
    "                            reg_lambda = 1,\n",
    "                            random_state = seed_state)\n",
    "\n",
    "kfold = StratifiedKFold(n_splits=5, shuffle=True, random_state=seed_state)\n",
    "\n",
    "for fold_id,(train_idx, val_idx) in enumerate(kfold.split(train_X, train_y)):\n",
    "    train_X_kfold = train_X.iloc[train_idx]\n",
    "    train_y_kfold = train_y.iloc[train_idx]\n",
    "    val_X_kfold = train_X.iloc[val_idx]\n",
    "    val_y_kfold = train_y.iloc[val_idx]\n",
    "    \n",
    "    print('\\nFold_{} Training ========================\\n'.format(\n",
    "        fold_id + 1))\n",
    "    \n",
    "    xgb_model = model.fit(train_X_kfold,\n",
    "                          train_y_kfold,\n",
    "                          eval_set=[(train_X_kfold, train_y_kfold), (val_X_kfold, val_y_kfold)],\n",
    "                          verbose=100,\n",
    "                          eval_metric='auc',\n",
    "                          early_stopping_rounds=50)\n",
    "    \n",
    "    pred_val = xgb_model.predict_proba(val_X_kfold)[:, 1]\n",
    "    df_oof.loc[val_idx, 'prob'] = pred_val\n",
    "    \n",
    "    \n",
    "    pred_test = xgb_model.predict_proba(test_df)[:, 1]\n",
    "    prediction['prob'] += pred_test / kfold.n_splits\n",
    "\n",
    "    df_importance = pd.DataFrame({\n",
    "        'column': feature_names,\n",
    "        'importance': xgb_model.feature_importances_,\n",
    "    })\n",
    "    df_importance_list.append(df_importance)\n",
    "\n",
    "    del xgb_model, pred_val, pred_test, train_X_kfold, train_y_kfold, val_X_kfold, val_y_kfold\n",
    "    gc.collect()"
   ]
  },
  {
   "cell_type": "code",
   "execution_count": 8,
   "id": "53cfcb68",
   "metadata": {},
   "outputs": [
    {
     "data": {
      "text/plain": [
       "[                     column  importance\n",
       " 0                        id    0.003391\n",
       " 1                  loanAmnt    0.008201\n",
       " 2                      term    0.036843\n",
       " 3              interestRate    0.006147\n",
       " 4               installment    0.007078\n",
       " 5                     grade    0.376365\n",
       " 6                  subGrade    0.294429\n",
       " 7           employmentTitle    0.005521\n",
       " 8          employmentLength    0.009643\n",
       " 9             homeOwnership    0.024297\n",
       " 10             annualIncome    0.007996\n",
       " 11       verificationStatus    0.008404\n",
       " 12                  purpose    0.005063\n",
       " 13                 postCode    0.003910\n",
       " 14               regionCode    0.006809\n",
       " 15                      dti    0.008548\n",
       " 16       delinquency_2years    0.005357\n",
       " 17             ficoRangeLow    0.009779\n",
       " 18            ficoRangeHigh    0.000000\n",
       " 19                  openAcc    0.003466\n",
       " 20                   pubRec    0.005117\n",
       " 21       pubRecBankruptcies    0.005646\n",
       " 22                 revolBal    0.006899\n",
       " 23                revolUtil    0.004361\n",
       " 24                 totalAcc    0.005250\n",
       " 25        initialListStatus    0.003499\n",
       " 26          applicationType    0.005366\n",
       " 27                    title    0.006050\n",
       " 28               policyCode    0.000000\n",
       " 29                       n0    0.004149\n",
       " 30                       n1    0.004389\n",
       " 31                       n2    0.012722\n",
       " 32                       n3    0.000000\n",
       " 33                       n4    0.003962\n",
       " 34                       n5    0.004189\n",
       " 35                       n6    0.004841\n",
       " 36                       n7    0.004051\n",
       " 37                       n8    0.004756\n",
       " 38                       n9    0.008892\n",
       " 39                      n10    0.004081\n",
       " 40                      n11    0.014295\n",
       " 41                      n12    0.005415\n",
       " 42                      n13    0.003766\n",
       " 43                      n14    0.009105\n",
       " 44           issueDate_year    0.020793\n",
       " 45          issueDate_month    0.008443\n",
       " 46            issueDate_day    0.000000\n",
       " 47  earliesCreditLine_month    0.003208\n",
       " 48   earliesCreditLine_year    0.005511,\n",
       "                      column  importance\n",
       " 0                        id    0.003405\n",
       " 1                  loanAmnt    0.007922\n",
       " 2                      term    0.037541\n",
       " 3              interestRate    0.006166\n",
       " 4               installment    0.006880\n",
       " 5                     grade    0.387071\n",
       " 6                  subGrade    0.289962\n",
       " 7           employmentTitle    0.005415\n",
       " 8          employmentLength    0.009338\n",
       " 9             homeOwnership    0.022897\n",
       " 10             annualIncome    0.007306\n",
       " 11       verificationStatus    0.007985\n",
       " 12                  purpose    0.005128\n",
       " 13                 postCode    0.003839\n",
       " 14               regionCode    0.006998\n",
       " 15                      dti    0.008138\n",
       " 16       delinquency_2years    0.005516\n",
       " 17             ficoRangeLow    0.009643\n",
       " 18            ficoRangeHigh    0.000000\n",
       " 19                  openAcc    0.003414\n",
       " 20                   pubRec    0.005424\n",
       " 21       pubRecBankruptcies    0.005440\n",
       " 22                 revolBal    0.006568\n",
       " 23                revolUtil    0.004407\n",
       " 24                 totalAcc    0.004996\n",
       " 25        initialListStatus    0.003268\n",
       " 26          applicationType    0.005749\n",
       " 27                    title    0.006203\n",
       " 28               policyCode    0.000000\n",
       " 29                       n0    0.004128\n",
       " 30                       n1    0.004309\n",
       " 31                       n2    0.013661\n",
       " 32                       n3    0.000000\n",
       " 33                       n4    0.003941\n",
       " 34                       n5    0.004000\n",
       " 35                       n6    0.004756\n",
       " 36                       n7    0.004137\n",
       " 37                       n8    0.004582\n",
       " 38                       n9    0.008673\n",
       " 39                      n10    0.004166\n",
       " 40                      n11    0.013215\n",
       " 41                      n12    0.004302\n",
       " 42                      n13    0.003641\n",
       " 43                      n14    0.008888\n",
       " 44           issueDate_year    0.020513\n",
       " 45          issueDate_month    0.008271\n",
       " 46            issueDate_day    0.000000\n",
       " 47  earliesCreditLine_month    0.003037\n",
       " 48   earliesCreditLine_year    0.005162,\n",
       "                      column  importance\n",
       " 0                        id    0.003240\n",
       " 1                  loanAmnt    0.008250\n",
       " 2                      term    0.035947\n",
       " 3              interestRate    0.005458\n",
       " 4               installment    0.006802\n",
       " 5                     grade    0.350941\n",
       " 6                  subGrade    0.326551\n",
       " 7           employmentTitle    0.005315\n",
       " 8          employmentLength    0.009943\n",
       " 9             homeOwnership    0.023308\n",
       " 10             annualIncome    0.007447\n",
       " 11       verificationStatus    0.008712\n",
       " 12                  purpose    0.004899\n",
       " 13                 postCode    0.003869\n",
       " 14               regionCode    0.006646\n",
       " 15                      dti    0.008200\n",
       " 16       delinquency_2years    0.005629\n",
       " 17             ficoRangeLow    0.009693\n",
       " 18            ficoRangeHigh    0.000000\n",
       " 19                  openAcc    0.003568\n",
       " 20                   pubRec    0.004685\n",
       " 21       pubRecBankruptcies    0.005228\n",
       " 22                 revolBal    0.006801\n",
       " 23                revolUtil    0.004446\n",
       " 24                 totalAcc    0.005087\n",
       " 25        initialListStatus    0.003384\n",
       " 26          applicationType    0.005534\n",
       " 27                    title    0.006046\n",
       " 28               policyCode    0.000000\n",
       " 29                       n0    0.003976\n",
       " 30                       n1    0.004597\n",
       " 31                       n2    0.013510\n",
       " 32                       n3    0.000000\n",
       " 33                       n4    0.003557\n",
       " 34                       n5    0.004034\n",
       " 35                       n6    0.004425\n",
       " 36                       n7    0.004057\n",
       " 37                       n8    0.004976\n",
       " 38                       n9    0.008165\n",
       " 39                      n10    0.004128\n",
       " 40                      n11    0.013489\n",
       " 41                      n12    0.005324\n",
       " 42                      n13    0.003499\n",
       " 43                      n14    0.009468\n",
       " 44           issueDate_year    0.020875\n",
       " 45          issueDate_month    0.008020\n",
       " 46            issueDate_day    0.000000\n",
       " 47  earliesCreditLine_month    0.002991\n",
       " 48   earliesCreditLine_year    0.005278,\n",
       "                      column  importance\n",
       " 0                        id    0.003608\n",
       " 1                  loanAmnt    0.008859\n",
       " 2                      term    0.041518\n",
       " 3              interestRate    0.006008\n",
       " 4               installment    0.007445\n",
       " 5                     grade    0.317973\n",
       " 6                  subGrade    0.333620\n",
       " 7           employmentTitle    0.005690\n",
       " 8          employmentLength    0.010264\n",
       " 9             homeOwnership    0.025704\n",
       " 10             annualIncome    0.007995\n",
       " 11       verificationStatus    0.007895\n",
       " 12                  purpose    0.004991\n",
       " 13                 postCode    0.004111\n",
       " 14               regionCode    0.007222\n",
       " 15                      dti    0.008938\n",
       " 16       delinquency_2years    0.005627\n",
       " 17             ficoRangeLow    0.010859\n",
       " 18            ficoRangeHigh    0.000000\n",
       " 19                  openAcc    0.003496\n",
       " 20                   pubRec    0.005215\n",
       " 21       pubRecBankruptcies    0.006021\n",
       " 22                 revolBal    0.007168\n",
       " 23                revolUtil    0.004684\n",
       " 24                 totalAcc    0.005278\n",
       " 25        initialListStatus    0.003834\n",
       " 26          applicationType    0.006114\n",
       " 27                    title    0.005659\n",
       " 28               policyCode    0.000000\n",
       " 29                       n0    0.004429\n",
       " 30                       n1    0.004626\n",
       " 31                       n2    0.013349\n",
       " 32                       n3    0.000000\n",
       " 33                       n4    0.004082\n",
       " 34                       n5    0.004298\n",
       " 35                       n6    0.004850\n",
       " 36                       n7    0.004317\n",
       " 37                       n8    0.005448\n",
       " 38                       n9    0.009403\n",
       " 39                      n10    0.004405\n",
       " 40                      n11    0.013989\n",
       " 41                      n12    0.007146\n",
       " 42                      n13    0.004534\n",
       " 43                      n14    0.009344\n",
       " 44           issueDate_year    0.022629\n",
       " 45          issueDate_month    0.008360\n",
       " 46            issueDate_day    0.000000\n",
       " 47  earliesCreditLine_month    0.003383\n",
       " 48   earliesCreditLine_year    0.005614,\n",
       "                      column  importance\n",
       " 0                        id    0.003332\n",
       " 1                  loanAmnt    0.007945\n",
       " 2                      term    0.036116\n",
       " 3              interestRate    0.005697\n",
       " 4               installment    0.006777\n",
       " 5                     grade    0.387586\n",
       " 6                  subGrade    0.294623\n",
       " 7           employmentTitle    0.005449\n",
       " 8          employmentLength    0.009292\n",
       " 9             homeOwnership    0.023722\n",
       " 10             annualIncome    0.007430\n",
       " 11       verificationStatus    0.008443\n",
       " 12                  purpose    0.004785\n",
       " 13                 postCode    0.003787\n",
       " 14               regionCode    0.006400\n",
       " 15                      dti    0.008447\n",
       " 16       delinquency_2years    0.005371\n",
       " 17             ficoRangeLow    0.009843\n",
       " 18            ficoRangeHigh    0.000000\n",
       " 19                  openAcc    0.003705\n",
       " 20                   pubRec    0.004899\n",
       " 21       pubRecBankruptcies    0.005084\n",
       " 22                 revolBal    0.006582\n",
       " 23                revolUtil    0.004289\n",
       " 24                 totalAcc    0.005149\n",
       " 25        initialListStatus    0.003157\n",
       " 26          applicationType    0.005480\n",
       " 27                    title    0.005610\n",
       " 28               policyCode    0.000000\n",
       " 29                       n0    0.004096\n",
       " 30                       n1    0.004541\n",
       " 31                       n2    0.012541\n",
       " 32                       n3    0.000000\n",
       " 33                       n4    0.003918\n",
       " 34                       n5    0.004053\n",
       " 35                       n6    0.004481\n",
       " 36                       n7    0.003608\n",
       " 37                       n8    0.004777\n",
       " 38                       n9    0.008412\n",
       " 39                      n10    0.004060\n",
       " 40                      n11    0.012888\n",
       " 41                      n12    0.004880\n",
       " 42                      n13    0.004046\n",
       " 43                      n14    0.008737\n",
       " 44           issueDate_year    0.019851\n",
       " 45          issueDate_month    0.008026\n",
       " 46            issueDate_day    0.000000\n",
       " 47  earliesCreditLine_month    0.002977\n",
       " 48   earliesCreditLine_year    0.005106]"
      ]
     },
     "execution_count": 8,
     "metadata": {},
     "output_type": "execute_result"
    }
   ],
   "source": [
    "df_importance_list"
   ]
  },
  {
   "cell_type": "code",
   "execution_count": 26,
   "id": "e11882f0",
   "metadata": {},
   "outputs": [],
   "source": [
    "df_importance = pd.concat(df_importance_list)\n",
    "df_importance = df_importance.groupby(['column'])['importance'].mean().sort_values(ascending = False).reset_index()"
   ]
  },
  {
   "cell_type": "code",
   "execution_count": 28,
   "id": "204de0de",
   "metadata": {},
   "outputs": [],
   "source": [
    "df_importance.to_csv(\"./feature_importance.csv\")"
   ]
  },
  {
   "cell_type": "code",
   "execution_count": null,
   "id": "80dc1144",
   "metadata": {},
   "outputs": [],
   "source": []
  },
  {
   "cell_type": "code",
   "execution_count": 32,
   "id": "4caee064",
   "metadata": {},
   "outputs": [],
   "source": [
    "pd.read_csv(\"./untitled.txt\").to_csv(\"./ss.csv\",encoding = 'gbk')"
   ]
  },
  {
   "cell_type": "code",
   "execution_count": 34,
   "id": "d1369e00",
   "metadata": {},
   "outputs": [],
   "source": [
    "prediction.to_csv(\"./submition.csv\")"
   ]
  },
  {
   "cell_type": "code",
   "execution_count": null,
   "id": "0977a2db",
   "metadata": {},
   "outputs": [],
   "source": []
  }
 ],
 "metadata": {
  "kernelspec": {
   "display_name": "Python 3 (ipykernel)",
   "language": "python",
   "name": "python3"
  },
  "language_info": {
   "codemirror_mode": {
    "name": "ipython",
    "version": 3
   },
   "file_extension": ".py",
   "mimetype": "text/x-python",
   "name": "python",
   "nbconvert_exporter": "python",
   "pygments_lexer": "ipython3",
   "version": "3.9.13"
  }
 },
 "nbformat": 4,
 "nbformat_minor": 5
}
