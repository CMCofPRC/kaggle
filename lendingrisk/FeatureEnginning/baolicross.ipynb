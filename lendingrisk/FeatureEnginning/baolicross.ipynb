{
 "cells": [
  {
   "cell_type": "code",
   "execution_count": 9,
   "id": "e6dbb06f",
   "metadata": {},
   "outputs": [],
   "source": [
    "import os\n",
    "import gc\n",
    "import warnings\n",
    "import openpyxl\n",
    "\n",
    "import pandas as pd\n",
    "import numpy as np\n",
    "import matplotlib.pyplot as plt\n",
    "import seaborn as  sns\n",
    "from scipy.stats import pearsonr\n",
    "from sklearn.preprocessing import MinMaxScaler\n",
    "\n",
    "warnings.filterwarnings(action= 'ignore')"
   ]
  },
  {
   "cell_type": "code",
   "execution_count": 11,
   "id": "153a2b2a",
   "metadata": {},
   "outputs": [],
   "source": [
    "train_X = pd.read_csv(\"./train_origin.csv\")\n",
    "test_X = pd.read_csv(\"./test_origin.csv\")"
   ]
  },
  {
   "cell_type": "code",
   "execution_count": 12,
   "id": "16c7734a",
   "metadata": {
    "scrolled": true
   },
   "outputs": [],
   "source": [
    "train_y = train_X['isDefault']\n",
    "train_X.drop(labels = ['isDefault'], axis = 1, inplace = True)"
   ]
  },
  {
   "cell_type": "code",
   "execution_count": 13,
   "id": "3e1fff1e",
   "metadata": {},
   "outputs": [
    {
     "data": {
      "text/plain": [
       "0"
      ]
     },
     "execution_count": 13,
     "metadata": {},
     "output_type": "execute_result"
    }
   ],
   "source": [
    "\"\"\"暴力 组合重要特则\"\"\"\n",
    "importance_feature_list = ['grade','subGrade','term','homeOwnership'\n",
    ",'issueDate_year','n11','n2','employmentLength','ficoRangeLow','n14',\n",
    "'loanAmnt','dti','n9','issueDate_month','annualIncome','verificationStatus',\n",
    "'revolBal',\n",
    "]\n",
    "temp_list = [] #暂存组合的特征名\n",
    "result = []\n",
    "index = 0\n",
    "temp_train_df = pd.DataFrame()\n",
    "temp_test_df = pd.DataFrame()\n",
    "for i in importance_feature_list:\n",
    "    for j in train_X.columns:\n",
    "        col = i + '_' + j\n",
    "        if j + '_' + i in temp_list: #避免重复\n",
    "\n",
    "            continue\n",
    "        temp_list.append(col)\n",
    "        corr =  pearsonr(train_X[i] * train_X[j],train_y)\n",
    "        if corr[1] <= 0.05 and corr[0] > 0.19:\n",
    "\n",
    "            result.append([col,corr[0],corr[1]]) #存入列表\n",
    "            temp_train_df[col] = train_X[i] * train_X[j]\n",
    "            temp_test_df[col] = test_X[i] * test_X[j]\n",
    "        del col, corr\n",
    "        gc.collect()\n",
    "\n",
    "\n",
    "\n",
    "train_X = pd.concat([train_X, temp_train_df], axis = 1)\n",
    "test_X = pd.concat([test_X, temp_test_df], axis = 1)\n",
    "\n",
    "del temp_test_df, temp_train_df\n",
    "gc.collect()\n"
   ]
  },
  {
   "cell_type": "code",
   "execution_count": 14,
   "id": "a4992bb6",
   "metadata": {},
   "outputs": [],
   "source": [
    "\"\"\"四则运算 构造新特征\"\"\"\n",
    "train_X['loanAmnt_annualIncome'] = train_X.apply(lambda x: x['loanAmnt'] / x['annualIncome'] if x['annualIncome'] != 0 else -1, axis = 1)\n",
    "train_X['installment_loanAmnt'] = train_X.apply(lambda x: x['installment'] / x['loanAmnt'] if x['loanAmnt'] != 0 else -1, axis = 1)\n",
    "train_X['issueDate_year_earliesCreditLine_year'] = train_X['issueDate_year'] - train_X['earliesCreditLine_year']\n",
    "train_X['loanAmnt_totalAcc'] = train_X.apply(lambda x: x['loanAmnt'] / x['totalAcc'] if x['totalAcc'] != 0 else -1, axis = 1)\n",
    "train_X['openAcc_totalAcc'] = train_X.apply(lambda x: x['openAcc'] / x['totalAcc'] if x['totalAcc'] != 0 else -1, axis = 1)\n",
    "train_X['purpose_totalAcc'] = train_X['purpose'] * train_X['totalAcc']\n",
    "train_X['purpose_totalAcc'] = train_X['purpose_totalAcc'].apply(lambda x: -1 if x == np.inf else x)\n",
    "\n",
    "test_X['loanAmnt_annualIncome'] = test_X.apply(lambda x: x['loanAmnt'] / x['annualIncome'] if x['annualIncome'] != 0 else -1, axis = 1)\n",
    "test_X['installment_loanAmnt'] = test_X.apply(lambda x: x['installment'] / x['loanAmnt'] if x['loanAmnt'] != 0 else -1, axis = 1)\n",
    "test_X['issueDate_year_earliesCreditLine_year'] = test_X['issueDate_year'] - test_X['earliesCreditLine_year']\n",
    "test_X['loanAmnt_totalAcc'] = test_X.apply(lambda x: x['loanAmnt'] / x['totalAcc'] if x['totalAcc'] != 0 else -1, axis = 1)\n",
    "test_X['openAcc_totalAcc'] = test_X.apply(lambda x: x['openAcc'] / x['totalAcc'] if x['totalAcc'] != 0 else -1, axis = 1)\n",
    "test_X['purpose_totalAcc'] = test_X['purpose'] * train_X['totalAcc']\n",
    "test_X['purpose_totalAcc'] = test_X['purpose_totalAcc'].apply(lambda x: -1 if x == np.inf else x)\n"
   ]
  },
  {
   "cell_type": "code",
   "execution_count": 16,
   "id": "0af0379a",
   "metadata": {},
   "outputs": [
    {
     "data": {
      "text/plain": [
       "Index(['id', 'loanAmnt', 'term', 'interestRate', 'installment', 'grade',\n",
       "       'subGrade', 'employmentTitle', 'employmentLength', 'homeOwnership',\n",
       "       ...\n",
       "       'subGrade_earliesCreditLine_year', 'term_interestRate',\n",
       "       'issueDate_year_interestRate', 'ficoRangeLow_interestRate',\n",
       "       'loanAmnt_annualIncome', 'installment_loanAmnt',\n",
       "       'issueDate_year_earliesCreditLine_year', 'loanAmnt_totalAcc',\n",
       "       'openAcc_totalAcc', 'purpose_totalAcc'],\n",
       "      dtype='object', length=108)"
      ]
     },
     "execution_count": 16,
     "metadata": {},
     "output_type": "execute_result"
    }
   ],
   "source": [
    "train_X.columns"
   ]
  },
  {
   "cell_type": "code",
   "execution_count": 17,
   "id": "2bbc9352",
   "metadata": {},
   "outputs": [],
   "source": [
    "train_X['isDefault'] = train_y\n",
    "train_X.to_csv(\"./train_cross.csv\", index = False)\n",
    "test_X.to_csv(\"./test_cross.csv\", index = False)"
   ]
  },
  {
   "cell_type": "code",
   "execution_count": null,
   "id": "ad78e8c4",
   "metadata": {},
   "outputs": [],
   "source": []
  },
  {
   "cell_type": "code",
   "execution_count": null,
   "id": "c846788c",
   "metadata": {},
   "outputs": [],
   "source": []
  },
  {
   "cell_type": "code",
   "execution_count": null,
   "id": "d8234296",
   "metadata": {},
   "outputs": [],
   "source": []
  },
  {
   "cell_type": "code",
   "execution_count": null,
   "id": "07d7fff3",
   "metadata": {},
   "outputs": [],
   "source": []
  },
  {
   "cell_type": "code",
   "execution_count": null,
   "id": "089c4317",
   "metadata": {},
   "outputs": [],
   "source": []
  }
 ],
 "metadata": {
  "kernelspec": {
   "display_name": "Python 3 (ipykernel)",
   "language": "python",
   "name": "python3"
  },
  "language_info": {
   "codemirror_mode": {
    "name": "ipython",
    "version": 3
   },
   "file_extension": ".py",
   "mimetype": "text/x-python",
   "name": "python",
   "nbconvert_exporter": "python",
   "pygments_lexer": "ipython3",
   "version": "3.9.13"
  }
 },
 "nbformat": 4,
 "nbformat_minor": 5
}
