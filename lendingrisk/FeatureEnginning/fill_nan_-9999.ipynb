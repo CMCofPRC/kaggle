{
 "cells": [
  {
   "cell_type": "code",
   "execution_count": 1,
   "id": "83178d83",
   "metadata": {},
   "outputs": [
    {
     "data": {
      "text/plain": [
       "'本文件代码主要尝试是融合以下内容,然后做特征选择\\n1、Mean Encoding\\n2、重要的cate feature groupby_max_min_median_std_mean\\n3、重要特征count\\n4、重要业务特征crosses\\n'"
      ]
     },
     "execution_count": 1,
     "metadata": {},
     "output_type": "execute_result"
    }
   ],
   "source": [
    "\"\"\"本文件代码主要尝试是融合以下内容,然后做特征选择\n",
    "1、Mean Encoding\n",
    "2、重要的cate feature groupby_max_min_median_std_mean\n",
    "3、重要特征count\n",
    "4、重要业务特征crosses\n",
    "\"\"\""
   ]
  },
  {
   "cell_type": "code",
   "execution_count": 2,
   "id": "c15bbeb9",
   "metadata": {},
   "outputs": [],
   "source": [
    "import warnings\n",
    "import os\n",
    "import gc\n",
    "import tqdm\n",
    "import sys\n",
    "import pandas as pd\n",
    "import numpy as np\n",
    "import seaborn as sns\n",
    "import pickle\n",
    "from itertools import product\n",
    "import matplotlib.pyplot as plt\n",
    "from sklearn.preprocessing import LabelEncoder, LabelBinarizer\n",
    "from sklearn.feature_selection import VarianceThreshold,chi2\n",
    "from sklearn.feature_selection import mutual_info_classif,SelectKBest\n",
    "from scipy.stats import pearsonr\n",
    "from sklearn.impute import SimpleImputer\n",
    "from sklearn.model_selection import StratifiedKFold\n",
    "from sklearn.model_selection import train_test_split\n",
    "\n",
    "\n",
    "\n",
    "warnings.filterwarnings(\"ignore\")"
   ]
  },
  {
   "cell_type": "code",
   "execution_count": 3,
   "id": "a494dd73",
   "metadata": {},
   "outputs": [
    {
     "data": {
      "text/plain": [
       "'3.7.12 | packaged by conda-forge | (default, Oct 26 2021, 05:35:01) [MSC v.1916 64 bit (AMD64)]'"
      ]
     },
     "execution_count": 3,
     "metadata": {},
     "output_type": "execute_result"
    }
   ],
   "source": [
    "sys.version"
   ]
  },
  {
   "cell_type": "code",
   "execution_count": 4,
   "id": "9ca40ef6",
   "metadata": {},
   "outputs": [],
   "source": [
    "train_X = pd.read_csv(\"./train.csv\")\n",
    "test_X = pd.read_csv(\"./testA.csv\")"
   ]
  },
  {
   "cell_type": "code",
   "execution_count": 5,
   "id": "242e7d3e",
   "metadata": {},
   "outputs": [],
   "source": [
    "class MeanEncoder:\n",
    "    def __init__(self, categorical_features, n_splits=5, target_type='classification', prior_weight_func=None):\n",
    "        \"\"\"\n",
    "        :param categorical_features: list of str, the name of the categorical columns to encode\n",
    "\n",
    "        :param n_splits: the number of splits used in mean encoding\n",
    "\n",
    "        :param target_type: str, 'regression' or 'classification'\n",
    "\n",
    "        :param prior_weight_func:\n",
    "        a function that takes in the number of observations, and outputs prior weight\n",
    "        when a dict is passed, the default exponential decay function will be used:\n",
    "        k: the number of observations needed for the posterior to be weighted equally as the prior\n",
    "        f: larger f --> smaller slope\n",
    "        \"\"\"\n",
    "\n",
    "        self.categorical_features = categorical_features\n",
    "        self.n_splits = n_splits\n",
    "        self.learned_stats = {}\n",
    "\n",
    "        if target_type == 'classification':\n",
    "            self.target_type = target_type\n",
    "            self.target_values = []\n",
    "        else:\n",
    "            self.target_type = 'regression'\n",
    "            self.target_values = None\n",
    "\n",
    "        if isinstance(prior_weight_func, dict):\n",
    "            self.prior_weight_func = eval('lambda x: 1 / (1 + np.exp((x - k) / f))', dict(prior_weight_func, np=np))\n",
    "        elif callable(prior_weight_func):\n",
    "            self.prior_weight_func = prior_weight_func\n",
    "        else:\n",
    "            self.prior_weight_func = lambda x: 1 / (1 + np.exp((x - 2) / 1))\n",
    "\n",
    "    @staticmethod\n",
    "    def mean_encode_subroutine(X_train, y_train, X_test, variable, target, prior_weight_func):\n",
    "        X_train = X_train[[variable]].copy()\n",
    "        X_test = X_test[[variable]].copy()\n",
    "\n",
    "        if target is not None:\n",
    "            nf_name = '{}_pred_{}'.format(variable, target)\n",
    "            X_train['pred_temp'] = (y_train == target).astype(int)  # classification\n",
    "        else:\n",
    "            nf_name = '{}_pred'.format(variable)\n",
    "            X_train['pred_temp'] = y_train  # regression\n",
    "        prior = X_train['pred_temp'].mean()\n",
    "\n",
    "        col_avg_y = X_train.groupby(by=variable, axis=0)['pred_temp'].agg([('mean', 'mean'), ('beta', 'size')])\n",
    "        col_avg_y['beta'] = prior_weight_func(col_avg_y['beta'])\n",
    "        col_avg_y[nf_name] = col_avg_y['beta'] * prior + (1 - col_avg_y['beta']) * col_avg_y['mean']\n",
    "        col_avg_y.drop(['beta', 'mean'], axis=1, inplace=True)\n",
    "\n",
    "        nf_train = X_train.join(col_avg_y, on=variable)[nf_name].values\n",
    "        nf_test = X_test.join(col_avg_y, on=variable).fillna(prior, inplace=False)[nf_name].values\n",
    "\n",
    "        return nf_train, nf_test, prior, col_avg_y\n",
    "\n",
    "    def fit_transform(self, X, y):\n",
    "        \"\"\"\n",
    "        :param X: pandas DataFrame, n_samples * n_features\n",
    "        :param y: pandas Series or numpy array, n_samples\n",
    "        :return X_new: the transformed pandas DataFrame containing mean-encoded categorical features\n",
    "        \"\"\"\n",
    "        X_new = X.copy()\n",
    "        if self.target_type == 'classification':\n",
    "            skf = StratifiedKFold(self.n_splits)\n",
    "        else:\n",
    "            skf = KFold(self.n_splits)\n",
    "\n",
    "        if self.target_type == 'classification':\n",
    "            self.target_values = sorted(set(y))\n",
    "            self.learned_stats = {'{}_pred_{}'.format(variable, target): [] for variable, target in\n",
    "                product(self.categorical_features, self.target_values)}\n",
    "            for variable, target in product(self.categorical_features, self.target_values):\n",
    "                nf_name = '{}_pred_{}'.format(variable, target)\n",
    "                X_new.loc[:, nf_name] = np.nan\n",
    "                for large_ind, small_ind in skf.split(y, y):\n",
    "                    nf_large, nf_small, prior, col_avg_y = MeanEncoder.mean_encode_subroutine(\n",
    "                        X_new.iloc[large_ind], y.iloc[large_ind], X_new.iloc[small_ind], variable, target, self.prior_weight_func)\n",
    "                    X_new.iloc[small_ind, -1] = nf_small\n",
    "                    self.learned_stats[nf_name].append((prior, col_avg_y))\n",
    "        else:\n",
    "            self.learned_stats = {'{}_pred'.format(variable): [] for variable in self.categorical_features}\n",
    "            for variable in self.categorical_features:\n",
    "                nf_name = '{}_pred'.format(variable)\n",
    "                X_new.loc[:, nf_name] = np.nan\n",
    "                for large_ind, small_ind in skf.split(y, y):\n",
    "                    nf_large, nf_small, prior, col_avg_y = MeanEncoder.mean_encode_subroutine(\n",
    "                        X_new.iloc[large_ind], y.iloc[large_ind], X_new.iloc[small_ind], variable, None, self.prior_weight_func)\n",
    "                    X_new.iloc[small_ind, -1] = nf_small\n",
    "                    self.learned_stats[nf_name].append((prior, col_avg_y))\n",
    "        return X_new\n",
    "\n",
    "    def transform(self, X):\n",
    "        \"\"\"\n",
    "        :param X: pandas DataFrame, n_samples * n_features\n",
    "        :return X_new: the transformed pandas DataFrame containing mean-encoded categorical features\n",
    "        \"\"\"\n",
    "        X_new = X.copy()\n",
    "\n",
    "        if self.target_type == 'classification':\n",
    "            for variable, target in product(self.categorical_features, self.target_values):\n",
    "                nf_name = '{}_pred_{}'.format(variable, target)\n",
    "                X_new[nf_name] = 0\n",
    "                for prior, col_avg_y in self.learned_stats[nf_name]:\n",
    "                    X_new[nf_name] += X_new[[variable]].join(col_avg_y, on=variable).fillna(prior, inplace=False)[\n",
    "                        nf_name]\n",
    "                X_new[nf_name] /= self.n_splits\n",
    "        else:\n",
    "            for variable in self.categorical_features:\n",
    "                nf_name = '{}_pred'.format(variable)\n",
    "                X_new[nf_name] = 0\n",
    "                for prior, col_avg_y in self.learned_stats[nf_name]:\n",
    "                    X_new[nf_name] += X_new[[variable]].join(col_avg_y, on=variable).fillna(prior, inplace=False)[\n",
    "                        nf_name]\n",
    "                X_new[nf_name] /= self.n_splits\n",
    "\n",
    "        return X_new\n"
   ]
  },
  {
   "cell_type": "markdown",
   "id": "83a2d52d",
   "metadata": {},
   "source": [
    "## 处理缺失值"
   ]
  },
  {
   "cell_type": "code",
   "execution_count": 6,
   "id": "45e81fd6",
   "metadata": {},
   "outputs": [],
   "source": [
    "#含缺失值的列名\n",
    "missing_cols = train_X.columns[train_X.isnull().sum() > 0].to_list()"
   ]
  },
  {
   "cell_type": "code",
   "execution_count": 7,
   "id": "e9e35311",
   "metadata": {
    "scrolled": true
   },
   "outputs": [
    {
     "data": {
      "text/plain": [
       "['employmentTitle',\n",
       " 'employmentLength',\n",
       " 'postCode',\n",
       " 'dti',\n",
       " 'pubRecBankruptcies',\n",
       " 'revolUtil',\n",
       " 'title',\n",
       " 'n0',\n",
       " 'n1',\n",
       " 'n2',\n",
       " 'n3',\n",
       " 'n4',\n",
       " 'n5',\n",
       " 'n6',\n",
       " 'n7',\n",
       " 'n8',\n",
       " 'n9',\n",
       " 'n10',\n",
       " 'n11',\n",
       " 'n12',\n",
       " 'n13',\n",
       " 'n14']"
      ]
     },
     "execution_count": 7,
     "metadata": {},
     "output_type": "execute_result"
    }
   ],
   "source": [
    "missing_cols"
   ]
  },
  {
   "cell_type": "code",
   "execution_count": 8,
   "id": "eeee3a84",
   "metadata": {},
   "outputs": [],
   "source": [
    "for col in missing_cols:\n",
    "    if train_X[col].dtype != 'object':\n",
    "        imputer = SimpleImputer(strategy='constant', fill_value=-999)\n",
    "        train_X[col] = imputer.fit_transform(train_X[[col]])\n",
    "        del imputer\n",
    "        gc.collect()"
   ]
  },
  {
   "cell_type": "code",
   "execution_count": 9,
   "id": "9dcbd8b5",
   "metadata": {},
   "outputs": [
    {
     "data": {
      "text/plain": [
       "21"
      ]
     },
     "execution_count": 9,
     "metadata": {},
     "output_type": "execute_result"
    }
   ],
   "source": [
    "gc.collect()"
   ]
  },
  {
   "cell_type": "code",
   "execution_count": 10,
   "id": "4ea75233",
   "metadata": {},
   "outputs": [],
   "source": [
    "#employmentLength 类型为object，先将其编码，再填充缺失值\n",
    "label_enc = LabelEncoder()\n",
    "train_X['employmentLength'] = label_enc.fit_transform(train_X[['employmentLength']])\n",
    "test_X['employmentLength'] = label_enc.transform(test_X[['employmentLength']])\n",
    "\n",
    "\n",
    "imputer = SimpleImputer(strategy='constant',fill_value=-999)\n",
    "train_X['employmentLength'] = imputer.fit_transform(train_X[['employmentLength']])\n",
    "test_X['employmentLength'] = imputer.transform(test_X[['employmentLength']])"
   ]
  },
  {
   "cell_type": "code",
   "execution_count": 11,
   "id": "ce86f23f",
   "metadata": {
    "scrolled": true
   },
   "outputs": [
    {
     "data": {
      "text/plain": [
       "id                    0\n",
       "loanAmnt              0\n",
       "term                  0\n",
       "interestRate          0\n",
       "installment           0\n",
       "grade                 0\n",
       "subGrade              0\n",
       "employmentTitle       0\n",
       "employmentLength      0\n",
       "homeOwnership         0\n",
       "annualIncome          0\n",
       "verificationStatus    0\n",
       "issueDate             0\n",
       "isDefault             0\n",
       "purpose               0\n",
       "postCode              0\n",
       "regionCode            0\n",
       "dti                   0\n",
       "delinquency_2years    0\n",
       "ficoRangeLow          0\n",
       "ficoRangeHigh         0\n",
       "openAcc               0\n",
       "pubRec                0\n",
       "pubRecBankruptcies    0\n",
       "revolBal              0\n",
       "revolUtil             0\n",
       "totalAcc              0\n",
       "initialListStatus     0\n",
       "applicationType       0\n",
       "earliesCreditLine     0\n",
       "title                 0\n",
       "policyCode            0\n",
       "n0                    0\n",
       "n1                    0\n",
       "n2                    0\n",
       "n3                    0\n",
       "n4                    0\n",
       "n5                    0\n",
       "n6                    0\n",
       "n7                    0\n",
       "n8                    0\n",
       "n9                    0\n",
       "n10                   0\n",
       "n11                   0\n",
       "n12                   0\n",
       "n13                   0\n",
       "n14                   0\n",
       "dtype: int64"
      ]
     },
     "execution_count": 11,
     "metadata": {},
     "output_type": "execute_result"
    }
   ],
   "source": [
    "train_X.isnull().sum()"
   ]
  },
  {
   "cell_type": "code",
   "execution_count": 12,
   "id": "735c5a17",
   "metadata": {},
   "outputs": [
    {
     "data": {
      "text/plain": [
       "1     262753\n",
       "2      72358\n",
       "10     64237\n",
       "3      64152\n",
       "0      52489\n",
       "5      50102\n",
       "4      47985\n",
       "11     46799\n",
       "6      37254\n",
       "8      36192\n",
       "7      35407\n",
       "9      30272\n",
       "Name: employmentLength, dtype: int64"
      ]
     },
     "execution_count": 12,
     "metadata": {},
     "output_type": "execute_result"
    }
   ],
   "source": [
    "train_X['employmentLength'].value_counts()"
   ]
  },
  {
   "cell_type": "markdown",
   "id": "88055101",
   "metadata": {},
   "source": [
    "## 部分特征编码"
   ]
  },
  {
   "cell_type": "markdown",
   "id": "871f8fab",
   "metadata": {},
   "source": [
    "### 先将object类型的特征进行编码"
   ]
  },
  {
   "cell_type": "code",
   "execution_count": 13,
   "id": "3a050dc8",
   "metadata": {},
   "outputs": [
    {
     "data": {
      "text/plain": [
       "['grade', 'subGrade', 'issueDate', 'earliesCreditLine']"
      ]
     },
     "execution_count": 13,
     "metadata": {},
     "output_type": "execute_result"
    }
   ],
   "source": [
    "object_cols = train_X.columns[pd.Series(train_X.columns).apply(lambda x: True if train_X[x].dtype == 'object' else False)]\n",
    "object_cols = list(object_cols)\n",
    "object_cols"
   ]
  },
  {
   "cell_type": "code",
   "execution_count": 14,
   "id": "ac1c7545",
   "metadata": {},
   "outputs": [],
   "source": [
    "# 根据grade 和subGrade 的是数据类型，将其进行序列编码\n",
    "label_enc = LabelEncoder()\n",
    "for col in ['grade','subGrade']:\n",
    "    train_X[col] = label_enc.fit_transform(train_X[[col]])\n",
    "    test_X[col] = label_enc.transform(test_X[[col]])"
   ]
  },
  {
   "cell_type": "code",
   "execution_count": 15,
   "id": "10d3979a",
   "metadata": {},
   "outputs": [],
   "source": [
    "#'issueDate', 'earliesCreditLine'属于日期类型特征，将其年月日提取出来\n",
    "\n",
    "#earliesCreditLine\n",
    "train_X['earliesCreditLine_year'] = pd.DatetimeIndex(train_X['earliesCreditLine']).year\n",
    "train_X['earliesCreditLine_month'] = pd.DatetimeIndex(train_X['earliesCreditLine']).month\n",
    "test_X['earliesCreditLine_year'] = pd.DatetimeIndex(test_X['earliesCreditLine']).year\n",
    "test_X['earliesCreditLine_month'] = pd.DatetimeIndex(test_X['earliesCreditLine']).month\n",
    "\n",
    "#issueDate\n",
    "train_X['issueDate_year'] = pd.DatetimeIndex(train_X['issueDate']).year\n",
    "train_X['issueDate_month'] = pd.DatetimeIndex(train_X['issueDate']).month\n",
    "train_X['issueDate_day'] = pd.DatetimeIndex(train_X['issueDate']).day\n",
    "\n",
    "test_X['issueDate_year'] = pd.DatetimeIndex(test_X['issueDate']).year\n",
    "test_X['issueDate_month'] = pd.DatetimeIndex(test_X['issueDate']).month\n",
    "test_X['issueDate_day'] = pd.DatetimeIndex(test_X['issueDate']).day"
   ]
  },
  {
   "cell_type": "code",
   "execution_count": 16,
   "id": "2a3a5b05",
   "metadata": {},
   "outputs": [],
   "source": [
    "#将 处理好的object类型特征删除掉\n",
    "for col in train_X.columns:\n",
    "    if train_X[col].dtype == 'object':\n",
    "        train_X.drop(labels = [col], axis = 1, inplace =True)\n",
    "        test_X.drop(labels = [col], axis = 1, inplace =True)"
   ]
  },
  {
   "cell_type": "code",
   "execution_count": 17,
   "id": "9e631273",
   "metadata": {},
   "outputs": [
    {
     "data": {
      "text/plain": [
       "0"
      ]
     },
     "execution_count": 17,
     "metadata": {},
     "output_type": "execute_result"
    }
   ],
   "source": [
    "gc.collect()"
   ]
  },
  {
   "cell_type": "code",
   "execution_count": 18,
   "id": "152e5688",
   "metadata": {},
   "outputs": [
    {
     "data": {
      "text/html": [
       "<div>\n",
       "<style scoped>\n",
       "    .dataframe tbody tr th:only-of-type {\n",
       "        vertical-align: middle;\n",
       "    }\n",
       "\n",
       "    .dataframe tbody tr th {\n",
       "        vertical-align: top;\n",
       "    }\n",
       "\n",
       "    .dataframe thead th {\n",
       "        text-align: right;\n",
       "    }\n",
       "</style>\n",
       "<table border=\"1\" class=\"dataframe\">\n",
       "  <thead>\n",
       "    <tr style=\"text-align: right;\">\n",
       "      <th></th>\n",
       "      <th>0</th>\n",
       "      <th>1</th>\n",
       "      <th>2</th>\n",
       "      <th>3</th>\n",
       "      <th>4</th>\n",
       "    </tr>\n",
       "  </thead>\n",
       "  <tbody>\n",
       "    <tr>\n",
       "      <th>id</th>\n",
       "      <td>0.00</td>\n",
       "      <td>1.00</td>\n",
       "      <td>2.00</td>\n",
       "      <td>3.00</td>\n",
       "      <td>4.00</td>\n",
       "    </tr>\n",
       "    <tr>\n",
       "      <th>loanAmnt</th>\n",
       "      <td>35000.00</td>\n",
       "      <td>18000.00</td>\n",
       "      <td>12000.00</td>\n",
       "      <td>11000.00</td>\n",
       "      <td>3000.00</td>\n",
       "    </tr>\n",
       "    <tr>\n",
       "      <th>term</th>\n",
       "      <td>5.00</td>\n",
       "      <td>5.00</td>\n",
       "      <td>5.00</td>\n",
       "      <td>3.00</td>\n",
       "      <td>3.00</td>\n",
       "    </tr>\n",
       "    <tr>\n",
       "      <th>interestRate</th>\n",
       "      <td>19.52</td>\n",
       "      <td>18.49</td>\n",
       "      <td>16.99</td>\n",
       "      <td>7.26</td>\n",
       "      <td>12.99</td>\n",
       "    </tr>\n",
       "    <tr>\n",
       "      <th>installment</th>\n",
       "      <td>917.97</td>\n",
       "      <td>461.90</td>\n",
       "      <td>298.17</td>\n",
       "      <td>340.96</td>\n",
       "      <td>101.07</td>\n",
       "    </tr>\n",
       "    <tr>\n",
       "      <th>grade</th>\n",
       "      <td>4.00</td>\n",
       "      <td>3.00</td>\n",
       "      <td>3.00</td>\n",
       "      <td>0.00</td>\n",
       "      <td>2.00</td>\n",
       "    </tr>\n",
       "    <tr>\n",
       "      <th>subGrade</th>\n",
       "      <td>21.00</td>\n",
       "      <td>16.00</td>\n",
       "      <td>17.00</td>\n",
       "      <td>3.00</td>\n",
       "      <td>11.00</td>\n",
       "    </tr>\n",
       "    <tr>\n",
       "      <th>employmentTitle</th>\n",
       "      <td>320.00</td>\n",
       "      <td>219843.00</td>\n",
       "      <td>31698.00</td>\n",
       "      <td>46854.00</td>\n",
       "      <td>54.00</td>\n",
       "    </tr>\n",
       "    <tr>\n",
       "      <th>employmentLength</th>\n",
       "      <td>2.00</td>\n",
       "      <td>5.00</td>\n",
       "      <td>8.00</td>\n",
       "      <td>1.00</td>\n",
       "      <td>11.00</td>\n",
       "    </tr>\n",
       "    <tr>\n",
       "      <th>homeOwnership</th>\n",
       "      <td>2.00</td>\n",
       "      <td>0.00</td>\n",
       "      <td>0.00</td>\n",
       "      <td>1.00</td>\n",
       "      <td>1.00</td>\n",
       "    </tr>\n",
       "    <tr>\n",
       "      <th>annualIncome</th>\n",
       "      <td>110000.00</td>\n",
       "      <td>46000.00</td>\n",
       "      <td>74000.00</td>\n",
       "      <td>118000.00</td>\n",
       "      <td>29000.00</td>\n",
       "    </tr>\n",
       "    <tr>\n",
       "      <th>verificationStatus</th>\n",
       "      <td>2.00</td>\n",
       "      <td>2.00</td>\n",
       "      <td>2.00</td>\n",
       "      <td>1.00</td>\n",
       "      <td>2.00</td>\n",
       "    </tr>\n",
       "    <tr>\n",
       "      <th>isDefault</th>\n",
       "      <td>1.00</td>\n",
       "      <td>0.00</td>\n",
       "      <td>0.00</td>\n",
       "      <td>0.00</td>\n",
       "      <td>0.00</td>\n",
       "    </tr>\n",
       "    <tr>\n",
       "      <th>purpose</th>\n",
       "      <td>1.00</td>\n",
       "      <td>0.00</td>\n",
       "      <td>0.00</td>\n",
       "      <td>4.00</td>\n",
       "      <td>10.00</td>\n",
       "    </tr>\n",
       "    <tr>\n",
       "      <th>postCode</th>\n",
       "      <td>137.00</td>\n",
       "      <td>156.00</td>\n",
       "      <td>337.00</td>\n",
       "      <td>148.00</td>\n",
       "      <td>301.00</td>\n",
       "    </tr>\n",
       "    <tr>\n",
       "      <th>regionCode</th>\n",
       "      <td>32.00</td>\n",
       "      <td>18.00</td>\n",
       "      <td>14.00</td>\n",
       "      <td>11.00</td>\n",
       "      <td>21.00</td>\n",
       "    </tr>\n",
       "    <tr>\n",
       "      <th>dti</th>\n",
       "      <td>17.05</td>\n",
       "      <td>27.83</td>\n",
       "      <td>22.77</td>\n",
       "      <td>17.21</td>\n",
       "      <td>32.16</td>\n",
       "    </tr>\n",
       "    <tr>\n",
       "      <th>delinquency_2years</th>\n",
       "      <td>0.00</td>\n",
       "      <td>0.00</td>\n",
       "      <td>0.00</td>\n",
       "      <td>0.00</td>\n",
       "      <td>0.00</td>\n",
       "    </tr>\n",
       "    <tr>\n",
       "      <th>ficoRangeLow</th>\n",
       "      <td>730.00</td>\n",
       "      <td>700.00</td>\n",
       "      <td>675.00</td>\n",
       "      <td>685.00</td>\n",
       "      <td>690.00</td>\n",
       "    </tr>\n",
       "    <tr>\n",
       "      <th>ficoRangeHigh</th>\n",
       "      <td>734.00</td>\n",
       "      <td>704.00</td>\n",
       "      <td>679.00</td>\n",
       "      <td>689.00</td>\n",
       "      <td>694.00</td>\n",
       "    </tr>\n",
       "    <tr>\n",
       "      <th>openAcc</th>\n",
       "      <td>7.00</td>\n",
       "      <td>13.00</td>\n",
       "      <td>11.00</td>\n",
       "      <td>9.00</td>\n",
       "      <td>12.00</td>\n",
       "    </tr>\n",
       "    <tr>\n",
       "      <th>pubRec</th>\n",
       "      <td>0.00</td>\n",
       "      <td>0.00</td>\n",
       "      <td>0.00</td>\n",
       "      <td>0.00</td>\n",
       "      <td>0.00</td>\n",
       "    </tr>\n",
       "    <tr>\n",
       "      <th>pubRecBankruptcies</th>\n",
       "      <td>0.00</td>\n",
       "      <td>0.00</td>\n",
       "      <td>0.00</td>\n",
       "      <td>0.00</td>\n",
       "      <td>0.00</td>\n",
       "    </tr>\n",
       "    <tr>\n",
       "      <th>revolBal</th>\n",
       "      <td>24178.00</td>\n",
       "      <td>15096.00</td>\n",
       "      <td>4606.00</td>\n",
       "      <td>9948.00</td>\n",
       "      <td>2942.00</td>\n",
       "    </tr>\n",
       "    <tr>\n",
       "      <th>revolUtil</th>\n",
       "      <td>48.90</td>\n",
       "      <td>38.90</td>\n",
       "      <td>51.80</td>\n",
       "      <td>52.60</td>\n",
       "      <td>32.00</td>\n",
       "    </tr>\n",
       "    <tr>\n",
       "      <th>totalAcc</th>\n",
       "      <td>27.00</td>\n",
       "      <td>18.00</td>\n",
       "      <td>27.00</td>\n",
       "      <td>28.00</td>\n",
       "      <td>27.00</td>\n",
       "    </tr>\n",
       "    <tr>\n",
       "      <th>initialListStatus</th>\n",
       "      <td>0.00</td>\n",
       "      <td>1.00</td>\n",
       "      <td>0.00</td>\n",
       "      <td>1.00</td>\n",
       "      <td>0.00</td>\n",
       "    </tr>\n",
       "    <tr>\n",
       "      <th>applicationType</th>\n",
       "      <td>0.00</td>\n",
       "      <td>0.00</td>\n",
       "      <td>0.00</td>\n",
       "      <td>0.00</td>\n",
       "      <td>0.00</td>\n",
       "    </tr>\n",
       "    <tr>\n",
       "      <th>title</th>\n",
       "      <td>1.00</td>\n",
       "      <td>1723.00</td>\n",
       "      <td>0.00</td>\n",
       "      <td>4.00</td>\n",
       "      <td>11.00</td>\n",
       "    </tr>\n",
       "    <tr>\n",
       "      <th>policyCode</th>\n",
       "      <td>1.00</td>\n",
       "      <td>1.00</td>\n",
       "      <td>1.00</td>\n",
       "      <td>1.00</td>\n",
       "      <td>1.00</td>\n",
       "    </tr>\n",
       "    <tr>\n",
       "      <th>n0</th>\n",
       "      <td>0.00</td>\n",
       "      <td>-999.00</td>\n",
       "      <td>0.00</td>\n",
       "      <td>6.00</td>\n",
       "      <td>1.00</td>\n",
       "    </tr>\n",
       "    <tr>\n",
       "      <th>n1</th>\n",
       "      <td>2.00</td>\n",
       "      <td>-999.00</td>\n",
       "      <td>0.00</td>\n",
       "      <td>4.00</td>\n",
       "      <td>2.00</td>\n",
       "    </tr>\n",
       "    <tr>\n",
       "      <th>n2</th>\n",
       "      <td>2.00</td>\n",
       "      <td>-999.00</td>\n",
       "      <td>3.00</td>\n",
       "      <td>6.00</td>\n",
       "      <td>7.00</td>\n",
       "    </tr>\n",
       "    <tr>\n",
       "      <th>n3</th>\n",
       "      <td>2.00</td>\n",
       "      <td>-999.00</td>\n",
       "      <td>3.00</td>\n",
       "      <td>6.00</td>\n",
       "      <td>7.00</td>\n",
       "    </tr>\n",
       "    <tr>\n",
       "      <th>n4</th>\n",
       "      <td>4.00</td>\n",
       "      <td>10.00</td>\n",
       "      <td>0.00</td>\n",
       "      <td>4.00</td>\n",
       "      <td>2.00</td>\n",
       "    </tr>\n",
       "    <tr>\n",
       "      <th>n5</th>\n",
       "      <td>9.00</td>\n",
       "      <td>-999.00</td>\n",
       "      <td>0.00</td>\n",
       "      <td>16.00</td>\n",
       "      <td>4.00</td>\n",
       "    </tr>\n",
       "    <tr>\n",
       "      <th>n6</th>\n",
       "      <td>8.00</td>\n",
       "      <td>-999.00</td>\n",
       "      <td>21.00</td>\n",
       "      <td>4.00</td>\n",
       "      <td>9.00</td>\n",
       "    </tr>\n",
       "    <tr>\n",
       "      <th>n7</th>\n",
       "      <td>4.00</td>\n",
       "      <td>-999.00</td>\n",
       "      <td>4.00</td>\n",
       "      <td>7.00</td>\n",
       "      <td>10.00</td>\n",
       "    </tr>\n",
       "    <tr>\n",
       "      <th>n8</th>\n",
       "      <td>12.00</td>\n",
       "      <td>-999.00</td>\n",
       "      <td>5.00</td>\n",
       "      <td>21.00</td>\n",
       "      <td>15.00</td>\n",
       "    </tr>\n",
       "    <tr>\n",
       "      <th>n9</th>\n",
       "      <td>2.00</td>\n",
       "      <td>-999.00</td>\n",
       "      <td>3.00</td>\n",
       "      <td>6.00</td>\n",
       "      <td>7.00</td>\n",
       "    </tr>\n",
       "    <tr>\n",
       "      <th>n10</th>\n",
       "      <td>7.00</td>\n",
       "      <td>13.00</td>\n",
       "      <td>11.00</td>\n",
       "      <td>9.00</td>\n",
       "      <td>12.00</td>\n",
       "    </tr>\n",
       "    <tr>\n",
       "      <th>n11</th>\n",
       "      <td>0.00</td>\n",
       "      <td>-999.00</td>\n",
       "      <td>0.00</td>\n",
       "      <td>0.00</td>\n",
       "      <td>0.00</td>\n",
       "    </tr>\n",
       "    <tr>\n",
       "      <th>n12</th>\n",
       "      <td>0.00</td>\n",
       "      <td>-999.00</td>\n",
       "      <td>0.00</td>\n",
       "      <td>0.00</td>\n",
       "      <td>0.00</td>\n",
       "    </tr>\n",
       "    <tr>\n",
       "      <th>n13</th>\n",
       "      <td>0.00</td>\n",
       "      <td>-999.00</td>\n",
       "      <td>0.00</td>\n",
       "      <td>0.00</td>\n",
       "      <td>0.00</td>\n",
       "    </tr>\n",
       "    <tr>\n",
       "      <th>n14</th>\n",
       "      <td>2.00</td>\n",
       "      <td>-999.00</td>\n",
       "      <td>4.00</td>\n",
       "      <td>1.00</td>\n",
       "      <td>4.00</td>\n",
       "    </tr>\n",
       "    <tr>\n",
       "      <th>earliesCreditLine_year</th>\n",
       "      <td>2001.00</td>\n",
       "      <td>2002.00</td>\n",
       "      <td>2006.00</td>\n",
       "      <td>1999.00</td>\n",
       "      <td>1977.00</td>\n",
       "    </tr>\n",
       "    <tr>\n",
       "      <th>earliesCreditLine_month</th>\n",
       "      <td>8.00</td>\n",
       "      <td>5.00</td>\n",
       "      <td>5.00</td>\n",
       "      <td>5.00</td>\n",
       "      <td>8.00</td>\n",
       "    </tr>\n",
       "    <tr>\n",
       "      <th>issueDate_year</th>\n",
       "      <td>2014.00</td>\n",
       "      <td>2012.00</td>\n",
       "      <td>2015.00</td>\n",
       "      <td>2015.00</td>\n",
       "      <td>2016.00</td>\n",
       "    </tr>\n",
       "    <tr>\n",
       "      <th>issueDate_month</th>\n",
       "      <td>7.00</td>\n",
       "      <td>8.00</td>\n",
       "      <td>10.00</td>\n",
       "      <td>8.00</td>\n",
       "      <td>3.00</td>\n",
       "    </tr>\n",
       "    <tr>\n",
       "      <th>issueDate_day</th>\n",
       "      <td>1.00</td>\n",
       "      <td>1.00</td>\n",
       "      <td>1.00</td>\n",
       "      <td>1.00</td>\n",
       "      <td>1.00</td>\n",
       "    </tr>\n",
       "  </tbody>\n",
       "</table>\n",
       "</div>"
      ],
      "text/plain": [
       "                                 0          1         2          3         4\n",
       "id                            0.00       1.00      2.00       3.00      4.00\n",
       "loanAmnt                  35000.00   18000.00  12000.00   11000.00   3000.00\n",
       "term                          5.00       5.00      5.00       3.00      3.00\n",
       "interestRate                 19.52      18.49     16.99       7.26     12.99\n",
       "installment                 917.97     461.90    298.17     340.96    101.07\n",
       "grade                         4.00       3.00      3.00       0.00      2.00\n",
       "subGrade                     21.00      16.00     17.00       3.00     11.00\n",
       "employmentTitle             320.00  219843.00  31698.00   46854.00     54.00\n",
       "employmentLength              2.00       5.00      8.00       1.00     11.00\n",
       "homeOwnership                 2.00       0.00      0.00       1.00      1.00\n",
       "annualIncome             110000.00   46000.00  74000.00  118000.00  29000.00\n",
       "verificationStatus            2.00       2.00      2.00       1.00      2.00\n",
       "isDefault                     1.00       0.00      0.00       0.00      0.00\n",
       "purpose                       1.00       0.00      0.00       4.00     10.00\n",
       "postCode                    137.00     156.00    337.00     148.00    301.00\n",
       "regionCode                   32.00      18.00     14.00      11.00     21.00\n",
       "dti                          17.05      27.83     22.77      17.21     32.16\n",
       "delinquency_2years            0.00       0.00      0.00       0.00      0.00\n",
       "ficoRangeLow                730.00     700.00    675.00     685.00    690.00\n",
       "ficoRangeHigh               734.00     704.00    679.00     689.00    694.00\n",
       "openAcc                       7.00      13.00     11.00       9.00     12.00\n",
       "pubRec                        0.00       0.00      0.00       0.00      0.00\n",
       "pubRecBankruptcies            0.00       0.00      0.00       0.00      0.00\n",
       "revolBal                  24178.00   15096.00   4606.00    9948.00   2942.00\n",
       "revolUtil                    48.90      38.90     51.80      52.60     32.00\n",
       "totalAcc                     27.00      18.00     27.00      28.00     27.00\n",
       "initialListStatus             0.00       1.00      0.00       1.00      0.00\n",
       "applicationType               0.00       0.00      0.00       0.00      0.00\n",
       "title                         1.00    1723.00      0.00       4.00     11.00\n",
       "policyCode                    1.00       1.00      1.00       1.00      1.00\n",
       "n0                            0.00    -999.00      0.00       6.00      1.00\n",
       "n1                            2.00    -999.00      0.00       4.00      2.00\n",
       "n2                            2.00    -999.00      3.00       6.00      7.00\n",
       "n3                            2.00    -999.00      3.00       6.00      7.00\n",
       "n4                            4.00      10.00      0.00       4.00      2.00\n",
       "n5                            9.00    -999.00      0.00      16.00      4.00\n",
       "n6                            8.00    -999.00     21.00       4.00      9.00\n",
       "n7                            4.00    -999.00      4.00       7.00     10.00\n",
       "n8                           12.00    -999.00      5.00      21.00     15.00\n",
       "n9                            2.00    -999.00      3.00       6.00      7.00\n",
       "n10                           7.00      13.00     11.00       9.00     12.00\n",
       "n11                           0.00    -999.00      0.00       0.00      0.00\n",
       "n12                           0.00    -999.00      0.00       0.00      0.00\n",
       "n13                           0.00    -999.00      0.00       0.00      0.00\n",
       "n14                           2.00    -999.00      4.00       1.00      4.00\n",
       "earliesCreditLine_year     2001.00    2002.00   2006.00    1999.00   1977.00\n",
       "earliesCreditLine_month       8.00       5.00      5.00       5.00      8.00\n",
       "issueDate_year             2014.00    2012.00   2015.00    2015.00   2016.00\n",
       "issueDate_month               7.00       8.00     10.00       8.00      3.00\n",
       "issueDate_day                 1.00       1.00      1.00       1.00      1.00"
      ]
     },
     "execution_count": 18,
     "metadata": {},
     "output_type": "execute_result"
    }
   ],
   "source": [
    "train_X.head().T"
   ]
  },
  {
   "cell_type": "code",
   "execution_count": 19,
   "id": "1c2d554d",
   "metadata": {},
   "outputs": [
    {
     "data": {
      "text/plain": [
       "2"
      ]
     },
     "execution_count": 19,
     "metadata": {},
     "output_type": "execute_result"
    }
   ],
   "source": [
    "sys.getrefcount(train_X)"
   ]
  },
  {
   "cell_type": "markdown",
   "id": "ffe7dda9",
   "metadata": {},
   "source": [
    "### 其他category类型特征"
   ]
  },
  {
   "cell_type": "markdown",
   "id": "3d6a6fd0",
   "metadata": {},
   "source": [
    "# 特征编码"
   ]
  },
  {
   "cell_type": "code",
   "execution_count": 20,
   "id": "037989e9",
   "metadata": {},
   "outputs": [],
   "source": [
    "#类别型特征\n",
    "cate_cols = ['id','term','grade','subGrade','employmentTitle','employmentLength',\n",
    "            'homeOwnership','verificationStatus','purpose','postCode','regionCode',\n",
    "            'initialListStatus','applicationType','title','policyCode',\n",
    "            'earliesCreditLine_year','earliesCreditLine_month','issueDate_year',\n",
    "             'issueDate_month','issueDate_day']\n",
    "#连续型特征\n",
    "num_cols = [x for x in train_X.columns if x not in cate_cols]"
   ]
  },
  {
   "cell_type": "code",
   "execution_count": 21,
   "id": "3baf3878",
   "metadata": {},
   "outputs": [
    {
     "data": {
      "text/plain": [
       "3    606902\n",
       "5    193098\n",
       "Name: term, dtype: int64"
      ]
     },
     "execution_count": 21,
     "metadata": {},
     "output_type": "execute_result"
    }
   ],
   "source": [
    "#term\n",
    "train_X['term'].value_counts()"
   ]
  },
  {
   "cell_type": "code",
   "execution_count": 22,
   "id": "6de742bf",
   "metadata": {},
   "outputs": [
    {
     "data": {
      "text/plain": [
       "1    233690\n",
       "2    227118\n",
       "0    139661\n",
       "3    119453\n",
       "4     55661\n",
       "5     19053\n",
       "6      5364\n",
       "Name: grade, dtype: int64"
      ]
     },
     "execution_count": 22,
     "metadata": {},
     "output_type": "execute_result"
    }
   ],
   "source": [
    "#grade\n",
    "train_X['grade'].value_counts()"
   ]
  },
  {
   "cell_type": "code",
   "execution_count": 23,
   "id": "bc9a9873",
   "metadata": {
    "scrolled": true
   },
   "outputs": [
    {
     "data": {
      "text/plain": [
       "10    50763\n",
       "8     49516\n",
       "9     48965\n",
       "7     48600\n",
       "11    47068\n",
       "12    44751\n",
       "13    44272\n",
       "6     44227\n",
       "5     42382\n",
       "14    40264\n",
       "4     38045\n",
       "3     30928\n",
       "15    30538\n",
       "16    26528\n",
       "0     25909\n",
       "17    23410\n",
       "2     22655\n",
       "1     22124\n",
       "18    21139\n",
       "19    17838\n",
       "20    14064\n",
       "21    12746\n",
       "22    10925\n",
       "23     9273\n",
       "24     8653\n",
       "25     5925\n",
       "26     4340\n",
       "27     3577\n",
       "28     2859\n",
       "29     2352\n",
       "30     1759\n",
       "31     1231\n",
       "32      978\n",
       "33      751\n",
       "34      645\n",
       "Name: subGrade, dtype: int64"
      ]
     },
     "execution_count": 23,
     "metadata": {},
     "output_type": "execute_result"
    }
   ],
   "source": [
    "#subGrade\n",
    "train_X['subGrade'].value_counts()"
   ]
  },
  {
   "cell_type": "code",
   "execution_count": 24,
   "id": "cca28ad0",
   "metadata": {},
   "outputs": [
    {
     "data": {
      "text/plain": [
       "1     262753\n",
       "2      72358\n",
       "10     64237\n",
       "3      64152\n",
       "0      52489\n",
       "5      50102\n",
       "4      47985\n",
       "11     46799\n",
       "6      37254\n",
       "8      36192\n",
       "7      35407\n",
       "9      30272\n",
       "Name: employmentLength, dtype: int64"
      ]
     },
     "execution_count": 24,
     "metadata": {},
     "output_type": "execute_result"
    }
   ],
   "source": [
    "#employmentLength\n",
    "train_X['employmentLength'].value_counts()"
   ]
  },
  {
   "cell_type": "code",
   "execution_count": 25,
   "id": "28dfb03f",
   "metadata": {},
   "outputs": [
    {
     "data": {
      "text/plain": [
       "54.0        51149\n",
       "38.0        12644\n",
       "32.0        11543\n",
       "184.0        6112\n",
       "151.0        5193\n",
       "            ...  \n",
       "32737.0         1\n",
       "56828.0         1\n",
       "118913.0        1\n",
       "208948.0        1\n",
       "134854.0        1\n",
       "Name: employmentTitle, Length: 248684, dtype: int64"
      ]
     },
     "execution_count": 25,
     "metadata": {},
     "output_type": "execute_result"
    }
   ],
   "source": [
    "#employmentTitle\n",
    "\"\"\"从数值结果看，employmentTitle属于高基数类别特征\"\"\"\n",
    "train_X['employmentTitle'].value_counts()"
   ]
  },
  {
   "cell_type": "code",
   "execution_count": 26,
   "id": "37107c46",
   "metadata": {},
   "outputs": [
    {
     "data": {
      "text/plain": [
       "0"
      ]
     },
     "execution_count": 26,
     "metadata": {},
     "output_type": "execute_result"
    }
   ],
   "source": [
    "#对employmentTitle进行均值编码\n",
    "temp_df = train_X[~train_X['isDefault'].isnull()].copy()\n",
    "temp_label = train_X['isDefault']\n",
    "mean_enc = MeanEncoder(['employmentTitle'])\n",
    "train_X = mean_enc.fit_transform(temp_df,temp_label)\n",
    "del temp_df,temp_label\n",
    "gc.collect()"
   ]
  },
  {
   "cell_type": "code",
   "execution_count": 27,
   "id": "d5765bc1",
   "metadata": {},
   "outputs": [
    {
     "data": {
      "text/plain": [
       "0    395732\n",
       "1    317660\n",
       "2     86309\n",
       "3       185\n",
       "5        81\n",
       "4        33\n",
       "Name: homeOwnership, dtype: int64"
      ]
     },
     "execution_count": 27,
     "metadata": {},
     "output_type": "execute_result"
    }
   ],
   "source": [
    "#homeOwnership\n",
    "train_X['homeOwnership'].value_counts()"
   ]
  },
  {
   "cell_type": "code",
   "execution_count": 28,
   "id": "efb3bec9",
   "metadata": {},
   "outputs": [
    {
     "data": {
      "text/plain": [
       "1    309810\n",
       "2    248968\n",
       "0    241222\n",
       "Name: verificationStatus, dtype: int64"
      ]
     },
     "execution_count": 28,
     "metadata": {},
     "output_type": "execute_result"
    }
   ],
   "source": [
    "# verificationStatus\n",
    "train_X['verificationStatus'].value_counts()"
   ]
  },
  {
   "cell_type": "code",
   "execution_count": 29,
   "id": "dd6dcf4d",
   "metadata": {},
   "outputs": [
    {
     "data": {
      "text/plain": [
       "0     464096\n",
       "4     175433\n",
       "2      52129\n",
       "5      46276\n",
       "3      17579\n",
       "9       9238\n",
       "1       9106\n",
       "8       8657\n",
       "10      5652\n",
       "7       5373\n",
       "6       4354\n",
       "12      1363\n",
       "11       554\n",
       "13       190\n",
       "Name: purpose, dtype: int64"
      ]
     },
     "execution_count": 29,
     "metadata": {},
     "output_type": "execute_result"
    }
   ],
   "source": [
    "#purpose\n",
    "train_X['purpose'].value_counts()"
   ]
  },
  {
   "cell_type": "code",
   "execution_count": 30,
   "id": "0c523bae",
   "metadata": {},
   "outputs": [
    {
     "data": {
      "text/plain": [
       "134.0    8956\n",
       "19.0     8611\n",
       "51.0     8161\n",
       "31.0     7337\n",
       "4.0      7176\n",
       "         ... \n",
       "886.0       1\n",
       "884.0       1\n",
       "839.0       1\n",
       "899.0       1\n",
       "935.0       1\n",
       "Name: postCode, Length: 933, dtype: int64"
      ]
     },
     "execution_count": 30,
     "metadata": {},
     "output_type": "execute_result"
    }
   ],
   "source": [
    "#postCode\n",
    "train_X['postCode'].value_counts()"
   ]
  },
  {
   "cell_type": "code",
   "execution_count": 31,
   "id": "92fa9441",
   "metadata": {},
   "outputs": [
    {
     "data": {
      "text/plain": [
       "0"
      ]
     },
     "execution_count": 31,
     "metadata": {},
     "output_type": "execute_result"
    }
   ],
   "source": [
    "#可以先将postCode进行mean编码尝试一下\n",
    "temp_df = train_X[~train_X['isDefault'].isnull()].copy()\n",
    "temp_label = train_X['isDefault']\n",
    "mean_enc = MeanEncoder(['postCode'])\n",
    "train_X = mean_enc.fit_transform(temp_df,temp_label)\n",
    "del temp_df, temp_label\n",
    "gc.collect()"
   ]
  },
  {
   "cell_type": "code",
   "execution_count": 32,
   "id": "0f1a83a2",
   "metadata": {
    "scrolled": true
   },
   "outputs": [
    {
     "data": {
      "text/plain": [
       "8     116921\n",
       "14     65768\n",
       "13     65041\n",
       "21     56671\n",
       "2      30513\n",
       "30     28634\n",
       "0      27180\n",
       "19     26198\n",
       "3      25766\n",
       "9      22902\n",
       "7      22600\n",
       "23     20919\n",
       "10     19604\n",
       "12     18543\n",
       "26     18432\n",
       "22     17722\n",
       "18     17286\n",
       "4      14177\n",
       "11     12929\n",
       "24     12776\n",
       "32     12065\n",
       "38     11982\n",
       "36     11644\n",
       "27     10521\n",
       "17      9863\n",
       "35      9669\n",
       "5       9581\n",
       "20      9124\n",
       "43      7701\n",
       "42      7267\n",
       "15      6690\n",
       "37      5998\n",
       "45      5932\n",
       "16      4325\n",
       "28      4036\n",
       "44      3963\n",
       "33      3817\n",
       "6       3496\n",
       "39      2943\n",
       "40      2287\n",
       "31      2261\n",
       "34      2136\n",
       "25      2102\n",
       "48      1880\n",
       "41      1778\n",
       "1       1624\n",
       "29      1560\n",
       "47      1213\n",
       "49      1001\n",
       "46       953\n",
       "50         6\n",
       "Name: regionCode, dtype: int64"
      ]
     },
     "execution_count": 32,
     "metadata": {},
     "output_type": "execute_result"
    }
   ],
   "source": [
    "#regionCode\n",
    "train_X['regionCode'].value_counts()"
   ]
  },
  {
   "cell_type": "code",
   "execution_count": 33,
   "id": "e743be23",
   "metadata": {},
   "outputs": [
    {
     "data": {
      "text/plain": [
       "0    466438\n",
       "1    333562\n",
       "Name: initialListStatus, dtype: int64"
      ]
     },
     "execution_count": 33,
     "metadata": {},
     "output_type": "execute_result"
    }
   ],
   "source": [
    "#initialListStatus\n",
    "train_X['initialListStatus'].value_counts()"
   ]
  },
  {
   "cell_type": "code",
   "execution_count": 34,
   "id": "81fdf8f2",
   "metadata": {},
   "outputs": [
    {
     "data": {
      "text/plain": [
       "0    784586\n",
       "1     15414\n",
       "Name: applicationType, dtype: int64"
      ]
     },
     "execution_count": 34,
     "metadata": {},
     "output_type": "execute_result"
    }
   ],
   "source": [
    "#applicationType\n",
    "train_X['applicationType'].value_counts()"
   ]
  },
  {
   "cell_type": "code",
   "execution_count": 35,
   "id": "8d2b93d7",
   "metadata": {},
   "outputs": [
    {
     "data": {
      "text/plain": [
       "0.0        393334\n",
       "4.0        148211\n",
       "5.0         44748\n",
       "6.0         39742\n",
       "3.0         14432\n",
       "            ...  \n",
       "59059.0         1\n",
       "53052.0         1\n",
       "42638.0         1\n",
       "28481.0         1\n",
       "33369.0         1\n",
       "Name: title, Length: 39645, dtype: int64"
      ]
     },
     "execution_count": 35,
     "metadata": {},
     "output_type": "execute_result"
    }
   ],
   "source": [
    "#title\n",
    "train_X['title'].value_counts()"
   ]
  },
  {
   "cell_type": "code",
   "execution_count": 36,
   "id": "350d08e8",
   "metadata": {},
   "outputs": [
    {
     "data": {
      "text/plain": [
       "0"
      ]
     },
     "execution_count": 36,
     "metadata": {},
     "output_type": "execute_result"
    }
   ],
   "source": [
    "temp_df = train_X[~train_X['isDefault'].isnull()].copy()\n",
    "temp_label = train_X['isDefault']\n",
    "\n",
    "mean_enc = MeanEncoder(['title'])\n",
    "train_X = mean_enc.fit_transform(temp_df, temp_label)\n",
    "del temp_df, temp_label\n",
    "gc.collect()"
   ]
  },
  {
   "cell_type": "code",
   "execution_count": 37,
   "id": "7b94c6b3",
   "metadata": {},
   "outputs": [
    {
     "data": {
      "text/plain": [
       "1.0    800000\n",
       "Name: policyCode, dtype: int64"
      ]
     },
     "execution_count": 37,
     "metadata": {},
     "output_type": "execute_result"
    }
   ],
   "source": [
    "#policyCode\n",
    "train_X['policyCode'].value_counts()"
   ]
  },
  {
   "cell_type": "code",
   "execution_count": 38,
   "id": "dcb6b144",
   "metadata": {
    "scrolled": true
   },
   "outputs": [
    {
     "data": {
      "text/plain": [
       "2001    53194\n",
       "2002    51060\n",
       "2003    50649\n",
       "2000    50624\n",
       "2004    49280\n",
       "        ...  \n",
       "1953        5\n",
       "1950        5\n",
       "1954        5\n",
       "1946        2\n",
       "1944        1\n",
       "Name: earliesCreditLine_year, Length: 68, dtype: int64"
      ]
     },
     "execution_count": 38,
     "metadata": {},
     "output_type": "execute_result"
    }
   ],
   "source": [
    "#earliesCreditLine_year\n",
    "train_X['earliesCreditLine_year'].value_counts()"
   ]
  },
  {
   "cell_type": "code",
   "execution_count": 39,
   "id": "1a9acf2e",
   "metadata": {},
   "outputs": [
    {
     "data": {
      "text/plain": [
       "8     79208\n",
       "9     77698\n",
       "10    76726\n",
       "11    70407\n",
       "3     65035\n",
       "12    64493\n",
       "7     64440\n",
       "5     62440\n",
       "6     61858\n",
       "4     61015\n",
       "1     58605\n",
       "2     58075\n",
       "Name: earliesCreditLine_month, dtype: int64"
      ]
     },
     "execution_count": 39,
     "metadata": {},
     "output_type": "execute_result"
    }
   ],
   "source": [
    "#earliesCreditLine_month\n",
    "train_X['earliesCreditLine_month'].value_counts()"
   ]
  },
  {
   "cell_type": "code",
   "execution_count": 40,
   "id": "c645794e",
   "metadata": {},
   "outputs": [
    {
     "data": {
      "text/plain": [
       "2015    223387\n",
       "2016    173907\n",
       "2014    133087\n",
       "2017    100736\n",
       "2013     79943\n",
       "2018     33415\n",
       "2012     31895\n",
       "2011     12924\n",
       "2010      6861\n",
       "2009      2781\n",
       "2008       907\n",
       "2007       157\n",
       "Name: issueDate_year, dtype: int64"
      ]
     },
     "execution_count": 40,
     "metadata": {},
     "output_type": "execute_result"
    }
   ],
   "source": [
    "# issueDate_year\n",
    "train_X['issueDate_year'].value_counts()"
   ]
  },
  {
   "cell_type": "code",
   "execution_count": 41,
   "id": "10d40c6c",
   "metadata": {},
   "outputs": [
    {
     "data": {
      "text/plain": [
       "10    81035\n",
       "7     76969\n",
       "3     74774\n",
       "11    67785\n",
       "1     67280\n",
       "8     66842\n",
       "4     65147\n",
       "5     62159\n",
       "12    62121\n",
       "2     62108\n",
       "6     59689\n",
       "9     54091\n",
       "Name: issueDate_month, dtype: int64"
      ]
     },
     "execution_count": 41,
     "metadata": {},
     "output_type": "execute_result"
    }
   ],
   "source": [
    "# issueDate_month\n",
    "train_X['issueDate_month'].value_counts()"
   ]
  },
  {
   "cell_type": "code",
   "execution_count": 42,
   "id": "51cfe7fc",
   "metadata": {},
   "outputs": [
    {
     "data": {
      "text/plain": [
       "1    800000\n",
       "Name: issueDate_day, dtype: int64"
      ]
     },
     "execution_count": 42,
     "metadata": {},
     "output_type": "execute_result"
    }
   ],
   "source": [
    "# issueDate_day\n",
    "train_X['issueDate_day'].value_counts()"
   ]
  },
  {
   "cell_type": "code",
   "execution_count": 43,
   "id": "79aa1dc4",
   "metadata": {},
   "outputs": [],
   "source": [
    "cate_cols = ['term','grade', 'subGrade','employmentTitle', 'employmentLength']\n",
    "num_cols = ['loanAmnt','interestRate', 'installment',  'homeOwnership', 'annualIncome',\n",
    "          'dti', 'delinquency_2years', 'ficoRangeLow', \n",
    "       'revolBal', 'n1',  'n11', 'n14']"
   ]
  },
  {
   "cell_type": "code",
   "execution_count": 44,
   "id": "e755d23b",
   "metadata": {},
   "outputs": [
    {
     "data": {
      "text/plain": [
       "300"
      ]
     },
     "execution_count": 44,
     "metadata": {},
     "output_type": "execute_result"
    }
   ],
   "source": [
    "5 * len(num_cols) * 5"
   ]
  },
  {
   "cell_type": "code",
   "execution_count": 45,
   "id": "7003aada",
   "metadata": {},
   "outputs": [
    {
     "name": "stdout",
     "output_type": "stream",
     "text": [
      "<class 'pandas.core.frame.DataFrame'>\n",
      "Int64Index: 800000 entries, 0 to 799999\n",
      "Data columns (total 56 columns):\n",
      " #   Column                   Non-Null Count   Dtype  \n",
      "---  ------                   --------------   -----  \n",
      " 0   id                       800000 non-null  int64  \n",
      " 1   loanAmnt                 800000 non-null  float64\n",
      " 2   term                     800000 non-null  int64  \n",
      " 3   interestRate             800000 non-null  float64\n",
      " 4   installment              800000 non-null  float64\n",
      " 5   grade                    800000 non-null  int32  \n",
      " 6   subGrade                 800000 non-null  int32  \n",
      " 7   employmentTitle          800000 non-null  float64\n",
      " 8   employmentLength         800000 non-null  int32  \n",
      " 9   homeOwnership            800000 non-null  int64  \n",
      " 10  annualIncome             800000 non-null  float64\n",
      " 11  verificationStatus       800000 non-null  int64  \n",
      " 12  isDefault                800000 non-null  int64  \n",
      " 13  purpose                  800000 non-null  int64  \n",
      " 14  postCode                 800000 non-null  float64\n",
      " 15  regionCode               800000 non-null  int64  \n",
      " 16  dti                      800000 non-null  float64\n",
      " 17  delinquency_2years       800000 non-null  float64\n",
      " 18  ficoRangeLow             800000 non-null  float64\n",
      " 19  ficoRangeHigh            800000 non-null  float64\n",
      " 20  openAcc                  800000 non-null  float64\n",
      " 21  pubRec                   800000 non-null  float64\n",
      " 22  pubRecBankruptcies       800000 non-null  float64\n",
      " 23  revolBal                 800000 non-null  float64\n",
      " 24  revolUtil                800000 non-null  float64\n",
      " 25  totalAcc                 800000 non-null  float64\n",
      " 26  initialListStatus        800000 non-null  int64  \n",
      " 27  applicationType          800000 non-null  int64  \n",
      " 28  title                    800000 non-null  float64\n",
      " 29  policyCode               800000 non-null  float64\n",
      " 30  n0                       800000 non-null  float64\n",
      " 31  n1                       800000 non-null  float64\n",
      " 32  n2                       800000 non-null  float64\n",
      " 33  n3                       800000 non-null  float64\n",
      " 34  n4                       800000 non-null  float64\n",
      " 35  n5                       800000 non-null  float64\n",
      " 36  n6                       800000 non-null  float64\n",
      " 37  n7                       800000 non-null  float64\n",
      " 38  n8                       800000 non-null  float64\n",
      " 39  n9                       800000 non-null  float64\n",
      " 40  n10                      800000 non-null  float64\n",
      " 41  n11                      800000 non-null  float64\n",
      " 42  n12                      800000 non-null  float64\n",
      " 43  n13                      800000 non-null  float64\n",
      " 44  n14                      800000 non-null  float64\n",
      " 45  earliesCreditLine_year   800000 non-null  int64  \n",
      " 46  earliesCreditLine_month  800000 non-null  int64  \n",
      " 47  issueDate_year           800000 non-null  int64  \n",
      " 48  issueDate_month          800000 non-null  int64  \n",
      " 49  issueDate_day            800000 non-null  int64  \n",
      " 50  employmentTitle_pred_0   800000 non-null  float64\n",
      " 51  employmentTitle_pred_1   800000 non-null  float64\n",
      " 52  postCode_pred_0          800000 non-null  float64\n",
      " 53  postCode_pred_1          800000 non-null  float64\n",
      " 54  title_pred_0             800000 non-null  float64\n",
      " 55  title_pred_1             800000 non-null  float64\n",
      "dtypes: float64(39), int32(3), int64(14)\n",
      "memory usage: 338.7 MB\n"
     ]
    }
   ],
   "source": [
    "gc.collect()\n",
    "sys.getrefcount(train_X)\n",
    "train_X.info()"
   ]
  },
  {
   "cell_type": "code",
   "execution_count": 46,
   "id": "0cabae6f",
   "metadata": {
    "scrolled": false
   },
   "outputs": [
    {
     "name": "stdout",
     "output_type": "stream",
     "text": [
      "term \n",
      "\n",
      "grade \n",
      "\n",
      "subGrade \n",
      "\n",
      "employmentTitle \n",
      "\n",
      "employmentLength \n",
      "\n"
     ]
    }
   ],
   "source": [
    "temp_df = []\n",
    "for cate_i in cate_cols:\n",
    "    print(cate_i,'\\n')\n",
    "    for num_i in num_cols:\n",
    "        col_name = '{}_{}_'.format(cate_i, num_i)\n",
    "        temp_df = train_X.groupby([cate_i], as_index=False)[num_i].agg(\n",
    "            {col_name + 'max': 'max',\n",
    "            col_name + 'min':'min',\n",
    "            col_name + 'median': 'median',\n",
    "            col_name + 'mean': 'mean',\n",
    "            col_name + 'std' :'std',\n",
    "            })\n",
    "        train_X = train_X.merge(temp_df, on=cate_i,how='left')  \n",
    "        del temp_df\n",
    "        gc.collect()"
   ]
  },
  {
   "cell_type": "code",
   "execution_count": 47,
   "id": "16149937",
   "metadata": {},
   "outputs": [],
   "source": [
    "#用numerical特征减去 经过category特征分组后的min,max,median,mean,std\n",
    "for num_i in num_cols:\n",
    "    for cate_i in cate_cols:\n",
    "        for op_i in ['max','min','mean','median','std']:\n",
    "            col_name = '{}_{}_{}'.format(cate_i,num_i,op_i)\n",
    "            train_X[num_i + '-' + col_name] = train_X[num_i] - train_X[col_name]\n",
    "    gc.collect()   "
   ]
  },
  {
   "cell_type": "code",
   "execution_count": 48,
   "id": "c981eca2",
   "metadata": {},
   "outputs": [
    {
     "name": "stdout",
     "output_type": "stream",
     "text": [
      "<class 'pandas.core.frame.DataFrame'>\n",
      "Int64Index: 800000 entries, 0 to 799999\n",
      "Columns: 656 entries, id to n14-employmentLength_n14_std\n",
      "dtypes: float64(619), int32(3), int64(34)\n",
      "memory usage: 3.9 GB\n"
     ]
    }
   ],
   "source": [
    "train_X.info()"
   ]
  },
  {
   "cell_type": "code",
   "execution_count": 49,
   "id": "b779f120",
   "metadata": {},
   "outputs": [
    {
     "data": {
      "text/plain": [
       "2"
      ]
     },
     "execution_count": 49,
     "metadata": {},
     "output_type": "execute_result"
    }
   ],
   "source": [
    "gc.collect()\n",
    "sys.getrefcount(train_X)"
   ]
  },
  {
   "cell_type": "code",
   "execution_count": 50,
   "id": "e86f8e83",
   "metadata": {},
   "outputs": [],
   "source": [
    "train_X = train_X.astype('float32')"
   ]
  },
  {
   "cell_type": "code",
   "execution_count": 51,
   "id": "c99c2149",
   "metadata": {},
   "outputs": [
    {
     "name": "stdout",
     "output_type": "stream",
     "text": [
      "<class 'pandas.core.frame.DataFrame'>\n",
      "Int64Index: 800000 entries, 0 to 799999\n",
      "Columns: 656 entries, id to n14-employmentLength_n14_std\n",
      "dtypes: float32(656)\n",
      "memory usage: 2.0 GB\n"
     ]
    }
   ],
   "source": [
    "gc.collect()\n",
    "sys.getrefcount(train_X)\n",
    "train_X.info()\n"
   ]
  },
  {
   "cell_type": "markdown",
   "id": "ae010ee0",
   "metadata": {},
   "source": [
    "# 对category feature 进行COUNTS编码"
   ]
  },
  {
   "cell_type": "code",
   "execution_count": 52,
   "id": "c9db6c06",
   "metadata": {},
   "outputs": [],
   "source": [
    "#选择需要counts计数的类别\n",
    "cate_cols.append('issueDate_year')"
   ]
  },
  {
   "cell_type": "code",
   "execution_count": 53,
   "id": "89eb15fb",
   "metadata": {},
   "outputs": [],
   "source": [
    "for col in cate_cols:\n",
    "    train_X[col + '_count'] = train_X[col].map(train_X[col].value_counts())"
   ]
  },
  {
   "cell_type": "markdown",
   "id": "124f784f",
   "metadata": {},
   "source": [
    "# 从业务角度结合+-*/构建新特征"
   ]
  },
  {
   "cell_type": "code",
   "execution_count": 54,
   "id": "b20536c2",
   "metadata": {},
   "outputs": [],
   "source": [
    "train_X['loanAmnt_interestRate_crosses'] = train_X['loanAmnt'] * train_X['interestRate']\n",
    "train_X['loanAmnt_term_crosses'] = train_X['loanAmnt'] / train_X['term']\n",
    "train_X['employmentLength_annualIncome_crosses'] = train_X['employmentLength'] * train_X['annualIncome']\n",
    "train_X['pubRecBankruptcies_pubRec_crosses'] = train_X['pubRecBankruptcies'] / train_X['pubRec']\n",
    "train_X['issueDate_year_earliesCreditLine_year_crosses'] = train_X['issueDate_year'] - train_X['earliesCreditLine_year']\n",
    "train_X['installment_loanAmnt_crosses'] = train_X['installment'] / train_X['loanAmnt']\n",
    "train_X['loanAmnt_totalAcc_crosses'] = train_X['loanAmnt'] / train_X['totalAcc']\n",
    "train_X['loanAmnt_annualIncome_crosses'] = train_X['loanAmnt'] / train_X['annualIncome']\n",
    "train_X['loanAmnt_interestRate_installment_crosses'] = train_X['loanAmnt'] * train_X['interestRate'] / train_X['installment'] \n",
    "train_X['loanAmnt_interestRate_annuallncome_crosses'] = train_X['loanAmnt'] * train_X['interestRate'] / train_X['annualIncome']\n",
    "train_X['subGrade_term'] = train_X['subGrade'] * train_X['term']\n",
    "train_X['grade_issueDate_year'] = train_X['grade'] * train_X['issueDate_year']\n",
    "train_X['subGrade_issueDate_year'] = train_X['subGrade'] * train_X['issueDate_year']\n",
    "train_X['grade_term'] = train_X['grade'] * train_X['term']\n",
    "train_X['subGrade_n2'] = train_X['subGrade'] * train_X['n2']\n",
    "train_X['subGrade_dti'] = train_X['subGrade'] * train_X['dti']\n",
    "train_X['term_interestRate'] = train_X['term'] * train_X['interestRate']\n",
    "train_X['grade_loanAmnt'] = train_X['grade'] * train_X['loanAmnt']\n",
    "train_X['ficoRangeHigh_ficoRangeLow_crosses'] = train_X['ficoRangeHigh'] - train_X['ficoRangeLow']\n",
    "train_X['ficoRangeHigh_ficoRangeLow_2_crosses'] =(train_X['ficoRangeHigh'] - train_X['ficoRangeLow'])/ 2\n",
    "train_X['installment_annualIncome_crosses'] = train_X['installment'] * 12 /  train_X['annualIncome']"
   ]
  },
  {
   "cell_type": "code",
   "execution_count": 55,
   "id": "82a9485d",
   "metadata": {},
   "outputs": [
    {
     "name": "stdout",
     "output_type": "stream",
     "text": [
      "<class 'pandas.core.frame.DataFrame'>\n",
      "Int64Index: 800000 entries, 0 to 799999\n",
      "Columns: 683 entries, id to installment_annualIncome_crosses\n",
      "dtypes: float32(677), int64(6)\n",
      "memory usage: 2.1 GB\n"
     ]
    }
   ],
   "source": [
    "gc.collect()\n",
    "sys.getrefcount(train_X)\n",
    "train_X.info()"
   ]
  },
  {
   "cell_type": "code",
   "execution_count": 56,
   "id": "7165d353",
   "metadata": {
    "scrolled": true
   },
   "outputs": [],
   "source": [
    "#将数据集中正负无穷的值替换为空值\n",
    "train_X.replace([np.inf, -np.inf], np.nan, inplace = True)"
   ]
  },
  {
   "cell_type": "code",
   "execution_count": 57,
   "id": "f7926074",
   "metadata": {
    "scrolled": true
   },
   "outputs": [],
   "source": [
    "#暂时先填充空值\n",
    "for col in train_X.columns[train_X.isnull().sum() > 0].to_list():\n",
    "    imputer = SimpleImputer(strategy='constant', fill_value= -999)\n",
    "    train_X[col] = imputer.fit_transform(train_X[[col]])\n",
    "    del imputer\n",
    "    gc.collect()"
   ]
  },
  {
   "cell_type": "code",
   "execution_count": 58,
   "id": "33dd82ab",
   "metadata": {},
   "outputs": [
    {
     "name": "stdout",
     "output_type": "stream",
     "text": [
      "<class 'pandas.core.frame.DataFrame'>\n",
      "Int64Index: 800000 entries, 0 to 799999\n",
      "Columns: 683 entries, id to installment_annualIncome_crosses\n",
      "dtypes: float64(677), int64(6)\n",
      "memory usage: 4.1 GB\n"
     ]
    }
   ],
   "source": [
    "gc.collect()\n",
    "sys.getrefcount(train_X)\n",
    "train_X.info()"
   ]
  },
  {
   "cell_type": "code",
   "execution_count": 59,
   "id": "f5ca31e5",
   "metadata": {},
   "outputs": [
    {
     "data": {
      "text/plain": [
       "'以上683个特征，包含min，max,median,mean,std, count统计\\n以及业务特征的+-*/，\\n维度过高，会导致模型过拟合，现在进行特征筛选\\n\\n'"
      ]
     },
     "execution_count": 59,
     "metadata": {},
     "output_type": "execute_result"
    }
   ],
   "source": [
    "\"\"\"以上683个特征，包含min，max,median,mean,std, count统计\n",
    "以及业务特征的+-*/，\n",
    "维度过高，会导致模型过拟合，现在进行特征筛选\n",
    "\n",
    "\"\"\""
   ]
  },
  {
   "cell_type": "markdown",
   "id": "98dbf1bf",
   "metadata": {},
   "source": [
    "# 特征筛选"
   ]
  },
  {
   "cell_type": "markdown",
   "id": "80466262",
   "metadata": {},
   "source": [
    "## 过滤法——方差过滤"
   ]
  },
  {
   "cell_type": "code",
   "execution_count": 60,
   "id": "3a43c002",
   "metadata": {},
   "outputs": [],
   "source": [
    "train_y = train_X['isDefault']\n",
    "train_X.drop(labels = ['isDefault'], axis = 1, inplace = True)"
   ]
  },
  {
   "cell_type": "code",
   "execution_count": null,
   "id": "57692245",
   "metadata": {},
   "outputs": [],
   "source": []
  },
  {
   "cell_type": "code",
   "execution_count": 61,
   "id": "2ed294dd",
   "metadata": {
    "scrolled": true
   },
   "outputs": [],
   "source": [
    "var_select = VarianceThreshold(0.8)\n",
    "var_res = var_select.fit_transform(train_X)\n",
    "train_X = pd.DataFrame(data = var_res,columns=var_select.get_feature_names_out())"
   ]
  },
  {
   "cell_type": "code",
   "execution_count": 62,
   "id": "0965ca00",
   "metadata": {},
   "outputs": [
    {
     "name": "stdout",
     "output_type": "stream",
     "text": [
      "<class 'pandas.core.frame.DataFrame'>\n",
      "RangeIndex: 800000 entries, 0 to 799999\n",
      "Columns: 518 entries, id to installment_annualIncome_crosses\n",
      "dtypes: float64(518)\n",
      "memory usage: 3.1 GB\n"
     ]
    }
   ],
   "source": [
    "train_X.info()"
   ]
  },
  {
   "cell_type": "code",
   "execution_count": 63,
   "id": "b042a43d",
   "metadata": {},
   "outputs": [
    {
     "name": "stdout",
     "output_type": "stream",
     "text": [
      "<class 'pandas.core.frame.DataFrame'>\n",
      "RangeIndex: 800000 entries, 0 to 799999\n",
      "Columns: 518 entries, id to installment_annualIncome_crosses\n",
      "dtypes: float32(518)\n",
      "memory usage: 1.5 GB\n"
     ]
    }
   ],
   "source": [
    "train_X = train_X.astype('float32')\n",
    "train_X.info()"
   ]
  },
  {
   "cell_type": "code",
   "execution_count": 64,
   "id": "ba29ec8d",
   "metadata": {},
   "outputs": [
    {
     "data": {
      "text/plain": [
       "0              0.0\n",
       "1              1.0\n",
       "2              2.0\n",
       "3              3.0\n",
       "4              4.0\n",
       "            ...   \n",
       "799995    799995.0\n",
       "799996    799996.0\n",
       "799997    799997.0\n",
       "799998    799998.0\n",
       "799999    799999.0\n",
       "Name: id, Length: 800000, dtype: float32"
      ]
     },
     "execution_count": 64,
     "metadata": {},
     "output_type": "execute_result"
    }
   ],
   "source": [
    "train_X['id']"
   ]
  },
  {
   "cell_type": "code",
   "execution_count": 65,
   "id": "33150113",
   "metadata": {},
   "outputs": [
    {
     "name": "stdout",
     "output_type": "stream",
     "text": [
      "<class 'pandas.core.frame.DataFrame'>\n",
      "RangeIndex: 800000 entries, 0 to 799999\n",
      "Columns: 518 entries, id to installment_annualIncome_crosses\n",
      "dtypes: float32(518)\n",
      "memory usage: 1.5 GB\n"
     ]
    }
   ],
   "source": [
    "train_X.info()"
   ]
  },
  {
   "cell_type": "code",
   "execution_count": 66,
   "id": "392ec9f3",
   "metadata": {},
   "outputs": [],
   "source": [
    "train_X.to_pickle(\"./v12.pkl\")"
   ]
  },
  {
   "cell_type": "markdown",
   "id": "66e4d5f8",
   "metadata": {},
   "source": [
    "## 过滤法——相关性"
   ]
  },
  {
   "cell_type": "code",
   "execution_count": 67,
   "id": "5265f962",
   "metadata": {},
   "outputs": [
    {
     "data": {
      "text/plain": [
       "'过于耗时'"
      ]
     },
     "execution_count": 67,
     "metadata": {},
     "output_type": "execute_result"
    }
   ],
   "source": [
    "\"\"\"过于耗时\"\"\""
   ]
  },
  {
   "cell_type": "code",
   "execution_count": null,
   "id": "6ab1bdf7",
   "metadata": {},
   "outputs": [],
   "source": [
    "temp_df = pd.read_csv(\"./v13.csv\")"
   ]
  },
  {
   "cell_type": "code",
   "execution_count": null,
   "id": "37cfb5bb",
   "metadata": {},
   "outputs": [],
   "source": [
    "temp_df.info()"
   ]
  },
  {
   "cell_type": "code",
   "execution_count": null,
   "id": "3ed91776",
   "metadata": {},
   "outputs": [],
   "source": []
  },
  {
   "cell_type": "code",
   "execution_count": null,
   "id": "ce4920e1",
   "metadata": {},
   "outputs": [],
   "source": []
  },
  {
   "cell_type": "code",
   "execution_count": null,
   "id": "a5391988",
   "metadata": {},
   "outputs": [],
   "source": [
    "#划分测试集和验证集\n",
    "train_X,val_X, train_y, val_y = train_test_split(train_X, train_y, test_size=0.3,random_state= seed_state)"
   ]
  },
  {
   "cell_type": "code",
   "execution_count": null,
   "id": "36445e2d",
   "metadata": {},
   "outputs": [],
   "source": [
    "\"\"\"利用optuna做参数调优\"\"\"\n",
    "def objective(trial):\n",
    "    \n",
    "    params = {\n",
    "            'n_estimators': trial.suggest_int('n_estimators', 1000,10000,2000),\n",
    "            'max_depth' : trial.suggest_int('max_depth', 5, 25, 1),\n",
    "            'learning_rate' : trial.suggest_float('learning_rate', 0.01, 0.3, step=0.02)\n",
    "    }\n",
    "\n",
    "\n",
    "    model = xgboost.XGBClassifier(**params,\n",
    "                             subsample = 0.8,\n",
    "                             reg_alpha = 3,\n",
    "                             reg_lambda = 1,\n",
    "                             tree_method = 'gpu_hist',\n",
    "                             random_state = seed_state\n",
    "                             )\n",
    "    model.fit(train_X,train_y,early_stopping_rounds=100, verbose=0,eval_set=[(val_X,val_y)])\n",
    "    \n",
    "    \n",
    "    preds_prob = model.predict_proba(val_X)\n",
    "    \n",
    "    return roc_auc_score(val_y, preds_prob[:,1])"
   ]
  },
  {
   "cell_type": "code",
   "execution_count": null,
   "id": "e4e3337b",
   "metadata": {},
   "outputs": [],
   "source": [
    "start_time = time.time()\n",
    "study = optuna.create_study(direction='maximize')\n",
    "study.optimize(objective, n_trials = 50)\n",
    "end_time = time.time()\n",
    "study.best_params\n",
    "study.best_value"
   ]
  },
  {
   "cell_type": "code",
   "execution_count": null,
   "id": "cc486b9b",
   "metadata": {},
   "outputs": [],
   "source": [
    "end_time - start_time"
   ]
  },
  {
   "cell_type": "code",
   "execution_count": null,
   "id": "7d831839",
   "metadata": {},
   "outputs": [],
   "source": [
    "print(study.best_params)\n",
    "print(study.best_value)"
   ]
  },
  {
   "cell_type": "code",
   "execution_count": null,
   "id": "a1f8f217",
   "metadata": {},
   "outputs": [],
   "source": []
  },
  {
   "cell_type": "code",
   "execution_count": null,
   "id": "e8e0a553",
   "metadata": {},
   "outputs": [],
   "source": [
    "feature_names = list(train_X.columns)\n",
    "\n",
    "#包外验证\n",
    "df_oof = train_X[['id']].copy()\n",
    "df_oof['label'] = train_y\n",
    "df_oof['prob'] = 0\n",
    "\n",
    "#存放测试结果\n",
    "# prediction = test_X[['id']]\n",
    "# prediction['prob'] = 0\n",
    "\n",
    "#重要特征列表\n",
    "df_importance_list = []\n",
    "\n",
    "model = xgboost.XGBClassifier(\n",
    "                            n_estimators = 7000,\n",
    "                            n_jobs = -1,\n",
    "                            max_depth = 6,\n",
    "                            learning_rate = 0.01,\n",
    "                            subsample = 0.8,\n",
    "                            tree_method = 'gpu_hist',\n",
    "                            gamma = 0.3,\n",
    "                            reg_alpha = 3,\n",
    "                            reg_lambda = 1,\n",
    "                            random_state = seed_state)\n",
    "\n",
    "kfold = StratifiedKFold(n_splits=5, shuffle=True, random_state=seed_state)\n",
    "\n",
    "for fold_id,(train_idx, val_idx) in enumerate(kfold.split(train_X, train_y)):\n",
    "    train_X_kfold = train_X.iloc[train_idx]\n",
    "    train_y_kfold = train_y.iloc[train_idx]\n",
    "    val_X_kfold = train_X.iloc[val_idx]\n",
    "    val_y_kfold = train_y.iloc[val_idx]\n",
    "    \n",
    "    print('\\nFold_{} Training ========================\\n'.format(\n",
    "        fold_id + 1))\n",
    "    \n",
    "    xgb_model = model.fit(train_X_kfold,\n",
    "                          train_y_kfold,\n",
    "                          eval_set=[(train_X_kfold, train_y_kfold), (val_X_kfold, val_y_kfold)],\n",
    "                          verbose=50,\n",
    "                          eval_metric='auc',\n",
    "                          early_stopping_rounds=50)\n",
    "    \n",
    "    pred_val = xgb_model.predict_proba(val_X_kfold)[:, 1]\n",
    "    df_oof.loc[val_idx, 'prob'] = pred_val\n",
    "    \n",
    "    \n",
    "#     pred_test = xgb_model.predict_proba(test_X)[:, 1]\n",
    "#     prediction['prob'] += pred_test / kfold.n_splits\n",
    "\n",
    "    df_importance = pd.DataFrame({\n",
    "        'column': feature_names,\n",
    "        'importance': xgb_model.feature_importances_,\n",
    "    })\n",
    "    df_importance_list.append(df_importance)\n",
    "\n",
    "    del xgb_model, pred_val, train_X_kfold, train_y_kfold, val_X_kfold, val_y_kfold\n",
    "    gc.collect()\n",
    "    \n",
    "    \n",
    "print(model.best_score)"
   ]
  },
  {
   "cell_type": "code",
   "execution_count": null,
   "id": "b0898c24",
   "metadata": {},
   "outputs": [],
   "source": [
    "df_importance = pd.concat(df_importance_list)\n",
    "df_importance = df_importance.groupby(['column'])['importance'].mean().sort_values(ascending = False).reset_index()"
   ]
  },
  {
   "cell_type": "code",
   "execution_count": null,
   "id": "d6f28eeb",
   "metadata": {},
   "outputs": [],
   "source": [
    "df_importance.to_csv(\"./feature_importance__.csv\")"
   ]
  },
  {
   "cell_type": "code",
   "execution_count": 2,
   "id": "84b677d8",
   "metadata": {},
   "outputs": [],
   "source": [
    "df = pd.DataFrame(data=[1,2,3,4,5,6,np.nan,np.nan])\n"
   ]
  },
  {
   "cell_type": "code",
   "execution_count": 3,
   "id": "bfb0a7f4",
   "metadata": {},
   "outputs": [
    {
     "name": "stdout",
     "output_type": "stream",
     "text": [
      "<class 'pandas.core.frame.DataFrame'>\n",
      "RangeIndex: 8 entries, 0 to 7\n",
      "Data columns (total 1 columns):\n",
      " #   Column  Non-Null Count  Dtype  \n",
      "---  ------  --------------  -----  \n",
      " 0   0       6 non-null      float64\n",
      "dtypes: float64(1)\n",
      "memory usage: 192.0 bytes\n"
     ]
    }
   ],
   "source": [
    "df.info()"
   ]
  },
  {
   "cell_type": "code",
   "execution_count": null,
   "id": "2042aaaf",
   "metadata": {},
   "outputs": [],
   "source": []
  },
  {
   "cell_type": "code",
   "execution_count": null,
   "id": "76f6fe44",
   "metadata": {},
   "outputs": [],
   "source": []
  },
  {
   "cell_type": "code",
   "execution_count": null,
   "id": "29c66537",
   "metadata": {},
   "outputs": [],
   "source": []
  }
 ],
 "metadata": {
  "kernelspec": {
   "display_name": "Python 3 (ipykernel)",
   "language": "python",
   "name": "python3"
  },
  "language_info": {
   "codemirror_mode": {
    "name": "ipython",
    "version": 3
   },
   "file_extension": ".py",
   "mimetype": "text/x-python",
   "name": "python",
   "nbconvert_exporter": "python",
   "pygments_lexer": "ipython3",
   "version": "3.9.13"
  }
 },
 "nbformat": 4,
 "nbformat_minor": 5
}
